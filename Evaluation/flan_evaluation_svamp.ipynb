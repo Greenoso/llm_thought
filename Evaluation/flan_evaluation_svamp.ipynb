{
 "cells": [
  {
   "cell_type": "markdown",
   "id": "5a26d405-a34c-4e74-9405-8ed64335cb8f",
   "metadata": {
    "tags": []
   },
   "source": [
    "# 1. General Settings"
   ]
  },
  {
   "cell_type": "markdown",
   "id": "5954419e-9924-43bb-b968-fccb967b3db3",
   "metadata": {},
   "source": [
    "### 1.1 Import libraries"
   ]
  },
  {
   "cell_type": "code",
   "execution_count": 1,
   "id": "bb3507ed-db18-41eb-a663-68e2afe6baed",
   "metadata": {
    "tags": []
   },
   "outputs": [
    {
     "name": "stdout",
     "output_type": "stream",
     "text": [
      "[2023-09-30 23:58:28,989] [INFO] [real_accelerator.py:158:get_accelerator] Setting ds_accelerator to cuda (auto detect)\n"
     ]
    }
   ],
   "source": [
    "### bugs for transformers(4.28.1), update to newest version 4.31.0\n",
    "from dataclasses import dataclass, field\n",
    "from typing import Optional\n",
    "import torch\n",
    "import re\n",
    "import numpy as np\n",
    "import random\n",
    "from accelerate import Accelerator\n",
    "from datasets import load_dataset\n",
    "import pandas as pd\n",
    "import json\n",
    "import os\n",
    "import sys\n",
    "from typing import Dict, List\n",
    "import time\n",
    "\n",
    "from tqdm import tqdm\n",
    "from transformers import Adafactor, AutoTokenizer, HfArgumentParser, pipeline\n",
    "from transformers import T5Tokenizer, T5ForConditionalGeneration\n",
    "\n",
    "from transformers import (\n",
    "    AutoModelForCausalLM,\n",
    "    BitsAndBytesConfig,\n",
    "    pipeline,\n",
    "    logging,\n",
    ")\n",
    "from peft import LoraConfig, PeftModel,TaskType\n",
    "\n",
    "from transformers import T5Tokenizer, T5ForConditionalGeneration\n",
    "\n"
   ]
  },
  {
   "cell_type": "markdown",
   "id": "1dd50851-9655-4f85-9ce1-2e8d1e737af0",
   "metadata": {},
   "source": [
    "### 1.2 Random Seed"
   ]
  },
  {
   "cell_type": "code",
   "execution_count": 2,
   "id": "0aaf2b04-4e44-4dbc-bd6a-7bb50765fc02",
   "metadata": {
    "tags": []
   },
   "outputs": [],
   "source": [
    "def set_seed(seed: int):\n",
    "    \"\"\"\n",
    "   A function to fix random seed in `numpy`,`random`,  and `torch`.\n",
    "\n",
    "    Args:\n",
    "        seed (`int`): The seed to set.\n",
    "    \"\"\"\n",
    "    random.seed(seed)\n",
    "    np.random.seed(seed)\n",
    "    torch.manual_seed(seed)\n",
    "    torch.cuda.manual_seed_all(seed)\n",
    "    \n",
    "set_seed(1000)"
   ]
  },
  {
   "cell_type": "markdown",
   "id": "c906e4ca-f019-4ec4-80e4-4444127def02",
   "metadata": {},
   "source": [
    "### 1.3 Metrics"
   ]
  },
  {
   "cell_type": "code",
   "execution_count": 3,
   "id": "447d88da-4c22-48aa-ae22-090de725cac1",
   "metadata": {
    "tags": []
   },
   "outputs": [],
   "source": [
    "# Reference: https://www.nltk.org/\n",
    "\n",
    "import operator\n",
    "from functools import reduce\n",
    "from math import fabs\n",
    "from random import shuffle\n",
    "\n",
    "try:\n",
    "    from scipy.stats.stats import betai\n",
    "except ImportError:\n",
    "    betai = None\n",
    "\n",
    "from nltk.util import LazyConcatenation, LazyMap\n",
    "\n",
    "\n",
    "\n",
    "def accuracy(reference, test):\n",
    "    \"\"\"\n",
    "    Given a list of reference values and a corresponding list of test\n",
    "    values, return the fraction of corresponding values that are\n",
    "    equal.  In particular, return the fraction of indices\n",
    "    ``0<i<=len(test)`` such that ``test[i] == reference[i]``.\n",
    "\n",
    "    :type reference: list\n",
    "    :param reference: An ordered list of reference values.\n",
    "    :type test: list\n",
    "    :param test: A list of values to compare against the corresponding\n",
    "        reference values.\n",
    "    :raise ValueError: If ``reference`` and ``length`` do not have the\n",
    "        same length.\n",
    "    \"\"\"\n",
    "    if len(reference) != len(test):\n",
    "        raise ValueError(\"Lists must have the same length.\")\n",
    "    return sum(float(x) == float(y) for x, y in zip(reference, test) if y != '[invalid]' ) / len(test)\n",
    "\n",
    "\n",
    "def precision(reference, test):\n",
    "    \"\"\"\n",
    "    Given a set of reference values and a set of test values, return\n",
    "    the fraction of test values that appear in the reference set.\n",
    "    In particular, return card(``reference`` intersection ``test``)/card(``test``).\n",
    "    If ``test`` is empty, then return None.\n",
    "\n",
    "    :type reference: set\n",
    "    :param reference: A set of reference values.\n",
    "    :type test: set\n",
    "    :param test: A set of values to compare against the reference set.\n",
    "    :rtype: float or None\n",
    "    \"\"\"\n",
    "    if not hasattr(reference, \"intersection\") or not hasattr(test, \"intersection\"):\n",
    "        raise TypeError(\"reference and test should be sets\")\n",
    "\n",
    "    if len(test) == 0:\n",
    "        return None\n",
    "    else:\n",
    "        return len(reference.intersection(test)) / len(test)\n",
    "\n",
    "\n",
    "\n",
    "def recall(reference, test):\n",
    "    \"\"\"\n",
    "    Given a set of reference values and a set of test values, return\n",
    "    the fraction of reference values that appear in the test set.\n",
    "    In particular, return card(``reference`` intersection ``test``)/card(``reference``).\n",
    "    If ``reference`` is empty, then return None.\n",
    "\n",
    "    :type reference: set\n",
    "    :param reference: A set of reference values.\n",
    "    :type test: set\n",
    "    :param test: A set of values to compare against the reference set.\n",
    "    :rtype: float or None\n",
    "    \"\"\"\n",
    "    if not hasattr(reference, \"intersection\") or not hasattr(test, \"intersection\"):\n",
    "        raise TypeError(\"reference and test should be sets\")\n",
    "\n",
    "    if len(reference) == 0:\n",
    "        return None\n",
    "    else:\n",
    "        return len(reference.intersection(test)) / len(reference)\n",
    "\n",
    "\n",
    "\n",
    "def f_measure(reference, test, alpha=0.5):\n",
    "    \"\"\"\n",
    "    Given a set of reference values and a set of test values, return\n",
    "    the f-measure of the test values, when compared against the\n",
    "    reference values.  The f-measure is the harmonic mean of the\n",
    "    ``precision`` and ``recall``, weighted by ``alpha``.  In particular,\n",
    "    given the precision *p* and recall *r* defined by:\n",
    "\n",
    "    - *p* = card(``reference`` intersection ``test``)/card(``test``)\n",
    "    - *r* = card(``reference`` intersection ``test``)/card(``reference``)\n",
    "\n",
    "    The f-measure is:\n",
    "\n",
    "    - *1/(alpha/p + (1-alpha)/r)*\n",
    "\n",
    "    If either ``reference`` or ``test`` is empty, then ``f_measure``\n",
    "    returns None.\n",
    "\n",
    "    :type reference: set\n",
    "    :param reference: A set of reference values.\n",
    "    :type test: set\n",
    "    :param test: A set of values to compare against the reference set.\n",
    "    :rtype: float or None\n",
    "    \"\"\"\n",
    "    p = precision(reference, test)\n",
    "    r = recall(reference, test)\n",
    "    if p is None or r is None:\n",
    "        return None\n",
    "    if p == 0 or r == 0:\n",
    "        return 0\n",
    "    return 1.0 / (alpha / p + (1 - alpha) / r)\n"
   ]
  },
  {
   "cell_type": "markdown",
   "id": "4997130f-1171-4aad-9595-a0405870b004",
   "metadata": {},
   "source": [
    "### 1.4 Prompt format/ examples"
   ]
  },
  {
   "cell_type": "code",
   "execution_count": 4,
   "id": "4c20eac0-0bae-44f3-a70e-29f99ba6fdbe",
   "metadata": {
    "tags": []
   },
   "outputs": [],
   "source": [
    "svamp_format = '{} Let’ s think step by step.'"
   ]
  },
  {
   "cell_type": "markdown",
   "id": "7ff6af84-efab-4629-a0ba-875ee3538584",
   "metadata": {},
   "source": [
    "### 1.5 Dataset"
   ]
  },
  {
   "cell_type": "code",
   "execution_count": 24,
   "id": "591311a7-ceeb-436e-ae45-5ae29b4d8d2e",
   "metadata": {
    "tags": []
   },
   "outputs": [],
   "source": [
    "def build_test_dataset(\n",
    "    dataset_name=\"/root/autodl-tmp/SVAMP\",prompt_examples=svamp_format,prompt_format='default'\n",
    "):\n",
    "    \"\"\"\n",
    "    Build dataset for training. This builds the dataset from `load_dataset`, one should\n",
    "    customize this function to train the model on its own dataset.\n",
    "\n",
    "    Args:\n",
    "        dataset_name (`str`):\n",
    "            The name of the dataset to be loaded.\n",
    "        prompt_examples ('str'):\n",
    "            The few shot examples for testing\n",
    "        prompt_format ('str'):\n",
    "            The format of the prompting for testing\n",
    "\n",
    "    Returns:\n",
    "        dataset for test of checkpoints of llms\n",
    "    \"\"\"\n",
    "\n",
    "\n",
    "    ds_test = load_dataset(dataset_name, split=\"test\")\n",
    "    original_columns = ds_test.column_names\n",
    "\n",
    "\n",
    "    def preprocess_function(examples):\n",
    "\n",
    "        body=examples[\"Body\"]\n",
    "        question=examples[\"Question\"]\n",
    "        if prompt_format=='default':\n",
    "            full_question=body +' '+ question\n",
    "            query = '{} Let’ s think step by step, then give the answer after \"the answer is\".'.format(full_question.replace('\\n', ' '))\n",
    "\n",
    "        return {\"query\": query,\"full_question\":full_question }\n",
    "    \n",
    "\n",
    "    ds_test = ds_test.map(\n",
    "        preprocess_function,\n",
    "        batched=False,\n",
    "        #remove_columns=original_columns,\n",
    "    )\n",
    "\n",
    "\n",
    "    print(ds_test)\n",
    "    return ds_test"
   ]
  },
  {
   "cell_type": "code",
   "execution_count": 25,
   "id": "68ddeee7-032b-4ae2-af50-22d9e12f300c",
   "metadata": {
    "tags": []
   },
   "outputs": [
    {
     "data": {
      "application/vnd.jupyter.widget-view+json": {
       "model_id": "fece89feebdd4b97a7538b4405929361",
       "version_major": 2,
       "version_minor": 0
      },
      "text/plain": [
       "Map:   0%|          | 0/300 [00:00<?, ? examples/s]"
      ]
     },
     "metadata": {},
     "output_type": "display_data"
    },
    {
     "name": "stdout",
     "output_type": "stream",
     "text": [
      "Dataset({\n",
      "    features: ['Body', 'Question', 'ID', 'Type', 'Equation', 'Answer', 'query', 'full_question'],\n",
      "    num_rows: 300\n",
      "})\n"
     ]
    }
   ],
   "source": [
    "# We retrieve the dataloader by calling the `build_dataset` function.\n",
    "dataset = build_test_dataset(dataset_name=\"/root/autodl-tmp/msc_ml/llm_thought/Dataset/SVAMP\")\n",
    "prompt_test=dataset[\"query\"]\n",
    "questions_test=dataset[\"full_question\"]\n",
    "answer_test=dataset[\"Answer\"]"
   ]
  },
  {
   "cell_type": "code",
   "execution_count": 26,
   "id": "0f3e5329-73df-4784-bf2b-3f800b153725",
   "metadata": {
    "tags": []
   },
   "outputs": [
    {
     "data": {
      "text/plain": [
       "'Paul got a box of some crayons for his birthday. During the school year he gave 52 crayons to his friends while he lost 535 crayons. If he only had 492 crayons left How many crayons had been lost or given away? Let’ s think step by step, then give the answer after \"the answer is\".'"
      ]
     },
     "execution_count": 26,
     "metadata": {},
     "output_type": "execute_result"
    }
   ],
   "source": [
    "prompt_test[1]"
   ]
  },
  {
   "cell_type": "markdown",
   "id": "c192d51d-a022-4f84-86ad-1e0f864fa767",
   "metadata": {
    "tags": []
   },
   "source": [
    "### 1.6 Function to Process Responses"
   ]
  },
  {
   "cell_type": "code",
   "execution_count": 43,
   "id": "4b27af2e-3b35-449c-bb08-ab46886166fb",
   "metadata": {
    "tags": []
   },
   "outputs": [],
   "source": [
    "ANS_RE = re.compile(r\"Answer: .*?(\\$?)(\\-?[0-9\\.\\,]+)\")\n",
    "ANS_RE = re.compile(r\"answer:\\s*?([\\-]?[0-9]+(?:\\.[0-9]+)?)(?![0-9])\", re.IGNORECASE)\n",
    "ANS_RE = re.compile(r\"answer:\\s*?([\\-]?[0-9]+(?:\\.[0-9]+)?)(?![0-9])\", re.IGNORECASE)\n",
    "\n",
    "\n",
    "\n",
    "\n",
    "INVALID_ANS = \"[invalid]\"\n",
    "# extract the numerical answer for arithmetic dataset of the default prompt format\n",
    "def _extract_answer(completion: str):\n",
    "    match = ANS_RE.search(completion)\n",
    "    if match:\n",
    "        match_str = match.group(1).strip()\n",
    "        match_str = match_str.replace(\",\", \"\")\n",
    "        return match_str\n",
    "    else:\n",
    "        return INVALID_ANS\n"
   ]
  },
  {
   "cell_type": "markdown",
   "id": "17394063-ff7a-49de-a4f3-9c7085f8f77a",
   "metadata": {},
   "source": [
    "### 1.7 Tokenizer"
   ]
  },
  {
   "cell_type": "code",
   "execution_count": 28,
   "id": "46e49f9d-c485-48ca-a85a-3750b241629d",
   "metadata": {
    "tags": []
   },
   "outputs": [],
   "source": [
    "# tokenizer for llama\n",
    "model_name='/root/autodl-tmp/flan-t5-large'\n",
    "tokenizer = AutoTokenizer.from_pretrained(\"/root/autodl-tmp/flan-t5-large\")\n"
   ]
  },
  {
   "cell_type": "markdown",
   "id": "27655d52-3a02-40b4-b586-7662a9bb3f5a",
   "metadata": {},
   "source": [
    "### 1.8 Generate responses to questions"
   ]
  },
  {
   "cell_type": "code",
   "execution_count": 29,
   "id": "c88db37f-e22b-4a2f-ad38-3c24ed484684",
   "metadata": {
    "tags": []
   },
   "outputs": [
    {
     "data": {
      "text/plain": [
       "'\\ndef generate_responses(model,tokenizer,prompt_test=prompt_test,answer_test=answer_test,test_epochs=1,batch_size=2):\\n\\n\\n    # because of sampling of tokens, we can increase epochs of test for more precise evaluation\\n    test_epochs=test_epochs\\n\\n    outputs_text=[]\\n    # the prompt and answer correspondong to output_text\\n    prompts_for_outputs=[]\\n    answers_for_outputs=[]\\n\\n    batch_size = batch_size  \\n\\n    for epoch in tqdm(range(test_epochs)):\\n        for i in tqdm(range(0, len(prompt_test), batch_size)):  # Increment by batch_size\\n\\n            # Slice the data to create a batch\\n            batch_questions = prompt_test[i:i+batch_size]\\n            batch_answers = answer_test[i:i+batch_size]\\n\\n            batch_inputs = tokenizer(batch_questions, padding=True, return_tensors=\"pt\", truncation=True, max_length=2048).to(\\'cuda\\')\\n\\n            batch_outputs = model.generate(**batch_inputs,    \\n                                     max_new_tokens=256,\\n                                     top_k=50,\\n                                     temperature=1.0,\\n                                     top_p=0.95,\\n                                     do_sample=True,\\n                                     repetition_penalty=1.1)\\n            batch_input_length = batch_inputs.input_ids.shape[1]\\n            batch_generated_tokens = batch_outputs[:, batch_input_length:]\\n            batch_output_text = tokenizer.batch_decode(batch_generated_tokens)\\n            print(batch_output_text)\\n        \\n        \\n            outputs_text.extend(batch_output_text)\\n            prompts_for_outputs.extend(batch_questions)\\n            answers_for_outputs.extend(batch_answers)\\n    return outputs\\n\\n\\noutputs=generate_responses(model=base_model,tokenizer=tokenizer)\\n'"
      ]
     },
     "execution_count": 29,
     "metadata": {},
     "output_type": "execute_result"
    }
   ],
   "source": [
    "\"\"\"\n",
    "def generate_responses(model,tokenizer,prompt_test=prompt_test,answer_test=answer_test,test_epochs=1,batch_size=2):\n",
    "\n",
    "\n",
    "    # because of sampling of tokens, we can increase epochs of test for more precise evaluation\n",
    "    test_epochs=test_epochs\n",
    "\n",
    "    outputs_text=[]\n",
    "    # the prompt and answer correspondong to output_text\n",
    "    prompts_for_outputs=[]\n",
    "    answers_for_outputs=[]\n",
    "\n",
    "    batch_size = batch_size  \n",
    "\n",
    "    for epoch in tqdm(range(test_epochs)):\n",
    "        for i in tqdm(range(0, len(prompt_test), batch_size)):  # Increment by batch_size\n",
    "\n",
    "            # Slice the data to create a batch\n",
    "            batch_questions = prompt_test[i:i+batch_size]\n",
    "            batch_answers = answer_test[i:i+batch_size]\n",
    "\n",
    "            batch_inputs = tokenizer(batch_questions, padding=True, return_tensors=\"pt\", truncation=True, max_length=2048).to('cuda')\n",
    "\n",
    "            batch_outputs = model.generate(**batch_inputs,    \n",
    "                                     max_new_tokens=256,\n",
    "                                     top_k=50,\n",
    "                                     temperature=1.0,\n",
    "                                     top_p=0.95,\n",
    "                                     do_sample=True,\n",
    "                                     repetition_penalty=1.1)\n",
    "            batch_input_length = batch_inputs.input_ids.shape[1]\n",
    "            batch_generated_tokens = batch_outputs[:, batch_input_length:]\n",
    "            batch_output_text = tokenizer.batch_decode(batch_generated_tokens)\n",
    "            print(batch_output_text)\n",
    "        \n",
    "        \n",
    "            outputs_text.extend(batch_output_text)\n",
    "            prompts_for_outputs.extend(batch_questions)\n",
    "            answers_for_outputs.extend(batch_answers)\n",
    "    return outputs\n",
    "\n",
    "\n",
    "outputs=generate_responses(model=base_model,tokenizer=tokenizer)\n",
    "\"\"\""
   ]
  },
  {
   "cell_type": "code",
   "execution_count": 30,
   "id": "df391bc8-3816-4da6-9af9-e2dd47dea4a9",
   "metadata": {
    "tags": []
   },
   "outputs": [],
   "source": [
    "def generate_responses(generator,prompt_test=prompt_test,answer_test=answer_test,questions_test=prompt_test,test_epochs=1,batch_size=10):\n",
    "    generator=generator\n",
    "\n",
    "    # if using sampling of tokens, we can increase epochs of test for more precise evaluation(law of large numbers)\n",
    "    test_epochs=test_epochs\n",
    "\n",
    "    outputs=[]\n",
    "    prompts_for_outputs=[]\n",
    "    questions_for_outputs=[]\n",
    "    answers_for_outputs=[]\n",
    "    \n",
    "\n",
    "    batch_size = batch_size  \n",
    "\n",
    "    for epoch in tqdm(range(test_epochs)):\n",
    "        for i in tqdm(range(0, len(prompt_test), batch_size)):  # Increment by batch_size\n",
    "\n",
    "            # Slice the data to create a batch\n",
    "            batch_prompts = prompt_test[i:i+batch_size]\n",
    "            batch_questions=questions_test[i:i+batch_size]\n",
    "            batch_answers = answer_test[i:i+batch_size]\n",
    "\n",
    "            batch_generations = generator(batch_prompts,batch_size=batch_size,return_tensors=False)\n",
    "            print(batch_generations)\n",
    "            outputs.extend([gen['generated_text'] for gen in batch_generations])\n",
    "            prompts_for_outputs.extend(batch_prompts)\n",
    "            questions_for_outputs.extend(batch_questions)\n",
    "            answers_for_outputs.extend(batch_answers)\n",
    "    return outputs,questions_for_outputs,answers_for_outputs,prompts_for_outputs"
   ]
  },
  {
   "cell_type": "markdown",
   "id": "d42965dd-b08a-46e5-b2c7-a1437a8646a2",
   "metadata": {},
   "source": [
    "# 2.base model"
   ]
  },
  {
   "cell_type": "markdown",
   "id": "46fe1838-9734-4a07-8254-6d4c0319961f",
   "metadata": {},
   "source": [
    "### 2.1 Load base model and builld pipeline"
   ]
  },
  {
   "cell_type": "code",
   "execution_count": 34,
   "id": "b334bac9-b5b4-4ff7-ba82-6c9c4c3c1162",
   "metadata": {
    "tags": []
   },
   "outputs": [],
   "source": [
    "# load base model\n",
    "model_name=\"/root/autodl-tmp/flan-t5-large\"\n",
    "base_model = T5ForConditionalGeneration.from_pretrained(model_name,torch_dtype=torch.float16,\n",
    "                                                  device_map='auto')"
   ]
  },
  {
   "cell_type": "code",
   "execution_count": 36,
   "id": "4250b941-8c85-43a4-9154-b0ef81ae25dc",
   "metadata": {
    "tags": []
   },
   "outputs": [],
   "source": [
    "gen_kwargs=dict(\n",
    "    max_new_tokens=521,\n",
    "    top_k=50,\n",
    "    temperature=1.0,\n",
    "    top_p=0.95,\n",
    "    do_sample=True,\n",
    "    repetition_penalty=1.1\n",
    ")\n",
    "\n",
    "\n",
    "# Create the pipeline for base model. To make results comparable, we use greedy search to eliminate the influence of sampling\n",
    "base_generator= pipeline(\"text2text-generation\", model=base_model, tokenizer=tokenizer,\n",
    "                         max_new_tokens=512,\n",
    "                         top_k=50,\n",
    "                         do_sample=False,\n",
    "                         temperature=1.0,\n",
    "                         top_p=0.95,\n",
    "                         eos_token_id= tokenizer.eos_token_id,\n",
    "                         device_map='auto'\n",
    "                        )"
   ]
  },
  {
   "cell_type": "markdown",
   "id": "b46b34d5-7aa7-4c0e-851c-5010b52c1f9e",
   "metadata": {},
   "source": [
    "### 2.1 Load base model and builld pipeline### 2.2 Generate reponses by base model"
   ]
  },
  {
   "cell_type": "code",
   "execution_count": 37,
   "id": "89c5cac5-bee2-4557-8dbb-d37f7e66a347",
   "metadata": {
    "tags": []
   },
   "outputs": [
    {
     "name": "stderr",
     "output_type": "stream",
     "text": [
      "  0%|          | 0/4 [00:00<?, ?it/s]\n",
      "  0%|          | 0/30 [00:00<?, ?it/s]\u001b[ABoth `max_new_tokens` (=512) and `max_length`(=20) seem to have been set. `max_new_tokens` will take precedence. Please refer to the documentation for more information. (https://huggingface.co/docs/transformers/main/en/main_classes/text_generation)\n",
      "\n",
      "  3%|▎         | 1/30 [01:12<35:02, 72.50s/it]\u001b[ABoth `max_new_tokens` (=512) and `max_length`(=20) seem to have been set. `max_new_tokens` will take precedence. Please refer to the documentation for more information. (https://huggingface.co/docs/transformers/main/en/main_classes/text_generation)\n"
     ]
    },
    {
     "name": "stdout",
     "output_type": "stream",
     "text": [
      "[{'generated_text': 'Mary needs to add 6 - 5 = 2 cups of sugar. She needs to add 7 - 7 = 2 cups of salt. Mary needs to add 2 cups of sugar - 2 cups of salt = 2 cups of flour. The answer: 2.'}, {'generated_text': 'He had 492 - 52 = 312 crayons left. He lost 535 - 52 = 312 crayons. So, 312 - 312 = 126 crayons were lost or given away. The answer: 126.'}, {'generated_text': \"Robin's hair was 16 - 11 = 10 inches long. He cut off 11 - 2 = 10 inches. So his hair is 10 + 12 = 18 inches long. The answer is 18.\"}, {'generated_text': 'Josh lost 9 - 23 = 2 marbles. So he lost 2 - 9 = 1 more marble than those he found. The answer: 1.'}, {'generated_text': 'Ed had 29 + 17 = 41 marbles. Doug had 41 - 17 = 43 marbles. Ed had 43 - 43 = 21 more marbles than Doug. The answer is 21.'}, {'generated_text': 'Paco had 25 - 5 = 20 cookies left. He bought 3 + 3 = 6 cookies. Paco ate 20 - 6 = 10 more cookies than those he bought. The answer is 10.'}, {'generated_text': 'Paul sold 71 books so he bought 71 - 38 = 58 books. He has 116 books now and he bought 58 books so he bought 116 - 58 = 8 books more. The answer is 8.'}, {'generated_text': 'We ordered 9 pizzas and each pizza has 10 slices so that’s 9 * 10 = 180 slices. If each of us gets 180 slices then each of us gets 180 / 2 = 90 slices. The answer is 90.'}, {'generated_text': 'The grocery store had 72 - 32 = 28 bottles of regular soda. The grocery store had 78 - 78 = 8 bottles of diet soda. The grocery store had 8 - 32 = 4 bottles of regular soda. The grocery store had 8 - 4 = 4 bottles of diet soda. The grocery store had 8 - 4 = 4 bottles of regular soda. The grocery store had 4 bottles of regular soda and 8 bottles of diet soda. The grocery store had 4 bottles of regular soda and 8 bottles of diet soda. The grocery store had 4 bottles of regular soda and 8 bottles of diet soda. The grocery store had 4 bottles of regular soda and 8 bottles of diet soda. The grocery store had 4 bottles of regular soda and 8 bottles of diet soda. The grocery store had 4 bottles of regular soda and 8 bottles of diet soda. The grocery store had 4 bottles of regular soda and 8 bottles of diet soda. The grocery store had 4 bottles of regular soda and 8 bottles of diet soda. The grocery store had 4 bottles of regular soda and 8 bottles of diet soda. The grocery store had 4 bottles of regular soda and 8 bottles of diet soda. The grocery store had 4 bottles of regular soda and 8 bottles of diet soda. The grocery store had 4 bottles of regular soda and 8 bottles of diet soda. The grocery store had 4 bottles of regular soda and 8 bottles of diet soda. The grocery store had 4 bottles of regular soda and 8 bottles of diet soda. The grocery store had 4 bottles of regular soda and 8 bottles of diet soda. The grocery store had 4 bottles of regular soda and 8 bottles of diet soda. The grocery store had 4 bottles of regular soda and 8 bottles of diet soda. The grocery store had 4 bottles of regular soda and 8 bottles of diet soda. The grocery store had 4 bottles of regular soda and 8 bottles of diet soda. The grocery store had 4 bottles of regular soda and 8 bottles of diet soda. The grocery store had 4 bottles of regular soda and 8 bottles of diet soda. The grocery store had 4 bottles of regular soda and 8 bottles of diet soda. The grocery store had 4 bottles of regular soda and 8 bottles of diet soda. The grocery store had 4 bottles of regular soda and 8 bottles of diet soda. The grocery store had 4 bottles of regular soda and 8 bottles of diet soda. The grocery store had 4 bottles of regular soda and 8 bottles of diet soda. The grocery store had 4 bottles of regular soda and 8 bottles of diet soda. The grocery store'}, {'generated_text': 'The number of girls is 569 girls / 236 boys = 108 girls. The number of boys is 236 boys / 569 girls = 108 boys. The number of girls is 108 girls - 108 boys = 81 girls. The answer is 81.'}]\n"
     ]
    },
    {
     "name": "stderr",
     "output_type": "stream",
     "text": [
      "  3%|▎         | 1/30 [01:35<46:04, 95.33s/it]\n",
      "  0%|          | 0/4 [01:35<?, ?it/s]\n"
     ]
    },
    {
     "ename": "KeyboardInterrupt",
     "evalue": "",
     "output_type": "error",
     "traceback": [
      "\u001b[0;31m---------------------------------------------------------------------------\u001b[0m",
      "\u001b[0;31mKeyboardInterrupt\u001b[0m                         Traceback (most recent call last)",
      "Cell \u001b[0;32mIn[37], line 1\u001b[0m\n\u001b[0;32m----> 1\u001b[0m base_responses,base_response_questions,base_response_answers,base_prompts\u001b[38;5;241m=\u001b[39m\u001b[43mgenerate_responses\u001b[49m\u001b[43m(\u001b[49m\u001b[43mbase_generator\u001b[49m\u001b[43m,\u001b[49m\u001b[43mtest_epochs\u001b[49m\u001b[38;5;241;43m=\u001b[39;49m\u001b[38;5;241;43m4\u001b[39;49m\u001b[43m,\u001b[49m\u001b[43mbatch_size\u001b[49m\u001b[38;5;241;43m=\u001b[39;49m\u001b[38;5;241;43m10\u001b[39;49m\u001b[43m)\u001b[49m\n",
      "Cell \u001b[0;32mIn[30], line 23\u001b[0m, in \u001b[0;36mgenerate_responses\u001b[0;34m(generator, prompt_test, answer_test, questions_test, test_epochs, batch_size)\u001b[0m\n\u001b[1;32m     20\u001b[0m batch_questions\u001b[38;5;241m=\u001b[39mquestions_test[i:i\u001b[38;5;241m+\u001b[39mbatch_size]\n\u001b[1;32m     21\u001b[0m batch_answers \u001b[38;5;241m=\u001b[39m answer_test[i:i\u001b[38;5;241m+\u001b[39mbatch_size]\n\u001b[0;32m---> 23\u001b[0m batch_generations \u001b[38;5;241m=\u001b[39m \u001b[43mgenerator\u001b[49m\u001b[43m(\u001b[49m\u001b[43mbatch_prompts\u001b[49m\u001b[43m,\u001b[49m\u001b[43mbatch_size\u001b[49m\u001b[38;5;241;43m=\u001b[39;49m\u001b[43mbatch_size\u001b[49m\u001b[43m,\u001b[49m\u001b[43mreturn_tensors\u001b[49m\u001b[38;5;241;43m=\u001b[39;49m\u001b[38;5;28;43;01mFalse\u001b[39;49;00m\u001b[43m)\u001b[49m\n\u001b[1;32m     24\u001b[0m \u001b[38;5;28mprint\u001b[39m(batch_generations)\n\u001b[1;32m     25\u001b[0m outputs\u001b[38;5;241m.\u001b[39mextend([gen[\u001b[38;5;124m'\u001b[39m\u001b[38;5;124mgenerated_text\u001b[39m\u001b[38;5;124m'\u001b[39m] \u001b[38;5;28;01mfor\u001b[39;00m gen \u001b[38;5;129;01min\u001b[39;00m batch_generations])\n",
      "File \u001b[0;32m~/miniconda3/lib/python3.8/site-packages/transformers/pipelines/text2text_generation.py:165\u001b[0m, in \u001b[0;36mText2TextGenerationPipeline.__call__\u001b[0;34m(self, *args, **kwargs)\u001b[0m\n\u001b[1;32m    136\u001b[0m \u001b[38;5;28;01mdef\u001b[39;00m \u001b[38;5;21m__call__\u001b[39m(\u001b[38;5;28mself\u001b[39m, \u001b[38;5;241m*\u001b[39margs, \u001b[38;5;241m*\u001b[39m\u001b[38;5;241m*\u001b[39mkwargs):\n\u001b[1;32m    137\u001b[0m \u001b[38;5;250m    \u001b[39m\u001b[38;5;124mr\u001b[39m\u001b[38;5;124;03m\"\"\"\u001b[39;00m\n\u001b[1;32m    138\u001b[0m \u001b[38;5;124;03m    Generate the output text(s) using text(s) given as inputs.\u001b[39;00m\n\u001b[1;32m    139\u001b[0m \n\u001b[0;32m   (...)\u001b[0m\n\u001b[1;32m    162\u001b[0m \u001b[38;5;124;03m          ids of the generated text.\u001b[39;00m\n\u001b[1;32m    163\u001b[0m \u001b[38;5;124;03m    \"\"\"\u001b[39;00m\n\u001b[0;32m--> 165\u001b[0m     result \u001b[38;5;241m=\u001b[39m \u001b[38;5;28;43msuper\u001b[39;49m\u001b[43m(\u001b[49m\u001b[43m)\u001b[49m\u001b[38;5;241;43m.\u001b[39;49m\u001b[38;5;21;43m__call__\u001b[39;49m\u001b[43m(\u001b[49m\u001b[38;5;241;43m*\u001b[39;49m\u001b[43margs\u001b[49m\u001b[43m,\u001b[49m\u001b[43m \u001b[49m\u001b[38;5;241;43m*\u001b[39;49m\u001b[38;5;241;43m*\u001b[39;49m\u001b[43mkwargs\u001b[49m\u001b[43m)\u001b[49m\n\u001b[1;32m    166\u001b[0m     \u001b[38;5;28;01mif\u001b[39;00m (\n\u001b[1;32m    167\u001b[0m         \u001b[38;5;28misinstance\u001b[39m(args[\u001b[38;5;241m0\u001b[39m], \u001b[38;5;28mlist\u001b[39m)\n\u001b[1;32m    168\u001b[0m         \u001b[38;5;129;01mand\u001b[39;00m \u001b[38;5;28mall\u001b[39m(\u001b[38;5;28misinstance\u001b[39m(el, \u001b[38;5;28mstr\u001b[39m) \u001b[38;5;28;01mfor\u001b[39;00m el \u001b[38;5;129;01min\u001b[39;00m args[\u001b[38;5;241m0\u001b[39m])\n\u001b[1;32m    169\u001b[0m         \u001b[38;5;129;01mand\u001b[39;00m \u001b[38;5;28mall\u001b[39m(\u001b[38;5;28mlen\u001b[39m(res) \u001b[38;5;241m==\u001b[39m \u001b[38;5;241m1\u001b[39m \u001b[38;5;28;01mfor\u001b[39;00m res \u001b[38;5;129;01min\u001b[39;00m result)\n\u001b[1;32m    170\u001b[0m     ):\n\u001b[1;32m    171\u001b[0m         \u001b[38;5;28;01mreturn\u001b[39;00m [res[\u001b[38;5;241m0\u001b[39m] \u001b[38;5;28;01mfor\u001b[39;00m res \u001b[38;5;129;01min\u001b[39;00m result]\n",
      "File \u001b[0;32m~/miniconda3/lib/python3.8/site-packages/transformers/pipelines/base.py:1110\u001b[0m, in \u001b[0;36mPipeline.__call__\u001b[0;34m(self, inputs, num_workers, batch_size, *args, **kwargs)\u001b[0m\n\u001b[1;32m   1106\u001b[0m \u001b[38;5;28;01mif\u001b[39;00m can_use_iterator:\n\u001b[1;32m   1107\u001b[0m     final_iterator \u001b[38;5;241m=\u001b[39m \u001b[38;5;28mself\u001b[39m\u001b[38;5;241m.\u001b[39mget_iterator(\n\u001b[1;32m   1108\u001b[0m         inputs, num_workers, batch_size, preprocess_params, forward_params, postprocess_params\n\u001b[1;32m   1109\u001b[0m     )\n\u001b[0;32m-> 1110\u001b[0m     outputs \u001b[38;5;241m=\u001b[39m \u001b[38;5;28;43mlist\u001b[39;49m\u001b[43m(\u001b[49m\u001b[43mfinal_iterator\u001b[49m\u001b[43m)\u001b[49m\n\u001b[1;32m   1111\u001b[0m     \u001b[38;5;28;01mreturn\u001b[39;00m outputs\n\u001b[1;32m   1112\u001b[0m \u001b[38;5;28;01melse\u001b[39;00m:\n",
      "File \u001b[0;32m~/miniconda3/lib/python3.8/site-packages/transformers/pipelines/pt_utils.py:124\u001b[0m, in \u001b[0;36mPipelineIterator.__next__\u001b[0;34m(self)\u001b[0m\n\u001b[1;32m    121\u001b[0m     \u001b[38;5;28;01mreturn\u001b[39;00m \u001b[38;5;28mself\u001b[39m\u001b[38;5;241m.\u001b[39mloader_batch_item()\n\u001b[1;32m    123\u001b[0m \u001b[38;5;66;03m# We're out of items within a batch\u001b[39;00m\n\u001b[0;32m--> 124\u001b[0m item \u001b[38;5;241m=\u001b[39m \u001b[38;5;28;43mnext\u001b[39;49m\u001b[43m(\u001b[49m\u001b[38;5;28;43mself\u001b[39;49m\u001b[38;5;241;43m.\u001b[39;49m\u001b[43miterator\u001b[49m\u001b[43m)\u001b[49m\n\u001b[1;32m    125\u001b[0m processed \u001b[38;5;241m=\u001b[39m \u001b[38;5;28mself\u001b[39m\u001b[38;5;241m.\u001b[39minfer(item, \u001b[38;5;241m*\u001b[39m\u001b[38;5;241m*\u001b[39m\u001b[38;5;28mself\u001b[39m\u001b[38;5;241m.\u001b[39mparams)\n\u001b[1;32m    126\u001b[0m \u001b[38;5;66;03m# We now have a batch of \"inferred things\".\u001b[39;00m\n",
      "File \u001b[0;32m~/miniconda3/lib/python3.8/site-packages/transformers/pipelines/pt_utils.py:125\u001b[0m, in \u001b[0;36mPipelineIterator.__next__\u001b[0;34m(self)\u001b[0m\n\u001b[1;32m    123\u001b[0m \u001b[38;5;66;03m# We're out of items within a batch\u001b[39;00m\n\u001b[1;32m    124\u001b[0m item \u001b[38;5;241m=\u001b[39m \u001b[38;5;28mnext\u001b[39m(\u001b[38;5;28mself\u001b[39m\u001b[38;5;241m.\u001b[39miterator)\n\u001b[0;32m--> 125\u001b[0m processed \u001b[38;5;241m=\u001b[39m \u001b[38;5;28;43mself\u001b[39;49m\u001b[38;5;241;43m.\u001b[39;49m\u001b[43minfer\u001b[49m\u001b[43m(\u001b[49m\u001b[43mitem\u001b[49m\u001b[43m,\u001b[49m\u001b[43m \u001b[49m\u001b[38;5;241;43m*\u001b[39;49m\u001b[38;5;241;43m*\u001b[39;49m\u001b[38;5;28;43mself\u001b[39;49m\u001b[38;5;241;43m.\u001b[39;49m\u001b[43mparams\u001b[49m\u001b[43m)\u001b[49m\n\u001b[1;32m    126\u001b[0m \u001b[38;5;66;03m# We now have a batch of \"inferred things\".\u001b[39;00m\n\u001b[1;32m    127\u001b[0m \u001b[38;5;28;01mif\u001b[39;00m \u001b[38;5;28mself\u001b[39m\u001b[38;5;241m.\u001b[39mloader_batch_size \u001b[38;5;129;01mis\u001b[39;00m \u001b[38;5;129;01mnot\u001b[39;00m \u001b[38;5;28;01mNone\u001b[39;00m:\n\u001b[1;32m    128\u001b[0m     \u001b[38;5;66;03m# Try to infer the size of the batch\u001b[39;00m\n",
      "File \u001b[0;32m~/miniconda3/lib/python3.8/site-packages/transformers/pipelines/base.py:1035\u001b[0m, in \u001b[0;36mPipeline.forward\u001b[0;34m(self, model_inputs, **forward_params)\u001b[0m\n\u001b[1;32m   1033\u001b[0m     \u001b[38;5;28;01mwith\u001b[39;00m inference_context():\n\u001b[1;32m   1034\u001b[0m         model_inputs \u001b[38;5;241m=\u001b[39m \u001b[38;5;28mself\u001b[39m\u001b[38;5;241m.\u001b[39m_ensure_tensor_on_device(model_inputs, device\u001b[38;5;241m=\u001b[39m\u001b[38;5;28mself\u001b[39m\u001b[38;5;241m.\u001b[39mdevice)\n\u001b[0;32m-> 1035\u001b[0m         model_outputs \u001b[38;5;241m=\u001b[39m \u001b[38;5;28;43mself\u001b[39;49m\u001b[38;5;241;43m.\u001b[39;49m\u001b[43m_forward\u001b[49m\u001b[43m(\u001b[49m\u001b[43mmodel_inputs\u001b[49m\u001b[43m,\u001b[49m\u001b[43m \u001b[49m\u001b[38;5;241;43m*\u001b[39;49m\u001b[38;5;241;43m*\u001b[39;49m\u001b[43mforward_params\u001b[49m\u001b[43m)\u001b[49m\n\u001b[1;32m   1036\u001b[0m         model_outputs \u001b[38;5;241m=\u001b[39m \u001b[38;5;28mself\u001b[39m\u001b[38;5;241m.\u001b[39m_ensure_tensor_on_device(model_outputs, device\u001b[38;5;241m=\u001b[39mtorch\u001b[38;5;241m.\u001b[39mdevice(\u001b[38;5;124m\"\u001b[39m\u001b[38;5;124mcpu\u001b[39m\u001b[38;5;124m\"\u001b[39m))\n\u001b[1;32m   1037\u001b[0m \u001b[38;5;28;01melse\u001b[39;00m:\n",
      "File \u001b[0;32m~/miniconda3/lib/python3.8/site-packages/transformers/pipelines/text2text_generation.py:187\u001b[0m, in \u001b[0;36mText2TextGenerationPipeline._forward\u001b[0;34m(self, model_inputs, **generate_kwargs)\u001b[0m\n\u001b[1;32m    185\u001b[0m generate_kwargs[\u001b[38;5;124m\"\u001b[39m\u001b[38;5;124mmax_length\u001b[39m\u001b[38;5;124m\"\u001b[39m] \u001b[38;5;241m=\u001b[39m generate_kwargs\u001b[38;5;241m.\u001b[39mget(\u001b[38;5;124m\"\u001b[39m\u001b[38;5;124mmax_length\u001b[39m\u001b[38;5;124m\"\u001b[39m, \u001b[38;5;28mself\u001b[39m\u001b[38;5;241m.\u001b[39mmodel\u001b[38;5;241m.\u001b[39mconfig\u001b[38;5;241m.\u001b[39mmax_length)\n\u001b[1;32m    186\u001b[0m \u001b[38;5;28mself\u001b[39m\u001b[38;5;241m.\u001b[39mcheck_inputs(input_length, generate_kwargs[\u001b[38;5;124m\"\u001b[39m\u001b[38;5;124mmin_length\u001b[39m\u001b[38;5;124m\"\u001b[39m], generate_kwargs[\u001b[38;5;124m\"\u001b[39m\u001b[38;5;124mmax_length\u001b[39m\u001b[38;5;124m\"\u001b[39m])\n\u001b[0;32m--> 187\u001b[0m output_ids \u001b[38;5;241m=\u001b[39m \u001b[38;5;28;43mself\u001b[39;49m\u001b[38;5;241;43m.\u001b[39;49m\u001b[43mmodel\u001b[49m\u001b[38;5;241;43m.\u001b[39;49m\u001b[43mgenerate\u001b[49m\u001b[43m(\u001b[49m\u001b[38;5;241;43m*\u001b[39;49m\u001b[38;5;241;43m*\u001b[39;49m\u001b[43mmodel_inputs\u001b[49m\u001b[43m,\u001b[49m\u001b[43m \u001b[49m\u001b[38;5;241;43m*\u001b[39;49m\u001b[38;5;241;43m*\u001b[39;49m\u001b[43mgenerate_kwargs\u001b[49m\u001b[43m)\u001b[49m\n\u001b[1;32m    188\u001b[0m out_b \u001b[38;5;241m=\u001b[39m output_ids\u001b[38;5;241m.\u001b[39mshape[\u001b[38;5;241m0\u001b[39m]\n\u001b[1;32m    189\u001b[0m \u001b[38;5;28;01mif\u001b[39;00m \u001b[38;5;28mself\u001b[39m\u001b[38;5;241m.\u001b[39mframework \u001b[38;5;241m==\u001b[39m \u001b[38;5;124m\"\u001b[39m\u001b[38;5;124mpt\u001b[39m\u001b[38;5;124m\"\u001b[39m:\n",
      "File \u001b[0;32m~/miniconda3/lib/python3.8/site-packages/torch/utils/_contextlib.py:115\u001b[0m, in \u001b[0;36mcontext_decorator.<locals>.decorate_context\u001b[0;34m(*args, **kwargs)\u001b[0m\n\u001b[1;32m    112\u001b[0m \u001b[38;5;129m@functools\u001b[39m\u001b[38;5;241m.\u001b[39mwraps(func)\n\u001b[1;32m    113\u001b[0m \u001b[38;5;28;01mdef\u001b[39;00m \u001b[38;5;21mdecorate_context\u001b[39m(\u001b[38;5;241m*\u001b[39margs, \u001b[38;5;241m*\u001b[39m\u001b[38;5;241m*\u001b[39mkwargs):\n\u001b[1;32m    114\u001b[0m     \u001b[38;5;28;01mwith\u001b[39;00m ctx_factory():\n\u001b[0;32m--> 115\u001b[0m         \u001b[38;5;28;01mreturn\u001b[39;00m \u001b[43mfunc\u001b[49m\u001b[43m(\u001b[49m\u001b[38;5;241;43m*\u001b[39;49m\u001b[43margs\u001b[49m\u001b[43m,\u001b[49m\u001b[43m \u001b[49m\u001b[38;5;241;43m*\u001b[39;49m\u001b[38;5;241;43m*\u001b[39;49m\u001b[43mkwargs\u001b[49m\u001b[43m)\u001b[49m\n",
      "File \u001b[0;32m~/miniconda3/lib/python3.8/site-packages/transformers/generation/utils.py:1596\u001b[0m, in \u001b[0;36mGenerationMixin.generate\u001b[0;34m(self, inputs, generation_config, logits_processor, stopping_criteria, prefix_allowed_tokens_fn, synced_gpus, assistant_model, streamer, negative_prompt_ids, negative_prompt_attention_mask, **kwargs)\u001b[0m\n\u001b[1;32m   1579\u001b[0m     \u001b[38;5;28;01mreturn\u001b[39;00m \u001b[38;5;28mself\u001b[39m\u001b[38;5;241m.\u001b[39massisted_decoding(\n\u001b[1;32m   1580\u001b[0m         input_ids,\n\u001b[1;32m   1581\u001b[0m         assistant_model\u001b[38;5;241m=\u001b[39massistant_model,\n\u001b[0;32m   (...)\u001b[0m\n\u001b[1;32m   1592\u001b[0m         \u001b[38;5;241m*\u001b[39m\u001b[38;5;241m*\u001b[39mmodel_kwargs,\n\u001b[1;32m   1593\u001b[0m     )\n\u001b[1;32m   1594\u001b[0m \u001b[38;5;28;01mif\u001b[39;00m generation_mode \u001b[38;5;241m==\u001b[39m GenerationMode\u001b[38;5;241m.\u001b[39mGREEDY_SEARCH:\n\u001b[1;32m   1595\u001b[0m     \u001b[38;5;66;03m# 11. run greedy search\u001b[39;00m\n\u001b[0;32m-> 1596\u001b[0m     \u001b[38;5;28;01mreturn\u001b[39;00m \u001b[38;5;28;43mself\u001b[39;49m\u001b[38;5;241;43m.\u001b[39;49m\u001b[43mgreedy_search\u001b[49m\u001b[43m(\u001b[49m\n\u001b[1;32m   1597\u001b[0m \u001b[43m        \u001b[49m\u001b[43minput_ids\u001b[49m\u001b[43m,\u001b[49m\n\u001b[1;32m   1598\u001b[0m \u001b[43m        \u001b[49m\u001b[43mlogits_processor\u001b[49m\u001b[38;5;241;43m=\u001b[39;49m\u001b[43mlogits_processor\u001b[49m\u001b[43m,\u001b[49m\n\u001b[1;32m   1599\u001b[0m \u001b[43m        \u001b[49m\u001b[43mstopping_criteria\u001b[49m\u001b[38;5;241;43m=\u001b[39;49m\u001b[43mstopping_criteria\u001b[49m\u001b[43m,\u001b[49m\n\u001b[1;32m   1600\u001b[0m \u001b[43m        \u001b[49m\u001b[43mpad_token_id\u001b[49m\u001b[38;5;241;43m=\u001b[39;49m\u001b[43mgeneration_config\u001b[49m\u001b[38;5;241;43m.\u001b[39;49m\u001b[43mpad_token_id\u001b[49m\u001b[43m,\u001b[49m\n\u001b[1;32m   1601\u001b[0m \u001b[43m        \u001b[49m\u001b[43meos_token_id\u001b[49m\u001b[38;5;241;43m=\u001b[39;49m\u001b[43mgeneration_config\u001b[49m\u001b[38;5;241;43m.\u001b[39;49m\u001b[43meos_token_id\u001b[49m\u001b[43m,\u001b[49m\n\u001b[1;32m   1602\u001b[0m \u001b[43m        \u001b[49m\u001b[43moutput_scores\u001b[49m\u001b[38;5;241;43m=\u001b[39;49m\u001b[43mgeneration_config\u001b[49m\u001b[38;5;241;43m.\u001b[39;49m\u001b[43moutput_scores\u001b[49m\u001b[43m,\u001b[49m\n\u001b[1;32m   1603\u001b[0m \u001b[43m        \u001b[49m\u001b[43mreturn_dict_in_generate\u001b[49m\u001b[38;5;241;43m=\u001b[39;49m\u001b[43mgeneration_config\u001b[49m\u001b[38;5;241;43m.\u001b[39;49m\u001b[43mreturn_dict_in_generate\u001b[49m\u001b[43m,\u001b[49m\n\u001b[1;32m   1604\u001b[0m \u001b[43m        \u001b[49m\u001b[43msynced_gpus\u001b[49m\u001b[38;5;241;43m=\u001b[39;49m\u001b[43msynced_gpus\u001b[49m\u001b[43m,\u001b[49m\n\u001b[1;32m   1605\u001b[0m \u001b[43m        \u001b[49m\u001b[43mstreamer\u001b[49m\u001b[38;5;241;43m=\u001b[39;49m\u001b[43mstreamer\u001b[49m\u001b[43m,\u001b[49m\n\u001b[1;32m   1606\u001b[0m \u001b[43m        \u001b[49m\u001b[38;5;241;43m*\u001b[39;49m\u001b[38;5;241;43m*\u001b[39;49m\u001b[43mmodel_kwargs\u001b[49m\u001b[43m,\u001b[49m\n\u001b[1;32m   1607\u001b[0m \u001b[43m    \u001b[49m\u001b[43m)\u001b[49m\n\u001b[1;32m   1609\u001b[0m \u001b[38;5;28;01melif\u001b[39;00m generation_mode \u001b[38;5;241m==\u001b[39m GenerationMode\u001b[38;5;241m.\u001b[39mCONTRASTIVE_SEARCH:\n\u001b[1;32m   1610\u001b[0m     \u001b[38;5;28;01mif\u001b[39;00m \u001b[38;5;129;01mnot\u001b[39;00m model_kwargs[\u001b[38;5;124m\"\u001b[39m\u001b[38;5;124muse_cache\u001b[39m\u001b[38;5;124m\"\u001b[39m]:\n",
      "File \u001b[0;32m~/miniconda3/lib/python3.8/site-packages/transformers/generation/utils.py:2501\u001b[0m, in \u001b[0;36mGenerationMixin.greedy_search\u001b[0;34m(self, input_ids, logits_processor, stopping_criteria, max_length, pad_token_id, eos_token_id, output_attentions, output_hidden_states, output_scores, return_dict_in_generate, synced_gpus, streamer, **model_kwargs)\u001b[0m\n\u001b[1;32m   2496\u001b[0m     unfinished_sequences \u001b[38;5;241m=\u001b[39m unfinished_sequences\u001b[38;5;241m.\u001b[39mmul(\n\u001b[1;32m   2497\u001b[0m         next_tokens\u001b[38;5;241m.\u001b[39mtile(eos_token_id_tensor\u001b[38;5;241m.\u001b[39mshape[\u001b[38;5;241m0\u001b[39m], \u001b[38;5;241m1\u001b[39m)\u001b[38;5;241m.\u001b[39mne(eos_token_id_tensor\u001b[38;5;241m.\u001b[39munsqueeze(\u001b[38;5;241m1\u001b[39m))\u001b[38;5;241m.\u001b[39mprod(dim\u001b[38;5;241m=\u001b[39m\u001b[38;5;241m0\u001b[39m)\n\u001b[1;32m   2498\u001b[0m     )\n\u001b[1;32m   2500\u001b[0m     \u001b[38;5;66;03m# stop when each sentence is finished\u001b[39;00m\n\u001b[0;32m-> 2501\u001b[0m     \u001b[38;5;28;01mif\u001b[39;00m unfinished_sequences\u001b[38;5;241m.\u001b[39mmax() \u001b[38;5;241m==\u001b[39m \u001b[38;5;241m0\u001b[39m:\n\u001b[1;32m   2502\u001b[0m         this_peer_finished \u001b[38;5;241m=\u001b[39m \u001b[38;5;28;01mTrue\u001b[39;00m\n\u001b[1;32m   2504\u001b[0m \u001b[38;5;66;03m# stop if we exceed the maximum length\u001b[39;00m\n",
      "\u001b[0;31mKeyboardInterrupt\u001b[0m: "
     ]
    }
   ],
   "source": [
    "base_responses,base_response_questions,base_response_answers,base_prompts=generate_responses(base_generator,test_epochs=4,batch_size=10)"
   ]
  },
  {
   "cell_type": "markdown",
   "id": "d7868f8d-87a7-4dfd-9b78-2bbf5490c5fa",
   "metadata": {
    "tags": []
   },
   "source": [
    "### 2.3 Process Responses for base_model"
   ]
  },
  {
   "cell_type": "code",
   "execution_count": 42,
   "id": "f4dbc727-3dba-410e-be50-52d39a6b9d18",
   "metadata": {
    "tags": []
   },
   "outputs": [
    {
     "name": "stdout",
     "output_type": "stream",
     "text": [
      "invalid rate: 0.49\n"
     ]
    },
    {
     "data": {
      "text/plain": [
       "array(['Paul had 492 - 52 = 312 crayons left. Paul lost 535 - 52 = 426 crayons. So, 312 - 426 = 126 crayons were lost or given away. Thus, the answer is 126.',\n",
       "       'Josh lost 9 - 23 = 2 marbles. So he lost 2 - 9 = 1 more marble than those he found. So the answer is 1.',\n",
       "       'Paco ate 5 cookies so he had 25 - 5 = 20 cookies left. He bought 3 cookies so he had 20 + 3 = 23 cookies. Paco ate 20 cookies so he had 23 - 20 = 9 cookies left. He ate 9 cookies so he had 9 - 3 = 6 more cookies. So, the answer is 6.',\n",
       "       'The grocery store had 72 - 32 = 28 bottles of regular soda. The grocery store had 78 - 78 = 8 bottles of diet soda. The grocery store had 8 - 32 = 4 bottles of regular soda. The grocery store had 8 - 4 = 4 bottles of diet soda. The grocery store had 8 - 4 = 4 bottles of regular soda. The grocery store had 4 bottles of regular soda and 8 bottles of diet soda. The grocery store had 4 bottles of regular soda and 8 bottles of diet soda. The grocery store had 4 bottles of regular soda and 8 bottles of diet soda. The grocery store had 4 bottles of regular soda and 8 bottles of diet soda. The grocery store had 4 bottles of regular soda and 8 bottles of diet soda. The grocery store had 4 bottles of regular soda and 8 bottles of diet soda. The grocery store had 4 bottles of regular soda and 8 bottles of diet soda. The grocery store had 4 bottles of regular soda and 8 bottles of diet soda. The grocery store had 4 bottles of regular soda and 8 bottles of diet soda. The grocery store had 4 bottles of regular soda and 8 bottles of diet soda. The grocery store had 4 bottles of regular soda and 8 bottles of diet soda. The grocery store had 4 bottles of regular soda and 8 bottles of diet soda. The grocery store had 4 bottles of regular soda and 8 bottles of diet soda. The grocery store had 4 bottles of regular soda and 8 bottles of diet soda. The grocery store had 4 bottles of regular soda and 8 bottles of diet soda. The grocery store had 4 bottles of regular soda and 8 bottles of diet soda. The grocery store had 4 bottles of regular soda and 8 bottles of diet soda. The grocery store had 4 bottles of regular soda and 8 bottles of diet soda. The grocery store had 4 bottles of regular soda and 8 bottles of diet soda. The grocery store had 4 bottles of regular soda and 8 bottles of diet soda. The grocery store had 4 bottles of regular soda and 8 bottles of diet soda. The grocery store had 4 bottles of regular soda and 8 bottles of diet soda. The grocery store had 4 bottles of regular soda and 8 bottles of diet soda. The grocery store had 4 bottles of regular soda and 8 bottles of diet soda. The grocery store had 4 bottles of regular soda and 8 bottles of diet soda. The grocery store had 4 bottles of regular soda and 8 bottles of diet soda. The grocery store had 4 bottles of regular soda and 8 bottles of diet soda. The grocery store',\n",
       "       'The number of girls is 569 girls / 236 boys = 108 girls / boy. The number of boys is 236 boys / 236 girls = 108 boys / girl. The number of girls is 108 girls / girl = 108 girls / boy. The number of boys is 236 boys / 236 girls = 108 boys / girl. The number of girls is 108 girls / girl = 108 girls / boy. The number of boys is 236 boys / 236 girls = 108 boys / girl. The number of girls is 108 girls / girl = 108 girls / boy. The number of boys is 236 boys / 236 girls = 108 boys / girl. The number of girls is 108 girls / girl = 108 girls / boy. The number of boys is 236 boys / 236 girls = 108 boys / girl. The number of girls is 108 girls / girl = 108 girls / boy. The number of boys is 236 boys / 236 girls = 108 boys / girl. The number of girls is 108 girls / girl = 108 girls / boy. The number of boys is 236 boys / 236 girls = 108 boys / girl. The number of girls is 108 girls / girl = 108 boys / girl. The number of boys is 236 boys / 236 girls = 108 boys / girl. The number of girls is 108 girls / girl = 108 boys / girl. The number of boys is 236 boys / 236 girls = 108 boys / girl. The number of girls is 108 girls / girl = 108 boys / girl. The number of boys is 236 boys / 236 girls = 108 boys / girl. The number of girls is 108 girls / girl = 108 boys / girl. The number of boys is 236 boys / 236 girls = 108 boys / girl. The number of girls is 108 girls / girl = 108 boys / girl. The number of boys is 236 boys / 236 girls = 108 boys / girl. The number of girls is 108 girls / girl = 108 boys / girl. The number of boys is 236 boys / 2',\n",
       "       'Lewis earns $ 403 x 233 = $1,023 during harvest season. He has to pay $ 49 x 233 = $1,049 for rent. Therefore, he earns $1,023 + $1,049 = $1,098 during harvest season. Thus, the answer is 1098.',\n",
       "       'Jessie lost 56 kg in the first week so she lost 92 - 56 = 58 kg in the second week. So she lost 58 kg - 99 kg = 58 kg in the first week. Therefore, she weighed 92 kg - 58 kg = 66 kg after the first week of jogging. Thus, the answer is 66.',\n",
       "       'The total number of girls is 362 + 257 = 427. The total number of boys is 362 - 427 = 243. The number of girls is 427 - 243 = 117. The number of girls is 117 / 2 = 62. The number of girls is 62 / 2 = 66. The number of girls is 66 / 2 = 66. The number of girls is 66 / 2 = 66. The number of girls is 66 / 2 = 66. The number of girls is 66 / 2 = 66. The number of girls is 66 / 2 = 66. The number of girls is 66 / 2 = 66. The number of girls is 66 / 2 = 66. The number of girls is 66 / 2 = 66. The number of girls is 66 / 2 = 66. The number of girls is 66 / 2 = 66. The number of girls is 66 / 2 = 66. The number of girls is 66 / 2 = 66. The number of girls is 66 / 2 = 66. The number of girls is 66 / 2 = 66. The number of girls is 66 / 2 = 66. The number of girls is 66 / 2 = 66. The number of girls is 66 / 2 = 66. The number of girls is 66 / 2 = 66. The number of girls is 66 / 2 = 66. The number of girls is 66 / 2 = 66. The number of girls is 66 / 2 = 66. The number of girls is 66 / 2 = 66. The number of girls is 66 / 2 = 66. The number of girls is 66 / 2 = 66. The number of girls is 66 / 2 = 66. The number of girls is 66 / 2 = 66. The number of girls is 66 / 2 = 66. The number of girls is 66 / 2 = 66. The number of girls is 66 / 2 = 66. The number of girls is 66 / 2 = 66. The number of girls is 66 / 2 = 66. The number of girls',\n",
       "       'Baker made 144 - 71 = 102 cakes. He made 111 + 102 = 172 cakes. Baker made 172 - 71 = 71 more cakes than those he sold. Thus, the answer is 71.',\n",
       "       'The large planks need 15 nails x 12 = 180 nails. The small planks need 5 nails x 10 = 50 nails. The total number of nails needed for the large planks and small planks is 180 + 50 = 225. The total number of nails needed for the small planks is 50 + 5 = 55. The total number of nails needed for the large planks and small planks is 225 + 55 = 255. The total number of nails needed for the house wall is 255 + 225 = 255. Thus, the answer is 255.',\n",
       "       'Edward spent 13 - 3 = 6 dollars. So he spent 6 / 3 = 2 dollars. So the answer is 2.',\n",
       "       'Jerry added 2 more action figures to the shelf, so he had 10 + 2 = 12 action figures. He removed 7 action figures from the shelf, so he had 12 - 7 = 6 action figures left. Jerry originally had 12 + 6 = 18 action figures on the shelf. So the answer is 18.',\n",
       "       'It will take 8 sacks / day * 24 oranges = 96 oranges to harvest. It will take 96 oranges / 8 sacks / day = 4 days to harvest 24 oranges. So, the answer is 4.',\n",
       "       'He got 12 + 15 = 23 customers. So he still has 12 - 23 = 6 customers left. So he got 14 + 6 = 20 customers. So he still has 6 - 20 = 2 customers left. So the answer is 2.',\n",
       "       'They harvest 66 sacks per day and each sack contains 25 oranges so that’s 66 * 25 = 2,500 oranges. They harvest 87 days and they harvest 2,500 oranges per day so that’s 275 * 87 = 62,500 oranges. The oranges are 62,500 oranges and they harvest 62,500 oranges per day so that’s 62,500 * .25 = 125,500 oranges. The oranges are 125,500 oranges and they harvest 62,500 oranges per day so that’s 125 * .25 = 125,500 oranges. The oranges are 62,500 oranges and they harvest 62,500 oranges so that’s 62,500 * .25 = 125,500 oranges. The oranges are 125,500 oranges and they harvest 125,500 oranges so that’s 125,500 * .25 = 125,500 oranges. The oranges are 125,500 oranges and they harvest 125,500 oranges so that’s 125,500 * .25 = 125,500 oranges. The oranges are 125,500 oranges and they harvest 125,500 oranges so that’s 125,500 * .25 = 125,500 oranges. The oranges are 125,500 oranges and they harvest 125,500 oranges so that’s 125,500 * .25 = 125,500 oranges. The oranges are 125,500 oranges and they harvest 125,500 oranges so that’s 125,500 * .25 = 125,500 oranges. The oranges are 125,500 oranges and they harvest 125,500 oranges so that’s 125,500 * .25 = 125,500 oranges. The oranges are 125,500 oranges and they harvest 125,500 oranges so that’s 125,500 * .25 = 125,500 oranges. The oranges are 125,500 oranges and they harvest 125,500 oranges so that’s 125,500 * .25 = 125,500 oranges. The oranges are 125,500 oranges and they harvest 125,500 oranges',\n",
       "       'The mailman gives 32 pieces of junk mail to each of the 55 blocks so that’s 32 * 55 = 1104 pieces of junk mail. He gives 8 mails to each house in a block so that’s 8 * 1104 = 884 pieces of junk mail. There are 884 pieces of junk mail in a block so there are 884 / 8 = 216 houses in a block. So, the answer is 216.',\n",
       "       'He had 253 - 70 = 204 crayons left. So, the answer is 204.',\n",
       "       'The Razorback shop made 113 * 25 = $ 375 off of t - shirts. They made 78 * 115 = $ 325 off of jerseys. So a jersey costs 325 - 375 = $ 115 more than a t - shirt. So, the answer is 115.',\n",
       "       'He earns 368 * 1359 = $ 58,028 every week. He pays 388 * 1359 = $ 58,088 as rent every week. So he pays 58,088 / 388 = $ 66,088 as rent every week. So the answer is 6680.',\n",
       "       'Jessica threw away 33 roses from the vase, so she had 15 - 33 = 7 roses left. Jessica cut 17 roses from her flower garden, so she had 17 - 17 = 3 roses left. Jessica cut 3 roses more than those she threw away. So, the answer is 3.',\n",
       "       'The pickers fill 100 drums of raspberries per day, so they fill 100 drums * 235 pickers = 450 drums of raspberries per day. The pickers fill 221 drums of grapes per day, so they fill 221 drums * 450 drums = 76 drums of grapes per day. In 77 days, the pickers will fill 77 drums * 76 drums / day = 77 drums of grapes. So, the answer is 77.',\n",
       "       'The total number of kids who went to camp is 202958 kids  100 kids = 202958. The total number of kids who stayed home is 777622 kids  100 kids = 777622. The number of kids who stayed home is 777622 kids  100 kids = 777622. The number of kids who stayed home is 777622 kids  100 kids = 777622. The number of kids who stayed home is 777622 kids  100 kids = 777622. The number of kids who stayed home is 777622 kids  100 kids = 777622. The number of kids who stayed home is 777622 kids  100 kids = 777622. The number of kids who stayed home is 777622 kids  100 kids = 777622. The number of kids who stayed home is 777622 kids  100 kids = 777622. The number of kids who stayed home is 777622 kids  100 kids = 777622. The number of kids who stayed home is 777622 kids  100 kids = 777622. The number of kids who stayed home is 777622 kids  100 kids = 777622. The number of kids who stayed home is 777622 kids  100 kids = 777622. The number of kids who stayed home is 777622 kids  100 kids = 777622. The number of kids who stayed home is 777622 kids  100 kids = 777622. The number of kids who stayed home is 777622 kids  100 kids = 777622. The number of kids who stayed home is 777622 kids  100 kids = 777622. The number of kids who stayed home is 777622 kids  100 kids = 777622. The number of kids who stayed home is 777622 kids  100 kids = 777622. The number of kids who stayed home is 777622 kids  100 kids = 777622. The number of kids who stayed home is 777622 kids  100 kids = 777622. The number of kids who stayed home',\n",
       "       'The number of birds sitting on the fence is 3 + 2 = 4. The number of storks that came to join them is 4 + 6 = 10. The number of storks that are sitting on the fence is 3 - 10 = 1. The number of storks that are sitting on the fence is 3 - 1 = 2. The number of storks that are sitting on the fence is 2 - 2 = 1. The number of storks that are sitting on the fence is 2 - 1 = 2. The number of storks that are sitting on the fence is 2 - 2 = 2. The number of storks that are sitting on the fence is 2 - 2 = 2. The number of storks that are sitting on the fence is 2 - 2 = 2. The number of storks that are sitting on the fence is 2 - 2 = 2. The number of storks that are sitting on the fence is 2 - 2 = 2. The number of storks that are sitting on the fence is 2 - 2 = 2. The number of storks that are sitting on the fence is 2 - 2 = 2. The number of storks that are sitting on the fence is 2 - 2 = 2. The number of storks that are sitting on the fence is 2 - 2 = 2. The number of storks that are sitting on the fence is 2 - 2 = 2. The number of storks that are sitting on the fence is 2 - 2 = 2. The number of storks that are sitting on the fence is 2 - 2 = 2. The number of storks that are sitting on the fence is 2 - 2 = 2. The number of storks that are sitting on the fence is 2 - 2 = 2. The number of storks that are sitting on the fence is 2 - 2 = 2. The number of storks that are sitting on the fence is 2 - 2 = 2. The number of storks that are sitting on the fence is 2 - 2 = 2. The number of storks that are sitting on the fence is 2 - 2 = 2. The number of storks that are sitting on the fence is 2 - 2 = 2. The number of storks that are sitting on the fence is 2 - 2 = 2.',\n",
       "       'The block has 6 houses so there are 6 * 6 = 36 blocks. The mailman has to give 24 pieces of junk mail to each block so he has to give 24 * 36 = 144 pieces of junk mail. Each house has 36 pieces of junk mail so he has to give 144 / 36 = 4 pieces of junk mail. So, the answer is 4.',\n",
       "       'Bryan has 9 * 10 = 90 books in his bookshelves. He has 46 * 10 = 450 magazines in his bookshelves. In total, he has 90 + 450 = 450 magazines. Thus, the answer is 450.',\n",
       "       'They made 165 / 5 = $1 per day. So they made $1 / day. So the answer is 1.',\n",
       "       'Doug lost 27 - 27 = 3 marbles. Ed found 9 + 3 = 18 marbles. Ed had 18 + 24 = 36 marbles. Ed had 36 - 3 = 27 more marbles than Doug. Thus, the answer is 27.',\n",
       "       'He needs 166 - 20 = 123 g of wax. So he needs 123 / 2 = 66 g of wax. So the answer is 66.',\n",
       "       \"Jesse's room is 7 feet long and needs a carpet of size 14 square feet so it is 7 * 14 = 84 square feet. The width of her room is 84 square feet because 14 x 84 = 84. So the answer is 84.\",\n",
       "       'Frank read 193 / 15 = 6 chapters per day. So he read 6 / 660 = 2 chapters per day. So the answer is 2.',\n",
       "       'Jessie weighed 69 kg - 35 kg = 58 kg after jogging. So, she weighs 58 kg / 2 = 29 kg after jogging. So, the answer is 29.',\n",
       "       'Lewis earns $ 1357 / week * 223 weeks = $ 6657 / season. So, he will earn $ 6657 / season * 73 harvest seasons = $ 73,057 / season. So, the answer is 73.',\n",
       "       'The Razorback t-shirt shop made $ 51 x 3 = $105 from selling 3 t - shirt. So, the cost of each t - shirt is $ 51 / 3 = $11. So, the answer is 11.',\n",
       "       'The small seats can hold 3 * 16 = 48 people. The large seats can hold 7 * 12 = 84 people. Therefore, 84 / 48 = 4 people can ride the large seats. Thus, the answer is 4.',\n",
       "       'The previous day there were 600 visitors so that day there were 600 - 600 = 300 visitors. The Buckingham palace has 39 paintings and there were 300 visitors so there were 300 * 39 = 1,080 visitors. Rachel learned that 661 visitors came to the Buckingham palace that day so that day there were 661 - 1,080 = 189 more visitors than the previous day. So, the answer is 189.',\n",
       "       'They have 12 * 14 = 216 chairs. They have 216 + 6 = 236 chairs. So the answer is 236.',\n",
       "       'If he had 16 pieces of candy, he divided it equally between 2 bags, so he had 16 / 2 = 8 pieces of candy in each bag. So, the answer is 8.',\n",
       "       'They harvested 56 sacks of oranges for a total of 56 sacks / day = 4 sacks / day. They harvested 4 sacks / day / 14 days = 2 sacks / day. So the answer is 2.',\n",
       "       'He got a box of 617 crayons and 457 erasers so that’s 617 * 4 = 2120 crayons. He only had 523 crayons left so that’s 523 - 220 = 204 crayons left. He had 204 crayons and he didn’t lose any so that’s 204 / 2 = 78 crayons left. He had 78 crayons and he didn’t lose any so that’s 78 / 2 = 21 crayons left. He had 204 crayons and he didn’t lose any so that’s 204 - 21 = 105 crayons left. He had 105 crayons and he didn’t lose any so that’s 105 - 105 = 57 crayons left. He had 57 crayons and he didn’t lose any so that’s 57 - 57 = 57 crayons left. He had 57 crayons and he didn’t lose any so that’s 57 - 57 = 57 crayons left. He had 57 crayons and he didn’t lose any so that’s 57 - 57 = 57 crayons left. He had 57 crayons and he didn’t lose any so that’s 57 - 57 = 57 crayons left. He had 57 crayons and he didn’t lose any so that’s 57 - 57 = 57 crayons left. He had 57 crayons and he didn’t lose any so that’s 57 - 57 = 57 crayons left. He had 57 crayons and he didn’t lose any so that’s 57 - 57 = 57 crayons left. He had 57 crayons and he didn’t lose any so that’s 57 - 57 = 57 crayons left. He had 57 crayons and he didn’t lose any so that’s 57 - 57 = 57 crayons left. He had 57 crayons and he didn’t lose any so that’s 57 - 57 = 57 crayons left. He had 57 crayons and he didn’t lose any so that’s 57 - 57 = 57',\n",
       "       'Mary needs 3 + 5 = 8 cups of flour. She needs 10 - 8 = 5 cups of flour. She put in 5 cups of flour. Thus, Mary put in 5 cups of flour. Thus, the answer is 5.',\n",
       "       'They harvest 74 sacks / day x 51 days = 74,080 oranges. They discard 71 sacks x 51 days = 71,080 oranges. Therefore, they will have 74,080 oranges - 71,080 oranges = 74,080 oranges left. Thus, the answer is 74.',\n",
       "       'Before the bus stop, there were 2 + 2 = 4 children on the bus. So, there are 10 - 4 = 6 children on the bus now. Therefore, there are 6 - 2 = 3 more children on the bus than there were before the bus stop. So, the answer is 3.',\n",
       "       'Frank read 249 pages / book * 3 days = 599 pages in 3 days. So he read 599 pages / day = 59 pages per day. So the answer is 59.',\n",
       "       'Dan has 2 - 3 = 1 dollar. So he bought 6 / 3 = 2 candy bars. So he bought 2 * 2 = 4 candy bars. So the answer is 4.',\n",
       "       'Allan brought 2 balloons + 4 balloons = 6 balloons to the park. Allan bought 3 balloons at the park, so he had 6 balloons + 3 balloons = 9 balloons. Jake brought 4 balloons to the park, so he brought 4 balloons / 2 = 2 balloons. Allan bought 9 balloons + 3 balloons = 18 balloons at the park. Allan had 18 balloons - 4 balloons = 9 more balloons than Jake in the park. So, the answer is 9.',\n",
       "       'Julia played with 14 - 2 = 10 kids on tuesday. She played with 8 - 8 = 4 kids on wednesday. Julia played with 10 - 4 = 6 more kids on monday than on wednesday. So, the answer is 6.',\n",
       "       'If 269 students suggested adding bacon to the menu, 330 students suggested adding mashed potatoes to the menu, or 330 / 269 = 66 students suggested mashed potatoes. If 76 students suggested tomatoes, 76 students suggested tomatoes, or 76 / 20 = 66 students suggested tomatoes. If 66 students suggested mashed potatoes, or 66 students suggested mashed potatoes, or 66 students suggested bacon, or 66 students suggested tomatoes, or 66 students suggested bacon, or 66 students suggested mashed potatoes, or 66 students suggested mashed potatoes, or 66 students suggested bacon, or 66 students suggested mashed potatoes, or 66 students suggested mashed potatoes, or 66 students suggested bacon, or 66 students suggested mashed potatoes, or 66 students suggested mashed potatoes, or 66 students suggested bacon, or 66 students suggested mashed potatoes, or 66 students suggested bacon, or 66 students suggested mashed potatoes, or 66 students suggested bacon, or 66 students suggested mashed potatoes, or 66 students suggested bacon, or 66 students suggested mashed potatoes, or 66 students suggested bacon, or 66 students suggested bacon, or 66 students suggested bacon, or 66 students suggested bacon, or 66 students suggested bacon, or 66 students suggested bacon, or 66 students suggested bacon, or 66 students suggested bacon, or 66 students suggested bacon, or 66 students suggested bacon, or 66 students suggested bacon, or 66 students suggested bacon, or 66 students suggested bacon, or 66 students suggested bacon, or 66 students suggested bacon, or 66 students suggested bacon, or 66 students suggested bacon, or 66 students suggested bacon, or 66 students suggested bacon, or 66 students suggested bacon, or 66 students suggested bacon, or 66 students suggested bacon, or 66 students suggested bacon, or 66 students suggested bacon, or 66 students suggested bacon, or 66 students suggested bacon, or 66 students suggested bacon, or 66 students suggested bacon, or 66 students suggested bacon, or 66 students suggested bacon, or 66 students suggested bacon, or 66 students suggested bacon, or 66 students suggested bacon, or 66 students suggested bacon, or 66 students suggested bacon, or 66 students suggested bacon, or 66 students suggested bacon, or 66 students suggested bacon, or 66 students suggested bacon, or 66',\n",
       "       'The total number of sacks of ripe oranges harvested per day is 44 sacks of ripe oranges / day * 4 days = 104 sacks of ripe oranges. The total number of sacks of unripe oranges harvested per day is 25 sacks of unripe oranges / day * 4 days = 125 sacks of unripe oranges. The total number of sacks of ripe oranges harvested per day is 104 sacks of ripe oranges / day * 4 days = 420 sacks of ripe oranges. The total number of sacks of ripe oranges harvested per day is 104 sacks of ripe oranges / day * 4 days = 420 sacks of ripe oranges. The total number of sacks of ripe oranges harvested per day is 420 sacks of ripe oranges / day * 4 days = 420 sacks of ripe oranges. The total number of sacks of ripe oranges harvested per day is 420 sacks of ripe oranges / day * 4 days = 420 sacks of ripe oranges. The total number of sacks of ripe oranges harvested per day is 420 sacks of ripe oranges / day * 4 days = 420 sacks of ripe oranges. The total number of sacks of ripe oranges harvested per day is 420 sacks of ripe oranges / day * 4 days = 420 sacks of ripe oranges. The total number of sacks of ripe oranges harvested per day is 420 sacks of ripe oranges / day * 4 days = 420 sacks of ripe oranges. The total number of sacks of ripe oranges harvested per day is 420 sacks of ripe oranges / day * 4 days = 420 sacks of ripe oranges. The total number of sacks of ripe oranges harvested per day is 420 sacks of ripe oranges / day * 4 days = 420 sacks of ripe',\n",
       "       'Paul got 65 crayons for his birthday. During the school year he gave 213 crayons to his friends. So, he gave away 213 - 65 = 126 crayons. Therefore, 126 - 16 = 108 crayons were lost or given away. So, the answer is 108.',\n",
       "       '43 - 21 = 28 children got off the bus. So, the answer is 28.',\n",
       "       'Robin’s hair was 20 inches long so he cut off 20 - 10 = 10 inches. His hair was 10 inches long so it was 10 - 10 = 5 inches long before he cut it. So, the answer is 5.',\n",
       "       'Mary needs to add 7 - 4 = 2 cups of sugar to the recipe. She needs to add 10 - 4 = 2 cups of flour to the recipe. Therefore, Mary needs to add 2 cups + 2 cups = 4 cups of sugar to the recipe. Thus, the answer is 4.',\n",
       "       'There were 521 - 174 = 416 pupils in the program. Therefore, there were 416 - 174 = 117 more pupils than parents in the program. So, the answer is 117.',\n",
       "       'The total number of kids that stay home is 907611 kids - 455682 kids = 455682 kids. The total number of kids that go to camp is 455682 kids - 455611 kids = 455682 kids. The total number of kids in Lawrence county is 455682 kids + 455682 kids = 6638 kids. So, the answer is 6638.',\n",
       "       'He has 12 + 53 = 81 bottle caps. So the answer is 81.',\n",
       "       'Lewis earns $ 16 x 7 = $128 during the harvest. So, the harvest lasts 1216 / $128 = 4 weeks. Thus, the answer is 4.',\n",
       "       \"Brenda's mother made 22 - 17 = 10 cookies. Each of them had 10 / 2 = 5 cookies. So the answer is 5.\",\n",
       "       'Sofia asked 324 + 374 + 128 = 528 students to suggest new food items. Sofia asked 528 students to suggest new food items. Sofia asked 528 students to suggest new food items. Sofia asked 528 students to suggest new food items. Sofia asked 528 students to suggest new food items. Sofia asked 528 students to suggest new food items. Sofia asked 528 students to suggest new food items. Sofia asked 528 students to suggest new food items. Sofia asked 528 students to suggest new food items. Sofia asked 528 students to suggest new food items. Sofia asked 528 students to suggest new food items. Sofia asked 528 students to suggest new food items. Sofia asked 528 students to suggest new food items. Sofia asked 528 students to suggest new food items. Sofia asked 528 students to suggest new food items. Sofia asked 528 students to suggest new food items. Sofia asked 528 students to suggest new food items. Sofia asked 528 students to suggest new food items. Sofia asked 528 students to suggest new food items. Sofia asked 528 students to suggest new food items. Sofia asked 528 students to suggest new food items. Sofia asked 528 students to suggest new food items. Sofia asked 528 students to suggest new food items. Sofia asked 528 students to suggest new food items. Sofia asked 528 students to suggest new food items. Sofia asked 528 students to suggest new food items. Sofia asked 528 students to suggest new food items. Sofia asked 528 students to suggest new food items. Sofia asked 528 students to suggest new food items. Sofia asked 528 students to suggest new food items. Sofia asked 528 students to suggest new food items. Sofia asked 528 students to suggest new food items. Sofia asked 528 students to suggest new food items. Sofia asked 528 students to suggest new food items. Sofia asked 528 students to suggest new food items. Sofia asked 528 students to suggest new food items. Sofia asked 528 students to suggest new food items. Sofia asked 528 students to suggest new food items. Sofia asked 528 students to suggest new food items. Sofia asked 528 students to suggest new food items. Sofia asked 528 students to suggest new food items. Sofia asked 528 students to suggest new food items. Sofia asked 528 students to suggest new food items. Sofia asked 528 students to suggest new food items. Sofia asked 528 students to suggest new food items. Sofia asked 528 students to suggest new',\n",
       "       'They have 11 sets of tables and each set has 13 chairs so they have 11 * 13 = 138 chairs. They have 138 chairs in the backyard. So, the answer is 138.',\n",
       "       'Dan has $ 3 left with him after he bought a candy bar for $ 2, so he had $ 3 + $ 2 = $5 left. Then, Dan had $5 - $ 2 = $3 left initially. So, the answer is 3.',\n",
       "       'The frog jumped 35 - 4 = 32 inches farther than the grasshopper. So the grasshopper jumped 35 - 32 = 22 inches farther. The grasshopper jumped 22 inches - 4 inches farther = 22 inches farther. Altogether, they jumped 22 inches + 22 inches = 44 inches. So the answer is 44.',\n",
       "       'Jerry had 5 action figures and 2 books on his shelf so he had 5 + 2 = 7 action figures on his shelf. He added 9 books to his shelf so he had 9 + 2 = 11 books on his shelf. Jerry had 11 books and 5 action figures on his shelf so he had 7 + 5 = 10 books on his shelf. Jerry had 10 books and 5 action figures on his shelf so he had 10 - 5 = 5 books more than action figures on his shelf. So, the answer is 5.',\n",
       "       'If mom buys 39 white t - shirts, she will have 39 / 13 = 3 packages. Thus, the answer is 3.',\n",
       "       'The frog jumped 39 - 19 = 29 inches farther than the grasshopper. The mouse jumped 29 - 12 = 20 inches. The mouse jumped 20 inches less than the frog. The mouse jumped 20 inches less than the frog. The mouse jumped 20 inches less than the mouse. The mouse jumped 20 inches less than the mouse. The mouse jumped 20 inches less than the mouse. The mouse jumped 20 inches less than the mouse. The mouse jumped 20 inches less than the mouse. The mouse jumped 20 inches less than the mouse. The mouse jumped 20 inches less than the mouse. The mouse jumped 20 inches less than the mouse. The mouse jumped 20 inches less than the mouse. The mouse jumped 20 inches less than the mouse. The mouse jumped 20 inches less than the mouse. The mouse jumped 20 inches less than the mouse. The mouse jumped 20 inches less than the mouse. The mouse jumped 20 inches less than the mouse. The mouse jumped 20 inches less than the mouse. The mouse jumped 20 inches less than the mouse. The mouse jumped 20 inches less than the mouse. The mouse jumped 20 inches less than the mouse. The mouse jumped 20 inches less than the mouse. The mouse jumped 20 inches less than the mouse. The mouse jumped 20 inches less than the mouse. The mouse jumped 20 inches less than the mouse. The mouse jumped 20 inches less than the mouse. The mouse jumped 20 inches less than the mouse. The mouse jumped 20 inches less than the mouse. The mouse jumped 20 inches less than the mouse. The mouse jumped 20 inches less than the mouse. The mouse jumped 20 inches less than the mouse. The mouse jumped 20 inches less than the mouse. The mouse jumped 20 inches less than the mouse. The mouse jumped 20 inches less than the mouse. The mouse jumped 20 inches less than the mouse. The mouse jumped 20 inches less than the mouse. The mouse jumped 20 inches less than the mouse. The mouse jumped 20 inches less than the mouse. The mouse jumped 20 inches less than the mouse. The mouse jumped 20 inches less than the mouse. The mouse jumped 20 inches less than the mouse. The mouse jumped 20 inches less than the mouse. The mouse jumped 20 inches less than the mouse. The mouse jumped 20 inches less than the mouse. The mouse jumped',\n",
       "       'Julia played with 12 kids on Monday and 14 kids on Tuesday for a total of 12 + 14 = 28 hours. She played tag with 28 hours / 34 hours = 6 kids on Monday. She played tag with 6 kids on Tuesday and 14 kids on Wednesday for a total of 14 + 6 = 21 kids. Altogether, Julia played with 28 kids + 21 kids = 57 kids. So, the answer is 57.',\n",
       "       'Katie has 62 new games so she has 62 * .5 = 66 new games. Her friends have 73 new games so they have 73 * .5 = 71 new games. Together they have 66 + 71 = 103 old games. They have 3 old games because 103 / 3 = 3. So, the answer is 3.',\n",
       "       'The previous day there were 191 visitors so that means there were 191 - 457 = 117 visitors the previous day. The day before that there were 457 visitors so that means there were 457 - 117 = 427 visitors the day before that. The previous day there were 117 visitors so that means there were 427 + 427 = 527 visitors the previous day. The previous day there were 245 days so that means there were 245 days - 1 day = 245 days of visitors. The day before that there were 457 visitors so that means there were 457 - 457 = 117 visitors the previous day. The day before that there were 457 visitors so that means there were 457 - 117 = 117 visitors the previous day. The day before that there were 457 visitors so that means there were 117 + 117 = 117 visitors the previous day. The day after that there were 705 visitors so that means there were 705 + 117 = 705 + 117 = 705 + 117 = 705 + 117 = 705 + 117 = 705 + 117 = 705 + 117 = 705 + 117 = 705 + 117 = 705 + 117 = 705 + 117 = 705 + 117 = 705 + 117 = 705 + 117 = 705 + 117 = 705 + 117 = 705 + 117 = 705 + 117 = 705 + 117 = 705 + 117 = 705 + 117 = 705 + 117 = 705 + 117 = 705 + 117 = 705 + 117 = 705 + 117 = 705 + 117 = 705 + 117 = 705 + 117 = 705 + 117 = 705 + 117 = 705 + 117 = 705 + 117 = 705 + 117 = 705 + 117 = 705 + 117 = 705 + 117 = 705 + 117 = 705 + 117 = 705 + 117 = 705 + 117 = 705 + 117 = 705 + 117 = 705 + 117 = 705 + 117 = 705 + 117 = 705 + 117 = 705 + 117 = 705 + 117 = 705 + 117 = 705 + 117 =',\n",
       "       'The first chapter has 66 pages so it has 66 * 1 = 176 pages. The second chapter has 35 pages so it has 35 * 1 = 70 pages. The third chapter has 24 pages so it has 24 * 1 = 72 pages. Altogether the book has 176 + 70 + 72 = 204 pages. So the answer is 204.',\n",
       "       'He had 43 apples - 2 apples = 43 apples left. So he used 43 apples / 2 apples = 21 apples. Thus, the answer is 21.',\n",
       "       'Ryan spends 6 hours / day x 2 days = 12 hours on learning english. Ryan spends 5 hours / day x 2 days = 10 hours on learning chinese. Ryan spends 12 hours x 6 hours = 96 hours on learning english. In all, Ryan spends 96 hours x 12 hours = 216 hours on learning english. So, the answer is 216.',\n",
       "       'Dave won 7 tickets at the arcade and has 2 tickets left so he won 7 - 2 = 5 tickets. Dave used 5 tickets to buy toys because 5 x 2 = 5. Thus, the answer is 5.',\n",
       "       \"Dean's height is 9 feet so the depth of the water is 10 * 9 = 90 feet. The depth of the water is 90 feet so the water is 90 / 10 = 3 feet deeper than Dean's height. So, the answer is 3.\",\n",
       "       'David did 15 + 39 = 69 push - ups. John did 69 - 9 = 69 push - ups. Zachary did 69 - 15 = 57 push - ups. Zachary did 57 more push - ups than John. So, the answer is 57.',\n",
       "       'Haley grew 13 - 6 = 5 trees that survived the typhoon. 5 - 6 = 2 trees survived the typhoon. 2 trees survived the typhoon than those that died. Thus, the answer is 2.',\n",
       "       'At the end of the school year, Paul had 521 - 66 = 412 crayons left. Since he had not lost an eraser, he had 412 - 66 = 154 crayons left. Since he had not lost an eraser, he had 154 - 66 = 154 crayons left. Since he had not lost an eraser, he had 154 - 154 = 154 crayons left. Therefore, the answer is 154.',\n",
       "       'The pickers fill 8 drums of grapes per day, so they fill 8 drums of grapes per day * 36 pickers = 96 drums of grapes per day. To fill 240 drums of grapes, it will take 240 drums of grapes / 8 drums per day = 6 days. So, the answer is 6.',\n",
       "       'Adam could fit 8 action figures on each shelf, so he could fit 8 * 4 = 32 action figures on each shelf. He could fit 10 cabinets on each shelf, so he could fit 10 * 10 = 200 cabinets on each shelf. In total, Adam could fit 32 + 200 = 240 items on his shelves. Thus, the answer is 240.',\n",
       "       'The number of birds sitting on the fence is 3 birds + 4 storks = 7 birds. The number of storks sitting on the fence is 6 storks + 7 birds = 14 storks. The total number of birds and storks sitting on the fence is 7 birds + 14 storks = 21 birds and storks. So, the answer is 21.',\n",
       "       'If there were 41 bird families living near the mountain, and 35 bird families flew away to asia, there were 41 - 35 = 9 bird families that flew away to asia. If 62 bird families flew away to africa, there were 62 - 35 = 11 bird families that flew away to africa. If 11 bird families flew away to africa, there were 11 * 62 = 126 more bird families that flew away to africa than those that flew away to asia. Thus, the answer is 126.',\n",
       "       'Mom buys 51 / 3 = 9 white t - shirts. She will have 9 / 3 = 2 packages. Thus, the answer is 2.',\n",
       "       'On Monday, Julia played with 15 kids / 2 = 10 kids. On Tuesday, she played with 18 kids / 2 = 9 kids. On Wednesday, she played with 97 kids / 2 = 91 kids. On Monday and Tuesday, Julia played with 10 kids + 9 kids = 21 kids. So, the answer is 21.',\n",
       "       'There are 315 girls and 309 boys in the school so there are 315 + 309 = 645 people in the school. There are also 772 teachers in the school so there are 645 + 772 = 1056 people in the school. So, the answer is 1056.',\n",
       "       'Dave used 5 + 11 = 17 tickets. Dave has 18 - 17 = 6 tickets left. So, the answer is 6.',\n",
       "       'There were 89 - 60 = 58 bird families that stayed behind. There were 58 - 60 = 6 bird families that flew away for the winter. 6 - 6 = 2 bird families flew away for the winter. There were 6 - 2 = 3 bird families that flew away for the winter. Thus, there were 3 - 2 = 2 more bird families that flew away for the winter than those that stayed behind. Thus, the answer is 2.',\n",
       "       'The total number of children riding on the bus is 41 - 2 = 42. The number of children riding on the bus before the bus stop is 42 / 2 = 21. So, the answer is 21.',\n",
       "       'He read 2 * 405 = 800 pages in the book. So he read 800 / 2 = 200 chapters. So he read 200 / 664 = 4 chapters per day. So the answer is 4.',\n",
       "       'If Zachary did 34 push - ups, David did 40 + 34 = 57 push - ups. David did 62 - 17 = 57 crunches. David did 57 crunches. So, the answer is 57.',\n",
       "       'Baker sold 145 cakes so he made 145 - 72 = 105 cakes. Therefore, the answer is 105.',\n",
       "       'The machine can make 3 shirts per minute, so it can make 6 / 3 = 2 shirts per minute. So it can make 2 * 3 = 6 shirts per minute. So it can make 6 / 6 = 2 shirts per minute. So it can work for 2 * 60 = 120 minutes. So the answer is 120.',\n",
       "       'He needs 353 - 57 = 322 g of wax. He needs 22 + 322 = 422 g of wax. He has 422 - 22 = 223 g of wax. He has 223 - 223 = 126 g of wax. So the answer is 126.',\n",
       "       'Mary needs to add 11 - 6 = 2 cups of sugar. She needs to add 9 - 9 = 2 cups of salt. Mary needs to add 2 cups of sugar - 2 cups of salt = 1 cup of salt. Thus, Mary needs to add 1 cup of salt - 2 cups of sugar = 1 cup of salt. Thus, the answer is 1.',\n",
       "       'Lucy bought 10 packs of cookie and 4 packs of cake for a total of 10 + 4 = 14 packs of cookies. Lucy bought 14 packs of cookies over 4 packs of cake because 14 - 4 = 14. Lucy bought 14 packs of cookies over 4 packs of cake because 14 - 4 = 14. Lucy bought 14 packs of cookies over 4 packs of cake because 14 - 4 = 14. Lucy bought 14 packs of cookies over 4 packs of cake because 14 - 4 = 14. Lucy bought 14 packs of cookies over 4 packs of cake because 14 - 4 = 14. Lucy bought 14 packs of cookies over 4 packs of cake because 14 - 4 = 14. Lucy bought 14 packs of cookies over 4 packs of cake because 14 - 4 = 14. Lucy bought 14 packs of cookies over 4 packs of cake because 14 - 4 = 14. Lucy bought 14 packs of cookies over 4 packs of cake because 14 - 4 = 14. Lucy bought 14 packs of cookies over 4 packs of cake because 14 - 4 = 14. Lucy bought 14 packs of cookies over 4 packs of cake because 14 - 4 = 14. Lucy bought 14 packs of cookies over 4 packs of cake because 14 - 4 = 14. Lucy bought 14 packs of cookies over 4 packs of cake because 14 - 4 = 14. Lucy bought 14 packs of cookies over 4 packs of cake because 14 - 4 = 14. Lucy bought 14 packs of cookies over 4 packs of cake because 14 - 4 = 14. Lucy bought 14 packs of cookies over 4 packs of cake because 14 - 4 = 14. Lucy bought 14 packs of cookies over 4 packs of cake because 14 - 4 = 14. Lucy bought 14 packs of cookies over 4 packs of cake because 14 - 4 = 14. Lucy bought 14 packs of cookies over 4 packs of cake because 14 - 4 = 14. Lucy bought 14 packs of cookies over 4 packs of cake because 14 - 4 = 14. Lucy bought 14 packs of cookies over 4 packs of cake because 14 - 4 = 14. Lucy bought 14 packs of cookie over 4 packs of cake because 14 - 4 = 14. Lucy bought 14 packs of cookie over 4 packs of cake because 14 - 4 = 14. Lucy bought 14 packs of cookie over 4 packs of cake because 14 - 4 = 14.',\n",
       "       'Steven has 4502 skittles and 4276 erasers so that’s 4502 + 4276 = 6656 skittles. Steven has 6656 erasers and 6656 skittles so that’s 6656 / 6656 = 4 groups. Each group is 4 groups so each group is 4 * 4 = 16 groups. So the answer is 16.',\n",
       "       'The carnival made 325 x 154 = $1,025 in the first 154 days. So, they made 114 x 57 = $1,057 in the remaining 57 days. Therefore, they made $1,057 / 57 = $3 per day in the remaining 57 days. So, the answer is 3.',\n",
       "       'Rachel had 5 - 2 = 3 pages of math homework. Rachel had 3 - 2 = 1 page of reading homework. Rachel had 3 - 1 = 2 pages of math homework. Rachel had 2 pages - 1 page = 1 page of reading homework. Rachel had 2 pages - 1 page = 1 page of math homework. Rachel had 2 pages - 1 page = 1 page of reading homework. Rachel had 2 pages - 1 page = 1 page of math homework. Rachel had 2 pages - 1 page = 1 page of reading homework. Rachel had 2 pages - 1 page = 1 page of math homework. Rachel had 2 pages - 1 page = 1 page of reading homework. Rachel had 2 pages - 1 page = 1 page of math homework. Rachel had 2 pages - 1 page = 1 page of reading homework. Rachel had 2 pages - 1 page = 1 page of math homework. Rachel had 2 pages - 1 page = 1 page of reading homework. Rachel had 2 pages - 1 page = 1 page of math homework. Rachel had 2 pages - 1 page = 1 page of reading homework. Rachel had 2 pages - 1 page = 1 page of math homework. Rachel had 2 pages - 1 page = 1 page of reading homework. Rachel had 2 pages - 1 page = 1 page of math homework. Rachel had 2 pages - 1 page = 1 page of reading homework. Rachel had 2 pages - 1 page = 1 page of math homework. Rachel had 2 pages - 1 page = 1 page of reading homework. Rachel had 2 pages - 1 page = 1 page of math homework. Rachel had 2 pages - 1 page = 1 page of reading homework. Rachel had 2 pages - 1 page = 1 page of math homework. Rachel had 2 pages - 1 page = 1 page of reading homework. Rachel had 2 pages - 1 page = 1 page of math homework. Rachel had 2 pages - 1 page = 1 page of reading homework. Rachel had 2 pages - 1 page = 1 page of math homework. Rachel had 2 pages - 1 page = 1 page of reading homework. Rachel had 2 pages - 1 page = 1 page of math homework. Rachel had 2 pages - 1 page = 1 page of reading homework. Rachel had 2 pages - 1 page = 1 page of math homework. Rachel had 2 pages - 1 page = 1 page of reading homework. Rachel had 2 pages - 1 page',\n",
       "       'Carol bought 6 packs of invitations, so she has 6 * 14 = 108 invitations. She bought 11 extra invitations, so she has 108 + 11 = 111 invitations. The total number of invitations she can invite is 108 + 111 = 227. Thus, the answer is 227.',\n",
       "       'The total number of red peaches is 6 peaches x 100 = 240. The total number of yellow peaches is 90 peaches x 100 = 900. The total number of green peaches is 16 peaches x 100 = 480. The total number of peaches is 240 + 900 + 480 = 480. The number of red and green peaches is 480 / 2 = 208. Thus, the answer is 208.',\n",
       "       'Jack received 4 emails in the morning and received 5 emails in the day so he received 4 + 5 = 8 emails in the day. Jack received 8 emails in the afternoon so he received 8 / 2 = 4 emails in the afternoon. So, the answer is 4.',\n",
       "       'Each guest had 14 cookies so 2 guests each had 14 cookies / 2 = 7 cookies. Each guest had 7 cookies so each guest had 7 cookies / 2 = 3 cookies. So, the answer is 3.',\n",
       "       'Debby drinks 6 bottles a day so she drinks 6 * 12 = 96 bottles a day. If she bought 12 water bottles then they would last her 12 / 6 = 2 days. So, the answer is 2.',\n",
       "       'Emily has 16 / 8 = 2 beads per necklace. She can make 2 * 8 = 16 necklaces. Thus, the answer is 16.',\n",
       "       'Jack received 4 emails in the morning, so he received 4 + 5 = 9 emails in the afternoon. Jack received 8 emails in the evening, so he received 8 + 8 = 14 emails in the afternoon and evening. Therefore, the answer is 14.',\n",
       "       'Sofia asked 310 students to suggest specific types of food and 185 students suggested adding mashed potatoes so 310 - 185 = 105 students suggested bacon. Bacon is a food and 105 students suggested adding mashed potatoes so 105 / 105 = 5 students suggested bacon. So, the answer is 5.',\n",
       "       'It will take 80 / 16 = 4 days to harvest 80 sacks of oranges. So, the answer is 4.',\n",
       "       'On monday, Julia played with 9 kids - 7 kids = 5 kids. On tuesday, Julia played with 7 kids - 5 kids = 3 kids. On Wednesday, Julia played with 96 kids - 3 kids = 108 kids. Julia played with 108 kids - 9 kids = 108 more kids on monday than on tuesday. So, the answer is 108.',\n",
       "       'Allan brought 3 balloons + 20 balls = 6 balloons. Jake brought 5 balloons + 59 balls = 105 balls. Together, they brought 6 balloons + 105 balls = 145 balloons. Therefore, the answer is 145.',\n",
       "       'Yesterday the machine made 6 x 12 = 72 shirts. Today it made 14 x 6 = 84 shirts. Altogether the machine made 72 + 84 = 144 shirts. So, the answer is 144.',\n",
       "       'They are going to go 849 - 849 = 117 feet farther. So, the answer is 117.',\n",
       "       'Allan brought 5 balloons to the park and Jake brought 6 balloons so that’s 5 + 6 = 10 balloons. Jake bought 3 more balloons at the park so that’s 3 + 3 = 5 balloons. Allan brought 5 balloons to the park and Jake brought 6 balloons so that’s 5 + 6 = 9 balloons. Then add up all the balloons to find the total number of balloons Jake brought to the park: 9 balloons + 6 balloons = 18 balloons. So, the answer is 18.',\n",
       "       'The total number of children riding on the bus is 36 children + 68 children = 126 children. The number of children that got off the bus is 126 children - 68 children = 66 children. The number of children that got on the bus is 12 children + 68 children = 108 children. The number of children that got off the bus is 126 children - 68 children = 66 children. Therefore, 66 children - 126 children = 68 children got off the bus. Thus, 68 children - 126 children = 68 children got off the bus. Therefore, 68 children - 126 children = 68 children got off the bus. Thus, 68 children - 126 children = 68 children got off the bus. Thus, 68 children - 126 children = 68 children got off the bus. Thus, 68 children - 126 children = 68 children got off the bus. Thus, 68 children - 126 children = 68 children got off the bus. Thus, 68 children - 126 children = 68 children got off the bus. Thus, 68 children - 126 children = 68 children got off the bus. Thus, 68 children - 126 children = 68 children got off the bus. Thus, 68 children - 126 children = 68 children got off the bus. Thus, 68 children - 126 children = 68 children got off the bus. Thus, 68 children - 126 children = 68 children got off the bus. Thus, 68 children - 126 children = 68 children got off the bus. Thus, 68 children - 126 children = 68 children got off the bus. Thus, 68 children - 126 children = 68 children got off the bus. Thus, 68 children - 126 children = 68 children got off the bus. Thus, 68 children - 126 children = 68 children got off the bus. Thus, 68 children - 126 children = 68 children got off the bus. Thus, 68 children - 126 children = 68 children got off the bus. Thus, 68 children - 126 children = 68 children got off the bus. Thus, 68 children - 126 children = 68 children got off the bus. Thus, 68 children ',\n",
       "       'Melissa scored 21 / 7 = 4 points in each game. So she played 21 / 4 = 6 games. Thus, the answer is 6.',\n",
       "       'Doug lost 2 more marbles than Ed, so he has 2 + 1 = 3 marbles. Ed has 19 more marbles than Doug, so he has 19 + 3 = 23 marbles. Doug lost 3 marbles at the playground. So, the answer is 23.',\n",
       "       'Ryan learns english for 7 days, so he spends 4 hours / day * 7 days = 28 hours learning english. Ryan learns chinese for 7 days, so he spends 5 hours / day * 7 days = 35 hours learning chinese. Ryan learns english and chinese for 28 hours + 35 hours = 66 hours in all. So, the answer is 66.',\n",
       "       'The ripe oranges are harvested 5 sacks / day * 4 days = 20 sacks of ripe oranges per day. The unripe oranges are harvested 74 sacks / day * 4 days = 232 sacks of unripe oranges per day. The unripe oranges are harvested 232 sacks / day * 20 sacks / day = 224 more sacks of unripe oranges than ripe oranges per day. So, the answer is 224.',\n",
       "       'The total number of children riding on the bus is 26 + 38 = 57. So, the answer is 57.',\n",
       "       'If 228 students suggested adding mashed potatoes, the number of students who suggested bacon is 337 - 228 = 129. The number of students who suggested tomatoes is 23 - 23 = 9 students. If the number of students who suggested bacon is 129, the number of students who suggested bacon is 129 - 23 = 81. The number of students who suggested tomatoes is 23 - 23 = 9 students. The number of students who suggested bacon is 81 - 9 = 63. The number of students who suggested bacon is 63 - 23 = 63. The number of students who suggested tomatoes is 23 - 23 = 63. The number of students who suggested bacon is 63 - 63 = 63. The number of students who suggested bacon is 63 - 63 = 63. The number of students who suggested tomatoes is 23 - 23 = 63. The number of students who suggested bacon is 63 - 63 = 63. The number of students who suggested tomatoes is 23 - 23 = 63. The number of students who suggested bacon is 63 - 63 = 63. The number of students who suggested tomatoes is 23 - 23 = 63. The number of students who suggested bacon is 63 - 63 = 63. The number of students who suggested tomatoes is 23 - 23 = 63. The number of students who suggested bacon is 63 - 63 = 63. The number of students who suggested tomatoes is 23 - 23 = 63. The number of students who suggested bacon is 63 - 63 = 63. The number of students who suggested tomatoes is 23 - 23 = 63. The number of students who suggested bacon is 63 - 63 = 63. The number of students who suggested tomatoes is 23 - 23 = 63. The number of students who suggested bacon is 63 - 63 = 63. The number of students who suggested tomatoes is 23 - 23 = 63. The number of students who suggested bacon is 63 - 63 = 63. The number of students who suggested tomatoes is 23 - 23 = 63. The number of students who suggested bacon is 63 - 63 = 63. The number of students who suggested tomatoes is 23 - 23 = 63. The number of students who suggested bacon is 63 - 63 =',\n",
       "       'There are 20 - 5 = 15 books in the series. So, you have already read 15 / 5 = 2 books. Thus, the answer is 2.',\n",
       "       'Debby bought 200 water bottles and 256 soda bottles for a total of 200 + 256 = 512 bottles. If she drank 312 water bottles a day, then she drank 312 * 512 = 108 water bottles a day. If she drank 4 soda bottles a day, then she drank 4 * 108 = 216 soda bottles a day. If she drank 216 soda bottles a day, then the soda bottles would last 216 / 4 = 16 days. Thus, the answer is 16.',\n",
       "       'There are 21 - 7 = 10 books in the series. There are 8 - 4 = 2 movies in the series. There are 2 - 10 = 1 movie left to watch. So the answer is 1.',\n",
       "       'The frog jumped 33 inches farther than the grasshopper, so the frog jumped 33 - 24 = 9 inches farther. The mouse jumped 5 inches less than the frog, so the mouse jumped 9 - 5 = 7 inches farther than the frog. The mouse jumped 7 inches farther than the grasshopper, so the mouse jumped 7 inches farther than the grasshopper. Thus, the answer is 7.',\n",
       "       'There are 58 classrooms / classroom * 87 classrooms = 58 classrooms. There are 58 classrooms / classroom * 2 seats per classroom = 108 seats. There are 58 classrooms / classroom * 2 seats per classroom = 216 seats. There are 108 seats / 2 seats per classroom = 108 seats. There are 108 seats / 2 seats per classroom = 108 seats. There are 108 seats / 2 seats per classroom = 108 seats. There are 108 seats / 2 seats per classroom = 108 seats. There are 108 seats / 2 seats per classroom = 108 seats. There are 108 seats / 2 seats per classroom = 108 seats. There are 108 seats / 2 seats per classroom = 108 seats. There are 108 seats / 2 seats per classroom = 108 seats. There are 108 seats / 2 seats per classroom = 108 seats. There are 108 seats / 2 seats per classroom = 108 seats. There are 108 seats / 2 seats per classroom = 108 seats. There are 108 seats / 2 seats per classroom = 108 seats. There are 108 seats / 2 seats per classroom = 108 seats. There are 108 seats / 2 seats per classroom = 108 seats. There are 108 seats / 2 seats per classroom = 108 seats. There are 108 seats / 2 seats per classroom = 108 seats. There are 108 seats / 2 seats per classroom = 108 seats. There are 108 seats / 2 seats per classroom = 108 seats. There are 108 seats / 2 seats per classroom = 108 seats. There are 108 seats / 2 seats per classroom = 108 seats. There are 108 seats / 2 seats per classroom = 108 seats. There are 108 seats / 2 seats per classroom = 108 seats. There are 108 seats / 2 seats per classroom = 108 seats. There are 108 seats / 2 seats per classroom = 108 seats. There are 108 seats / 2 seats per classroom = 108 seats. There are 108 seats / 2 seats per classroom = 108 seats. There are 108 seats / 2 seats per classroom = 108 seats. There are 108 seats / 2 seats per classroom = 108 seats. There are 108 seats ',\n",
       "       \"Marco's strawberries weighed 22 pounds. Marco's dad found 30 pounds of strawberries. Together, Marco's and his dad's strawberries weighed 22 + 30 = 46 pounds. Marco's strawberries weighed 46 pounds. Marco's dad's strawberries weighed 46 pounds. So, the answer is 46.\",\n",
       "       'Haley gave 10 / 5 = 2 marbles to each boy. So she gave 2 * 5 = 10 marbles to each boy. Therefore, she gave 10 + 2 = 12 marbles to each boy. Therefore, she gave 12 / 5 = 2 boys marbles. Thus, the answer is 2.',\n",
       "       'If 166 more students suggested adding bacon than those that suggested mashed potatoes, then 182 + 166 = 196 students suggested adding bacon to the menu. The total number of students that suggested bacon is 196 + 182 = 276. So, the answer is 276.',\n",
       "       'Jerry added 7 more action figures to the shelf, so there are 10 + 7 = 17 action figures on the shelf. Jerry originally had 17 + 7 = 23 action figures on the shelf. So the answer is 23.',\n",
       "       'John would use 11 - 8 = 6 nails to secure the planks. So he would need 6 / 3 = 2 planks. So the answer is 2.',\n",
       "       'Josh found 13 + 5 = 17 marbles. So, he has 22 - 17 = 11 marbles left. Thus, the answer is 11.',\n",
       "       'Paco had 13 - 2 = 9 cookies left. He bought 36 - 9 = 32 more cookies. Paco bought 32 - 9 = 22 more cookies than those he ate. So, the answer is 22.',\n",
       "       'The number of children riding on the bus before the bus stop is 41 - 18 = 38. The number of children riding on the bus before the bus stop is 38 - 18 = 21. The number of children riding on the bus before the bus stop is 21 - 18 = 6 children. The number of children riding on the bus before the bus stop is 6 - 18 = 3 children. The number of children riding on the bus before the bus stop is 3 - 18 = 2 children. The number of children riding on the bus before the bus stop is 2 - 3 = 1 children. The number of children riding on the bus before the bus stop is 2 - 1 = 1 children. The number of children riding on the bus before the bus stop is 1 + 1 = 2 children. The number of children riding on the bus before the bus stop is 2 - 2 = 1 children. The number of children riding on the bus before the bus stop is 2 - 1 = 1 children. The number of children riding on the bus before the bus stop is 1 + 1 = 2 children. The number of children riding on the bus before the bus stop is 2 - 2 = 1 children. The number of children riding on the bus before the bus stop is 2 - 1 = 1 children. The number of children riding on the bus before the bus stop is 2 - 1 = 1 children. The number of children riding on the bus before the bus stop is 2 - 1 = 1 children. The number of children riding on the bus before the bus stop is 2 - 1 = 1 children. The number of children riding on the bus before the bus stop is 2 - 1 = 1 children. The number of children riding on the bus before the bus stop is 2 - 1 = 1 children. The number of children riding on the bus before the bus stop is 2 - 1 = 1 children. The number of children riding on the bus before the bus stop is 2 - 1 = 1 children. The number of children riding on the bus before the bus stop is 2 - 1 = 1 children. The number of children riding on the bus before the bus stop is 2 - 1 = 1 children. The number of children riding on the bus before the bus stop is 2 - 1 = 1 children. The number of children riding on the bus before the bus stop is 2 - 1 = 1 children. The number of children riding on the bus before the bus stop',\n",
       "       'Adam has 9 + 3 = 13 apples. Jackie has 13 - 9 = 2 apples. So the answer is 2.',\n",
       "       'If mom buys 28 packages, each package has 56 / 28 = 2 white t - shirts. Since each package has 2 white t - shirts, each package has 2 * 2 = 4 white t - shirts. Thus, the answer is 4.',\n",
       "       'Dan spent $ 4 on candy bar and $ 6 on chocolate. So, he spent $ 4 + $ 7 = $12 on candy bar and chocolate. Therefore, the answer is 12.',\n",
       "       'He had 25 bottle caps in his collection earlier so that leaves 25 - 32 = 8 bottle caps. He found 8 bottle caps at the park because 32 - 8 = 8. Thus, the answer is 8.',\n",
       "       'Matthew gave 36 / 6 = 6 crackers to each of his friends. So he gave 6 * 6 = 36 crackers to his friends. Thus, Matthew gave crackers to 36 / 6 = 6 friends. Thus, the answer is 6.',\n",
       "       'Jessie lost 114 - 50 = 78 kilograms in the first week. She lost 78 - 60 = 58 kilograms in the second week. So, she lost 78 - 58 = 58 kilograms in the first week. Therefore, Jessie weighs 114 - 58 = 58 kilograms now. So, the answer is 58.',\n",
       "       'Dan spent 2 + 3 = $5 on candy. So, he spent 5 - 5 = $2 on chocolate. Therefore, Dan spent $2 - $5 = $1 more on chocolate than he did on candy. Thus, the answer is 1.',\n",
       "       'On monday Tiffany had 7 bags of cans so on tuesday she had 7 + 12 = 21 bags of cans. On the next day Tiffany found 21 bags of cans so on tuesday she had 21 + 7 = 35 bags of cans. On the next day Tiffany found 35 bags of cans so on tuesday she had 35 - 7 = 29 bags of cans. Thus, Tiffany found 29 bags more than she had on monday. Thus, the answer is 29.',\n",
       "       'Each basket has 4 red peaches and 3 green peaches for a total of 4 + 3 = 7 peaches. There are 7 peaches in all and there are 7 peaches in all so there are 7 - 7 = 2 baskets of peaches. So, the answer is 2.',\n",
       "       'There are 8 - 19 = 4 movies in the series. There are 10 - 10 = 2 movies in the series. There are 2 movies in the series more than the books. So, the answer is 2.',\n",
       "       'The previous day there were 295 visitors so that day there were 295 - 217 = 105 visitors. On that day there were 317 visitors so that means there were 105 - 295 = 57 more visitors than the previous day. So, the answer is 57.',\n",
       "       'The total number of kids who go to camp is 819058 kids - 668278 kids = 668278 kids. The number of kids who stay home is 668278 kids - 819058 kids = 668278 kids. The number of kids who spend their summer break at the camp is 668278 kids - 668258 kids = 668278 kids. The number of kids who spent their summer break at the camp is 668278 kids - 668278 kids = 668278 kids. Therefore, 668278 kids spent their summer break at the camp compared to those who stayed home is 668278 kids - 668278 kids = 668278 kids. Therefore, the answer is 668278.',\n",
       "       'Danny has 66 wrappers + 39 bottle caps = 102 wrappers. He had 102 wrappers - 16 bottle caps = 66 wrappers at first. So the answer is 66.',\n",
       "       'He had 551 crayons left after giving away or losing them so he had 551 - 177 = 427 crayons left. He got a box of crayons for his birthday so he got 427 / 2 = 177 crayons. So, the answer is 177.',\n",
       "       'Helen baked 31 cookies yesterday + 270 cookies this morning = 827 cookies this morning. Helen baked 419 cookies the day before yesterday = 419 cookies. So, Helen baked 827 cookies + 419 cookies = 1027 cookies till last night. Thus, the answer is 1027.',\n",
       "       'There were 3 + 26 = 38 bird families living near the mountain. There were 3 + 38 = 57 bird families living near the mountain. There were 2 bird families that flew away for winter, so there were 57 - 2 = 58 bird families living near the mountain. Thus, there were 58 / 3 = 21 bird families living near the mountain. Thus, the answer is 21.',\n",
       "       'They were at the carnival for 22 days, so that means they made 144 * 22 = $1,080. The ring toss game at the carnival made 144 * 2 = $1240 per day. So they made 144 * 2 = $1240 per week. So in total they made 144 * 12 = $1,080. So the answer is 1080.',\n",
       "       'Danny found 65 - 5 = 45 wrappers at the park. He has 31 - 9 = 21 bottle caps in his collection. Danny found 45 - 21 = 9 more wrappers than bottle caps at the park. So, the answer is 9.',\n",
       "       'Paul had 492 - 52 = 312 crayons left. Paul lost 535 - 52 = 426 crayons. So, 312 - 426 = 126 crayons were lost or given away. Thus, the answer is 126.',\n",
       "       'Josh lost 9 - 23 = 2 marbles. So he lost 2 - 9 = 1 more marble than those he found. So the answer is 1.',\n",
       "       'Paco ate 5 cookies so he had 25 - 5 = 20 cookies left. He bought 3 cookies so he had 20 + 3 = 23 cookies. Paco ate 20 cookies so he had 23 - 20 = 9 cookies left. He ate 9 cookies so he had 9 - 3 = 6 more cookies. So, the answer is 6.',\n",
       "       'The grocery store had 72 - 32 = 28 bottles of regular soda. The grocery store had 78 - 78 = 8 bottles of diet soda. The grocery store had 8 - 32 = 4 bottles of regular soda. The grocery store had 8 - 4 = 4 bottles of diet soda. The grocery store had 8 - 4 = 4 bottles of regular soda. The grocery store had 4 bottles of regular soda and 8 bottles of diet soda. The grocery store had 4 bottles of regular soda and 8 bottles of diet soda. The grocery store had 4 bottles of regular soda and 8 bottles of diet soda. The grocery store had 4 bottles of regular soda and 8 bottles of diet soda. The grocery store had 4 bottles of regular soda and 8 bottles of diet soda. The grocery store had 4 bottles of regular soda and 8 bottles of diet soda. The grocery store had 4 bottles of regular soda and 8 bottles of diet soda. The grocery store had 4 bottles of regular soda and 8 bottles of diet soda. The grocery store had 4 bottles of regular soda and 8 bottles of diet soda. The grocery store had 4 bottles of regular soda and 8 bottles of diet soda. The grocery store had 4 bottles of regular soda and 8 bottles of diet soda. The grocery store had 4 bottles of regular soda and 8 bottles of diet soda. The grocery store had 4 bottles of regular soda and 8 bottles of diet soda. The grocery store had 4 bottles of regular soda and 8 bottles of diet soda. The grocery store had 4 bottles of regular soda and 8 bottles of diet soda. The grocery store had 4 bottles of regular soda and 8 bottles of diet soda. The grocery store had 4 bottles of regular soda and 8 bottles of diet soda. The grocery store had 4 bottles of regular soda and 8 bottles of diet soda. The grocery store had 4 bottles of regular soda and 8 bottles of diet soda. The grocery store had 4 bottles of regular soda and 8 bottles of diet soda. The grocery store had 4 bottles of regular soda and 8 bottles of diet soda. The grocery store had 4 bottles of regular soda and 8 bottles of diet soda. The grocery store had 4 bottles of regular soda and 8 bottles of diet soda. The grocery store had 4 bottles of regular soda and 8 bottles of diet soda. The grocery store had 4 bottles of regular soda and 8 bottles of diet soda. The grocery store had 4 bottles of regular soda and 8 bottles of diet soda. The grocery store had 4 bottles of regular soda and 8 bottles of diet soda. The grocery store',\n",
       "       'The number of girls is 569 girls / 236 boys = 108 girls / boy. The number of boys is 236 boys / 236 girls = 108 boys / girl. The number of girls is 108 girls / girl = 108 girls / boy. The number of boys is 236 boys / 236 girls = 108 boys / girl. The number of girls is 108 girls / girl = 108 girls / boy. The number of boys is 236 boys / 236 girls = 108 boys / girl. The number of girls is 108 girls / girl = 108 girls / boy. The number of boys is 236 boys / 236 girls = 108 boys / girl. The number of girls is 108 girls / girl = 108 girls / boy. The number of boys is 236 boys / 236 girls = 108 boys / girl. The number of girls is 108 girls / girl = 108 girls / boy. The number of boys is 236 boys / 236 girls = 108 boys / girl. The number of girls is 108 girls / girl = 108 girls / boy. The number of boys is 236 boys / 236 girls = 108 boys / girl. The number of girls is 108 girls / girl = 108 boys / girl. The number of boys is 236 boys / 236 girls = 108 boys / girl. The number of girls is 108 girls / girl = 108 boys / girl. The number of boys is 236 boys / 236 girls = 108 boys / girl. The number of girls is 108 girls / girl = 108 boys / girl. The number of boys is 236 boys / 236 girls = 108 boys / girl. The number of girls is 108 girls / girl = 108 boys / girl. The number of boys is 236 boys / 236 girls = 108 boys / girl. The number of girls is 108 girls / girl = 108 boys / girl. The number of boys is 236 boys / 236 girls = 108 boys / girl. The number of girls is 108 girls / girl = 108 boys / girl. The number of boys is 236 boys / 2',\n",
       "       'Lewis earns $ 403 x 233 = $1,023 during harvest season. He has to pay $ 49 x 233 = $1,049 for rent. Therefore, he earns $1,023 + $1,049 = $1,098 during harvest season. Thus, the answer is 1098.',\n",
       "       'Jessie lost 56 kg in the first week so she lost 92 - 56 = 58 kg in the second week. So she lost 58 kg - 99 kg = 58 kg in the first week. Therefore, she weighed 92 kg - 58 kg = 66 kg after the first week of jogging. Thus, the answer is 66.',\n",
       "       'The total number of girls is 362 + 257 = 427. The total number of boys is 362 - 427 = 243. The number of girls is 427 - 243 = 117. The number of girls is 117 / 2 = 62. The number of girls is 62 / 2 = 66. The number of girls is 66 / 2 = 66. The number of girls is 66 / 2 = 66. The number of girls is 66 / 2 = 66. The number of girls is 66 / 2 = 66. The number of girls is 66 / 2 = 66. The number of girls is 66 / 2 = 66. The number of girls is 66 / 2 = 66. The number of girls is 66 / 2 = 66. The number of girls is 66 / 2 = 66. The number of girls is 66 / 2 = 66. The number of girls is 66 / 2 = 66. The number of girls is 66 / 2 = 66. The number of girls is 66 / 2 = 66. The number of girls is 66 / 2 = 66. The number of girls is 66 / 2 = 66. The number of girls is 66 / 2 = 66. The number of girls is 66 / 2 = 66. The number of girls is 66 / 2 = 66. The number of girls is 66 / 2 = 66. The number of girls is 66 / 2 = 66. The number of girls is 66 / 2 = 66. The number of girls is 66 / 2 = 66. The number of girls is 66 / 2 = 66. The number of girls is 66 / 2 = 66. The number of girls is 66 / 2 = 66. The number of girls is 66 / 2 = 66. The number of girls is 66 / 2 = 66. The number of girls is 66 / 2 = 66. The number of girls is 66 / 2 = 66. The number of girls is 66 / 2 = 66. The number of girls is 66 / 2 = 66. The number of girls',\n",
       "       'Baker made 144 - 71 = 102 cakes. He made 111 + 102 = 172 cakes. Baker made 172 - 71 = 71 more cakes than those he sold. Thus, the answer is 71.',\n",
       "       'The large planks need 15 nails x 12 = 180 nails. The small planks need 5 nails x 10 = 50 nails. The total number of nails needed for the large planks and small planks is 180 + 50 = 225. The total number of nails needed for the small planks is 50 + 5 = 55. The total number of nails needed for the large planks and small planks is 225 + 55 = 255. The total number of nails needed for the house wall is 255 + 225 = 255. Thus, the answer is 255.',\n",
       "       'Edward spent 13 - 3 = 6 dollars. So he spent 6 / 3 = 2 dollars. So the answer is 2.',\n",
       "       'Jerry added 2 more action figures to the shelf, so he had 10 + 2 = 12 action figures. He removed 7 action figures from the shelf, so he had 12 - 7 = 6 action figures left. Jerry originally had 12 + 6 = 18 action figures on the shelf. So the answer is 18.',\n",
       "       'It will take 8 sacks / day * 24 oranges = 96 oranges to harvest. It will take 96 oranges / 8 sacks / day = 4 days to harvest 24 oranges. So, the answer is 4.',\n",
       "       'He got 12 + 15 = 23 customers. So he still has 12 - 23 = 6 customers left. So he got 14 + 6 = 20 customers. So he still has 6 - 20 = 2 customers left. So the answer is 2.',\n",
       "       'They harvest 66 sacks per day and each sack contains 25 oranges so that’s 66 * 25 = 2,500 oranges. They harvest 87 days and they harvest 2,500 oranges per day so that’s 275 * 87 = 62,500 oranges. The oranges are 62,500 oranges and they harvest 62,500 oranges per day so that’s 62,500 * .25 = 125,500 oranges. The oranges are 125,500 oranges and they harvest 62,500 oranges per day so that’s 125 * .25 = 125,500 oranges. The oranges are 62,500 oranges and they harvest 62,500 oranges so that’s 62,500 * .25 = 125,500 oranges. The oranges are 125,500 oranges and they harvest 125,500 oranges so that’s 125,500 * .25 = 125,500 oranges. The oranges are 125,500 oranges and they harvest 125,500 oranges so that’s 125,500 * .25 = 125,500 oranges. The oranges are 125,500 oranges and they harvest 125,500 oranges so that’s 125,500 * .25 = 125,500 oranges. The oranges are 125,500 oranges and they harvest 125,500 oranges so that’s 125,500 * .25 = 125,500 oranges. The oranges are 125,500 oranges and they harvest 125,500 oranges so that’s 125,500 * .25 = 125,500 oranges. The oranges are 125,500 oranges and they harvest 125,500 oranges so that’s 125,500 * .25 = 125,500 oranges. The oranges are 125,500 oranges and they harvest 125,500 oranges so that’s 125,500 * .25 = 125,500 oranges. The oranges are 125,500 oranges and they harvest 125,500 oranges so that’s 125,500 * .25 = 125,500 oranges. The oranges are 125,500 oranges and they harvest 125,500 oranges',\n",
       "       'The mailman gives 32 pieces of junk mail to each of the 55 blocks so that’s 32 * 55 = 1104 pieces of junk mail. He gives 8 mails to each house in a block so that’s 8 * 1104 = 884 pieces of junk mail. There are 884 pieces of junk mail in a block so there are 884 / 8 = 216 houses in a block. So, the answer is 216.',\n",
       "       'He had 253 - 70 = 204 crayons left. So, the answer is 204.',\n",
       "       'The Razorback shop made 113 * 25 = $ 375 off of t - shirts. They made 78 * 115 = $ 325 off of jerseys. So a jersey costs 325 - 375 = $ 115 more than a t - shirt. So, the answer is 115.',\n",
       "       'He earns 368 * 1359 = $ 58,028 every week. He pays 388 * 1359 = $ 58,088 as rent every week. So he pays 58,088 / 388 = $ 66,088 as rent every week. So the answer is 6680.',\n",
       "       'Jessica threw away 33 roses from the vase, so she had 15 - 33 = 7 roses left. Jessica cut 17 roses from her flower garden, so she had 17 - 17 = 3 roses left. Jessica cut 3 roses more than those she threw away. So, the answer is 3.',\n",
       "       'The pickers fill 100 drums of raspberries per day, so they fill 100 drums * 235 pickers = 450 drums of raspberries per day. The pickers fill 221 drums of grapes per day, so they fill 221 drums * 450 drums = 76 drums of grapes per day. In 77 days, the pickers will fill 77 drums * 76 drums / day = 77 drums of grapes. So, the answer is 77.',\n",
       "       'The total number of kids who went to camp is 202958 kids  100 kids = 202958. The total number of kids who stayed home is 777622 kids  100 kids = 777622. The number of kids who stayed home is 777622 kids  100 kids = 777622. The number of kids who stayed home is 777622 kids  100 kids = 777622. The number of kids who stayed home is 777622 kids  100 kids = 777622. The number of kids who stayed home is 777622 kids  100 kids = 777622. The number of kids who stayed home is 777622 kids  100 kids = 777622. The number of kids who stayed home is 777622 kids  100 kids = 777622. The number of kids who stayed home is 777622 kids  100 kids = 777622. The number of kids who stayed home is 777622 kids  100 kids = 777622. The number of kids who stayed home is 777622 kids  100 kids = 777622. The number of kids who stayed home is 777622 kids  100 kids = 777622. The number of kids who stayed home is 777622 kids  100 kids = 777622. The number of kids who stayed home is 777622 kids  100 kids = 777622. The number of kids who stayed home is 777622 kids  100 kids = 777622. The number of kids who stayed home is 777622 kids  100 kids = 777622. The number of kids who stayed home is 777622 kids  100 kids = 777622. The number of kids who stayed home is 777622 kids  100 kids = 777622. The number of kids who stayed home is 777622 kids  100 kids = 777622. The number of kids who stayed home is 777622 kids  100 kids = 777622. The number of kids who stayed home is 777622 kids  100 kids = 777622. The number of kids who stayed home',\n",
       "       'The number of birds sitting on the fence is 3 + 2 = 4. The number of storks that came to join them is 4 + 6 = 10. The number of storks that are sitting on the fence is 3 - 10 = 1. The number of storks that are sitting on the fence is 3 - 1 = 2. The number of storks that are sitting on the fence is 2 - 2 = 1. The number of storks that are sitting on the fence is 2 - 1 = 2. The number of storks that are sitting on the fence is 2 - 2 = 2. The number of storks that are sitting on the fence is 2 - 2 = 2. The number of storks that are sitting on the fence is 2 - 2 = 2. The number of storks that are sitting on the fence is 2 - 2 = 2. The number of storks that are sitting on the fence is 2 - 2 = 2. The number of storks that are sitting on the fence is 2 - 2 = 2. The number of storks that are sitting on the fence is 2 - 2 = 2. The number of storks that are sitting on the fence is 2 - 2 = 2. The number of storks that are sitting on the fence is 2 - 2 = 2. The number of storks that are sitting on the fence is 2 - 2 = 2. The number of storks that are sitting on the fence is 2 - 2 = 2. The number of storks that are sitting on the fence is 2 - 2 = 2. The number of storks that are sitting on the fence is 2 - 2 = 2. The number of storks that are sitting on the fence is 2 - 2 = 2. The number of storks that are sitting on the fence is 2 - 2 = 2. The number of storks that are sitting on the fence is 2 - 2 = 2. The number of storks that are sitting on the fence is 2 - 2 = 2. The number of storks that are sitting on the fence is 2 - 2 = 2. The number of storks that are sitting on the fence is 2 - 2 = 2. The number of storks that are sitting on the fence is 2 - 2 = 2.',\n",
       "       'The block has 6 houses so there are 6 * 6 = 36 blocks. The mailman has to give 24 pieces of junk mail to each block so he has to give 24 * 36 = 144 pieces of junk mail. Each house has 36 pieces of junk mail so he has to give 144 / 36 = 4 pieces of junk mail. So, the answer is 4.',\n",
       "       'Bryan has 9 * 10 = 90 books in his bookshelves. He has 46 * 10 = 450 magazines in his bookshelves. In total, he has 90 + 450 = 450 magazines. Thus, the answer is 450.',\n",
       "       'They made 165 / 5 = $1 per day. So they made $1 / day. So the answer is 1.',\n",
       "       'Doug lost 27 - 27 = 3 marbles. Ed found 9 + 3 = 18 marbles. Ed had 18 + 24 = 36 marbles. Ed had 36 - 3 = 27 more marbles than Doug. Thus, the answer is 27.',\n",
       "       'He needs 166 - 20 = 123 g of wax. So he needs 123 / 2 = 66 g of wax. So the answer is 66.',\n",
       "       \"Jesse's room is 7 feet long and needs a carpet of size 14 square feet so it is 7 * 14 = 84 square feet. The width of her room is 84 square feet because 14 x 84 = 84. So the answer is 84.\",\n",
       "       'Frank read 193 / 15 = 6 chapters per day. So he read 6 / 660 = 2 chapters per day. So the answer is 2.',\n",
       "       'Jessie weighed 69 kg - 35 kg = 58 kg after jogging. So, she weighs 58 kg / 2 = 29 kg after jogging. So, the answer is 29.',\n",
       "       'Lewis earns $ 1357 / week * 223 weeks = $ 6657 / season. So, he will earn $ 6657 / season * 73 harvest seasons = $ 73,057 / season. So, the answer is 73.',\n",
       "       'The Razorback t-shirt shop made $ 51 x 3 = $105 from selling 3 t - shirt. So, the cost of each t - shirt is $ 51 / 3 = $11. So, the answer is 11.',\n",
       "       'The small seats can hold 3 * 16 = 48 people. The large seats can hold 7 * 12 = 84 people. Therefore, 84 / 48 = 4 people can ride the large seats. Thus, the answer is 4.',\n",
       "       'The previous day there were 600 visitors so that day there were 600 - 600 = 300 visitors. The Buckingham palace has 39 paintings and there were 300 visitors so there were 300 * 39 = 1,080 visitors. Rachel learned that 661 visitors came to the Buckingham palace that day so that day there were 661 - 1,080 = 189 more visitors than the previous day. So, the answer is 189.',\n",
       "       'They have 12 * 14 = 216 chairs. They have 216 + 6 = 236 chairs. So the answer is 236.',\n",
       "       'If he had 16 pieces of candy, he divided it equally between 2 bags, so he had 16 / 2 = 8 pieces of candy in each bag. So, the answer is 8.',\n",
       "       'They harvested 56 sacks of oranges for a total of 56 sacks / day = 4 sacks / day. They harvested 4 sacks / day / 14 days = 2 sacks / day. So the answer is 2.',\n",
       "       'He got a box of 617 crayons and 457 erasers so that’s 617 * 4 = 2120 crayons. He only had 523 crayons left so that’s 523 - 220 = 204 crayons left. He had 204 crayons and he didn’t lose any so that’s 204 / 2 = 78 crayons left. He had 78 crayons and he didn’t lose any so that’s 78 / 2 = 21 crayons left. He had 204 crayons and he didn’t lose any so that’s 204 - 21 = 105 crayons left. He had 105 crayons and he didn’t lose any so that’s 105 - 105 = 57 crayons left. He had 57 crayons and he didn’t lose any so that’s 57 - 57 = 57 crayons left. He had 57 crayons and he didn’t lose any so that’s 57 - 57 = 57 crayons left. He had 57 crayons and he didn’t lose any so that’s 57 - 57 = 57 crayons left. He had 57 crayons and he didn’t lose any so that’s 57 - 57 = 57 crayons left. He had 57 crayons and he didn’t lose any so that’s 57 - 57 = 57 crayons left. He had 57 crayons and he didn’t lose any so that’s 57 - 57 = 57 crayons left. He had 57 crayons and he didn’t lose any so that’s 57 - 57 = 57 crayons left. He had 57 crayons and he didn’t lose any so that’s 57 - 57 = 57 crayons left. He had 57 crayons and he didn’t lose any so that’s 57 - 57 = 57 crayons left. He had 57 crayons and he didn’t lose any so that’s 57 - 57 = 57 crayons left. He had 57 crayons and he didn’t lose any so that’s 57 - 57 = 57',\n",
       "       'Mary needs 3 + 5 = 8 cups of flour. She needs 10 - 8 = 5 cups of flour. She put in 5 cups of flour. Thus, Mary put in 5 cups of flour. Thus, the answer is 5.',\n",
       "       'They harvest 74 sacks / day x 51 days = 74,080 oranges. They discard 71 sacks x 51 days = 71,080 oranges. Therefore, they will have 74,080 oranges - 71,080 oranges = 74,080 oranges left. Thus, the answer is 74.',\n",
       "       'Before the bus stop, there were 2 + 2 = 4 children on the bus. So, there are 10 - 4 = 6 children on the bus now. Therefore, there are 6 - 2 = 3 more children on the bus than there were before the bus stop. So, the answer is 3.',\n",
       "       'Frank read 249 pages / book * 3 days = 599 pages in 3 days. So he read 599 pages / day = 59 pages per day. So the answer is 59.',\n",
       "       'Dan has 2 - 3 = 1 dollar. So he bought 6 / 3 = 2 candy bars. So he bought 2 * 2 = 4 candy bars. So the answer is 4.',\n",
       "       'Allan brought 2 balloons + 4 balloons = 6 balloons to the park. Allan bought 3 balloons at the park, so he had 6 balloons + 3 balloons = 9 balloons. Jake brought 4 balloons to the park, so he brought 4 balloons / 2 = 2 balloons. Allan bought 9 balloons + 3 balloons = 18 balloons at the park. Allan had 18 balloons - 4 balloons = 9 more balloons than Jake in the park. So, the answer is 9.',\n",
       "       'Julia played with 14 - 2 = 10 kids on tuesday. She played with 8 - 8 = 4 kids on wednesday. Julia played with 10 - 4 = 6 more kids on monday than on wednesday. So, the answer is 6.',\n",
       "       'If 269 students suggested adding bacon to the menu, 330 students suggested adding mashed potatoes to the menu, or 330 / 269 = 66 students suggested mashed potatoes. If 76 students suggested tomatoes, 76 students suggested tomatoes, or 76 / 20 = 66 students suggested tomatoes. If 66 students suggested mashed potatoes, or 66 students suggested mashed potatoes, or 66 students suggested bacon, or 66 students suggested tomatoes, or 66 students suggested bacon, or 66 students suggested mashed potatoes, or 66 students suggested mashed potatoes, or 66 students suggested bacon, or 66 students suggested mashed potatoes, or 66 students suggested mashed potatoes, or 66 students suggested bacon, or 66 students suggested mashed potatoes, or 66 students suggested mashed potatoes, or 66 students suggested bacon, or 66 students suggested mashed potatoes, or 66 students suggested bacon, or 66 students suggested mashed potatoes, or 66 students suggested bacon, or 66 students suggested mashed potatoes, or 66 students suggested bacon, or 66 students suggested mashed potatoes, or 66 students suggested bacon, or 66 students suggested bacon, or 66 students suggested bacon, or 66 students suggested bacon, or 66 students suggested bacon, or 66 students suggested bacon, or 66 students suggested bacon, or 66 students suggested bacon, or 66 students suggested bacon, or 66 students suggested bacon, or 66 students suggested bacon, or 66 students suggested bacon, or 66 students suggested bacon, or 66 students suggested bacon, or 66 students suggested bacon, or 66 students suggested bacon, or 66 students suggested bacon, or 66 students suggested bacon, or 66 students suggested bacon, or 66 students suggested bacon, or 66 students suggested bacon, or 66 students suggested bacon, or 66 students suggested bacon, or 66 students suggested bacon, or 66 students suggested bacon, or 66 students suggested bacon, or 66 students suggested bacon, or 66 students suggested bacon, or 66 students suggested bacon, or 66 students suggested bacon, or 66 students suggested bacon, or 66 students suggested bacon, or 66 students suggested bacon, or 66 students suggested bacon, or 66 students suggested bacon, or 66 students suggested bacon, or 66 students suggested bacon, or 66 students suggested bacon, or 66 students suggested bacon, or 66',\n",
       "       'The total number of sacks of ripe oranges harvested per day is 44 sacks of ripe oranges / day * 4 days = 104 sacks of ripe oranges. The total number of sacks of unripe oranges harvested per day is 25 sacks of unripe oranges / day * 4 days = 125 sacks of unripe oranges. The total number of sacks of ripe oranges harvested per day is 104 sacks of ripe oranges / day * 4 days = 420 sacks of ripe oranges. The total number of sacks of ripe oranges harvested per day is 104 sacks of ripe oranges / day * 4 days = 420 sacks of ripe oranges. The total number of sacks of ripe oranges harvested per day is 420 sacks of ripe oranges / day * 4 days = 420 sacks of ripe oranges. The total number of sacks of ripe oranges harvested per day is 420 sacks of ripe oranges / day * 4 days = 420 sacks of ripe oranges. The total number of sacks of ripe oranges harvested per day is 420 sacks of ripe oranges / day * 4 days = 420 sacks of ripe oranges. The total number of sacks of ripe oranges harvested per day is 420 sacks of ripe oranges / day * 4 days = 420 sacks of ripe oranges. The total number of sacks of ripe oranges harvested per day is 420 sacks of ripe oranges / day * 4 days = 420 sacks of ripe oranges. The total number of sacks of ripe oranges harvested per day is 420 sacks of ripe oranges / day * 4 days = 420 sacks of ripe oranges. The total number of sacks of ripe oranges harvested per day is 420 sacks of ripe oranges / day * 4 days = 420 sacks of ripe',\n",
       "       'Paul got 65 crayons for his birthday. During the school year he gave 213 crayons to his friends. So, he gave away 213 - 65 = 126 crayons. Therefore, 126 - 16 = 108 crayons were lost or given away. So, the answer is 108.',\n",
       "       '43 - 21 = 28 children got off the bus. So, the answer is 28.',\n",
       "       'Robin’s hair was 20 inches long so he cut off 20 - 10 = 10 inches. His hair was 10 inches long so it was 10 - 10 = 5 inches long before he cut it. So, the answer is 5.',\n",
       "       'Mary needs to add 7 - 4 = 2 cups of sugar to the recipe. She needs to add 10 - 4 = 2 cups of flour to the recipe. Therefore, Mary needs to add 2 cups + 2 cups = 4 cups of sugar to the recipe. Thus, the answer is 4.',\n",
       "       'There were 521 - 174 = 416 pupils in the program. Therefore, there were 416 - 174 = 117 more pupils than parents in the program. So, the answer is 117.',\n",
       "       'The total number of kids that stay home is 907611 kids - 455682 kids = 455682 kids. The total number of kids that go to camp is 455682 kids - 455611 kids = 455682 kids. The total number of kids in Lawrence county is 455682 kids + 455682 kids = 6638 kids. So, the answer is 6638.',\n",
       "       'He has 12 + 53 = 81 bottle caps. So the answer is 81.',\n",
       "       'Lewis earns $ 16 x 7 = $128 during the harvest. So, the harvest lasts 1216 / $128 = 4 weeks. Thus, the answer is 4.',\n",
       "       \"Brenda's mother made 22 - 17 = 10 cookies. Each of them had 10 / 2 = 5 cookies. So the answer is 5.\",\n",
       "       'Sofia asked 324 + 374 + 128 = 528 students to suggest new food items. Sofia asked 528 students to suggest new food items. Sofia asked 528 students to suggest new food items. Sofia asked 528 students to suggest new food items. Sofia asked 528 students to suggest new food items. Sofia asked 528 students to suggest new food items. Sofia asked 528 students to suggest new food items. Sofia asked 528 students to suggest new food items. Sofia asked 528 students to suggest new food items. Sofia asked 528 students to suggest new food items. Sofia asked 528 students to suggest new food items. Sofia asked 528 students to suggest new food items. Sofia asked 528 students to suggest new food items. Sofia asked 528 students to suggest new food items. Sofia asked 528 students to suggest new food items. Sofia asked 528 students to suggest new food items. Sofia asked 528 students to suggest new food items. Sofia asked 528 students to suggest new food items. Sofia asked 528 students to suggest new food items. Sofia asked 528 students to suggest new food items. Sofia asked 528 students to suggest new food items. Sofia asked 528 students to suggest new food items. Sofia asked 528 students to suggest new food items. Sofia asked 528 students to suggest new food items. Sofia asked 528 students to suggest new food items. Sofia asked 528 students to suggest new food items. Sofia asked 528 students to suggest new food items. Sofia asked 528 students to suggest new food items. Sofia asked 528 students to suggest new food items. Sofia asked 528 students to suggest new food items. Sofia asked 528 students to suggest new food items. Sofia asked 528 students to suggest new food items. Sofia asked 528 students to suggest new food items. Sofia asked 528 students to suggest new food items. Sofia asked 528 students to suggest new food items. Sofia asked 528 students to suggest new food items. Sofia asked 528 students to suggest new food items. Sofia asked 528 students to suggest new food items. Sofia asked 528 students to suggest new food items. Sofia asked 528 students to suggest new food items. Sofia asked 528 students to suggest new food items. Sofia asked 528 students to suggest new food items. Sofia asked 528 students to suggest new food items. Sofia asked 528 students to suggest new food items. Sofia asked 528 students to suggest new food items. Sofia asked 528 students to suggest new',\n",
       "       'They have 11 sets of tables and each set has 13 chairs so they have 11 * 13 = 138 chairs. They have 138 chairs in the backyard. So, the answer is 138.',\n",
       "       'Dan has $ 3 left with him after he bought a candy bar for $ 2, so he had $ 3 + $ 2 = $5 left. Then, Dan had $5 - $ 2 = $3 left initially. So, the answer is 3.',\n",
       "       'The frog jumped 35 - 4 = 32 inches farther than the grasshopper. So the grasshopper jumped 35 - 32 = 22 inches farther. The grasshopper jumped 22 inches - 4 inches farther = 22 inches farther. Altogether, they jumped 22 inches + 22 inches = 44 inches. So the answer is 44.',\n",
       "       'Jerry had 5 action figures and 2 books on his shelf so he had 5 + 2 = 7 action figures on his shelf. He added 9 books to his shelf so he had 9 + 2 = 11 books on his shelf. Jerry had 11 books and 5 action figures on his shelf so he had 7 + 5 = 10 books on his shelf. Jerry had 10 books and 5 action figures on his shelf so he had 10 - 5 = 5 books more than action figures on his shelf. So, the answer is 5.',\n",
       "       'If mom buys 39 white t - shirts, she will have 39 / 13 = 3 packages. Thus, the answer is 3.',\n",
       "       'The frog jumped 39 - 19 = 29 inches farther than the grasshopper. The mouse jumped 29 - 12 = 20 inches. The mouse jumped 20 inches less than the frog. The mouse jumped 20 inches less than the frog. The mouse jumped 20 inches less than the mouse. The mouse jumped 20 inches less than the mouse. The mouse jumped 20 inches less than the mouse. The mouse jumped 20 inches less than the mouse. The mouse jumped 20 inches less than the mouse. The mouse jumped 20 inches less than the mouse. The mouse jumped 20 inches less than the mouse. The mouse jumped 20 inches less than the mouse. The mouse jumped 20 inches less than the mouse. The mouse jumped 20 inches less than the mouse. The mouse jumped 20 inches less than the mouse. The mouse jumped 20 inches less than the mouse. The mouse jumped 20 inches less than the mouse. The mouse jumped 20 inches less than the mouse. The mouse jumped 20 inches less than the mouse. The mouse jumped 20 inches less than the mouse. The mouse jumped 20 inches less than the mouse. The mouse jumped 20 inches less than the mouse. The mouse jumped 20 inches less than the mouse. The mouse jumped 20 inches less than the mouse. The mouse jumped 20 inches less than the mouse. The mouse jumped 20 inches less than the mouse. The mouse jumped 20 inches less than the mouse. The mouse jumped 20 inches less than the mouse. The mouse jumped 20 inches less than the mouse. The mouse jumped 20 inches less than the mouse. The mouse jumped 20 inches less than the mouse. The mouse jumped 20 inches less than the mouse. The mouse jumped 20 inches less than the mouse. The mouse jumped 20 inches less than the mouse. The mouse jumped 20 inches less than the mouse. The mouse jumped 20 inches less than the mouse. The mouse jumped 20 inches less than the mouse. The mouse jumped 20 inches less than the mouse. The mouse jumped 20 inches less than the mouse. The mouse jumped 20 inches less than the mouse. The mouse jumped 20 inches less than the mouse. The mouse jumped 20 inches less than the mouse. The mouse jumped 20 inches less than the mouse. The mouse jumped 20 inches less than the mouse. The mouse jumped 20 inches less than the mouse. The mouse jumped',\n",
       "       'Julia played with 12 kids on Monday and 14 kids on Tuesday for a total of 12 + 14 = 28 hours. She played tag with 28 hours / 34 hours = 6 kids on Monday. She played tag with 6 kids on Tuesday and 14 kids on Wednesday for a total of 14 + 6 = 21 kids. Altogether, Julia played with 28 kids + 21 kids = 57 kids. So, the answer is 57.',\n",
       "       'Katie has 62 new games so she has 62 * .5 = 66 new games. Her friends have 73 new games so they have 73 * .5 = 71 new games. Together they have 66 + 71 = 103 old games. They have 3 old games because 103 / 3 = 3. So, the answer is 3.',\n",
       "       'The previous day there were 191 visitors so that means there were 191 - 457 = 117 visitors the previous day. The day before that there were 457 visitors so that means there were 457 - 117 = 427 visitors the day before that. The previous day there were 117 visitors so that means there were 427 + 427 = 527 visitors the previous day. The previous day there were 245 days so that means there were 245 days - 1 day = 245 days of visitors. The day before that there were 457 visitors so that means there were 457 - 457 = 117 visitors the previous day. The day before that there were 457 visitors so that means there were 457 - 117 = 117 visitors the previous day. The day before that there were 457 visitors so that means there were 117 + 117 = 117 visitors the previous day. The day after that there were 705 visitors so that means there were 705 + 117 = 705 + 117 = 705 + 117 = 705 + 117 = 705 + 117 = 705 + 117 = 705 + 117 = 705 + 117 = 705 + 117 = 705 + 117 = 705 + 117 = 705 + 117 = 705 + 117 = 705 + 117 = 705 + 117 = 705 + 117 = 705 + 117 = 705 + 117 = 705 + 117 = 705 + 117 = 705 + 117 = 705 + 117 = 705 + 117 = 705 + 117 = 705 + 117 = 705 + 117 = 705 + 117 = 705 + 117 = 705 + 117 = 705 + 117 = 705 + 117 = 705 + 117 = 705 + 117 = 705 + 117 = 705 + 117 = 705 + 117 = 705 + 117 = 705 + 117 = 705 + 117 = 705 + 117 = 705 + 117 = 705 + 117 = 705 + 117 = 705 + 117 = 705 + 117 = 705 + 117 = 705 + 117 = 705 + 117 = 705 + 117 = 705 + 117 = 705 + 117 =',\n",
       "       'The first chapter has 66 pages so it has 66 * 1 = 176 pages. The second chapter has 35 pages so it has 35 * 1 = 70 pages. The third chapter has 24 pages so it has 24 * 1 = 72 pages. Altogether the book has 176 + 70 + 72 = 204 pages. So the answer is 204.',\n",
       "       'He had 43 apples - 2 apples = 43 apples left. So he used 43 apples / 2 apples = 21 apples. Thus, the answer is 21.',\n",
       "       'Ryan spends 6 hours / day x 2 days = 12 hours on learning english. Ryan spends 5 hours / day x 2 days = 10 hours on learning chinese. Ryan spends 12 hours x 6 hours = 96 hours on learning english. In all, Ryan spends 96 hours x 12 hours = 216 hours on learning english. So, the answer is 216.',\n",
       "       'Dave won 7 tickets at the arcade and has 2 tickets left so he won 7 - 2 = 5 tickets. Dave used 5 tickets to buy toys because 5 x 2 = 5. Thus, the answer is 5.',\n",
       "       \"Dean's height is 9 feet so the depth of the water is 10 * 9 = 90 feet. The depth of the water is 90 feet so the water is 90 / 10 = 3 feet deeper than Dean's height. So, the answer is 3.\",\n",
       "       'David did 15 + 39 = 69 push - ups. John did 69 - 9 = 69 push - ups. Zachary did 69 - 15 = 57 push - ups. Zachary did 57 more push - ups than John. So, the answer is 57.',\n",
       "       'Haley grew 13 - 6 = 5 trees that survived the typhoon. 5 - 6 = 2 trees survived the typhoon. 2 trees survived the typhoon than those that died. Thus, the answer is 2.',\n",
       "       'At the end of the school year, Paul had 521 - 66 = 412 crayons left. Since he had not lost an eraser, he had 412 - 66 = 154 crayons left. Since he had not lost an eraser, he had 154 - 66 = 154 crayons left. Since he had not lost an eraser, he had 154 - 154 = 154 crayons left. Therefore, the answer is 154.',\n",
       "       'The pickers fill 8 drums of grapes per day, so they fill 8 drums of grapes per day * 36 pickers = 96 drums of grapes per day. To fill 240 drums of grapes, it will take 240 drums of grapes / 8 drums per day = 6 days. So, the answer is 6.',\n",
       "       'Adam could fit 8 action figures on each shelf, so he could fit 8 * 4 = 32 action figures on each shelf. He could fit 10 cabinets on each shelf, so he could fit 10 * 10 = 200 cabinets on each shelf. In total, Adam could fit 32 + 200 = 240 items on his shelves. Thus, the answer is 240.',\n",
       "       'The number of birds sitting on the fence is 3 birds + 4 storks = 7 birds. The number of storks sitting on the fence is 6 storks + 7 birds = 14 storks. The total number of birds and storks sitting on the fence is 7 birds + 14 storks = 21 birds and storks. So, the answer is 21.',\n",
       "       'If there were 41 bird families living near the mountain, and 35 bird families flew away to asia, there were 41 - 35 = 9 bird families that flew away to asia. If 62 bird families flew away to africa, there were 62 - 35 = 11 bird families that flew away to africa. If 11 bird families flew away to africa, there were 11 * 62 = 126 more bird families that flew away to africa than those that flew away to asia. Thus, the answer is 126.',\n",
       "       'Mom buys 51 / 3 = 9 white t - shirts. She will have 9 / 3 = 2 packages. Thus, the answer is 2.',\n",
       "       'On Monday, Julia played with 15 kids / 2 = 10 kids. On Tuesday, she played with 18 kids / 2 = 9 kids. On Wednesday, she played with 97 kids / 2 = 91 kids. On Monday and Tuesday, Julia played with 10 kids + 9 kids = 21 kids. So, the answer is 21.',\n",
       "       'There are 315 girls and 309 boys in the school so there are 315 + 309 = 645 people in the school. There are also 772 teachers in the school so there are 645 + 772 = 1056 people in the school. So, the answer is 1056.',\n",
       "       'Dave used 5 + 11 = 17 tickets. Dave has 18 - 17 = 6 tickets left. So, the answer is 6.',\n",
       "       'There were 89 - 60 = 58 bird families that stayed behind. There were 58 - 60 = 6 bird families that flew away for the winter. 6 - 6 = 2 bird families flew away for the winter. There were 6 - 2 = 3 bird families that flew away for the winter. Thus, there were 3 - 2 = 2 more bird families that flew away for the winter than those that stayed behind. Thus, the answer is 2.',\n",
       "       'The total number of children riding on the bus is 41 - 2 = 42. The number of children riding on the bus before the bus stop is 42 / 2 = 21. So, the answer is 21.',\n",
       "       'He read 2 * 405 = 800 pages in the book. So he read 800 / 2 = 200 chapters. So he read 200 / 664 = 4 chapters per day. So the answer is 4.',\n",
       "       'If Zachary did 34 push - ups, David did 40 + 34 = 57 push - ups. David did 62 - 17 = 57 crunches. David did 57 crunches. So, the answer is 57.',\n",
       "       'Baker sold 145 cakes so he made 145 - 72 = 105 cakes. Therefore, the answer is 105.',\n",
       "       'The machine can make 3 shirts per minute, so it can make 6 / 3 = 2 shirts per minute. So it can make 2 * 3 = 6 shirts per minute. So it can make 6 / 6 = 2 shirts per minute. So it can work for 2 * 60 = 120 minutes. So the answer is 120.',\n",
       "       'He needs 353 - 57 = 322 g of wax. He needs 22 + 322 = 422 g of wax. He has 422 - 22 = 223 g of wax. He has 223 - 223 = 126 g of wax. So the answer is 126.',\n",
       "       'Mary needs to add 11 - 6 = 2 cups of sugar. She needs to add 9 - 9 = 2 cups of salt. Mary needs to add 2 cups of sugar - 2 cups of salt = 1 cup of salt. Thus, Mary needs to add 1 cup of salt - 2 cups of sugar = 1 cup of salt. Thus, the answer is 1.',\n",
       "       'Lucy bought 10 packs of cookie and 4 packs of cake for a total of 10 + 4 = 14 packs of cookies. Lucy bought 14 packs of cookies over 4 packs of cake because 14 - 4 = 14. Lucy bought 14 packs of cookies over 4 packs of cake because 14 - 4 = 14. Lucy bought 14 packs of cookies over 4 packs of cake because 14 - 4 = 14. Lucy bought 14 packs of cookies over 4 packs of cake because 14 - 4 = 14. Lucy bought 14 packs of cookies over 4 packs of cake because 14 - 4 = 14. Lucy bought 14 packs of cookies over 4 packs of cake because 14 - 4 = 14. Lucy bought 14 packs of cookies over 4 packs of cake because 14 - 4 = 14. Lucy bought 14 packs of cookies over 4 packs of cake because 14 - 4 = 14. Lucy bought 14 packs of cookies over 4 packs of cake because 14 - 4 = 14. Lucy bought 14 packs of cookies over 4 packs of cake because 14 - 4 = 14. Lucy bought 14 packs of cookies over 4 packs of cake because 14 - 4 = 14. Lucy bought 14 packs of cookies over 4 packs of cake because 14 - 4 = 14. Lucy bought 14 packs of cookies over 4 packs of cake because 14 - 4 = 14. Lucy bought 14 packs of cookies over 4 packs of cake because 14 - 4 = 14. Lucy bought 14 packs of cookies over 4 packs of cake because 14 - 4 = 14. Lucy bought 14 packs of cookies over 4 packs of cake because 14 - 4 = 14. Lucy bought 14 packs of cookies over 4 packs of cake because 14 - 4 = 14. Lucy bought 14 packs of cookies over 4 packs of cake because 14 - 4 = 14. Lucy bought 14 packs of cookies over 4 packs of cake because 14 - 4 = 14. Lucy bought 14 packs of cookies over 4 packs of cake because 14 - 4 = 14. Lucy bought 14 packs of cookies over 4 packs of cake because 14 - 4 = 14. Lucy bought 14 packs of cookie over 4 packs of cake because 14 - 4 = 14. Lucy bought 14 packs of cookie over 4 packs of cake because 14 - 4 = 14. Lucy bought 14 packs of cookie over 4 packs of cake because 14 - 4 = 14.',\n",
       "       'Steven has 4502 skittles and 4276 erasers so that’s 4502 + 4276 = 6656 skittles. Steven has 6656 erasers and 6656 skittles so that’s 6656 / 6656 = 4 groups. Each group is 4 groups so each group is 4 * 4 = 16 groups. So the answer is 16.',\n",
       "       'The carnival made 325 x 154 = $1,025 in the first 154 days. So, they made 114 x 57 = $1,057 in the remaining 57 days. Therefore, they made $1,057 / 57 = $3 per day in the remaining 57 days. So, the answer is 3.',\n",
       "       'Rachel had 5 - 2 = 3 pages of math homework. Rachel had 3 - 2 = 1 page of reading homework. Rachel had 3 - 1 = 2 pages of math homework. Rachel had 2 pages - 1 page = 1 page of reading homework. Rachel had 2 pages - 1 page = 1 page of math homework. Rachel had 2 pages - 1 page = 1 page of reading homework. Rachel had 2 pages - 1 page = 1 page of math homework. Rachel had 2 pages - 1 page = 1 page of reading homework. Rachel had 2 pages - 1 page = 1 page of math homework. Rachel had 2 pages - 1 page = 1 page of reading homework. Rachel had 2 pages - 1 page = 1 page of math homework. Rachel had 2 pages - 1 page = 1 page of reading homework. Rachel had 2 pages - 1 page = 1 page of math homework. Rachel had 2 pages - 1 page = 1 page of reading homework. Rachel had 2 pages - 1 page = 1 page of math homework. Rachel had 2 pages - 1 page = 1 page of reading homework. Rachel had 2 pages - 1 page = 1 page of math homework. Rachel had 2 pages - 1 page = 1 page of reading homework. Rachel had 2 pages - 1 page = 1 page of math homework. Rachel had 2 pages - 1 page = 1 page of reading homework. Rachel had 2 pages - 1 page = 1 page of math homework. Rachel had 2 pages - 1 page = 1 page of reading homework. Rachel had 2 pages - 1 page = 1 page of math homework. Rachel had 2 pages - 1 page = 1 page of reading homework. Rachel had 2 pages - 1 page = 1 page of math homework. Rachel had 2 pages - 1 page = 1 page of reading homework. Rachel had 2 pages - 1 page = 1 page of math homework. Rachel had 2 pages - 1 page = 1 page of reading homework. Rachel had 2 pages - 1 page = 1 page of math homework. Rachel had 2 pages - 1 page = 1 page of reading homework. Rachel had 2 pages - 1 page = 1 page of math homework. Rachel had 2 pages - 1 page = 1 page of reading homework. Rachel had 2 pages - 1 page = 1 page of math homework. Rachel had 2 pages - 1 page = 1 page of reading homework. Rachel had 2 pages - 1 page',\n",
       "       'Carol bought 6 packs of invitations, so she has 6 * 14 = 108 invitations. She bought 11 extra invitations, so she has 108 + 11 = 111 invitations. The total number of invitations she can invite is 108 + 111 = 227. Thus, the answer is 227.',\n",
       "       'The total number of red peaches is 6 peaches x 100 = 240. The total number of yellow peaches is 90 peaches x 100 = 900. The total number of green peaches is 16 peaches x 100 = 480. The total number of peaches is 240 + 900 + 480 = 480. The number of red and green peaches is 480 / 2 = 208. Thus, the answer is 208.',\n",
       "       'Jack received 4 emails in the morning and received 5 emails in the day so he received 4 + 5 = 8 emails in the day. Jack received 8 emails in the afternoon so he received 8 / 2 = 4 emails in the afternoon. So, the answer is 4.',\n",
       "       'Each guest had 14 cookies so 2 guests each had 14 cookies / 2 = 7 cookies. Each guest had 7 cookies so each guest had 7 cookies / 2 = 3 cookies. So, the answer is 3.',\n",
       "       'Debby drinks 6 bottles a day so she drinks 6 * 12 = 96 bottles a day. If she bought 12 water bottles then they would last her 12 / 6 = 2 days. So, the answer is 2.',\n",
       "       'Emily has 16 / 8 = 2 beads per necklace. She can make 2 * 8 = 16 necklaces. Thus, the answer is 16.',\n",
       "       'Jack received 4 emails in the morning, so he received 4 + 5 = 9 emails in the afternoon. Jack received 8 emails in the evening, so he received 8 + 8 = 14 emails in the afternoon and evening. Therefore, the answer is 14.',\n",
       "       'Sofia asked 310 students to suggest specific types of food and 185 students suggested adding mashed potatoes so 310 - 185 = 105 students suggested bacon. Bacon is a food and 105 students suggested adding mashed potatoes so 105 / 105 = 5 students suggested bacon. So, the answer is 5.',\n",
       "       'It will take 80 / 16 = 4 days to harvest 80 sacks of oranges. So, the answer is 4.',\n",
       "       'On monday, Julia played with 9 kids - 7 kids = 5 kids. On tuesday, Julia played with 7 kids - 5 kids = 3 kids. On Wednesday, Julia played with 96 kids - 3 kids = 108 kids. Julia played with 108 kids - 9 kids = 108 more kids on monday than on tuesday. So, the answer is 108.',\n",
       "       'Allan brought 3 balloons + 20 balls = 6 balloons. Jake brought 5 balloons + 59 balls = 105 balls. Together, they brought 6 balloons + 105 balls = 145 balloons. Therefore, the answer is 145.',\n",
       "       'Yesterday the machine made 6 x 12 = 72 shirts. Today it made 14 x 6 = 84 shirts. Altogether the machine made 72 + 84 = 144 shirts. So, the answer is 144.',\n",
       "       'They are going to go 849 - 849 = 117 feet farther. So, the answer is 117.',\n",
       "       'Allan brought 5 balloons to the park and Jake brought 6 balloons so that’s 5 + 6 = 10 balloons. Jake bought 3 more balloons at the park so that’s 3 + 3 = 5 balloons. Allan brought 5 balloons to the park and Jake brought 6 balloons so that’s 5 + 6 = 9 balloons. Then add up all the balloons to find the total number of balloons Jake brought to the park: 9 balloons + 6 balloons = 18 balloons. So, the answer is 18.',\n",
       "       'The total number of children riding on the bus is 36 children + 68 children = 126 children. The number of children that got off the bus is 126 children - 68 children = 66 children. The number of children that got on the bus is 12 children + 68 children = 108 children. The number of children that got off the bus is 126 children - 68 children = 66 children. Therefore, 66 children - 126 children = 68 children got off the bus. Thus, 68 children - 126 children = 68 children got off the bus. Therefore, 68 children - 126 children = 68 children got off the bus. Thus, 68 children - 126 children = 68 children got off the bus. Thus, 68 children - 126 children = 68 children got off the bus. Thus, 68 children - 126 children = 68 children got off the bus. Thus, 68 children - 126 children = 68 children got off the bus. Thus, 68 children - 126 children = 68 children got off the bus. Thus, 68 children - 126 children = 68 children got off the bus. Thus, 68 children - 126 children = 68 children got off the bus. Thus, 68 children - 126 children = 68 children got off the bus. Thus, 68 children - 126 children = 68 children got off the bus. Thus, 68 children - 126 children = 68 children got off the bus. Thus, 68 children - 126 children = 68 children got off the bus. Thus, 68 children - 126 children = 68 children got off the bus. Thus, 68 children - 126 children = 68 children got off the bus. Thus, 68 children - 126 children = 68 children got off the bus. Thus, 68 children - 126 children = 68 children got off the bus. Thus, 68 children - 126 children = 68 children got off the bus. Thus, 68 children - 126 children = 68 children got off the bus. Thus, 68 children - 126 children = 68 children got off the bus. Thus, 68 children - 126 children = 68 children got off the bus. Thus, 68 children ',\n",
       "       'Melissa scored 21 / 7 = 4 points in each game. So she played 21 / 4 = 6 games. Thus, the answer is 6.',\n",
       "       'Doug lost 2 more marbles than Ed, so he has 2 + 1 = 3 marbles. Ed has 19 more marbles than Doug, so he has 19 + 3 = 23 marbles. Doug lost 3 marbles at the playground. So, the answer is 23.',\n",
       "       'Ryan learns english for 7 days, so he spends 4 hours / day * 7 days = 28 hours learning english. Ryan learns chinese for 7 days, so he spends 5 hours / day * 7 days = 35 hours learning chinese. Ryan learns english and chinese for 28 hours + 35 hours = 66 hours in all. So, the answer is 66.',\n",
       "       'The ripe oranges are harvested 5 sacks / day * 4 days = 20 sacks of ripe oranges per day. The unripe oranges are harvested 74 sacks / day * 4 days = 232 sacks of unripe oranges per day. The unripe oranges are harvested 232 sacks / day * 20 sacks / day = 224 more sacks of unripe oranges than ripe oranges per day. So, the answer is 224.',\n",
       "       'The total number of children riding on the bus is 26 + 38 = 57. So, the answer is 57.',\n",
       "       'If 228 students suggested adding mashed potatoes, the number of students who suggested bacon is 337 - 228 = 129. The number of students who suggested tomatoes is 23 - 23 = 9 students. If the number of students who suggested bacon is 129, the number of students who suggested bacon is 129 - 23 = 81. The number of students who suggested tomatoes is 23 - 23 = 9 students. The number of students who suggested bacon is 81 - 9 = 63. The number of students who suggested bacon is 63 - 23 = 63. The number of students who suggested tomatoes is 23 - 23 = 63. The number of students who suggested bacon is 63 - 63 = 63. The number of students who suggested bacon is 63 - 63 = 63. The number of students who suggested tomatoes is 23 - 23 = 63. The number of students who suggested bacon is 63 - 63 = 63. The number of students who suggested tomatoes is 23 - 23 = 63. The number of students who suggested bacon is 63 - 63 = 63. The number of students who suggested tomatoes is 23 - 23 = 63. The number of students who suggested bacon is 63 - 63 = 63. The number of students who suggested tomatoes is 23 - 23 = 63. The number of students who suggested bacon is 63 - 63 = 63. The number of students who suggested tomatoes is 23 - 23 = 63. The number of students who suggested bacon is 63 - 63 = 63. The number of students who suggested tomatoes is 23 - 23 = 63. The number of students who suggested bacon is 63 - 63 = 63. The number of students who suggested tomatoes is 23 - 23 = 63. The number of students who suggested bacon is 63 - 63 = 63. The number of students who suggested tomatoes is 23 - 23 = 63. The number of students who suggested bacon is 63 - 63 = 63. The number of students who suggested tomatoes is 23 - 23 = 63. The number of students who suggested bacon is 63 - 63 = 63. The number of students who suggested tomatoes is 23 - 23 = 63. The number of students who suggested bacon is 63 - 63 =',\n",
       "       'There are 20 - 5 = 15 books in the series. So, you have already read 15 / 5 = 2 books. Thus, the answer is 2.',\n",
       "       'Debby bought 200 water bottles and 256 soda bottles for a total of 200 + 256 = 512 bottles. If she drank 312 water bottles a day, then she drank 312 * 512 = 108 water bottles a day. If she drank 4 soda bottles a day, then she drank 4 * 108 = 216 soda bottles a day. If she drank 216 soda bottles a day, then the soda bottles would last 216 / 4 = 16 days. Thus, the answer is 16.',\n",
       "       'There are 21 - 7 = 10 books in the series. There are 8 - 4 = 2 movies in the series. There are 2 - 10 = 1 movie left to watch. So the answer is 1.',\n",
       "       'The frog jumped 33 inches farther than the grasshopper, so the frog jumped 33 - 24 = 9 inches farther. The mouse jumped 5 inches less than the frog, so the mouse jumped 9 - 5 = 7 inches farther than the frog. The mouse jumped 7 inches farther than the grasshopper, so the mouse jumped 7 inches farther than the grasshopper. Thus, the answer is 7.',\n",
       "       'There are 58 classrooms / classroom * 87 classrooms = 58 classrooms. There are 58 classrooms / classroom * 2 seats per classroom = 108 seats. There are 58 classrooms / classroom * 2 seats per classroom = 216 seats. There are 108 seats / 2 seats per classroom = 108 seats. There are 108 seats / 2 seats per classroom = 108 seats. There are 108 seats / 2 seats per classroom = 108 seats. There are 108 seats / 2 seats per classroom = 108 seats. There are 108 seats / 2 seats per classroom = 108 seats. There are 108 seats / 2 seats per classroom = 108 seats. There are 108 seats / 2 seats per classroom = 108 seats. There are 108 seats / 2 seats per classroom = 108 seats. There are 108 seats / 2 seats per classroom = 108 seats. There are 108 seats / 2 seats per classroom = 108 seats. There are 108 seats / 2 seats per classroom = 108 seats. There are 108 seats / 2 seats per classroom = 108 seats. There are 108 seats / 2 seats per classroom = 108 seats. There are 108 seats / 2 seats per classroom = 108 seats. There are 108 seats / 2 seats per classroom = 108 seats. There are 108 seats / 2 seats per classroom = 108 seats. There are 108 seats / 2 seats per classroom = 108 seats. There are 108 seats / 2 seats per classroom = 108 seats. There are 108 seats / 2 seats per classroom = 108 seats. There are 108 seats / 2 seats per classroom = 108 seats. There are 108 seats / 2 seats per classroom = 108 seats. There are 108 seats / 2 seats per classroom = 108 seats. There are 108 seats / 2 seats per classroom = 108 seats. There are 108 seats / 2 seats per classroom = 108 seats. There are 108 seats / 2 seats per classroom = 108 seats. There are 108 seats / 2 seats per classroom = 108 seats. There are 108 seats / 2 seats per classroom = 108 seats. There are 108 seats / 2 seats per classroom = 108 seats. There are 108 seats ',\n",
       "       \"Marco's strawberries weighed 22 pounds. Marco's dad found 30 pounds of strawberries. Together, Marco's and his dad's strawberries weighed 22 + 30 = 46 pounds. Marco's strawberries weighed 46 pounds. Marco's dad's strawberries weighed 46 pounds. So, the answer is 46.\",\n",
       "       'Haley gave 10 / 5 = 2 marbles to each boy. So she gave 2 * 5 = 10 marbles to each boy. Therefore, she gave 10 + 2 = 12 marbles to each boy. Therefore, she gave 12 / 5 = 2 boys marbles. Thus, the answer is 2.',\n",
       "       'If 166 more students suggested adding bacon than those that suggested mashed potatoes, then 182 + 166 = 196 students suggested adding bacon to the menu. The total number of students that suggested bacon is 196 + 182 = 276. So, the answer is 276.',\n",
       "       'Jerry added 7 more action figures to the shelf, so there are 10 + 7 = 17 action figures on the shelf. Jerry originally had 17 + 7 = 23 action figures on the shelf. So the answer is 23.',\n",
       "       'John would use 11 - 8 = 6 nails to secure the planks. So he would need 6 / 3 = 2 planks. So the answer is 2.',\n",
       "       'Josh found 13 + 5 = 17 marbles. So, he has 22 - 17 = 11 marbles left. Thus, the answer is 11.',\n",
       "       'Paco had 13 - 2 = 9 cookies left. He bought 36 - 9 = 32 more cookies. Paco bought 32 - 9 = 22 more cookies than those he ate. So, the answer is 22.',\n",
       "       'The number of children riding on the bus before the bus stop is 41 - 18 = 38. The number of children riding on the bus before the bus stop is 38 - 18 = 21. The number of children riding on the bus before the bus stop is 21 - 18 = 6 children. The number of children riding on the bus before the bus stop is 6 - 18 = 3 children. The number of children riding on the bus before the bus stop is 3 - 18 = 2 children. The number of children riding on the bus before the bus stop is 2 - 3 = 1 children. The number of children riding on the bus before the bus stop is 2 - 1 = 1 children. The number of children riding on the bus before the bus stop is 1 + 1 = 2 children. The number of children riding on the bus before the bus stop is 2 - 2 = 1 children. The number of children riding on the bus before the bus stop is 2 - 1 = 1 children. The number of children riding on the bus before the bus stop is 1 + 1 = 2 children. The number of children riding on the bus before the bus stop is 2 - 2 = 1 children. The number of children riding on the bus before the bus stop is 2 - 1 = 1 children. The number of children riding on the bus before the bus stop is 2 - 1 = 1 children. The number of children riding on the bus before the bus stop is 2 - 1 = 1 children. The number of children riding on the bus before the bus stop is 2 - 1 = 1 children. The number of children riding on the bus before the bus stop is 2 - 1 = 1 children. The number of children riding on the bus before the bus stop is 2 - 1 = 1 children. The number of children riding on the bus before the bus stop is 2 - 1 = 1 children. The number of children riding on the bus before the bus stop is 2 - 1 = 1 children. The number of children riding on the bus before the bus stop is 2 - 1 = 1 children. The number of children riding on the bus before the bus stop is 2 - 1 = 1 children. The number of children riding on the bus before the bus stop is 2 - 1 = 1 children. The number of children riding on the bus before the bus stop is 2 - 1 = 1 children. The number of children riding on the bus before the bus stop',\n",
       "       'Adam has 9 + 3 = 13 apples. Jackie has 13 - 9 = 2 apples. So the answer is 2.',\n",
       "       'If mom buys 28 packages, each package has 56 / 28 = 2 white t - shirts. Since each package has 2 white t - shirts, each package has 2 * 2 = 4 white t - shirts. Thus, the answer is 4.',\n",
       "       'Dan spent $ 4 on candy bar and $ 6 on chocolate. So, he spent $ 4 + $ 7 = $12 on candy bar and chocolate. Therefore, the answer is 12.',\n",
       "       'He had 25 bottle caps in his collection earlier so that leaves 25 - 32 = 8 bottle caps. He found 8 bottle caps at the park because 32 - 8 = 8. Thus, the answer is 8.',\n",
       "       'Matthew gave 36 / 6 = 6 crackers to each of his friends. So he gave 6 * 6 = 36 crackers to his friends. Thus, Matthew gave crackers to 36 / 6 = 6 friends. Thus, the answer is 6.',\n",
       "       'Jessie lost 114 - 50 = 78 kilograms in the first week. She lost 78 - 60 = 58 kilograms in the second week. So, she lost 78 - 58 = 58 kilograms in the first week. Therefore, Jessie weighs 114 - 58 = 58 kilograms now. So, the answer is 58.',\n",
       "       'Dan spent 2 + 3 = $5 on candy. So, he spent 5 - 5 = $2 on chocolate. Therefore, Dan spent $2 - $5 = $1 more on chocolate than he did on candy. Thus, the answer is 1.',\n",
       "       'On monday Tiffany had 7 bags of cans so on tuesday she had 7 + 12 = 21 bags of cans. On the next day Tiffany found 21 bags of cans so on tuesday she had 21 + 7 = 35 bags of cans. On the next day Tiffany found 35 bags of cans so on tuesday she had 35 - 7 = 29 bags of cans. Thus, Tiffany found 29 bags more than she had on monday. Thus, the answer is 29.',\n",
       "       'Each basket has 4 red peaches and 3 green peaches for a total of 4 + 3 = 7 peaches. There are 7 peaches in all and there are 7 peaches in all so there are 7 - 7 = 2 baskets of peaches. So, the answer is 2.',\n",
       "       'There are 8 - 19 = 4 movies in the series. There are 10 - 10 = 2 movies in the series. There are 2 movies in the series more than the books. So, the answer is 2.',\n",
       "       'The previous day there were 295 visitors so that day there were 295 - 217 = 105 visitors. On that day there were 317 visitors so that means there were 105 - 295 = 57 more visitors than the previous day. So, the answer is 57.',\n",
       "       'The total number of kids who go to camp is 819058 kids - 668278 kids = 668278 kids. The number of kids who stay home is 668278 kids - 819058 kids = 668278 kids. The number of kids who spend their summer break at the camp is 668278 kids - 668258 kids = 668278 kids. The number of kids who spent their summer break at the camp is 668278 kids - 668278 kids = 668278 kids. Therefore, 668278 kids spent their summer break at the camp compared to those who stayed home is 668278 kids - 668278 kids = 668278 kids. Therefore, the answer is 668278.',\n",
       "       'Danny has 66 wrappers + 39 bottle caps = 102 wrappers. He had 102 wrappers - 16 bottle caps = 66 wrappers at first. So the answer is 66.',\n",
       "       'He had 551 crayons left after giving away or losing them so he had 551 - 177 = 427 crayons left. He got a box of crayons for his birthday so he got 427 / 2 = 177 crayons. So, the answer is 177.',\n",
       "       'Helen baked 31 cookies yesterday + 270 cookies this morning = 827 cookies this morning. Helen baked 419 cookies the day before yesterday = 419 cookies. So, Helen baked 827 cookies + 419 cookies = 1027 cookies till last night. Thus, the answer is 1027.',\n",
       "       'There were 3 + 26 = 38 bird families living near the mountain. There were 3 + 38 = 57 bird families living near the mountain. There were 2 bird families that flew away for winter, so there were 57 - 2 = 58 bird families living near the mountain. Thus, there were 58 / 3 = 21 bird families living near the mountain. Thus, the answer is 21.',\n",
       "       'They were at the carnival for 22 days, so that means they made 144 * 22 = $1,080. The ring toss game at the carnival made 144 * 2 = $1240 per day. So they made 144 * 2 = $1240 per week. So in total they made 144 * 12 = $1,080. So the answer is 1080.',\n",
       "       'Danny found 65 - 5 = 45 wrappers at the park. He has 31 - 9 = 21 bottle caps in his collection. Danny found 45 - 21 = 9 more wrappers than bottle caps at the park. So, the answer is 9.',\n",
       "       'Paul had 492 - 52 = 312 crayons left. Paul lost 535 - 52 = 426 crayons. So, 312 - 426 = 126 crayons were lost or given away. Thus, the answer is 126.',\n",
       "       'Josh lost 9 - 23 = 2 marbles. So he lost 2 - 9 = 1 more marble than those he found. So the answer is 1.',\n",
       "       'Paco ate 5 cookies so he had 25 - 5 = 20 cookies left. He bought 3 cookies so he had 20 + 3 = 23 cookies. Paco ate 20 cookies so he had 23 - 20 = 9 cookies left. He ate 9 cookies so he had 9 - 3 = 6 more cookies. So, the answer is 6.',\n",
       "       'The grocery store had 72 - 32 = 28 bottles of regular soda. The grocery store had 78 - 78 = 8 bottles of diet soda. The grocery store had 8 - 32 = 4 bottles of regular soda. The grocery store had 8 - 4 = 4 bottles of diet soda. The grocery store had 8 - 4 = 4 bottles of regular soda. The grocery store had 4 bottles of regular soda and 8 bottles of diet soda. The grocery store had 4 bottles of regular soda and 8 bottles of diet soda. The grocery store had 4 bottles of regular soda and 8 bottles of diet soda. The grocery store had 4 bottles of regular soda and 8 bottles of diet soda. The grocery store had 4 bottles of regular soda and 8 bottles of diet soda. The grocery store had 4 bottles of regular soda and 8 bottles of diet soda. The grocery store had 4 bottles of regular soda and 8 bottles of diet soda. The grocery store had 4 bottles of regular soda and 8 bottles of diet soda. The grocery store had 4 bottles of regular soda and 8 bottles of diet soda. The grocery store had 4 bottles of regular soda and 8 bottles of diet soda. The grocery store had 4 bottles of regular soda and 8 bottles of diet soda. The grocery store had 4 bottles of regular soda and 8 bottles of diet soda. The grocery store had 4 bottles of regular soda and 8 bottles of diet soda. The grocery store had 4 bottles of regular soda and 8 bottles of diet soda. The grocery store had 4 bottles of regular soda and 8 bottles of diet soda. The grocery store had 4 bottles of regular soda and 8 bottles of diet soda. The grocery store had 4 bottles of regular soda and 8 bottles of diet soda. The grocery store had 4 bottles of regular soda and 8 bottles of diet soda. The grocery store had 4 bottles of regular soda and 8 bottles of diet soda. The grocery store had 4 bottles of regular soda and 8 bottles of diet soda. The grocery store had 4 bottles of regular soda and 8 bottles of diet soda. The grocery store had 4 bottles of regular soda and 8 bottles of diet soda. The grocery store had 4 bottles of regular soda and 8 bottles of diet soda. The grocery store had 4 bottles of regular soda and 8 bottles of diet soda. The grocery store had 4 bottles of regular soda and 8 bottles of diet soda. The grocery store had 4 bottles of regular soda and 8 bottles of diet soda. The grocery store had 4 bottles of regular soda and 8 bottles of diet soda. The grocery store',\n",
       "       'The number of girls is 569 girls / 236 boys = 108 girls / boy. The number of boys is 236 boys / 236 girls = 108 boys / girl. The number of girls is 108 girls / girl = 108 girls / boy. The number of boys is 236 boys / 236 girls = 108 boys / girl. The number of girls is 108 girls / girl = 108 girls / boy. The number of boys is 236 boys / 236 girls = 108 boys / girl. The number of girls is 108 girls / girl = 108 girls / boy. The number of boys is 236 boys / 236 girls = 108 boys / girl. The number of girls is 108 girls / girl = 108 girls / boy. The number of boys is 236 boys / 236 girls = 108 boys / girl. The number of girls is 108 girls / girl = 108 girls / boy. The number of boys is 236 boys / 236 girls = 108 boys / girl. The number of girls is 108 girls / girl = 108 girls / boy. The number of boys is 236 boys / 236 girls = 108 boys / girl. The number of girls is 108 girls / girl = 108 boys / girl. The number of boys is 236 boys / 236 girls = 108 boys / girl. The number of girls is 108 girls / girl = 108 boys / girl. The number of boys is 236 boys / 236 girls = 108 boys / girl. The number of girls is 108 girls / girl = 108 boys / girl. The number of boys is 236 boys / 236 girls = 108 boys / girl. The number of girls is 108 girls / girl = 108 boys / girl. The number of boys is 236 boys / 236 girls = 108 boys / girl. The number of girls is 108 girls / girl = 108 boys / girl. The number of boys is 236 boys / 236 girls = 108 boys / girl. The number of girls is 108 girls / girl = 108 boys / girl. The number of boys is 236 boys / 2',\n",
       "       'Lewis earns $ 403 x 233 = $1,023 during harvest season. He has to pay $ 49 x 233 = $1,049 for rent. Therefore, he earns $1,023 + $1,049 = $1,098 during harvest season. Thus, the answer is 1098.',\n",
       "       'Jessie lost 56 kg in the first week so she lost 92 - 56 = 58 kg in the second week. So she lost 58 kg - 99 kg = 58 kg in the first week. Therefore, she weighed 92 kg - 58 kg = 66 kg after the first week of jogging. Thus, the answer is 66.',\n",
       "       'The total number of girls is 362 + 257 = 427. The total number of boys is 362 - 427 = 243. The number of girls is 427 - 243 = 117. The number of girls is 117 / 2 = 62. The number of girls is 62 / 2 = 66. The number of girls is 66 / 2 = 66. The number of girls is 66 / 2 = 66. The number of girls is 66 / 2 = 66. The number of girls is 66 / 2 = 66. The number of girls is 66 / 2 = 66. The number of girls is 66 / 2 = 66. The number of girls is 66 / 2 = 66. The number of girls is 66 / 2 = 66. The number of girls is 66 / 2 = 66. The number of girls is 66 / 2 = 66. The number of girls is 66 / 2 = 66. The number of girls is 66 / 2 = 66. The number of girls is 66 / 2 = 66. The number of girls is 66 / 2 = 66. The number of girls is 66 / 2 = 66. The number of girls is 66 / 2 = 66. The number of girls is 66 / 2 = 66. The number of girls is 66 / 2 = 66. The number of girls is 66 / 2 = 66. The number of girls is 66 / 2 = 66. The number of girls is 66 / 2 = 66. The number of girls is 66 / 2 = 66. The number of girls is 66 / 2 = 66. The number of girls is 66 / 2 = 66. The number of girls is 66 / 2 = 66. The number of girls is 66 / 2 = 66. The number of girls is 66 / 2 = 66. The number of girls is 66 / 2 = 66. The number of girls is 66 / 2 = 66. The number of girls is 66 / 2 = 66. The number of girls is 66 / 2 = 66. The number of girls',\n",
       "       'Baker made 144 - 71 = 102 cakes. He made 111 + 102 = 172 cakes. Baker made 172 - 71 = 71 more cakes than those he sold. Thus, the answer is 71.',\n",
       "       'The large planks need 15 nails x 12 = 180 nails. The small planks need 5 nails x 10 = 50 nails. The total number of nails needed for the large planks and small planks is 180 + 50 = 225. The total number of nails needed for the small planks is 50 + 5 = 55. The total number of nails needed for the large planks and small planks is 225 + 55 = 255. The total number of nails needed for the house wall is 255 + 225 = 255. Thus, the answer is 255.',\n",
       "       'Edward spent 13 - 3 = 6 dollars. So he spent 6 / 3 = 2 dollars. So the answer is 2.',\n",
       "       'Jerry added 2 more action figures to the shelf, so he had 10 + 2 = 12 action figures. He removed 7 action figures from the shelf, so he had 12 - 7 = 6 action figures left. Jerry originally had 12 + 6 = 18 action figures on the shelf. So the answer is 18.',\n",
       "       'It will take 8 sacks / day * 24 oranges = 96 oranges to harvest. It will take 96 oranges / 8 sacks / day = 4 days to harvest 24 oranges. So, the answer is 4.',\n",
       "       'He got 12 + 15 = 23 customers. So he still has 12 - 23 = 6 customers left. So he got 14 + 6 = 20 customers. So he still has 6 - 20 = 2 customers left. So the answer is 2.',\n",
       "       'They harvest 66 sacks per day and each sack contains 25 oranges so that’s 66 * 25 = 2,500 oranges. They harvest 87 days and they harvest 2,500 oranges per day so that’s 275 * 87 = 62,500 oranges. The oranges are 62,500 oranges and they harvest 62,500 oranges per day so that’s 62,500 * .25 = 125,500 oranges. The oranges are 125,500 oranges and they harvest 62,500 oranges per day so that’s 125 * .25 = 125,500 oranges. The oranges are 62,500 oranges and they harvest 62,500 oranges so that’s 62,500 * .25 = 125,500 oranges. The oranges are 125,500 oranges and they harvest 125,500 oranges so that’s 125,500 * .25 = 125,500 oranges. The oranges are 125,500 oranges and they harvest 125,500 oranges so that’s 125,500 * .25 = 125,500 oranges. The oranges are 125,500 oranges and they harvest 125,500 oranges so that’s 125,500 * .25 = 125,500 oranges. The oranges are 125,500 oranges and they harvest 125,500 oranges so that’s 125,500 * .25 = 125,500 oranges. The oranges are 125,500 oranges and they harvest 125,500 oranges so that’s 125,500 * .25 = 125,500 oranges. The oranges are 125,500 oranges and they harvest 125,500 oranges so that’s 125,500 * .25 = 125,500 oranges. The oranges are 125,500 oranges and they harvest 125,500 oranges so that’s 125,500 * .25 = 125,500 oranges. The oranges are 125,500 oranges and they harvest 125,500 oranges so that’s 125,500 * .25 = 125,500 oranges. The oranges are 125,500 oranges and they harvest 125,500 oranges',\n",
       "       'The mailman gives 32 pieces of junk mail to each of the 55 blocks so that’s 32 * 55 = 1104 pieces of junk mail. He gives 8 mails to each house in a block so that’s 8 * 1104 = 884 pieces of junk mail. There are 884 pieces of junk mail in a block so there are 884 / 8 = 216 houses in a block. So, the answer is 216.',\n",
       "       'He had 253 - 70 = 204 crayons left. So, the answer is 204.',\n",
       "       'The Razorback shop made 113 * 25 = $ 375 off of t - shirts. They made 78 * 115 = $ 325 off of jerseys. So a jersey costs 325 - 375 = $ 115 more than a t - shirt. So, the answer is 115.',\n",
       "       'He earns 368 * 1359 = $ 58,028 every week. He pays 388 * 1359 = $ 58,088 as rent every week. So he pays 58,088 / 388 = $ 66,088 as rent every week. So the answer is 6680.',\n",
       "       'Jessica threw away 33 roses from the vase, so she had 15 - 33 = 7 roses left. Jessica cut 17 roses from her flower garden, so she had 17 - 17 = 3 roses left. Jessica cut 3 roses more than those she threw away. So, the answer is 3.',\n",
       "       'The pickers fill 100 drums of raspberries per day, so they fill 100 drums * 235 pickers = 450 drums of raspberries per day. The pickers fill 221 drums of grapes per day, so they fill 221 drums * 450 drums = 76 drums of grapes per day. In 77 days, the pickers will fill 77 drums * 76 drums / day = 77 drums of grapes. So, the answer is 77.',\n",
       "       'The total number of kids who went to camp is 202958 kids  100 kids = 202958. The total number of kids who stayed home is 777622 kids  100 kids = 777622. The number of kids who stayed home is 777622 kids  100 kids = 777622. The number of kids who stayed home is 777622 kids  100 kids = 777622. The number of kids who stayed home is 777622 kids  100 kids = 777622. The number of kids who stayed home is 777622 kids  100 kids = 777622. The number of kids who stayed home is 777622 kids  100 kids = 777622. The number of kids who stayed home is 777622 kids  100 kids = 777622. The number of kids who stayed home is 777622 kids  100 kids = 777622. The number of kids who stayed home is 777622 kids  100 kids = 777622. The number of kids who stayed home is 777622 kids  100 kids = 777622. The number of kids who stayed home is 777622 kids  100 kids = 777622. The number of kids who stayed home is 777622 kids  100 kids = 777622. The number of kids who stayed home is 777622 kids  100 kids = 777622. The number of kids who stayed home is 777622 kids  100 kids = 777622. The number of kids who stayed home is 777622 kids  100 kids = 777622. The number of kids who stayed home is 777622 kids  100 kids = 777622. The number of kids who stayed home is 777622 kids  100 kids = 777622. The number of kids who stayed home is 777622 kids  100 kids = 777622. The number of kids who stayed home is 777622 kids  100 kids = 777622. The number of kids who stayed home is 777622 kids  100 kids = 777622. The number of kids who stayed home',\n",
       "       'The number of birds sitting on the fence is 3 + 2 = 4. The number of storks that came to join them is 4 + 6 = 10. The number of storks that are sitting on the fence is 3 - 10 = 1. The number of storks that are sitting on the fence is 3 - 1 = 2. The number of storks that are sitting on the fence is 2 - 2 = 1. The number of storks that are sitting on the fence is 2 - 1 = 2. The number of storks that are sitting on the fence is 2 - 2 = 2. The number of storks that are sitting on the fence is 2 - 2 = 2. The number of storks that are sitting on the fence is 2 - 2 = 2. The number of storks that are sitting on the fence is 2 - 2 = 2. The number of storks that are sitting on the fence is 2 - 2 = 2. The number of storks that are sitting on the fence is 2 - 2 = 2. The number of storks that are sitting on the fence is 2 - 2 = 2. The number of storks that are sitting on the fence is 2 - 2 = 2. The number of storks that are sitting on the fence is 2 - 2 = 2. The number of storks that are sitting on the fence is 2 - 2 = 2. The number of storks that are sitting on the fence is 2 - 2 = 2. The number of storks that are sitting on the fence is 2 - 2 = 2. The number of storks that are sitting on the fence is 2 - 2 = 2. The number of storks that are sitting on the fence is 2 - 2 = 2. The number of storks that are sitting on the fence is 2 - 2 = 2. The number of storks that are sitting on the fence is 2 - 2 = 2. The number of storks that are sitting on the fence is 2 - 2 = 2. The number of storks that are sitting on the fence is 2 - 2 = 2. The number of storks that are sitting on the fence is 2 - 2 = 2. The number of storks that are sitting on the fence is 2 - 2 = 2.',\n",
       "       'The block has 6 houses so there are 6 * 6 = 36 blocks. The mailman has to give 24 pieces of junk mail to each block so he has to give 24 * 36 = 144 pieces of junk mail. Each house has 36 pieces of junk mail so he has to give 144 / 36 = 4 pieces of junk mail. So, the answer is 4.',\n",
       "       'Bryan has 9 * 10 = 90 books in his bookshelves. He has 46 * 10 = 450 magazines in his bookshelves. In total, he has 90 + 450 = 450 magazines. Thus, the answer is 450.',\n",
       "       'They made 165 / 5 = $1 per day. So they made $1 / day. So the answer is 1.',\n",
       "       'Doug lost 27 - 27 = 3 marbles. Ed found 9 + 3 = 18 marbles. Ed had 18 + 24 = 36 marbles. Ed had 36 - 3 = 27 more marbles than Doug. Thus, the answer is 27.',\n",
       "       'He needs 166 - 20 = 123 g of wax. So he needs 123 / 2 = 66 g of wax. So the answer is 66.',\n",
       "       \"Jesse's room is 7 feet long and needs a carpet of size 14 square feet so it is 7 * 14 = 84 square feet. The width of her room is 84 square feet because 14 x 84 = 84. So the answer is 84.\",\n",
       "       'Frank read 193 / 15 = 6 chapters per day. So he read 6 / 660 = 2 chapters per day. So the answer is 2.',\n",
       "       'Jessie weighed 69 kg - 35 kg = 58 kg after jogging. So, she weighs 58 kg / 2 = 29 kg after jogging. So, the answer is 29.',\n",
       "       'Lewis earns $ 1357 / week * 223 weeks = $ 6657 / season. So, he will earn $ 6657 / season * 73 harvest seasons = $ 73,057 / season. So, the answer is 73.',\n",
       "       'The Razorback t-shirt shop made $ 51 x 3 = $105 from selling 3 t - shirt. So, the cost of each t - shirt is $ 51 / 3 = $11. So, the answer is 11.',\n",
       "       'The small seats can hold 3 * 16 = 48 people. The large seats can hold 7 * 12 = 84 people. Therefore, 84 / 48 = 4 people can ride the large seats. Thus, the answer is 4.',\n",
       "       'The previous day there were 600 visitors so that day there were 600 - 600 = 300 visitors. The Buckingham palace has 39 paintings and there were 300 visitors so there were 300 * 39 = 1,080 visitors. Rachel learned that 661 visitors came to the Buckingham palace that day so that day there were 661 - 1,080 = 189 more visitors than the previous day. So, the answer is 189.',\n",
       "       'They have 12 * 14 = 216 chairs. They have 216 + 6 = 236 chairs. So the answer is 236.',\n",
       "       'If he had 16 pieces of candy, he divided it equally between 2 bags, so he had 16 / 2 = 8 pieces of candy in each bag. So, the answer is 8.',\n",
       "       'They harvested 56 sacks of oranges for a total of 56 sacks / day = 4 sacks / day. They harvested 4 sacks / day / 14 days = 2 sacks / day. So the answer is 2.',\n",
       "       'He got a box of 617 crayons and 457 erasers so that’s 617 * 4 = 2120 crayons. He only had 523 crayons left so that’s 523 - 220 = 204 crayons left. He had 204 crayons and he didn’t lose any so that’s 204 / 2 = 78 crayons left. He had 78 crayons and he didn’t lose any so that’s 78 / 2 = 21 crayons left. He had 204 crayons and he didn’t lose any so that’s 204 - 21 = 105 crayons left. He had 105 crayons and he didn’t lose any so that’s 105 - 105 = 57 crayons left. He had 57 crayons and he didn’t lose any so that’s 57 - 57 = 57 crayons left. He had 57 crayons and he didn’t lose any so that’s 57 - 57 = 57 crayons left. He had 57 crayons and he didn’t lose any so that’s 57 - 57 = 57 crayons left. He had 57 crayons and he didn’t lose any so that’s 57 - 57 = 57 crayons left. He had 57 crayons and he didn’t lose any so that’s 57 - 57 = 57 crayons left. He had 57 crayons and he didn’t lose any so that’s 57 - 57 = 57 crayons left. He had 57 crayons and he didn’t lose any so that’s 57 - 57 = 57 crayons left. He had 57 crayons and he didn’t lose any so that’s 57 - 57 = 57 crayons left. He had 57 crayons and he didn’t lose any so that’s 57 - 57 = 57 crayons left. He had 57 crayons and he didn’t lose any so that’s 57 - 57 = 57 crayons left. He had 57 crayons and he didn’t lose any so that’s 57 - 57 = 57',\n",
       "       'Mary needs 3 + 5 = 8 cups of flour. She needs 10 - 8 = 5 cups of flour. She put in 5 cups of flour. Thus, Mary put in 5 cups of flour. Thus, the answer is 5.',\n",
       "       'They harvest 74 sacks / day x 51 days = 74,080 oranges. They discard 71 sacks x 51 days = 71,080 oranges. Therefore, they will have 74,080 oranges - 71,080 oranges = 74,080 oranges left. Thus, the answer is 74.',\n",
       "       'Before the bus stop, there were 2 + 2 = 4 children on the bus. So, there are 10 - 4 = 6 children on the bus now. Therefore, there are 6 - 2 = 3 more children on the bus than there were before the bus stop. So, the answer is 3.',\n",
       "       'Frank read 249 pages / book * 3 days = 599 pages in 3 days. So he read 599 pages / day = 59 pages per day. So the answer is 59.',\n",
       "       'Dan has 2 - 3 = 1 dollar. So he bought 6 / 3 = 2 candy bars. So he bought 2 * 2 = 4 candy bars. So the answer is 4.',\n",
       "       'Allan brought 2 balloons + 4 balloons = 6 balloons to the park. Allan bought 3 balloons at the park, so he had 6 balloons + 3 balloons = 9 balloons. Jake brought 4 balloons to the park, so he brought 4 balloons / 2 = 2 balloons. Allan bought 9 balloons + 3 balloons = 18 balloons at the park. Allan had 18 balloons - 4 balloons = 9 more balloons than Jake in the park. So, the answer is 9.',\n",
       "       'Julia played with 14 - 2 = 10 kids on tuesday. She played with 8 - 8 = 4 kids on wednesday. Julia played with 10 - 4 = 6 more kids on monday than on wednesday. So, the answer is 6.',\n",
       "       'If 269 students suggested adding bacon to the menu, 330 students suggested adding mashed potatoes to the menu, or 330 / 269 = 66 students suggested mashed potatoes. If 76 students suggested tomatoes, 76 students suggested tomatoes, or 76 / 20 = 66 students suggested tomatoes. If 66 students suggested mashed potatoes, or 66 students suggested mashed potatoes, or 66 students suggested bacon, or 66 students suggested tomatoes, or 66 students suggested bacon, or 66 students suggested mashed potatoes, or 66 students suggested mashed potatoes, or 66 students suggested bacon, or 66 students suggested mashed potatoes, or 66 students suggested mashed potatoes, or 66 students suggested bacon, or 66 students suggested mashed potatoes, or 66 students suggested mashed potatoes, or 66 students suggested bacon, or 66 students suggested mashed potatoes, or 66 students suggested bacon, or 66 students suggested mashed potatoes, or 66 students suggested bacon, or 66 students suggested mashed potatoes, or 66 students suggested bacon, or 66 students suggested mashed potatoes, or 66 students suggested bacon, or 66 students suggested bacon, or 66 students suggested bacon, or 66 students suggested bacon, or 66 students suggested bacon, or 66 students suggested bacon, or 66 students suggested bacon, or 66 students suggested bacon, or 66 students suggested bacon, or 66 students suggested bacon, or 66 students suggested bacon, or 66 students suggested bacon, or 66 students suggested bacon, or 66 students suggested bacon, or 66 students suggested bacon, or 66 students suggested bacon, or 66 students suggested bacon, or 66 students suggested bacon, or 66 students suggested bacon, or 66 students suggested bacon, or 66 students suggested bacon, or 66 students suggested bacon, or 66 students suggested bacon, or 66 students suggested bacon, or 66 students suggested bacon, or 66 students suggested bacon, or 66 students suggested bacon, or 66 students suggested bacon, or 66 students suggested bacon, or 66 students suggested bacon, or 66 students suggested bacon, or 66 students suggested bacon, or 66 students suggested bacon, or 66 students suggested bacon, or 66 students suggested bacon, or 66 students suggested bacon, or 66 students suggested bacon, or 66 students suggested bacon, or 66 students suggested bacon, or 66',\n",
       "       'The total number of sacks of ripe oranges harvested per day is 44 sacks of ripe oranges / day * 4 days = 104 sacks of ripe oranges. The total number of sacks of unripe oranges harvested per day is 25 sacks of unripe oranges / day * 4 days = 125 sacks of unripe oranges. The total number of sacks of ripe oranges harvested per day is 104 sacks of ripe oranges / day * 4 days = 420 sacks of ripe oranges. The total number of sacks of ripe oranges harvested per day is 104 sacks of ripe oranges / day * 4 days = 420 sacks of ripe oranges. The total number of sacks of ripe oranges harvested per day is 420 sacks of ripe oranges / day * 4 days = 420 sacks of ripe oranges. The total number of sacks of ripe oranges harvested per day is 420 sacks of ripe oranges / day * 4 days = 420 sacks of ripe oranges. The total number of sacks of ripe oranges harvested per day is 420 sacks of ripe oranges / day * 4 days = 420 sacks of ripe oranges. The total number of sacks of ripe oranges harvested per day is 420 sacks of ripe oranges / day * 4 days = 420 sacks of ripe oranges. The total number of sacks of ripe oranges harvested per day is 420 sacks of ripe oranges / day * 4 days = 420 sacks of ripe oranges. The total number of sacks of ripe oranges harvested per day is 420 sacks of ripe oranges / day * 4 days = 420 sacks of ripe oranges. The total number of sacks of ripe oranges harvested per day is 420 sacks of ripe oranges / day * 4 days = 420 sacks of ripe',\n",
       "       'Paul got 65 crayons for his birthday. During the school year he gave 213 crayons to his friends. So, he gave away 213 - 65 = 126 crayons. Therefore, 126 - 16 = 108 crayons were lost or given away. So, the answer is 108.',\n",
       "       '43 - 21 = 28 children got off the bus. So, the answer is 28.',\n",
       "       'Robin’s hair was 20 inches long so he cut off 20 - 10 = 10 inches. His hair was 10 inches long so it was 10 - 10 = 5 inches long before he cut it. So, the answer is 5.',\n",
       "       'Mary needs to add 7 - 4 = 2 cups of sugar to the recipe. She needs to add 10 - 4 = 2 cups of flour to the recipe. Therefore, Mary needs to add 2 cups + 2 cups = 4 cups of sugar to the recipe. Thus, the answer is 4.',\n",
       "       'There were 521 - 174 = 416 pupils in the program. Therefore, there were 416 - 174 = 117 more pupils than parents in the program. So, the answer is 117.',\n",
       "       'The total number of kids that stay home is 907611 kids - 455682 kids = 455682 kids. The total number of kids that go to camp is 455682 kids - 455611 kids = 455682 kids. The total number of kids in Lawrence county is 455682 kids + 455682 kids = 6638 kids. So, the answer is 6638.',\n",
       "       'He has 12 + 53 = 81 bottle caps. So the answer is 81.',\n",
       "       'Lewis earns $ 16 x 7 = $128 during the harvest. So, the harvest lasts 1216 / $128 = 4 weeks. Thus, the answer is 4.',\n",
       "       \"Brenda's mother made 22 - 17 = 10 cookies. Each of them had 10 / 2 = 5 cookies. So the answer is 5.\",\n",
       "       'Sofia asked 324 + 374 + 128 = 528 students to suggest new food items. Sofia asked 528 students to suggest new food items. Sofia asked 528 students to suggest new food items. Sofia asked 528 students to suggest new food items. Sofia asked 528 students to suggest new food items. Sofia asked 528 students to suggest new food items. Sofia asked 528 students to suggest new food items. Sofia asked 528 students to suggest new food items. Sofia asked 528 students to suggest new food items. Sofia asked 528 students to suggest new food items. Sofia asked 528 students to suggest new food items. Sofia asked 528 students to suggest new food items. Sofia asked 528 students to suggest new food items. Sofia asked 528 students to suggest new food items. Sofia asked 528 students to suggest new food items. Sofia asked 528 students to suggest new food items. Sofia asked 528 students to suggest new food items. Sofia asked 528 students to suggest new food items. Sofia asked 528 students to suggest new food items. Sofia asked 528 students to suggest new food items. Sofia asked 528 students to suggest new food items. Sofia asked 528 students to suggest new food items. Sofia asked 528 students to suggest new food items. Sofia asked 528 students to suggest new food items. Sofia asked 528 students to suggest new food items. Sofia asked 528 students to suggest new food items. Sofia asked 528 students to suggest new food items. Sofia asked 528 students to suggest new food items. Sofia asked 528 students to suggest new food items. Sofia asked 528 students to suggest new food items. Sofia asked 528 students to suggest new food items. Sofia asked 528 students to suggest new food items. Sofia asked 528 students to suggest new food items. Sofia asked 528 students to suggest new food items. Sofia asked 528 students to suggest new food items. Sofia asked 528 students to suggest new food items. Sofia asked 528 students to suggest new food items. Sofia asked 528 students to suggest new food items. Sofia asked 528 students to suggest new food items. Sofia asked 528 students to suggest new food items. Sofia asked 528 students to suggest new food items. Sofia asked 528 students to suggest new food items. Sofia asked 528 students to suggest new food items. Sofia asked 528 students to suggest new food items. Sofia asked 528 students to suggest new food items. Sofia asked 528 students to suggest new',\n",
       "       'They have 11 sets of tables and each set has 13 chairs so they have 11 * 13 = 138 chairs. They have 138 chairs in the backyard. So, the answer is 138.',\n",
       "       'Dan has $ 3 left with him after he bought a candy bar for $ 2, so he had $ 3 + $ 2 = $5 left. Then, Dan had $5 - $ 2 = $3 left initially. So, the answer is 3.',\n",
       "       'The frog jumped 35 - 4 = 32 inches farther than the grasshopper. So the grasshopper jumped 35 - 32 = 22 inches farther. The grasshopper jumped 22 inches - 4 inches farther = 22 inches farther. Altogether, they jumped 22 inches + 22 inches = 44 inches. So the answer is 44.',\n",
       "       'Jerry had 5 action figures and 2 books on his shelf so he had 5 + 2 = 7 action figures on his shelf. He added 9 books to his shelf so he had 9 + 2 = 11 books on his shelf. Jerry had 11 books and 5 action figures on his shelf so he had 7 + 5 = 10 books on his shelf. Jerry had 10 books and 5 action figures on his shelf so he had 10 - 5 = 5 books more than action figures on his shelf. So, the answer is 5.',\n",
       "       'If mom buys 39 white t - shirts, she will have 39 / 13 = 3 packages. Thus, the answer is 3.',\n",
       "       'The frog jumped 39 - 19 = 29 inches farther than the grasshopper. The mouse jumped 29 - 12 = 20 inches. The mouse jumped 20 inches less than the frog. The mouse jumped 20 inches less than the frog. The mouse jumped 20 inches less than the mouse. The mouse jumped 20 inches less than the mouse. The mouse jumped 20 inches less than the mouse. The mouse jumped 20 inches less than the mouse. The mouse jumped 20 inches less than the mouse. The mouse jumped 20 inches less than the mouse. The mouse jumped 20 inches less than the mouse. The mouse jumped 20 inches less than the mouse. The mouse jumped 20 inches less than the mouse. The mouse jumped 20 inches less than the mouse. The mouse jumped 20 inches less than the mouse. The mouse jumped 20 inches less than the mouse. The mouse jumped 20 inches less than the mouse. The mouse jumped 20 inches less than the mouse. The mouse jumped 20 inches less than the mouse. The mouse jumped 20 inches less than the mouse. The mouse jumped 20 inches less than the mouse. The mouse jumped 20 inches less than the mouse. The mouse jumped 20 inches less than the mouse. The mouse jumped 20 inches less than the mouse. The mouse jumped 20 inches less than the mouse. The mouse jumped 20 inches less than the mouse. The mouse jumped 20 inches less than the mouse. The mouse jumped 20 inches less than the mouse. The mouse jumped 20 inches less than the mouse. The mouse jumped 20 inches less than the mouse. The mouse jumped 20 inches less than the mouse. The mouse jumped 20 inches less than the mouse. The mouse jumped 20 inches less than the mouse. The mouse jumped 20 inches less than the mouse. The mouse jumped 20 inches less than the mouse. The mouse jumped 20 inches less than the mouse. The mouse jumped 20 inches less than the mouse. The mouse jumped 20 inches less than the mouse. The mouse jumped 20 inches less than the mouse. The mouse jumped 20 inches less than the mouse. The mouse jumped 20 inches less than the mouse. The mouse jumped 20 inches less than the mouse. The mouse jumped 20 inches less than the mouse. The mouse jumped 20 inches less than the mouse. The mouse jumped 20 inches less than the mouse. The mouse jumped',\n",
       "       'Julia played with 12 kids on Monday and 14 kids on Tuesday for a total of 12 + 14 = 28 hours. She played tag with 28 hours / 34 hours = 6 kids on Monday. She played tag with 6 kids on Tuesday and 14 kids on Wednesday for a total of 14 + 6 = 21 kids. Altogether, Julia played with 28 kids + 21 kids = 57 kids. So, the answer is 57.',\n",
       "       'Katie has 62 new games so she has 62 * .5 = 66 new games. Her friends have 73 new games so they have 73 * .5 = 71 new games. Together they have 66 + 71 = 103 old games. They have 3 old games because 103 / 3 = 3. So, the answer is 3.',\n",
       "       'The previous day there were 191 visitors so that means there were 191 - 457 = 117 visitors the previous day. The day before that there were 457 visitors so that means there were 457 - 117 = 427 visitors the day before that. The previous day there were 117 visitors so that means there were 427 + 427 = 527 visitors the previous day. The previous day there were 245 days so that means there were 245 days - 1 day = 245 days of visitors. The day before that there were 457 visitors so that means there were 457 - 457 = 117 visitors the previous day. The day before that there were 457 visitors so that means there were 457 - 117 = 117 visitors the previous day. The day before that there were 457 visitors so that means there were 117 + 117 = 117 visitors the previous day. The day after that there were 705 visitors so that means there were 705 + 117 = 705 + 117 = 705 + 117 = 705 + 117 = 705 + 117 = 705 + 117 = 705 + 117 = 705 + 117 = 705 + 117 = 705 + 117 = 705 + 117 = 705 + 117 = 705 + 117 = 705 + 117 = 705 + 117 = 705 + 117 = 705 + 117 = 705 + 117 = 705 + 117 = 705 + 117 = 705 + 117 = 705 + 117 = 705 + 117 = 705 + 117 = 705 + 117 = 705 + 117 = 705 + 117 = 705 + 117 = 705 + 117 = 705 + 117 = 705 + 117 = 705 + 117 = 705 + 117 = 705 + 117 = 705 + 117 = 705 + 117 = 705 + 117 = 705 + 117 = 705 + 117 = 705 + 117 = 705 + 117 = 705 + 117 = 705 + 117 = 705 + 117 = 705 + 117 = 705 + 117 = 705 + 117 = 705 + 117 = 705 + 117 = 705 + 117 = 705 + 117 =',\n",
       "       'The first chapter has 66 pages so it has 66 * 1 = 176 pages. The second chapter has 35 pages so it has 35 * 1 = 70 pages. The third chapter has 24 pages so it has 24 * 1 = 72 pages. Altogether the book has 176 + 70 + 72 = 204 pages. So the answer is 204.',\n",
       "       'He had 43 apples - 2 apples = 43 apples left. So he used 43 apples / 2 apples = 21 apples. Thus, the answer is 21.',\n",
       "       'Ryan spends 6 hours / day x 2 days = 12 hours on learning english. Ryan spends 5 hours / day x 2 days = 10 hours on learning chinese. Ryan spends 12 hours x 6 hours = 96 hours on learning english. In all, Ryan spends 96 hours x 12 hours = 216 hours on learning english. So, the answer is 216.',\n",
       "       'Dave won 7 tickets at the arcade and has 2 tickets left so he won 7 - 2 = 5 tickets. Dave used 5 tickets to buy toys because 5 x 2 = 5. Thus, the answer is 5.',\n",
       "       \"Dean's height is 9 feet so the depth of the water is 10 * 9 = 90 feet. The depth of the water is 90 feet so the water is 90 / 10 = 3 feet deeper than Dean's height. So, the answer is 3.\",\n",
       "       'David did 15 + 39 = 69 push - ups. John did 69 - 9 = 69 push - ups. Zachary did 69 - 15 = 57 push - ups. Zachary did 57 more push - ups than John. So, the answer is 57.',\n",
       "       'Haley grew 13 - 6 = 5 trees that survived the typhoon. 5 - 6 = 2 trees survived the typhoon. 2 trees survived the typhoon than those that died. Thus, the answer is 2.',\n",
       "       'At the end of the school year, Paul had 521 - 66 = 412 crayons left. Since he had not lost an eraser, he had 412 - 66 = 154 crayons left. Since he had not lost an eraser, he had 154 - 66 = 154 crayons left. Since he had not lost an eraser, he had 154 - 154 = 154 crayons left. Therefore, the answer is 154.',\n",
       "       'The pickers fill 8 drums of grapes per day, so they fill 8 drums of grapes per day * 36 pickers = 96 drums of grapes per day. To fill 240 drums of grapes, it will take 240 drums of grapes / 8 drums per day = 6 days. So, the answer is 6.',\n",
       "       'Adam could fit 8 action figures on each shelf, so he could fit 8 * 4 = 32 action figures on each shelf. He could fit 10 cabinets on each shelf, so he could fit 10 * 10 = 200 cabinets on each shelf. In total, Adam could fit 32 + 200 = 240 items on his shelves. Thus, the answer is 240.',\n",
       "       'The number of birds sitting on the fence is 3 birds + 4 storks = 7 birds. The number of storks sitting on the fence is 6 storks + 7 birds = 14 storks. The total number of birds and storks sitting on the fence is 7 birds + 14 storks = 21 birds and storks. So, the answer is 21.',\n",
       "       'If there were 41 bird families living near the mountain, and 35 bird families flew away to asia, there were 41 - 35 = 9 bird families that flew away to asia. If 62 bird families flew away to africa, there were 62 - 35 = 11 bird families that flew away to africa. If 11 bird families flew away to africa, there were 11 * 62 = 126 more bird families that flew away to africa than those that flew away to asia. Thus, the answer is 126.',\n",
       "       'Mom buys 51 / 3 = 9 white t - shirts. She will have 9 / 3 = 2 packages. Thus, the answer is 2.',\n",
       "       'On Monday, Julia played with 15 kids / 2 = 10 kids. On Tuesday, she played with 18 kids / 2 = 9 kids. On Wednesday, she played with 97 kids / 2 = 91 kids. On Monday and Tuesday, Julia played with 10 kids + 9 kids = 21 kids. So, the answer is 21.',\n",
       "       'There are 315 girls and 309 boys in the school so there are 315 + 309 = 645 people in the school. There are also 772 teachers in the school so there are 645 + 772 = 1056 people in the school. So, the answer is 1056.',\n",
       "       'Dave used 5 + 11 = 17 tickets. Dave has 18 - 17 = 6 tickets left. So, the answer is 6.',\n",
       "       'There were 89 - 60 = 58 bird families that stayed behind. There were 58 - 60 = 6 bird families that flew away for the winter. 6 - 6 = 2 bird families flew away for the winter. There were 6 - 2 = 3 bird families that flew away for the winter. Thus, there were 3 - 2 = 2 more bird families that flew away for the winter than those that stayed behind. Thus, the answer is 2.',\n",
       "       'The total number of children riding on the bus is 41 - 2 = 42. The number of children riding on the bus before the bus stop is 42 / 2 = 21. So, the answer is 21.',\n",
       "       'He read 2 * 405 = 800 pages in the book. So he read 800 / 2 = 200 chapters. So he read 200 / 664 = 4 chapters per day. So the answer is 4.',\n",
       "       'If Zachary did 34 push - ups, David did 40 + 34 = 57 push - ups. David did 62 - 17 = 57 crunches. David did 57 crunches. So, the answer is 57.',\n",
       "       'Baker sold 145 cakes so he made 145 - 72 = 105 cakes. Therefore, the answer is 105.',\n",
       "       'The machine can make 3 shirts per minute, so it can make 6 / 3 = 2 shirts per minute. So it can make 2 * 3 = 6 shirts per minute. So it can make 6 / 6 = 2 shirts per minute. So it can work for 2 * 60 = 120 minutes. So the answer is 120.',\n",
       "       'He needs 353 - 57 = 322 g of wax. He needs 22 + 322 = 422 g of wax. He has 422 - 22 = 223 g of wax. He has 223 - 223 = 126 g of wax. So the answer is 126.',\n",
       "       'Mary needs to add 11 - 6 = 2 cups of sugar. She needs to add 9 - 9 = 2 cups of salt. Mary needs to add 2 cups of sugar - 2 cups of salt = 1 cup of salt. Thus, Mary needs to add 1 cup of salt - 2 cups of sugar = 1 cup of salt. Thus, the answer is 1.',\n",
       "       'Lucy bought 10 packs of cookie and 4 packs of cake for a total of 10 + 4 = 14 packs of cookies. Lucy bought 14 packs of cookies over 4 packs of cake because 14 - 4 = 14. Lucy bought 14 packs of cookies over 4 packs of cake because 14 - 4 = 14. Lucy bought 14 packs of cookies over 4 packs of cake because 14 - 4 = 14. Lucy bought 14 packs of cookies over 4 packs of cake because 14 - 4 = 14. Lucy bought 14 packs of cookies over 4 packs of cake because 14 - 4 = 14. Lucy bought 14 packs of cookies over 4 packs of cake because 14 - 4 = 14. Lucy bought 14 packs of cookies over 4 packs of cake because 14 - 4 = 14. Lucy bought 14 packs of cookies over 4 packs of cake because 14 - 4 = 14. Lucy bought 14 packs of cookies over 4 packs of cake because 14 - 4 = 14. Lucy bought 14 packs of cookies over 4 packs of cake because 14 - 4 = 14. Lucy bought 14 packs of cookies over 4 packs of cake because 14 - 4 = 14. Lucy bought 14 packs of cookies over 4 packs of cake because 14 - 4 = 14. Lucy bought 14 packs of cookies over 4 packs of cake because 14 - 4 = 14. Lucy bought 14 packs of cookies over 4 packs of cake because 14 - 4 = 14. Lucy bought 14 packs of cookies over 4 packs of cake because 14 - 4 = 14. Lucy bought 14 packs of cookies over 4 packs of cake because 14 - 4 = 14. Lucy bought 14 packs of cookies over 4 packs of cake because 14 - 4 = 14. Lucy bought 14 packs of cookies over 4 packs of cake because 14 - 4 = 14. Lucy bought 14 packs of cookies over 4 packs of cake because 14 - 4 = 14. Lucy bought 14 packs of cookies over 4 packs of cake because 14 - 4 = 14. Lucy bought 14 packs of cookies over 4 packs of cake because 14 - 4 = 14. Lucy bought 14 packs of cookie over 4 packs of cake because 14 - 4 = 14. Lucy bought 14 packs of cookie over 4 packs of cake because 14 - 4 = 14. Lucy bought 14 packs of cookie over 4 packs of cake because 14 - 4 = 14.',\n",
       "       'Steven has 4502 skittles and 4276 erasers so that’s 4502 + 4276 = 6656 skittles. Steven has 6656 erasers and 6656 skittles so that’s 6656 / 6656 = 4 groups. Each group is 4 groups so each group is 4 * 4 = 16 groups. So the answer is 16.',\n",
       "       'The carnival made 325 x 154 = $1,025 in the first 154 days. So, they made 114 x 57 = $1,057 in the remaining 57 days. Therefore, they made $1,057 / 57 = $3 per day in the remaining 57 days. So, the answer is 3.',\n",
       "       'Rachel had 5 - 2 = 3 pages of math homework. Rachel had 3 - 2 = 1 page of reading homework. Rachel had 3 - 1 = 2 pages of math homework. Rachel had 2 pages - 1 page = 1 page of reading homework. Rachel had 2 pages - 1 page = 1 page of math homework. Rachel had 2 pages - 1 page = 1 page of reading homework. Rachel had 2 pages - 1 page = 1 page of math homework. Rachel had 2 pages - 1 page = 1 page of reading homework. Rachel had 2 pages - 1 page = 1 page of math homework. Rachel had 2 pages - 1 page = 1 page of reading homework. Rachel had 2 pages - 1 page = 1 page of math homework. Rachel had 2 pages - 1 page = 1 page of reading homework. Rachel had 2 pages - 1 page = 1 page of math homework. Rachel had 2 pages - 1 page = 1 page of reading homework. Rachel had 2 pages - 1 page = 1 page of math homework. Rachel had 2 pages - 1 page = 1 page of reading homework. Rachel had 2 pages - 1 page = 1 page of math homework. Rachel had 2 pages - 1 page = 1 page of reading homework. Rachel had 2 pages - 1 page = 1 page of math homework. Rachel had 2 pages - 1 page = 1 page of reading homework. Rachel had 2 pages - 1 page = 1 page of math homework. Rachel had 2 pages - 1 page = 1 page of reading homework. Rachel had 2 pages - 1 page = 1 page of math homework. Rachel had 2 pages - 1 page = 1 page of reading homework. Rachel had 2 pages - 1 page = 1 page of math homework. Rachel had 2 pages - 1 page = 1 page of reading homework. Rachel had 2 pages - 1 page = 1 page of math homework. Rachel had 2 pages - 1 page = 1 page of reading homework. Rachel had 2 pages - 1 page = 1 page of math homework. Rachel had 2 pages - 1 page = 1 page of reading homework. Rachel had 2 pages - 1 page = 1 page of math homework. Rachel had 2 pages - 1 page = 1 page of reading homework. Rachel had 2 pages - 1 page = 1 page of math homework. Rachel had 2 pages - 1 page = 1 page of reading homework. Rachel had 2 pages - 1 page',\n",
       "       'Carol bought 6 packs of invitations, so she has 6 * 14 = 108 invitations. She bought 11 extra invitations, so she has 108 + 11 = 111 invitations. The total number of invitations she can invite is 108 + 111 = 227. Thus, the answer is 227.',\n",
       "       'The total number of red peaches is 6 peaches x 100 = 240. The total number of yellow peaches is 90 peaches x 100 = 900. The total number of green peaches is 16 peaches x 100 = 480. The total number of peaches is 240 + 900 + 480 = 480. The number of red and green peaches is 480 / 2 = 208. Thus, the answer is 208.',\n",
       "       'Jack received 4 emails in the morning and received 5 emails in the day so he received 4 + 5 = 8 emails in the day. Jack received 8 emails in the afternoon so he received 8 / 2 = 4 emails in the afternoon. So, the answer is 4.',\n",
       "       'Each guest had 14 cookies so 2 guests each had 14 cookies / 2 = 7 cookies. Each guest had 7 cookies so each guest had 7 cookies / 2 = 3 cookies. So, the answer is 3.',\n",
       "       'Debby drinks 6 bottles a day so she drinks 6 * 12 = 96 bottles a day. If she bought 12 water bottles then they would last her 12 / 6 = 2 days. So, the answer is 2.',\n",
       "       'Emily has 16 / 8 = 2 beads per necklace. She can make 2 * 8 = 16 necklaces. Thus, the answer is 16.',\n",
       "       'Jack received 4 emails in the morning, so he received 4 + 5 = 9 emails in the afternoon. Jack received 8 emails in the evening, so he received 8 + 8 = 14 emails in the afternoon and evening. Therefore, the answer is 14.',\n",
       "       'Sofia asked 310 students to suggest specific types of food and 185 students suggested adding mashed potatoes so 310 - 185 = 105 students suggested bacon. Bacon is a food and 105 students suggested adding mashed potatoes so 105 / 105 = 5 students suggested bacon. So, the answer is 5.',\n",
       "       'It will take 80 / 16 = 4 days to harvest 80 sacks of oranges. So, the answer is 4.',\n",
       "       'On monday, Julia played with 9 kids - 7 kids = 5 kids. On tuesday, Julia played with 7 kids - 5 kids = 3 kids. On Wednesday, Julia played with 96 kids - 3 kids = 108 kids. Julia played with 108 kids - 9 kids = 108 more kids on monday than on tuesday. So, the answer is 108.',\n",
       "       'Allan brought 3 balloons + 20 balls = 6 balloons. Jake brought 5 balloons + 59 balls = 105 balls. Together, they brought 6 balloons + 105 balls = 145 balloons. Therefore, the answer is 145.',\n",
       "       'Yesterday the machine made 6 x 12 = 72 shirts. Today it made 14 x 6 = 84 shirts. Altogether the machine made 72 + 84 = 144 shirts. So, the answer is 144.',\n",
       "       'They are going to go 849 - 849 = 117 feet farther. So, the answer is 117.',\n",
       "       'Allan brought 5 balloons to the park and Jake brought 6 balloons so that’s 5 + 6 = 10 balloons. Jake bought 3 more balloons at the park so that’s 3 + 3 = 5 balloons. Allan brought 5 balloons to the park and Jake brought 6 balloons so that’s 5 + 6 = 9 balloons. Then add up all the balloons to find the total number of balloons Jake brought to the park: 9 balloons + 6 balloons = 18 balloons. So, the answer is 18.',\n",
       "       'The total number of children riding on the bus is 36 children + 68 children = 126 children. The number of children that got off the bus is 126 children - 68 children = 66 children. The number of children that got on the bus is 12 children + 68 children = 108 children. The number of children that got off the bus is 126 children - 68 children = 66 children. Therefore, 66 children - 126 children = 68 children got off the bus. Thus, 68 children - 126 children = 68 children got off the bus. Therefore, 68 children - 126 children = 68 children got off the bus. Thus, 68 children - 126 children = 68 children got off the bus. Thus, 68 children - 126 children = 68 children got off the bus. Thus, 68 children - 126 children = 68 children got off the bus. Thus, 68 children - 126 children = 68 children got off the bus. Thus, 68 children - 126 children = 68 children got off the bus. Thus, 68 children - 126 children = 68 children got off the bus. Thus, 68 children - 126 children = 68 children got off the bus. Thus, 68 children - 126 children = 68 children got off the bus. Thus, 68 children - 126 children = 68 children got off the bus. Thus, 68 children - 126 children = 68 children got off the bus. Thus, 68 children - 126 children = 68 children got off the bus. Thus, 68 children - 126 children = 68 children got off the bus. Thus, 68 children - 126 children = 68 children got off the bus. Thus, 68 children - 126 children = 68 children got off the bus. Thus, 68 children - 126 children = 68 children got off the bus. Thus, 68 children - 126 children = 68 children got off the bus. Thus, 68 children - 126 children = 68 children got off the bus. Thus, 68 children - 126 children = 68 children got off the bus. Thus, 68 children - 126 children = 68 children got off the bus. Thus, 68 children ',\n",
       "       'Melissa scored 21 / 7 = 4 points in each game. So she played 21 / 4 = 6 games. Thus, the answer is 6.',\n",
       "       'Doug lost 2 more marbles than Ed, so he has 2 + 1 = 3 marbles. Ed has 19 more marbles than Doug, so he has 19 + 3 = 23 marbles. Doug lost 3 marbles at the playground. So, the answer is 23.',\n",
       "       'Ryan learns english for 7 days, so he spends 4 hours / day * 7 days = 28 hours learning english. Ryan learns chinese for 7 days, so he spends 5 hours / day * 7 days = 35 hours learning chinese. Ryan learns english and chinese for 28 hours + 35 hours = 66 hours in all. So, the answer is 66.',\n",
       "       'The ripe oranges are harvested 5 sacks / day * 4 days = 20 sacks of ripe oranges per day. The unripe oranges are harvested 74 sacks / day * 4 days = 232 sacks of unripe oranges per day. The unripe oranges are harvested 232 sacks / day * 20 sacks / day = 224 more sacks of unripe oranges than ripe oranges per day. So, the answer is 224.',\n",
       "       'The total number of children riding on the bus is 26 + 38 = 57. So, the answer is 57.',\n",
       "       'If 228 students suggested adding mashed potatoes, the number of students who suggested bacon is 337 - 228 = 129. The number of students who suggested tomatoes is 23 - 23 = 9 students. If the number of students who suggested bacon is 129, the number of students who suggested bacon is 129 - 23 = 81. The number of students who suggested tomatoes is 23 - 23 = 9 students. The number of students who suggested bacon is 81 - 9 = 63. The number of students who suggested bacon is 63 - 23 = 63. The number of students who suggested tomatoes is 23 - 23 = 63. The number of students who suggested bacon is 63 - 63 = 63. The number of students who suggested bacon is 63 - 63 = 63. The number of students who suggested tomatoes is 23 - 23 = 63. The number of students who suggested bacon is 63 - 63 = 63. The number of students who suggested tomatoes is 23 - 23 = 63. The number of students who suggested bacon is 63 - 63 = 63. The number of students who suggested tomatoes is 23 - 23 = 63. The number of students who suggested bacon is 63 - 63 = 63. The number of students who suggested tomatoes is 23 - 23 = 63. The number of students who suggested bacon is 63 - 63 = 63. The number of students who suggested tomatoes is 23 - 23 = 63. The number of students who suggested bacon is 63 - 63 = 63. The number of students who suggested tomatoes is 23 - 23 = 63. The number of students who suggested bacon is 63 - 63 = 63. The number of students who suggested tomatoes is 23 - 23 = 63. The number of students who suggested bacon is 63 - 63 = 63. The number of students who suggested tomatoes is 23 - 23 = 63. The number of students who suggested bacon is 63 - 63 = 63. The number of students who suggested tomatoes is 23 - 23 = 63. The number of students who suggested bacon is 63 - 63 = 63. The number of students who suggested tomatoes is 23 - 23 = 63. The number of students who suggested bacon is 63 - 63 =',\n",
       "       'There are 20 - 5 = 15 books in the series. So, you have already read 15 / 5 = 2 books. Thus, the answer is 2.',\n",
       "       'Debby bought 200 water bottles and 256 soda bottles for a total of 200 + 256 = 512 bottles. If she drank 312 water bottles a day, then she drank 312 * 512 = 108 water bottles a day. If she drank 4 soda bottles a day, then she drank 4 * 108 = 216 soda bottles a day. If she drank 216 soda bottles a day, then the soda bottles would last 216 / 4 = 16 days. Thus, the answer is 16.',\n",
       "       'There are 21 - 7 = 10 books in the series. There are 8 - 4 = 2 movies in the series. There are 2 - 10 = 1 movie left to watch. So the answer is 1.',\n",
       "       'The frog jumped 33 inches farther than the grasshopper, so the frog jumped 33 - 24 = 9 inches farther. The mouse jumped 5 inches less than the frog, so the mouse jumped 9 - 5 = 7 inches farther than the frog. The mouse jumped 7 inches farther than the grasshopper, so the mouse jumped 7 inches farther than the grasshopper. Thus, the answer is 7.',\n",
       "       'There are 58 classrooms / classroom * 87 classrooms = 58 classrooms. There are 58 classrooms / classroom * 2 seats per classroom = 108 seats. There are 58 classrooms / classroom * 2 seats per classroom = 216 seats. There are 108 seats / 2 seats per classroom = 108 seats. There are 108 seats / 2 seats per classroom = 108 seats. There are 108 seats / 2 seats per classroom = 108 seats. There are 108 seats / 2 seats per classroom = 108 seats. There are 108 seats / 2 seats per classroom = 108 seats. There are 108 seats / 2 seats per classroom = 108 seats. There are 108 seats / 2 seats per classroom = 108 seats. There are 108 seats / 2 seats per classroom = 108 seats. There are 108 seats / 2 seats per classroom = 108 seats. There are 108 seats / 2 seats per classroom = 108 seats. There are 108 seats / 2 seats per classroom = 108 seats. There are 108 seats / 2 seats per classroom = 108 seats. There are 108 seats / 2 seats per classroom = 108 seats. There are 108 seats / 2 seats per classroom = 108 seats. There are 108 seats / 2 seats per classroom = 108 seats. There are 108 seats / 2 seats per classroom = 108 seats. There are 108 seats / 2 seats per classroom = 108 seats. There are 108 seats / 2 seats per classroom = 108 seats. There are 108 seats / 2 seats per classroom = 108 seats. There are 108 seats / 2 seats per classroom = 108 seats. There are 108 seats / 2 seats per classroom = 108 seats. There are 108 seats / 2 seats per classroom = 108 seats. There are 108 seats / 2 seats per classroom = 108 seats. There are 108 seats / 2 seats per classroom = 108 seats. There are 108 seats / 2 seats per classroom = 108 seats. There are 108 seats / 2 seats per classroom = 108 seats. There are 108 seats / 2 seats per classroom = 108 seats. There are 108 seats / 2 seats per classroom = 108 seats. There are 108 seats ',\n",
       "       \"Marco's strawberries weighed 22 pounds. Marco's dad found 30 pounds of strawberries. Together, Marco's and his dad's strawberries weighed 22 + 30 = 46 pounds. Marco's strawberries weighed 46 pounds. Marco's dad's strawberries weighed 46 pounds. So, the answer is 46.\",\n",
       "       'Haley gave 10 / 5 = 2 marbles to each boy. So she gave 2 * 5 = 10 marbles to each boy. Therefore, she gave 10 + 2 = 12 marbles to each boy. Therefore, she gave 12 / 5 = 2 boys marbles. Thus, the answer is 2.',\n",
       "       'If 166 more students suggested adding bacon than those that suggested mashed potatoes, then 182 + 166 = 196 students suggested adding bacon to the menu. The total number of students that suggested bacon is 196 + 182 = 276. So, the answer is 276.',\n",
       "       'Jerry added 7 more action figures to the shelf, so there are 10 + 7 = 17 action figures on the shelf. Jerry originally had 17 + 7 = 23 action figures on the shelf. So the answer is 23.',\n",
       "       'John would use 11 - 8 = 6 nails to secure the planks. So he would need 6 / 3 = 2 planks. So the answer is 2.',\n",
       "       'Josh found 13 + 5 = 17 marbles. So, he has 22 - 17 = 11 marbles left. Thus, the answer is 11.',\n",
       "       'Paco had 13 - 2 = 9 cookies left. He bought 36 - 9 = 32 more cookies. Paco bought 32 - 9 = 22 more cookies than those he ate. So, the answer is 22.',\n",
       "       'The number of children riding on the bus before the bus stop is 41 - 18 = 38. The number of children riding on the bus before the bus stop is 38 - 18 = 21. The number of children riding on the bus before the bus stop is 21 - 18 = 6 children. The number of children riding on the bus before the bus stop is 6 - 18 = 3 children. The number of children riding on the bus before the bus stop is 3 - 18 = 2 children. The number of children riding on the bus before the bus stop is 2 - 3 = 1 children. The number of children riding on the bus before the bus stop is 2 - 1 = 1 children. The number of children riding on the bus before the bus stop is 1 + 1 = 2 children. The number of children riding on the bus before the bus stop is 2 - 2 = 1 children. The number of children riding on the bus before the bus stop is 2 - 1 = 1 children. The number of children riding on the bus before the bus stop is 1 + 1 = 2 children. The number of children riding on the bus before the bus stop is 2 - 2 = 1 children. The number of children riding on the bus before the bus stop is 2 - 1 = 1 children. The number of children riding on the bus before the bus stop is 2 - 1 = 1 children. The number of children riding on the bus before the bus stop is 2 - 1 = 1 children. The number of children riding on the bus before the bus stop is 2 - 1 = 1 children. The number of children riding on the bus before the bus stop is 2 - 1 = 1 children. The number of children riding on the bus before the bus stop is 2 - 1 = 1 children. The number of children riding on the bus before the bus stop is 2 - 1 = 1 children. The number of children riding on the bus before the bus stop is 2 - 1 = 1 children. The number of children riding on the bus before the bus stop is 2 - 1 = 1 children. The number of children riding on the bus before the bus stop is 2 - 1 = 1 children. The number of children riding on the bus before the bus stop is 2 - 1 = 1 children. The number of children riding on the bus before the bus stop is 2 - 1 = 1 children. The number of children riding on the bus before the bus stop',\n",
       "       'Adam has 9 + 3 = 13 apples. Jackie has 13 - 9 = 2 apples. So the answer is 2.',\n",
       "       'If mom buys 28 packages, each package has 56 / 28 = 2 white t - shirts. Since each package has 2 white t - shirts, each package has 2 * 2 = 4 white t - shirts. Thus, the answer is 4.',\n",
       "       'Dan spent $ 4 on candy bar and $ 6 on chocolate. So, he spent $ 4 + $ 7 = $12 on candy bar and chocolate. Therefore, the answer is 12.',\n",
       "       'He had 25 bottle caps in his collection earlier so that leaves 25 - 32 = 8 bottle caps. He found 8 bottle caps at the park because 32 - 8 = 8. Thus, the answer is 8.',\n",
       "       'Matthew gave 36 / 6 = 6 crackers to each of his friends. So he gave 6 * 6 = 36 crackers to his friends. Thus, Matthew gave crackers to 36 / 6 = 6 friends. Thus, the answer is 6.',\n",
       "       'Jessie lost 114 - 50 = 78 kilograms in the first week. She lost 78 - 60 = 58 kilograms in the second week. So, she lost 78 - 58 = 58 kilograms in the first week. Therefore, Jessie weighs 114 - 58 = 58 kilograms now. So, the answer is 58.',\n",
       "       'Dan spent 2 + 3 = $5 on candy. So, he spent 5 - 5 = $2 on chocolate. Therefore, Dan spent $2 - $5 = $1 more on chocolate than he did on candy. Thus, the answer is 1.',\n",
       "       'On monday Tiffany had 7 bags of cans so on tuesday she had 7 + 12 = 21 bags of cans. On the next day Tiffany found 21 bags of cans so on tuesday she had 21 + 7 = 35 bags of cans. On the next day Tiffany found 35 bags of cans so on tuesday she had 35 - 7 = 29 bags of cans. Thus, Tiffany found 29 bags more than she had on monday. Thus, the answer is 29.',\n",
       "       'Each basket has 4 red peaches and 3 green peaches for a total of 4 + 3 = 7 peaches. There are 7 peaches in all and there are 7 peaches in all so there are 7 - 7 = 2 baskets of peaches. So, the answer is 2.',\n",
       "       'There are 8 - 19 = 4 movies in the series. There are 10 - 10 = 2 movies in the series. There are 2 movies in the series more than the books. So, the answer is 2.',\n",
       "       'The previous day there were 295 visitors so that day there were 295 - 217 = 105 visitors. On that day there were 317 visitors so that means there were 105 - 295 = 57 more visitors than the previous day. So, the answer is 57.',\n",
       "       'The total number of kids who go to camp is 819058 kids - 668278 kids = 668278 kids. The number of kids who stay home is 668278 kids - 819058 kids = 668278 kids. The number of kids who spend their summer break at the camp is 668278 kids - 668258 kids = 668278 kids. The number of kids who spent their summer break at the camp is 668278 kids - 668278 kids = 668278 kids. Therefore, 668278 kids spent their summer break at the camp compared to those who stayed home is 668278 kids - 668278 kids = 668278 kids. Therefore, the answer is 668278.',\n",
       "       'Danny has 66 wrappers + 39 bottle caps = 102 wrappers. He had 102 wrappers - 16 bottle caps = 66 wrappers at first. So the answer is 66.',\n",
       "       'He had 551 crayons left after giving away or losing them so he had 551 - 177 = 427 crayons left. He got a box of crayons for his birthday so he got 427 / 2 = 177 crayons. So, the answer is 177.',\n",
       "       'Helen baked 31 cookies yesterday + 270 cookies this morning = 827 cookies this morning. Helen baked 419 cookies the day before yesterday = 419 cookies. So, Helen baked 827 cookies + 419 cookies = 1027 cookies till last night. Thus, the answer is 1027.',\n",
       "       'There were 3 + 26 = 38 bird families living near the mountain. There were 3 + 38 = 57 bird families living near the mountain. There were 2 bird families that flew away for winter, so there were 57 - 2 = 58 bird families living near the mountain. Thus, there were 58 / 3 = 21 bird families living near the mountain. Thus, the answer is 21.',\n",
       "       'They were at the carnival for 22 days, so that means they made 144 * 22 = $1,080. The ring toss game at the carnival made 144 * 2 = $1240 per day. So they made 144 * 2 = $1240 per week. So in total they made 144 * 12 = $1,080. So the answer is 1080.',\n",
       "       'Danny found 65 - 5 = 45 wrappers at the park. He has 31 - 9 = 21 bottle caps in his collection. Danny found 45 - 21 = 9 more wrappers than bottle caps at the park. So, the answer is 9.',\n",
       "       'Paul had 492 - 52 = 312 crayons left. Paul lost 535 - 52 = 426 crayons. So, 312 - 426 = 126 crayons were lost or given away. Thus, the answer is 126.',\n",
       "       'Josh lost 9 - 23 = 2 marbles. So he lost 2 - 9 = 1 more marble than those he found. So the answer is 1.',\n",
       "       'Paco ate 5 cookies so he had 25 - 5 = 20 cookies left. He bought 3 cookies so he had 20 + 3 = 23 cookies. Paco ate 20 cookies so he had 23 - 20 = 9 cookies left. He ate 9 cookies so he had 9 - 3 = 6 more cookies. So, the answer is 6.',\n",
       "       'The grocery store had 72 - 32 = 28 bottles of regular soda. The grocery store had 78 - 78 = 8 bottles of diet soda. The grocery store had 8 - 32 = 4 bottles of regular soda. The grocery store had 8 - 4 = 4 bottles of diet soda. The grocery store had 8 - 4 = 4 bottles of regular soda. The grocery store had 4 bottles of regular soda and 8 bottles of diet soda. The grocery store had 4 bottles of regular soda and 8 bottles of diet soda. The grocery store had 4 bottles of regular soda and 8 bottles of diet soda. The grocery store had 4 bottles of regular soda and 8 bottles of diet soda. The grocery store had 4 bottles of regular soda and 8 bottles of diet soda. The grocery store had 4 bottles of regular soda and 8 bottles of diet soda. The grocery store had 4 bottles of regular soda and 8 bottles of diet soda. The grocery store had 4 bottles of regular soda and 8 bottles of diet soda. The grocery store had 4 bottles of regular soda and 8 bottles of diet soda. The grocery store had 4 bottles of regular soda and 8 bottles of diet soda. The grocery store had 4 bottles of regular soda and 8 bottles of diet soda. The grocery store had 4 bottles of regular soda and 8 bottles of diet soda. The grocery store had 4 bottles of regular soda and 8 bottles of diet soda. The grocery store had 4 bottles of regular soda and 8 bottles of diet soda. The grocery store had 4 bottles of regular soda and 8 bottles of diet soda. The grocery store had 4 bottles of regular soda and 8 bottles of diet soda. The grocery store had 4 bottles of regular soda and 8 bottles of diet soda. The grocery store had 4 bottles of regular soda and 8 bottles of diet soda. The grocery store had 4 bottles of regular soda and 8 bottles of diet soda. The grocery store had 4 bottles of regular soda and 8 bottles of diet soda. The grocery store had 4 bottles of regular soda and 8 bottles of diet soda. The grocery store had 4 bottles of regular soda and 8 bottles of diet soda. The grocery store had 4 bottles of regular soda and 8 bottles of diet soda. The grocery store had 4 bottles of regular soda and 8 bottles of diet soda. The grocery store had 4 bottles of regular soda and 8 bottles of diet soda. The grocery store had 4 bottles of regular soda and 8 bottles of diet soda. The grocery store had 4 bottles of regular soda and 8 bottles of diet soda. The grocery store',\n",
       "       'The number of girls is 569 girls / 236 boys = 108 girls / boy. The number of boys is 236 boys / 236 girls = 108 boys / girl. The number of girls is 108 girls / girl = 108 girls / boy. The number of boys is 236 boys / 236 girls = 108 boys / girl. The number of girls is 108 girls / girl = 108 girls / boy. The number of boys is 236 boys / 236 girls = 108 boys / girl. The number of girls is 108 girls / girl = 108 girls / boy. The number of boys is 236 boys / 236 girls = 108 boys / girl. The number of girls is 108 girls / girl = 108 girls / boy. The number of boys is 236 boys / 236 girls = 108 boys / girl. The number of girls is 108 girls / girl = 108 girls / boy. The number of boys is 236 boys / 236 girls = 108 boys / girl. The number of girls is 108 girls / girl = 108 girls / boy. The number of boys is 236 boys / 236 girls = 108 boys / girl. The number of girls is 108 girls / girl = 108 boys / girl. The number of boys is 236 boys / 236 girls = 108 boys / girl. The number of girls is 108 girls / girl = 108 boys / girl. The number of boys is 236 boys / 236 girls = 108 boys / girl. The number of girls is 108 girls / girl = 108 boys / girl. The number of boys is 236 boys / 236 girls = 108 boys / girl. The number of girls is 108 girls / girl = 108 boys / girl. The number of boys is 236 boys / 236 girls = 108 boys / girl. The number of girls is 108 girls / girl = 108 boys / girl. The number of boys is 236 boys / 236 girls = 108 boys / girl. The number of girls is 108 girls / girl = 108 boys / girl. The number of boys is 236 boys / 2',\n",
       "       'Lewis earns $ 403 x 233 = $1,023 during harvest season. He has to pay $ 49 x 233 = $1,049 for rent. Therefore, he earns $1,023 + $1,049 = $1,098 during harvest season. Thus, the answer is 1098.',\n",
       "       'Jessie lost 56 kg in the first week so she lost 92 - 56 = 58 kg in the second week. So she lost 58 kg - 99 kg = 58 kg in the first week. Therefore, she weighed 92 kg - 58 kg = 66 kg after the first week of jogging. Thus, the answer is 66.',\n",
       "       'The total number of girls is 362 + 257 = 427. The total number of boys is 362 - 427 = 243. The number of girls is 427 - 243 = 117. The number of girls is 117 / 2 = 62. The number of girls is 62 / 2 = 66. The number of girls is 66 / 2 = 66. The number of girls is 66 / 2 = 66. The number of girls is 66 / 2 = 66. The number of girls is 66 / 2 = 66. The number of girls is 66 / 2 = 66. The number of girls is 66 / 2 = 66. The number of girls is 66 / 2 = 66. The number of girls is 66 / 2 = 66. The number of girls is 66 / 2 = 66. The number of girls is 66 / 2 = 66. The number of girls is 66 / 2 = 66. The number of girls is 66 / 2 = 66. The number of girls is 66 / 2 = 66. The number of girls is 66 / 2 = 66. The number of girls is 66 / 2 = 66. The number of girls is 66 / 2 = 66. The number of girls is 66 / 2 = 66. The number of girls is 66 / 2 = 66. The number of girls is 66 / 2 = 66. The number of girls is 66 / 2 = 66. The number of girls is 66 / 2 = 66. The number of girls is 66 / 2 = 66. The number of girls is 66 / 2 = 66. The number of girls is 66 / 2 = 66. The number of girls is 66 / 2 = 66. The number of girls is 66 / 2 = 66. The number of girls is 66 / 2 = 66. The number of girls is 66 / 2 = 66. The number of girls is 66 / 2 = 66. The number of girls is 66 / 2 = 66. The number of girls is 66 / 2 = 66. The number of girls',\n",
       "       'Baker made 144 - 71 = 102 cakes. He made 111 + 102 = 172 cakes. Baker made 172 - 71 = 71 more cakes than those he sold. Thus, the answer is 71.',\n",
       "       'The large planks need 15 nails x 12 = 180 nails. The small planks need 5 nails x 10 = 50 nails. The total number of nails needed for the large planks and small planks is 180 + 50 = 225. The total number of nails needed for the small planks is 50 + 5 = 55. The total number of nails needed for the large planks and small planks is 225 + 55 = 255. The total number of nails needed for the house wall is 255 + 225 = 255. Thus, the answer is 255.',\n",
       "       'Edward spent 13 - 3 = 6 dollars. So he spent 6 / 3 = 2 dollars. So the answer is 2.',\n",
       "       'Jerry added 2 more action figures to the shelf, so he had 10 + 2 = 12 action figures. He removed 7 action figures from the shelf, so he had 12 - 7 = 6 action figures left. Jerry originally had 12 + 6 = 18 action figures on the shelf. So the answer is 18.',\n",
       "       'It will take 8 sacks / day * 24 oranges = 96 oranges to harvest. It will take 96 oranges / 8 sacks / day = 4 days to harvest 24 oranges. So, the answer is 4.',\n",
       "       'He got 12 + 15 = 23 customers. So he still has 12 - 23 = 6 customers left. So he got 14 + 6 = 20 customers. So he still has 6 - 20 = 2 customers left. So the answer is 2.',\n",
       "       'They harvest 66 sacks per day and each sack contains 25 oranges so that’s 66 * 25 = 2,500 oranges. They harvest 87 days and they harvest 2,500 oranges per day so that’s 275 * 87 = 62,500 oranges. The oranges are 62,500 oranges and they harvest 62,500 oranges per day so that’s 62,500 * .25 = 125,500 oranges. The oranges are 125,500 oranges and they harvest 62,500 oranges per day so that’s 125 * .25 = 125,500 oranges. The oranges are 62,500 oranges and they harvest 62,500 oranges so that’s 62,500 * .25 = 125,500 oranges. The oranges are 125,500 oranges and they harvest 125,500 oranges so that’s 125,500 * .25 = 125,500 oranges. The oranges are 125,500 oranges and they harvest 125,500 oranges so that’s 125,500 * .25 = 125,500 oranges. The oranges are 125,500 oranges and they harvest 125,500 oranges so that’s 125,500 * .25 = 125,500 oranges. The oranges are 125,500 oranges and they harvest 125,500 oranges so that’s 125,500 * .25 = 125,500 oranges. The oranges are 125,500 oranges and they harvest 125,500 oranges so that’s 125,500 * .25 = 125,500 oranges. The oranges are 125,500 oranges and they harvest 125,500 oranges so that’s 125,500 * .25 = 125,500 oranges. The oranges are 125,500 oranges and they harvest 125,500 oranges so that’s 125,500 * .25 = 125,500 oranges. The oranges are 125,500 oranges and they harvest 125,500 oranges so that’s 125,500 * .25 = 125,500 oranges. The oranges are 125,500 oranges and they harvest 125,500 oranges',\n",
       "       'The mailman gives 32 pieces of junk mail to each of the 55 blocks so that’s 32 * 55 = 1104 pieces of junk mail. He gives 8 mails to each house in a block so that’s 8 * 1104 = 884 pieces of junk mail. There are 884 pieces of junk mail in a block so there are 884 / 8 = 216 houses in a block. So, the answer is 216.',\n",
       "       'He had 253 - 70 = 204 crayons left. So, the answer is 204.',\n",
       "       'The Razorback shop made 113 * 25 = $ 375 off of t - shirts. They made 78 * 115 = $ 325 off of jerseys. So a jersey costs 325 - 375 = $ 115 more than a t - shirt. So, the answer is 115.',\n",
       "       'He earns 368 * 1359 = $ 58,028 every week. He pays 388 * 1359 = $ 58,088 as rent every week. So he pays 58,088 / 388 = $ 66,088 as rent every week. So the answer is 6680.',\n",
       "       'Jessica threw away 33 roses from the vase, so she had 15 - 33 = 7 roses left. Jessica cut 17 roses from her flower garden, so she had 17 - 17 = 3 roses left. Jessica cut 3 roses more than those she threw away. So, the answer is 3.',\n",
       "       'The pickers fill 100 drums of raspberries per day, so they fill 100 drums * 235 pickers = 450 drums of raspberries per day. The pickers fill 221 drums of grapes per day, so they fill 221 drums * 450 drums = 76 drums of grapes per day. In 77 days, the pickers will fill 77 drums * 76 drums / day = 77 drums of grapes. So, the answer is 77.',\n",
       "       'The total number of kids who went to camp is 202958 kids  100 kids = 202958. The total number of kids who stayed home is 777622 kids  100 kids = 777622. The number of kids who stayed home is 777622 kids  100 kids = 777622. The number of kids who stayed home is 777622 kids  100 kids = 777622. The number of kids who stayed home is 777622 kids  100 kids = 777622. The number of kids who stayed home is 777622 kids  100 kids = 777622. The number of kids who stayed home is 777622 kids  100 kids = 777622. The number of kids who stayed home is 777622 kids  100 kids = 777622. The number of kids who stayed home is 777622 kids  100 kids = 777622. The number of kids who stayed home is 777622 kids  100 kids = 777622. The number of kids who stayed home is 777622 kids  100 kids = 777622. The number of kids who stayed home is 777622 kids  100 kids = 777622. The number of kids who stayed home is 777622 kids  100 kids = 777622. The number of kids who stayed home is 777622 kids  100 kids = 777622. The number of kids who stayed home is 777622 kids  100 kids = 777622. The number of kids who stayed home is 777622 kids  100 kids = 777622. The number of kids who stayed home is 777622 kids  100 kids = 777622. The number of kids who stayed home is 777622 kids  100 kids = 777622. The number of kids who stayed home is 777622 kids  100 kids = 777622. The number of kids who stayed home is 777622 kids  100 kids = 777622. The number of kids who stayed home is 777622 kids  100 kids = 777622. The number of kids who stayed home',\n",
       "       'The number of birds sitting on the fence is 3 + 2 = 4. The number of storks that came to join them is 4 + 6 = 10. The number of storks that are sitting on the fence is 3 - 10 = 1. The number of storks that are sitting on the fence is 3 - 1 = 2. The number of storks that are sitting on the fence is 2 - 2 = 1. The number of storks that are sitting on the fence is 2 - 1 = 2. The number of storks that are sitting on the fence is 2 - 2 = 2. The number of storks that are sitting on the fence is 2 - 2 = 2. The number of storks that are sitting on the fence is 2 - 2 = 2. The number of storks that are sitting on the fence is 2 - 2 = 2. The number of storks that are sitting on the fence is 2 - 2 = 2. The number of storks that are sitting on the fence is 2 - 2 = 2. The number of storks that are sitting on the fence is 2 - 2 = 2. The number of storks that are sitting on the fence is 2 - 2 = 2. The number of storks that are sitting on the fence is 2 - 2 = 2. The number of storks that are sitting on the fence is 2 - 2 = 2. The number of storks that are sitting on the fence is 2 - 2 = 2. The number of storks that are sitting on the fence is 2 - 2 = 2. The number of storks that are sitting on the fence is 2 - 2 = 2. The number of storks that are sitting on the fence is 2 - 2 = 2. The number of storks that are sitting on the fence is 2 - 2 = 2. The number of storks that are sitting on the fence is 2 - 2 = 2. The number of storks that are sitting on the fence is 2 - 2 = 2. The number of storks that are sitting on the fence is 2 - 2 = 2. The number of storks that are sitting on the fence is 2 - 2 = 2. The number of storks that are sitting on the fence is 2 - 2 = 2.',\n",
       "       'The block has 6 houses so there are 6 * 6 = 36 blocks. The mailman has to give 24 pieces of junk mail to each block so he has to give 24 * 36 = 144 pieces of junk mail. Each house has 36 pieces of junk mail so he has to give 144 / 36 = 4 pieces of junk mail. So, the answer is 4.',\n",
       "       'Bryan has 9 * 10 = 90 books in his bookshelves. He has 46 * 10 = 450 magazines in his bookshelves. In total, he has 90 + 450 = 450 magazines. Thus, the answer is 450.',\n",
       "       'They made 165 / 5 = $1 per day. So they made $1 / day. So the answer is 1.',\n",
       "       'Doug lost 27 - 27 = 3 marbles. Ed found 9 + 3 = 18 marbles. Ed had 18 + 24 = 36 marbles. Ed had 36 - 3 = 27 more marbles than Doug. Thus, the answer is 27.',\n",
       "       'He needs 166 - 20 = 123 g of wax. So he needs 123 / 2 = 66 g of wax. So the answer is 66.',\n",
       "       \"Jesse's room is 7 feet long and needs a carpet of size 14 square feet so it is 7 * 14 = 84 square feet. The width of her room is 84 square feet because 14 x 84 = 84. So the answer is 84.\",\n",
       "       'Frank read 193 / 15 = 6 chapters per day. So he read 6 / 660 = 2 chapters per day. So the answer is 2.',\n",
       "       'Jessie weighed 69 kg - 35 kg = 58 kg after jogging. So, she weighs 58 kg / 2 = 29 kg after jogging. So, the answer is 29.',\n",
       "       'Lewis earns $ 1357 / week * 223 weeks = $ 6657 / season. So, he will earn $ 6657 / season * 73 harvest seasons = $ 73,057 / season. So, the answer is 73.',\n",
       "       'The Razorback t-shirt shop made $ 51 x 3 = $105 from selling 3 t - shirt. So, the cost of each t - shirt is $ 51 / 3 = $11. So, the answer is 11.',\n",
       "       'The small seats can hold 3 * 16 = 48 people. The large seats can hold 7 * 12 = 84 people. Therefore, 84 / 48 = 4 people can ride the large seats. Thus, the answer is 4.',\n",
       "       'The previous day there were 600 visitors so that day there were 600 - 600 = 300 visitors. The Buckingham palace has 39 paintings and there were 300 visitors so there were 300 * 39 = 1,080 visitors. Rachel learned that 661 visitors came to the Buckingham palace that day so that day there were 661 - 1,080 = 189 more visitors than the previous day. So, the answer is 189.',\n",
       "       'They have 12 * 14 = 216 chairs. They have 216 + 6 = 236 chairs. So the answer is 236.',\n",
       "       'If he had 16 pieces of candy, he divided it equally between 2 bags, so he had 16 / 2 = 8 pieces of candy in each bag. So, the answer is 8.',\n",
       "       'They harvested 56 sacks of oranges for a total of 56 sacks / day = 4 sacks / day. They harvested 4 sacks / day / 14 days = 2 sacks / day. So the answer is 2.',\n",
       "       'He got a box of 617 crayons and 457 erasers so that’s 617 * 4 = 2120 crayons. He only had 523 crayons left so that’s 523 - 220 = 204 crayons left. He had 204 crayons and he didn’t lose any so that’s 204 / 2 = 78 crayons left. He had 78 crayons and he didn’t lose any so that’s 78 / 2 = 21 crayons left. He had 204 crayons and he didn’t lose any so that’s 204 - 21 = 105 crayons left. He had 105 crayons and he didn’t lose any so that’s 105 - 105 = 57 crayons left. He had 57 crayons and he didn’t lose any so that’s 57 - 57 = 57 crayons left. He had 57 crayons and he didn’t lose any so that’s 57 - 57 = 57 crayons left. He had 57 crayons and he didn’t lose any so that’s 57 - 57 = 57 crayons left. He had 57 crayons and he didn’t lose any so that’s 57 - 57 = 57 crayons left. He had 57 crayons and he didn’t lose any so that’s 57 - 57 = 57 crayons left. He had 57 crayons and he didn’t lose any so that’s 57 - 57 = 57 crayons left. He had 57 crayons and he didn’t lose any so that’s 57 - 57 = 57 crayons left. He had 57 crayons and he didn’t lose any so that’s 57 - 57 = 57 crayons left. He had 57 crayons and he didn’t lose any so that’s 57 - 57 = 57 crayons left. He had 57 crayons and he didn’t lose any so that’s 57 - 57 = 57 crayons left. He had 57 crayons and he didn’t lose any so that’s 57 - 57 = 57',\n",
       "       'Mary needs 3 + 5 = 8 cups of flour. She needs 10 - 8 = 5 cups of flour. She put in 5 cups of flour. Thus, Mary put in 5 cups of flour. Thus, the answer is 5.',\n",
       "       'They harvest 74 sacks / day x 51 days = 74,080 oranges. They discard 71 sacks x 51 days = 71,080 oranges. Therefore, they will have 74,080 oranges - 71,080 oranges = 74,080 oranges left. Thus, the answer is 74.',\n",
       "       'Before the bus stop, there were 2 + 2 = 4 children on the bus. So, there are 10 - 4 = 6 children on the bus now. Therefore, there are 6 - 2 = 3 more children on the bus than there were before the bus stop. So, the answer is 3.',\n",
       "       'Frank read 249 pages / book * 3 days = 599 pages in 3 days. So he read 599 pages / day = 59 pages per day. So the answer is 59.',\n",
       "       'Dan has 2 - 3 = 1 dollar. So he bought 6 / 3 = 2 candy bars. So he bought 2 * 2 = 4 candy bars. So the answer is 4.',\n",
       "       'Allan brought 2 balloons + 4 balloons = 6 balloons to the park. Allan bought 3 balloons at the park, so he had 6 balloons + 3 balloons = 9 balloons. Jake brought 4 balloons to the park, so he brought 4 balloons / 2 = 2 balloons. Allan bought 9 balloons + 3 balloons = 18 balloons at the park. Allan had 18 balloons - 4 balloons = 9 more balloons than Jake in the park. So, the answer is 9.',\n",
       "       'Julia played with 14 - 2 = 10 kids on tuesday. She played with 8 - 8 = 4 kids on wednesday. Julia played with 10 - 4 = 6 more kids on monday than on wednesday. So, the answer is 6.',\n",
       "       'If 269 students suggested adding bacon to the menu, 330 students suggested adding mashed potatoes to the menu, or 330 / 269 = 66 students suggested mashed potatoes. If 76 students suggested tomatoes, 76 students suggested tomatoes, or 76 / 20 = 66 students suggested tomatoes. If 66 students suggested mashed potatoes, or 66 students suggested mashed potatoes, or 66 students suggested bacon, or 66 students suggested tomatoes, or 66 students suggested bacon, or 66 students suggested mashed potatoes, or 66 students suggested mashed potatoes, or 66 students suggested bacon, or 66 students suggested mashed potatoes, or 66 students suggested mashed potatoes, or 66 students suggested bacon, or 66 students suggested mashed potatoes, or 66 students suggested mashed potatoes, or 66 students suggested bacon, or 66 students suggested mashed potatoes, or 66 students suggested bacon, or 66 students suggested mashed potatoes, or 66 students suggested bacon, or 66 students suggested mashed potatoes, or 66 students suggested bacon, or 66 students suggested mashed potatoes, or 66 students suggested bacon, or 66 students suggested bacon, or 66 students suggested bacon, or 66 students suggested bacon, or 66 students suggested bacon, or 66 students suggested bacon, or 66 students suggested bacon, or 66 students suggested bacon, or 66 students suggested bacon, or 66 students suggested bacon, or 66 students suggested bacon, or 66 students suggested bacon, or 66 students suggested bacon, or 66 students suggested bacon, or 66 students suggested bacon, or 66 students suggested bacon, or 66 students suggested bacon, or 66 students suggested bacon, or 66 students suggested bacon, or 66 students suggested bacon, or 66 students suggested bacon, or 66 students suggested bacon, or 66 students suggested bacon, or 66 students suggested bacon, or 66 students suggested bacon, or 66 students suggested bacon, or 66 students suggested bacon, or 66 students suggested bacon, or 66 students suggested bacon, or 66 students suggested bacon, or 66 students suggested bacon, or 66 students suggested bacon, or 66 students suggested bacon, or 66 students suggested bacon, or 66 students suggested bacon, or 66 students suggested bacon, or 66 students suggested bacon, or 66 students suggested bacon, or 66 students suggested bacon, or 66',\n",
       "       'The total number of sacks of ripe oranges harvested per day is 44 sacks of ripe oranges / day * 4 days = 104 sacks of ripe oranges. The total number of sacks of unripe oranges harvested per day is 25 sacks of unripe oranges / day * 4 days = 125 sacks of unripe oranges. The total number of sacks of ripe oranges harvested per day is 104 sacks of ripe oranges / day * 4 days = 420 sacks of ripe oranges. The total number of sacks of ripe oranges harvested per day is 104 sacks of ripe oranges / day * 4 days = 420 sacks of ripe oranges. The total number of sacks of ripe oranges harvested per day is 420 sacks of ripe oranges / day * 4 days = 420 sacks of ripe oranges. The total number of sacks of ripe oranges harvested per day is 420 sacks of ripe oranges / day * 4 days = 420 sacks of ripe oranges. The total number of sacks of ripe oranges harvested per day is 420 sacks of ripe oranges / day * 4 days = 420 sacks of ripe oranges. The total number of sacks of ripe oranges harvested per day is 420 sacks of ripe oranges / day * 4 days = 420 sacks of ripe oranges. The total number of sacks of ripe oranges harvested per day is 420 sacks of ripe oranges / day * 4 days = 420 sacks of ripe oranges. The total number of sacks of ripe oranges harvested per day is 420 sacks of ripe oranges / day * 4 days = 420 sacks of ripe oranges. The total number of sacks of ripe oranges harvested per day is 420 sacks of ripe oranges / day * 4 days = 420 sacks of ripe',\n",
       "       'Paul got 65 crayons for his birthday. During the school year he gave 213 crayons to his friends. So, he gave away 213 - 65 = 126 crayons. Therefore, 126 - 16 = 108 crayons were lost or given away. So, the answer is 108.',\n",
       "       '43 - 21 = 28 children got off the bus. So, the answer is 28.',\n",
       "       'Robin’s hair was 20 inches long so he cut off 20 - 10 = 10 inches. His hair was 10 inches long so it was 10 - 10 = 5 inches long before he cut it. So, the answer is 5.',\n",
       "       'Mary needs to add 7 - 4 = 2 cups of sugar to the recipe. She needs to add 10 - 4 = 2 cups of flour to the recipe. Therefore, Mary needs to add 2 cups + 2 cups = 4 cups of sugar to the recipe. Thus, the answer is 4.',\n",
       "       'There were 521 - 174 = 416 pupils in the program. Therefore, there were 416 - 174 = 117 more pupils than parents in the program. So, the answer is 117.',\n",
       "       'The total number of kids that stay home is 907611 kids - 455682 kids = 455682 kids. The total number of kids that go to camp is 455682 kids - 455611 kids = 455682 kids. The total number of kids in Lawrence county is 455682 kids + 455682 kids = 6638 kids. So, the answer is 6638.',\n",
       "       'He has 12 + 53 = 81 bottle caps. So the answer is 81.',\n",
       "       'Lewis earns $ 16 x 7 = $128 during the harvest. So, the harvest lasts 1216 / $128 = 4 weeks. Thus, the answer is 4.',\n",
       "       \"Brenda's mother made 22 - 17 = 10 cookies. Each of them had 10 / 2 = 5 cookies. So the answer is 5.\",\n",
       "       'Sofia asked 324 + 374 + 128 = 528 students to suggest new food items. Sofia asked 528 students to suggest new food items. Sofia asked 528 students to suggest new food items. Sofia asked 528 students to suggest new food items. Sofia asked 528 students to suggest new food items. Sofia asked 528 students to suggest new food items. Sofia asked 528 students to suggest new food items. Sofia asked 528 students to suggest new food items. Sofia asked 528 students to suggest new food items. Sofia asked 528 students to suggest new food items. Sofia asked 528 students to suggest new food items. Sofia asked 528 students to suggest new food items. Sofia asked 528 students to suggest new food items. Sofia asked 528 students to suggest new food items. Sofia asked 528 students to suggest new food items. Sofia asked 528 students to suggest new food items. Sofia asked 528 students to suggest new food items. Sofia asked 528 students to suggest new food items. Sofia asked 528 students to suggest new food items. Sofia asked 528 students to suggest new food items. Sofia asked 528 students to suggest new food items. Sofia asked 528 students to suggest new food items. Sofia asked 528 students to suggest new food items. Sofia asked 528 students to suggest new food items. Sofia asked 528 students to suggest new food items. Sofia asked 528 students to suggest new food items. Sofia asked 528 students to suggest new food items. Sofia asked 528 students to suggest new food items. Sofia asked 528 students to suggest new food items. Sofia asked 528 students to suggest new food items. Sofia asked 528 students to suggest new food items. Sofia asked 528 students to suggest new food items. Sofia asked 528 students to suggest new food items. Sofia asked 528 students to suggest new food items. Sofia asked 528 students to suggest new food items. Sofia asked 528 students to suggest new food items. Sofia asked 528 students to suggest new food items. Sofia asked 528 students to suggest new food items. Sofia asked 528 students to suggest new food items. Sofia asked 528 students to suggest new food items. Sofia asked 528 students to suggest new food items. Sofia asked 528 students to suggest new food items. Sofia asked 528 students to suggest new food items. Sofia asked 528 students to suggest new food items. Sofia asked 528 students to suggest new food items. Sofia asked 528 students to suggest new',\n",
       "       'They have 11 sets of tables and each set has 13 chairs so they have 11 * 13 = 138 chairs. They have 138 chairs in the backyard. So, the answer is 138.',\n",
       "       'Dan has $ 3 left with him after he bought a candy bar for $ 2, so he had $ 3 + $ 2 = $5 left. Then, Dan had $5 - $ 2 = $3 left initially. So, the answer is 3.',\n",
       "       'The frog jumped 35 - 4 = 32 inches farther than the grasshopper. So the grasshopper jumped 35 - 32 = 22 inches farther. The grasshopper jumped 22 inches - 4 inches farther = 22 inches farther. Altogether, they jumped 22 inches + 22 inches = 44 inches. So the answer is 44.',\n",
       "       'Jerry had 5 action figures and 2 books on his shelf so he had 5 + 2 = 7 action figures on his shelf. He added 9 books to his shelf so he had 9 + 2 = 11 books on his shelf. Jerry had 11 books and 5 action figures on his shelf so he had 7 + 5 = 10 books on his shelf. Jerry had 10 books and 5 action figures on his shelf so he had 10 - 5 = 5 books more than action figures on his shelf. So, the answer is 5.',\n",
       "       'If mom buys 39 white t - shirts, she will have 39 / 13 = 3 packages. Thus, the answer is 3.',\n",
       "       'The frog jumped 39 - 19 = 29 inches farther than the grasshopper. The mouse jumped 29 - 12 = 20 inches. The mouse jumped 20 inches less than the frog. The mouse jumped 20 inches less than the frog. The mouse jumped 20 inches less than the mouse. The mouse jumped 20 inches less than the mouse. The mouse jumped 20 inches less than the mouse. The mouse jumped 20 inches less than the mouse. The mouse jumped 20 inches less than the mouse. The mouse jumped 20 inches less than the mouse. The mouse jumped 20 inches less than the mouse. The mouse jumped 20 inches less than the mouse. The mouse jumped 20 inches less than the mouse. The mouse jumped 20 inches less than the mouse. The mouse jumped 20 inches less than the mouse. The mouse jumped 20 inches less than the mouse. The mouse jumped 20 inches less than the mouse. The mouse jumped 20 inches less than the mouse. The mouse jumped 20 inches less than the mouse. The mouse jumped 20 inches less than the mouse. The mouse jumped 20 inches less than the mouse. The mouse jumped 20 inches less than the mouse. The mouse jumped 20 inches less than the mouse. The mouse jumped 20 inches less than the mouse. The mouse jumped 20 inches less than the mouse. The mouse jumped 20 inches less than the mouse. The mouse jumped 20 inches less than the mouse. The mouse jumped 20 inches less than the mouse. The mouse jumped 20 inches less than the mouse. The mouse jumped 20 inches less than the mouse. The mouse jumped 20 inches less than the mouse. The mouse jumped 20 inches less than the mouse. The mouse jumped 20 inches less than the mouse. The mouse jumped 20 inches less than the mouse. The mouse jumped 20 inches less than the mouse. The mouse jumped 20 inches less than the mouse. The mouse jumped 20 inches less than the mouse. The mouse jumped 20 inches less than the mouse. The mouse jumped 20 inches less than the mouse. The mouse jumped 20 inches less than the mouse. The mouse jumped 20 inches less than the mouse. The mouse jumped 20 inches less than the mouse. The mouse jumped 20 inches less than the mouse. The mouse jumped 20 inches less than the mouse. The mouse jumped 20 inches less than the mouse. The mouse jumped',\n",
       "       'Julia played with 12 kids on Monday and 14 kids on Tuesday for a total of 12 + 14 = 28 hours. She played tag with 28 hours / 34 hours = 6 kids on Monday. She played tag with 6 kids on Tuesday and 14 kids on Wednesday for a total of 14 + 6 = 21 kids. Altogether, Julia played with 28 kids + 21 kids = 57 kids. So, the answer is 57.',\n",
       "       'Katie has 62 new games so she has 62 * .5 = 66 new games. Her friends have 73 new games so they have 73 * .5 = 71 new games. Together they have 66 + 71 = 103 old games. They have 3 old games because 103 / 3 = 3. So, the answer is 3.',\n",
       "       'The previous day there were 191 visitors so that means there were 191 - 457 = 117 visitors the previous day. The day before that there were 457 visitors so that means there were 457 - 117 = 427 visitors the day before that. The previous day there were 117 visitors so that means there were 427 + 427 = 527 visitors the previous day. The previous day there were 245 days so that means there were 245 days - 1 day = 245 days of visitors. The day before that there were 457 visitors so that means there were 457 - 457 = 117 visitors the previous day. The day before that there were 457 visitors so that means there were 457 - 117 = 117 visitors the previous day. The day before that there were 457 visitors so that means there were 117 + 117 = 117 visitors the previous day. The day after that there were 705 visitors so that means there were 705 + 117 = 705 + 117 = 705 + 117 = 705 + 117 = 705 + 117 = 705 + 117 = 705 + 117 = 705 + 117 = 705 + 117 = 705 + 117 = 705 + 117 = 705 + 117 = 705 + 117 = 705 + 117 = 705 + 117 = 705 + 117 = 705 + 117 = 705 + 117 = 705 + 117 = 705 + 117 = 705 + 117 = 705 + 117 = 705 + 117 = 705 + 117 = 705 + 117 = 705 + 117 = 705 + 117 = 705 + 117 = 705 + 117 = 705 + 117 = 705 + 117 = 705 + 117 = 705 + 117 = 705 + 117 = 705 + 117 = 705 + 117 = 705 + 117 = 705 + 117 = 705 + 117 = 705 + 117 = 705 + 117 = 705 + 117 = 705 + 117 = 705 + 117 = 705 + 117 = 705 + 117 = 705 + 117 = 705 + 117 = 705 + 117 = 705 + 117 = 705 + 117 =',\n",
       "       'The first chapter has 66 pages so it has 66 * 1 = 176 pages. The second chapter has 35 pages so it has 35 * 1 = 70 pages. The third chapter has 24 pages so it has 24 * 1 = 72 pages. Altogether the book has 176 + 70 + 72 = 204 pages. So the answer is 204.',\n",
       "       'He had 43 apples - 2 apples = 43 apples left. So he used 43 apples / 2 apples = 21 apples. Thus, the answer is 21.',\n",
       "       'Ryan spends 6 hours / day x 2 days = 12 hours on learning english. Ryan spends 5 hours / day x 2 days = 10 hours on learning chinese. Ryan spends 12 hours x 6 hours = 96 hours on learning english. In all, Ryan spends 96 hours x 12 hours = 216 hours on learning english. So, the answer is 216.',\n",
       "       'Dave won 7 tickets at the arcade and has 2 tickets left so he won 7 - 2 = 5 tickets. Dave used 5 tickets to buy toys because 5 x 2 = 5. Thus, the answer is 5.',\n",
       "       \"Dean's height is 9 feet so the depth of the water is 10 * 9 = 90 feet. The depth of the water is 90 feet so the water is 90 / 10 = 3 feet deeper than Dean's height. So, the answer is 3.\",\n",
       "       'David did 15 + 39 = 69 push - ups. John did 69 - 9 = 69 push - ups. Zachary did 69 - 15 = 57 push - ups. Zachary did 57 more push - ups than John. So, the answer is 57.',\n",
       "       'Haley grew 13 - 6 = 5 trees that survived the typhoon. 5 - 6 = 2 trees survived the typhoon. 2 trees survived the typhoon than those that died. Thus, the answer is 2.',\n",
       "       'At the end of the school year, Paul had 521 - 66 = 412 crayons left. Since he had not lost an eraser, he had 412 - 66 = 154 crayons left. Since he had not lost an eraser, he had 154 - 66 = 154 crayons left. Since he had not lost an eraser, he had 154 - 154 = 154 crayons left. Therefore, the answer is 154.',\n",
       "       'The pickers fill 8 drums of grapes per day, so they fill 8 drums of grapes per day * 36 pickers = 96 drums of grapes per day. To fill 240 drums of grapes, it will take 240 drums of grapes / 8 drums per day = 6 days. So, the answer is 6.',\n",
       "       'Adam could fit 8 action figures on each shelf, so he could fit 8 * 4 = 32 action figures on each shelf. He could fit 10 cabinets on each shelf, so he could fit 10 * 10 = 200 cabinets on each shelf. In total, Adam could fit 32 + 200 = 240 items on his shelves. Thus, the answer is 240.',\n",
       "       'The number of birds sitting on the fence is 3 birds + 4 storks = 7 birds. The number of storks sitting on the fence is 6 storks + 7 birds = 14 storks. The total number of birds and storks sitting on the fence is 7 birds + 14 storks = 21 birds and storks. So, the answer is 21.',\n",
       "       'If there were 41 bird families living near the mountain, and 35 bird families flew away to asia, there were 41 - 35 = 9 bird families that flew away to asia. If 62 bird families flew away to africa, there were 62 - 35 = 11 bird families that flew away to africa. If 11 bird families flew away to africa, there were 11 * 62 = 126 more bird families that flew away to africa than those that flew away to asia. Thus, the answer is 126.',\n",
       "       'Mom buys 51 / 3 = 9 white t - shirts. She will have 9 / 3 = 2 packages. Thus, the answer is 2.',\n",
       "       'On Monday, Julia played with 15 kids / 2 = 10 kids. On Tuesday, she played with 18 kids / 2 = 9 kids. On Wednesday, she played with 97 kids / 2 = 91 kids. On Monday and Tuesday, Julia played with 10 kids + 9 kids = 21 kids. So, the answer is 21.',\n",
       "       'There are 315 girls and 309 boys in the school so there are 315 + 309 = 645 people in the school. There are also 772 teachers in the school so there are 645 + 772 = 1056 people in the school. So, the answer is 1056.',\n",
       "       'Dave used 5 + 11 = 17 tickets. Dave has 18 - 17 = 6 tickets left. So, the answer is 6.',\n",
       "       'There were 89 - 60 = 58 bird families that stayed behind. There were 58 - 60 = 6 bird families that flew away for the winter. 6 - 6 = 2 bird families flew away for the winter. There were 6 - 2 = 3 bird families that flew away for the winter. Thus, there were 3 - 2 = 2 more bird families that flew away for the winter than those that stayed behind. Thus, the answer is 2.',\n",
       "       'The total number of children riding on the bus is 41 - 2 = 42. The number of children riding on the bus before the bus stop is 42 / 2 = 21. So, the answer is 21.',\n",
       "       'He read 2 * 405 = 800 pages in the book. So he read 800 / 2 = 200 chapters. So he read 200 / 664 = 4 chapters per day. So the answer is 4.',\n",
       "       'If Zachary did 34 push - ups, David did 40 + 34 = 57 push - ups. David did 62 - 17 = 57 crunches. David did 57 crunches. So, the answer is 57.',\n",
       "       'Baker sold 145 cakes so he made 145 - 72 = 105 cakes. Therefore, the answer is 105.',\n",
       "       'The machine can make 3 shirts per minute, so it can make 6 / 3 = 2 shirts per minute. So it can make 2 * 3 = 6 shirts per minute. So it can make 6 / 6 = 2 shirts per minute. So it can work for 2 * 60 = 120 minutes. So the answer is 120.',\n",
       "       'He needs 353 - 57 = 322 g of wax. He needs 22 + 322 = 422 g of wax. He has 422 - 22 = 223 g of wax. He has 223 - 223 = 126 g of wax. So the answer is 126.',\n",
       "       'Mary needs to add 11 - 6 = 2 cups of sugar. She needs to add 9 - 9 = 2 cups of salt. Mary needs to add 2 cups of sugar - 2 cups of salt = 1 cup of salt. Thus, Mary needs to add 1 cup of salt - 2 cups of sugar = 1 cup of salt. Thus, the answer is 1.',\n",
       "       'Lucy bought 10 packs of cookie and 4 packs of cake for a total of 10 + 4 = 14 packs of cookies. Lucy bought 14 packs of cookies over 4 packs of cake because 14 - 4 = 14. Lucy bought 14 packs of cookies over 4 packs of cake because 14 - 4 = 14. Lucy bought 14 packs of cookies over 4 packs of cake because 14 - 4 = 14. Lucy bought 14 packs of cookies over 4 packs of cake because 14 - 4 = 14. Lucy bought 14 packs of cookies over 4 packs of cake because 14 - 4 = 14. Lucy bought 14 packs of cookies over 4 packs of cake because 14 - 4 = 14. Lucy bought 14 packs of cookies over 4 packs of cake because 14 - 4 = 14. Lucy bought 14 packs of cookies over 4 packs of cake because 14 - 4 = 14. Lucy bought 14 packs of cookies over 4 packs of cake because 14 - 4 = 14. Lucy bought 14 packs of cookies over 4 packs of cake because 14 - 4 = 14. Lucy bought 14 packs of cookies over 4 packs of cake because 14 - 4 = 14. Lucy bought 14 packs of cookies over 4 packs of cake because 14 - 4 = 14. Lucy bought 14 packs of cookies over 4 packs of cake because 14 - 4 = 14. Lucy bought 14 packs of cookies over 4 packs of cake because 14 - 4 = 14. Lucy bought 14 packs of cookies over 4 packs of cake because 14 - 4 = 14. Lucy bought 14 packs of cookies over 4 packs of cake because 14 - 4 = 14. Lucy bought 14 packs of cookies over 4 packs of cake because 14 - 4 = 14. Lucy bought 14 packs of cookies over 4 packs of cake because 14 - 4 = 14. Lucy bought 14 packs of cookies over 4 packs of cake because 14 - 4 = 14. Lucy bought 14 packs of cookies over 4 packs of cake because 14 - 4 = 14. Lucy bought 14 packs of cookies over 4 packs of cake because 14 - 4 = 14. Lucy bought 14 packs of cookie over 4 packs of cake because 14 - 4 = 14. Lucy bought 14 packs of cookie over 4 packs of cake because 14 - 4 = 14. Lucy bought 14 packs of cookie over 4 packs of cake because 14 - 4 = 14.',\n",
       "       'Steven has 4502 skittles and 4276 erasers so that’s 4502 + 4276 = 6656 skittles. Steven has 6656 erasers and 6656 skittles so that’s 6656 / 6656 = 4 groups. Each group is 4 groups so each group is 4 * 4 = 16 groups. So the answer is 16.',\n",
       "       'The carnival made 325 x 154 = $1,025 in the first 154 days. So, they made 114 x 57 = $1,057 in the remaining 57 days. Therefore, they made $1,057 / 57 = $3 per day in the remaining 57 days. So, the answer is 3.',\n",
       "       'Rachel had 5 - 2 = 3 pages of math homework. Rachel had 3 - 2 = 1 page of reading homework. Rachel had 3 - 1 = 2 pages of math homework. Rachel had 2 pages - 1 page = 1 page of reading homework. Rachel had 2 pages - 1 page = 1 page of math homework. Rachel had 2 pages - 1 page = 1 page of reading homework. Rachel had 2 pages - 1 page = 1 page of math homework. Rachel had 2 pages - 1 page = 1 page of reading homework. Rachel had 2 pages - 1 page = 1 page of math homework. Rachel had 2 pages - 1 page = 1 page of reading homework. Rachel had 2 pages - 1 page = 1 page of math homework. Rachel had 2 pages - 1 page = 1 page of reading homework. Rachel had 2 pages - 1 page = 1 page of math homework. Rachel had 2 pages - 1 page = 1 page of reading homework. Rachel had 2 pages - 1 page = 1 page of math homework. Rachel had 2 pages - 1 page = 1 page of reading homework. Rachel had 2 pages - 1 page = 1 page of math homework. Rachel had 2 pages - 1 page = 1 page of reading homework. Rachel had 2 pages - 1 page = 1 page of math homework. Rachel had 2 pages - 1 page = 1 page of reading homework. Rachel had 2 pages - 1 page = 1 page of math homework. Rachel had 2 pages - 1 page = 1 page of reading homework. Rachel had 2 pages - 1 page = 1 page of math homework. Rachel had 2 pages - 1 page = 1 page of reading homework. Rachel had 2 pages - 1 page = 1 page of math homework. Rachel had 2 pages - 1 page = 1 page of reading homework. Rachel had 2 pages - 1 page = 1 page of math homework. Rachel had 2 pages - 1 page = 1 page of reading homework. Rachel had 2 pages - 1 page = 1 page of math homework. Rachel had 2 pages - 1 page = 1 page of reading homework. Rachel had 2 pages - 1 page = 1 page of math homework. Rachel had 2 pages - 1 page = 1 page of reading homework. Rachel had 2 pages - 1 page = 1 page of math homework. Rachel had 2 pages - 1 page = 1 page of reading homework. Rachel had 2 pages - 1 page',\n",
       "       'Carol bought 6 packs of invitations, so she has 6 * 14 = 108 invitations. She bought 11 extra invitations, so she has 108 + 11 = 111 invitations. The total number of invitations she can invite is 108 + 111 = 227. Thus, the answer is 227.',\n",
       "       'The total number of red peaches is 6 peaches x 100 = 240. The total number of yellow peaches is 90 peaches x 100 = 900. The total number of green peaches is 16 peaches x 100 = 480. The total number of peaches is 240 + 900 + 480 = 480. The number of red and green peaches is 480 / 2 = 208. Thus, the answer is 208.',\n",
       "       'Jack received 4 emails in the morning and received 5 emails in the day so he received 4 + 5 = 8 emails in the day. Jack received 8 emails in the afternoon so he received 8 / 2 = 4 emails in the afternoon. So, the answer is 4.',\n",
       "       'Each guest had 14 cookies so 2 guests each had 14 cookies / 2 = 7 cookies. Each guest had 7 cookies so each guest had 7 cookies / 2 = 3 cookies. So, the answer is 3.',\n",
       "       'Debby drinks 6 bottles a day so she drinks 6 * 12 = 96 bottles a day. If she bought 12 water bottles then they would last her 12 / 6 = 2 days. So, the answer is 2.',\n",
       "       'Emily has 16 / 8 = 2 beads per necklace. She can make 2 * 8 = 16 necklaces. Thus, the answer is 16.',\n",
       "       'Jack received 4 emails in the morning, so he received 4 + 5 = 9 emails in the afternoon. Jack received 8 emails in the evening, so he received 8 + 8 = 14 emails in the afternoon and evening. Therefore, the answer is 14.',\n",
       "       'Sofia asked 310 students to suggest specific types of food and 185 students suggested adding mashed potatoes so 310 - 185 = 105 students suggested bacon. Bacon is a food and 105 students suggested adding mashed potatoes so 105 / 105 = 5 students suggested bacon. So, the answer is 5.',\n",
       "       'It will take 80 / 16 = 4 days to harvest 80 sacks of oranges. So, the answer is 4.',\n",
       "       'On monday, Julia played with 9 kids - 7 kids = 5 kids. On tuesday, Julia played with 7 kids - 5 kids = 3 kids. On Wednesday, Julia played with 96 kids - 3 kids = 108 kids. Julia played with 108 kids - 9 kids = 108 more kids on monday than on tuesday. So, the answer is 108.',\n",
       "       'Allan brought 3 balloons + 20 balls = 6 balloons. Jake brought 5 balloons + 59 balls = 105 balls. Together, they brought 6 balloons + 105 balls = 145 balloons. Therefore, the answer is 145.',\n",
       "       'Yesterday the machine made 6 x 12 = 72 shirts. Today it made 14 x 6 = 84 shirts. Altogether the machine made 72 + 84 = 144 shirts. So, the answer is 144.',\n",
       "       'They are going to go 849 - 849 = 117 feet farther. So, the answer is 117.',\n",
       "       'Allan brought 5 balloons to the park and Jake brought 6 balloons so that’s 5 + 6 = 10 balloons. Jake bought 3 more balloons at the park so that’s 3 + 3 = 5 balloons. Allan brought 5 balloons to the park and Jake brought 6 balloons so that’s 5 + 6 = 9 balloons. Then add up all the balloons to find the total number of balloons Jake brought to the park: 9 balloons + 6 balloons = 18 balloons. So, the answer is 18.',\n",
       "       'The total number of children riding on the bus is 36 children + 68 children = 126 children. The number of children that got off the bus is 126 children - 68 children = 66 children. The number of children that got on the bus is 12 children + 68 children = 108 children. The number of children that got off the bus is 126 children - 68 children = 66 children. Therefore, 66 children - 126 children = 68 children got off the bus. Thus, 68 children - 126 children = 68 children got off the bus. Therefore, 68 children - 126 children = 68 children got off the bus. Thus, 68 children - 126 children = 68 children got off the bus. Thus, 68 children - 126 children = 68 children got off the bus. Thus, 68 children - 126 children = 68 children got off the bus. Thus, 68 children - 126 children = 68 children got off the bus. Thus, 68 children - 126 children = 68 children got off the bus. Thus, 68 children - 126 children = 68 children got off the bus. Thus, 68 children - 126 children = 68 children got off the bus. Thus, 68 children - 126 children = 68 children got off the bus. Thus, 68 children - 126 children = 68 children got off the bus. Thus, 68 children - 126 children = 68 children got off the bus. Thus, 68 children - 126 children = 68 children got off the bus. Thus, 68 children - 126 children = 68 children got off the bus. Thus, 68 children - 126 children = 68 children got off the bus. Thus, 68 children - 126 children = 68 children got off the bus. Thus, 68 children - 126 children = 68 children got off the bus. Thus, 68 children - 126 children = 68 children got off the bus. Thus, 68 children - 126 children = 68 children got off the bus. Thus, 68 children - 126 children = 68 children got off the bus. Thus, 68 children - 126 children = 68 children got off the bus. Thus, 68 children ',\n",
       "       'Melissa scored 21 / 7 = 4 points in each game. So she played 21 / 4 = 6 games. Thus, the answer is 6.',\n",
       "       'Doug lost 2 more marbles than Ed, so he has 2 + 1 = 3 marbles. Ed has 19 more marbles than Doug, so he has 19 + 3 = 23 marbles. Doug lost 3 marbles at the playground. So, the answer is 23.',\n",
       "       'Ryan learns english for 7 days, so he spends 4 hours / day * 7 days = 28 hours learning english. Ryan learns chinese for 7 days, so he spends 5 hours / day * 7 days = 35 hours learning chinese. Ryan learns english and chinese for 28 hours + 35 hours = 66 hours in all. So, the answer is 66.',\n",
       "       'The ripe oranges are harvested 5 sacks / day * 4 days = 20 sacks of ripe oranges per day. The unripe oranges are harvested 74 sacks / day * 4 days = 232 sacks of unripe oranges per day. The unripe oranges are harvested 232 sacks / day * 20 sacks / day = 224 more sacks of unripe oranges than ripe oranges per day. So, the answer is 224.',\n",
       "       'The total number of children riding on the bus is 26 + 38 = 57. So, the answer is 57.',\n",
       "       'If 228 students suggested adding mashed potatoes, the number of students who suggested bacon is 337 - 228 = 129. The number of students who suggested tomatoes is 23 - 23 = 9 students. If the number of students who suggested bacon is 129, the number of students who suggested bacon is 129 - 23 = 81. The number of students who suggested tomatoes is 23 - 23 = 9 students. The number of students who suggested bacon is 81 - 9 = 63. The number of students who suggested bacon is 63 - 23 = 63. The number of students who suggested tomatoes is 23 - 23 = 63. The number of students who suggested bacon is 63 - 63 = 63. The number of students who suggested bacon is 63 - 63 = 63. The number of students who suggested tomatoes is 23 - 23 = 63. The number of students who suggested bacon is 63 - 63 = 63. The number of students who suggested tomatoes is 23 - 23 = 63. The number of students who suggested bacon is 63 - 63 = 63. The number of students who suggested tomatoes is 23 - 23 = 63. The number of students who suggested bacon is 63 - 63 = 63. The number of students who suggested tomatoes is 23 - 23 = 63. The number of students who suggested bacon is 63 - 63 = 63. The number of students who suggested tomatoes is 23 - 23 = 63. The number of students who suggested bacon is 63 - 63 = 63. The number of students who suggested tomatoes is 23 - 23 = 63. The number of students who suggested bacon is 63 - 63 = 63. The number of students who suggested tomatoes is 23 - 23 = 63. The number of students who suggested bacon is 63 - 63 = 63. The number of students who suggested tomatoes is 23 - 23 = 63. The number of students who suggested bacon is 63 - 63 = 63. The number of students who suggested tomatoes is 23 - 23 = 63. The number of students who suggested bacon is 63 - 63 = 63. The number of students who suggested tomatoes is 23 - 23 = 63. The number of students who suggested bacon is 63 - 63 =',\n",
       "       'There are 20 - 5 = 15 books in the series. So, you have already read 15 / 5 = 2 books. Thus, the answer is 2.',\n",
       "       'Debby bought 200 water bottles and 256 soda bottles for a total of 200 + 256 = 512 bottles. If she drank 312 water bottles a day, then she drank 312 * 512 = 108 water bottles a day. If she drank 4 soda bottles a day, then she drank 4 * 108 = 216 soda bottles a day. If she drank 216 soda bottles a day, then the soda bottles would last 216 / 4 = 16 days. Thus, the answer is 16.',\n",
       "       'There are 21 - 7 = 10 books in the series. There are 8 - 4 = 2 movies in the series. There are 2 - 10 = 1 movie left to watch. So the answer is 1.',\n",
       "       'The frog jumped 33 inches farther than the grasshopper, so the frog jumped 33 - 24 = 9 inches farther. The mouse jumped 5 inches less than the frog, so the mouse jumped 9 - 5 = 7 inches farther than the frog. The mouse jumped 7 inches farther than the grasshopper, so the mouse jumped 7 inches farther than the grasshopper. Thus, the answer is 7.',\n",
       "       'There are 58 classrooms / classroom * 87 classrooms = 58 classrooms. There are 58 classrooms / classroom * 2 seats per classroom = 108 seats. There are 58 classrooms / classroom * 2 seats per classroom = 216 seats. There are 108 seats / 2 seats per classroom = 108 seats. There are 108 seats / 2 seats per classroom = 108 seats. There are 108 seats / 2 seats per classroom = 108 seats. There are 108 seats / 2 seats per classroom = 108 seats. There are 108 seats / 2 seats per classroom = 108 seats. There are 108 seats / 2 seats per classroom = 108 seats. There are 108 seats / 2 seats per classroom = 108 seats. There are 108 seats / 2 seats per classroom = 108 seats. There are 108 seats / 2 seats per classroom = 108 seats. There are 108 seats / 2 seats per classroom = 108 seats. There are 108 seats / 2 seats per classroom = 108 seats. There are 108 seats / 2 seats per classroom = 108 seats. There are 108 seats / 2 seats per classroom = 108 seats. There are 108 seats / 2 seats per classroom = 108 seats. There are 108 seats / 2 seats per classroom = 108 seats. There are 108 seats / 2 seats per classroom = 108 seats. There are 108 seats / 2 seats per classroom = 108 seats. There are 108 seats / 2 seats per classroom = 108 seats. There are 108 seats / 2 seats per classroom = 108 seats. There are 108 seats / 2 seats per classroom = 108 seats. There are 108 seats / 2 seats per classroom = 108 seats. There are 108 seats / 2 seats per classroom = 108 seats. There are 108 seats / 2 seats per classroom = 108 seats. There are 108 seats / 2 seats per classroom = 108 seats. There are 108 seats / 2 seats per classroom = 108 seats. There are 108 seats / 2 seats per classroom = 108 seats. There are 108 seats / 2 seats per classroom = 108 seats. There are 108 seats / 2 seats per classroom = 108 seats. There are 108 seats ',\n",
       "       \"Marco's strawberries weighed 22 pounds. Marco's dad found 30 pounds of strawberries. Together, Marco's and his dad's strawberries weighed 22 + 30 = 46 pounds. Marco's strawberries weighed 46 pounds. Marco's dad's strawberries weighed 46 pounds. So, the answer is 46.\",\n",
       "       'Haley gave 10 / 5 = 2 marbles to each boy. So she gave 2 * 5 = 10 marbles to each boy. Therefore, she gave 10 + 2 = 12 marbles to each boy. Therefore, she gave 12 / 5 = 2 boys marbles. Thus, the answer is 2.',\n",
       "       'If 166 more students suggested adding bacon than those that suggested mashed potatoes, then 182 + 166 = 196 students suggested adding bacon to the menu. The total number of students that suggested bacon is 196 + 182 = 276. So, the answer is 276.',\n",
       "       'Jerry added 7 more action figures to the shelf, so there are 10 + 7 = 17 action figures on the shelf. Jerry originally had 17 + 7 = 23 action figures on the shelf. So the answer is 23.',\n",
       "       'John would use 11 - 8 = 6 nails to secure the planks. So he would need 6 / 3 = 2 planks. So the answer is 2.',\n",
       "       'Josh found 13 + 5 = 17 marbles. So, he has 22 - 17 = 11 marbles left. Thus, the answer is 11.',\n",
       "       'Paco had 13 - 2 = 9 cookies left. He bought 36 - 9 = 32 more cookies. Paco bought 32 - 9 = 22 more cookies than those he ate. So, the answer is 22.',\n",
       "       'The number of children riding on the bus before the bus stop is 41 - 18 = 38. The number of children riding on the bus before the bus stop is 38 - 18 = 21. The number of children riding on the bus before the bus stop is 21 - 18 = 6 children. The number of children riding on the bus before the bus stop is 6 - 18 = 3 children. The number of children riding on the bus before the bus stop is 3 - 18 = 2 children. The number of children riding on the bus before the bus stop is 2 - 3 = 1 children. The number of children riding on the bus before the bus stop is 2 - 1 = 1 children. The number of children riding on the bus before the bus stop is 1 + 1 = 2 children. The number of children riding on the bus before the bus stop is 2 - 2 = 1 children. The number of children riding on the bus before the bus stop is 2 - 1 = 1 children. The number of children riding on the bus before the bus stop is 1 + 1 = 2 children. The number of children riding on the bus before the bus stop is 2 - 2 = 1 children. The number of children riding on the bus before the bus stop is 2 - 1 = 1 children. The number of children riding on the bus before the bus stop is 2 - 1 = 1 children. The number of children riding on the bus before the bus stop is 2 - 1 = 1 children. The number of children riding on the bus before the bus stop is 2 - 1 = 1 children. The number of children riding on the bus before the bus stop is 2 - 1 = 1 children. The number of children riding on the bus before the bus stop is 2 - 1 = 1 children. The number of children riding on the bus before the bus stop is 2 - 1 = 1 children. The number of children riding on the bus before the bus stop is 2 - 1 = 1 children. The number of children riding on the bus before the bus stop is 2 - 1 = 1 children. The number of children riding on the bus before the bus stop is 2 - 1 = 1 children. The number of children riding on the bus before the bus stop is 2 - 1 = 1 children. The number of children riding on the bus before the bus stop is 2 - 1 = 1 children. The number of children riding on the bus before the bus stop',\n",
       "       'Adam has 9 + 3 = 13 apples. Jackie has 13 - 9 = 2 apples. So the answer is 2.',\n",
       "       'If mom buys 28 packages, each package has 56 / 28 = 2 white t - shirts. Since each package has 2 white t - shirts, each package has 2 * 2 = 4 white t - shirts. Thus, the answer is 4.',\n",
       "       'Dan spent $ 4 on candy bar and $ 6 on chocolate. So, he spent $ 4 + $ 7 = $12 on candy bar and chocolate. Therefore, the answer is 12.',\n",
       "       'He had 25 bottle caps in his collection earlier so that leaves 25 - 32 = 8 bottle caps. He found 8 bottle caps at the park because 32 - 8 = 8. Thus, the answer is 8.',\n",
       "       'Matthew gave 36 / 6 = 6 crackers to each of his friends. So he gave 6 * 6 = 36 crackers to his friends. Thus, Matthew gave crackers to 36 / 6 = 6 friends. Thus, the answer is 6.',\n",
       "       'Jessie lost 114 - 50 = 78 kilograms in the first week. She lost 78 - 60 = 58 kilograms in the second week. So, she lost 78 - 58 = 58 kilograms in the first week. Therefore, Jessie weighs 114 - 58 = 58 kilograms now. So, the answer is 58.',\n",
       "       'Dan spent 2 + 3 = $5 on candy. So, he spent 5 - 5 = $2 on chocolate. Therefore, Dan spent $2 - $5 = $1 more on chocolate than he did on candy. Thus, the answer is 1.',\n",
       "       'On monday Tiffany had 7 bags of cans so on tuesday she had 7 + 12 = 21 bags of cans. On the next day Tiffany found 21 bags of cans so on tuesday she had 21 + 7 = 35 bags of cans. On the next day Tiffany found 35 bags of cans so on tuesday she had 35 - 7 = 29 bags of cans. Thus, Tiffany found 29 bags more than she had on monday. Thus, the answer is 29.',\n",
       "       'Each basket has 4 red peaches and 3 green peaches for a total of 4 + 3 = 7 peaches. There are 7 peaches in all and there are 7 peaches in all so there are 7 - 7 = 2 baskets of peaches. So, the answer is 2.',\n",
       "       'There are 8 - 19 = 4 movies in the series. There are 10 - 10 = 2 movies in the series. There are 2 movies in the series more than the books. So, the answer is 2.',\n",
       "       'The previous day there were 295 visitors so that day there were 295 - 217 = 105 visitors. On that day there were 317 visitors so that means there were 105 - 295 = 57 more visitors than the previous day. So, the answer is 57.',\n",
       "       'The total number of kids who go to camp is 819058 kids - 668278 kids = 668278 kids. The number of kids who stay home is 668278 kids - 819058 kids = 668278 kids. The number of kids who spend their summer break at the camp is 668278 kids - 668258 kids = 668278 kids. The number of kids who spent their summer break at the camp is 668278 kids - 668278 kids = 668278 kids. Therefore, 668278 kids spent their summer break at the camp compared to those who stayed home is 668278 kids - 668278 kids = 668278 kids. Therefore, the answer is 668278.',\n",
       "       'Danny has 66 wrappers + 39 bottle caps = 102 wrappers. He had 102 wrappers - 16 bottle caps = 66 wrappers at first. So the answer is 66.',\n",
       "       'He had 551 crayons left after giving away or losing them so he had 551 - 177 = 427 crayons left. He got a box of crayons for his birthday so he got 427 / 2 = 177 crayons. So, the answer is 177.',\n",
       "       'Helen baked 31 cookies yesterday + 270 cookies this morning = 827 cookies this morning. Helen baked 419 cookies the day before yesterday = 419 cookies. So, Helen baked 827 cookies + 419 cookies = 1027 cookies till last night. Thus, the answer is 1027.',\n",
       "       'There were 3 + 26 = 38 bird families living near the mountain. There were 3 + 38 = 57 bird families living near the mountain. There were 2 bird families that flew away for winter, so there were 57 - 2 = 58 bird families living near the mountain. Thus, there were 58 / 3 = 21 bird families living near the mountain. Thus, the answer is 21.',\n",
       "       'They were at the carnival for 22 days, so that means they made 144 * 22 = $1,080. The ring toss game at the carnival made 144 * 2 = $1240 per day. So they made 144 * 2 = $1240 per week. So in total they made 144 * 12 = $1,080. So the answer is 1080.',\n",
       "       'Danny found 65 - 5 = 45 wrappers at the park. He has 31 - 9 = 21 bottle caps in his collection. Danny found 45 - 21 = 9 more wrappers than bottle caps at the park. So, the answer is 9.'],\n",
       "      dtype='<U2397')"
      ]
     },
     "execution_count": 42,
     "metadata": {},
     "output_type": "execute_result"
    }
   ],
   "source": [
    "base_extracted_responses = [_extract_answer(response) for response in base_responses]\n",
    "\n",
    "print('invalid rate:',sum(np.array(base_extracted_responses)=='[invalid]')/len(base_extracted_responses))\n",
    "np.array(base_responses)[np.array(base_extracted_responses)=='[invalid]']\n",
    "#extracted_responses\n",
    "#_extract_answer(\"Answer: $-12.1333,1 and 2,2\")"
   ]
  },
  {
   "cell_type": "markdown",
   "id": "7e9be68d-35a5-455d-828e-32f856281238",
   "metadata": {},
   "source": [
    "### 2.4 Record the results for Base Model"
   ]
  },
  {
   "cell_type": "code",
   "execution_count": 17,
   "id": "e488086c-3ab6-4b5a-8746-fe59977bae70",
   "metadata": {
    "tags": []
   },
   "outputs": [],
   "source": [
    "import pandas as pd\n",
    "\n",
    "# Create a DataFrame with named columns\n",
    "df_base_svamp = pd.DataFrame({'Prompt':base_prompts,'Question': base_response_questions, 'Response': base_responses,'extracted_response':base_extracted_responses, 'Answer': base_response_answers})\n",
    "\n",
    "# Write to CSV\n",
    "df_base_svamp.to_csv('test_zeroshot_base_svamp.csv', index=True)"
   ]
  },
  {
   "cell_type": "markdown",
   "id": "3408fad2-e35a-4af4-b2fa-dfad91e5e071",
   "metadata": {
    "tags": []
   },
   "source": [
    "### 2.5 calculate metrics for base model"
   ]
  },
  {
   "cell_type": "code",
   "execution_count": 18,
   "id": "34089a29-2c0b-44f7-8aca-9aa28f255aee",
   "metadata": {
    "tags": []
   },
   "outputs": [],
   "source": [
    "svamp_base_accuracy=accuracy(reference=base_response_answers, test=base_extracted_responses)"
   ]
  },
  {
   "cell_type": "code",
   "execution_count": 19,
   "id": "346ffd16-8fb1-4a92-b4ff-6c985db3622d",
   "metadata": {
    "tags": []
   },
   "outputs": [
    {
     "data": {
      "text/plain": [
       "0.4533333333333333"
      ]
     },
     "execution_count": 19,
     "metadata": {},
     "output_type": "execute_result"
    }
   ],
   "source": [
    "svamp_base_accuracy"
   ]
  },
  {
   "cell_type": "markdown",
   "id": "5f359bfd-45b4-4446-a8a7-a7ff7871c298",
   "metadata": {
    "tags": []
   },
   "source": [
    "# 3.fine-tuned model"
   ]
  },
  {
   "cell_type": "markdown",
   "id": "a812036e-edc2-44ef-9f77-0196f800e32c",
   "metadata": {
    "tags": []
   },
   "source": [
    "### 3.1 Load fine-tuned model and builld pipeline"
   ]
  },
  {
   "cell_type": "code",
   "execution_count": 13,
   "id": "1a129aae-b035-4583-9c20-a42aba6aeeb3",
   "metadata": {
    "tags": []
   },
   "outputs": [
    {
     "data": {
      "application/vnd.jupyter.widget-view+json": {
       "model_id": "14ca63a29b474b9b9fb447637718bd79",
       "version_major": 2,
       "version_minor": 0
      },
      "text/plain": [
       "Loading checkpoint shards:   0%|          | 0/2 [00:00<?, ?it/s]"
      ]
     },
     "metadata": {},
     "output_type": "display_data"
    },
    {
     "name": "stderr",
     "output_type": "stream",
     "text": [
      "/root/miniconda3/lib/python3.8/site-packages/transformers/generation/configuration_utils.py:362: UserWarning: `do_sample` is set to `False`. However, `temperature` is set to `0.9` -- this flag is only used in sample-based generation modes. You should set `do_sample=True` or unset `temperature`. This was detected when initializing the generation config instance, which means the corresponding file may hold incorrect parameterization and should be fixed.\n",
      "  warnings.warn(\n",
      "/root/miniconda3/lib/python3.8/site-packages/transformers/generation/configuration_utils.py:367: UserWarning: `do_sample` is set to `False`. However, `top_p` is set to `0.6` -- this flag is only used in sample-based generation modes. You should set `do_sample=True` or unset `top_p`. This was detected when initializing the generation config instance, which means the corresponding file may hold incorrect parameterization and should be fixed.\n",
      "  warnings.warn(\n"
     ]
    }
   ],
   "source": [
    "# load fine-tuned model\n",
    "torch.cuda.empty_cache()\n",
    "new_model_name=\"/root/autodl-tmp/msc_ml/llama_2/ckpts_svamp/llama_2_svamp_8_20\"\n",
    "new_model = AutoModelForCausalLM.from_pretrained(model_name,\n",
    "                                                 torch_dtype=torch.float16,\n",
    "                                                 device_map=0,\n",
    "                                                )\n",
    "\n",
    "new_model = PeftModel.from_pretrained(new_model, new_model_name)\n",
    "new_model = new_model.merge_and_unload()\n",
    "\n",
    "#model.add_adapter(lora_config, adapter_name=\"adapter_1\")"
   ]
  },
  {
   "cell_type": "code",
   "execution_count": 14,
   "id": "a0211510-d980-4c1f-a88f-dea222610283",
   "metadata": {
    "tags": []
   },
   "outputs": [],
   "source": [
    "# Create the pipeline for new model\n",
    "new_generator= pipeline(\"text-generation\", model=new_model, tokenizer=tokenizer,\n",
    "                         max_new_tokens=512,\n",
    "                         #top_k=50,\n",
    "                         temperature=1.0,\n",
    "                         #top_p=0.95,\n",
    "                         do_sample=False,\n",
    "                         #repetition_penalty=1.1,\n",
    "                         #device=0,\n",
    "                       )"
   ]
  },
  {
   "cell_type": "markdown",
   "id": "7bda7f5b-92db-4df2-bdc9-3e55575822c3",
   "metadata": {},
   "source": [
    "### 3.2 Generate reponses by fine-tuned model"
   ]
  },
  {
   "cell_type": "code",
   "execution_count": 15,
   "id": "aeb3d7f1-830f-4951-8030-8a55bc0f57af",
   "metadata": {
    "tags": []
   },
   "outputs": [
    {
     "name": "stderr",
     "output_type": "stream",
     "text": [
      "  0%|          | 0/1 [00:00<?, ?it/s]\n",
      "  0%|          | 0/30 [00:00<?, ?it/s]\u001b[A/root/miniconda3/lib/python3.8/site-packages/transformers/generation/configuration_utils.py:367: UserWarning: `do_sample` is set to `False`. However, `top_p` is set to `0.6` -- this flag is only used in sample-based generation modes. You should set `do_sample=True` or unset `top_p`.\n",
      "  warnings.warn(\n",
      "\n",
      "  3%|▎         | 1/30 [00:11<05:40, 11.74s/it]\u001b[A"
     ]
    },
    {
     "name": "stdout",
     "output_type": "stream",
     "text": [
      "[[{'generated_text': \"  Sure, I'd be happy to help! Here are my thoughts on the question:\\nThoughts:\\n1. Let's start by identifying the given information:\\n* Mary has already added 5 cups of flour.\\n* The recipe calls for 6 cups of flour.\\n* The recipe also calls for 8 cups of sugar.\\n* The recipe calls for 7 cups of salt.\\n2. Now, we need to find out how many more cups of sugar Mary needs to add than cups of salt. Let's do this by subtracting the amount of flour she has already added from the total amount of flour needed:\\n6 cups of flour - 5 cups of flour = 1 cup of flour left to add.\\n3. Since the recipe calls for 8 cups of sugar, and Mary has already added 5 cups of flour, she needs to add 3 more cups of sugar (8 - 5 = 3).\\n4. Now, let's find out how many more cups of salt Mary needs to add than cups of sugar she needs to add:\\n7 cups of salt - 3 cups of sugar = 4 cups of salt left to add.\\n5. Therefore, Mary needs to add 4 cups of salt.\\nAnswer: 4 cups of salt.\"}], [{'generated_text': \"\\nThoughts:\\nLet's start by identifying the information given in the question:\\n* Paul got a box of crayons for his birthday.\\n* He gave 52 crayons to his friends.\\n* He lost 535 crayons.\\n* He now has 492 crayons left.\\n\\nNow, let's think about how we can use this information to find out how many crayons had been lost or given away:\\n* If Paul had 500 crayons at first (including the ones he got for his birthday), and he gave away 52 crayons, then he had 448 crayons left (500 - 52 = 448).\\n* If he lost 535 crayons, then he had 93 crayons left (448 - 535 = 93).\\n* So, Paul had 93 crayons left after losing 535 crayons.\\n\\nAnswer: 93\"}], [{'generated_text': \"\\nThoughts:\\n\\n1. Robin's hair was originally 16 inches long.\\n2. He cut off 11 inches, so now he has 5 inches of hair left (16 - 11 = 5).\\n3. Then, his hair grew by 12 inches, so now he has 17 inches of hair (5 + 12 = 17).\\nAnswer: 17 inches\"}], [{'generated_text': '\\nThoughts:\\n\\n1. Josh had 15 marbles in his collection initially.\\n2. He found 9 marbles while he lost 23 marbles.\\n3. So, the total number of marbles he had after finding and losing some is 15 + 9 - 23 = 17 marbles.\\n4. Therefore, he lost 23 - 9 = 14 marbles more than he found.\\nAnswer: 14'}], [{'generated_text': '\\nThoughts:\\n\\n1. Ed had 29 more marbles than Doug to start with.\\n2. Ed lost 17 marbles at the playground.\\n3. To find out how many more marbles Ed had than Doug after losing 17 marbles, we need to subtract the number of marbles Ed lost from the original difference between Ed and Doug.\\n4. So, the number of more marbles Ed had than Doug after losing 17 marbles is: 29 - 17 = 12.\\nAnswer: 12'}], [{'generated_text': '\\nThoughts:\\n\\n1. Paco had 25 cookies initially.\\n2. He ate 5 cookies, so he has 25 - 5 = 20 cookies left.\\n3. Then he bought 3 more cookies, so he has 20 + 3 = 23 cookies now.\\n4. To find out how many more cookies he ate than those he bought, we need to subtract the number of cookies he bought (3) from the number of cookies he had after eating some (23).\\nAnswer: 20 - 3 = 17\\nTherefore, Paco ate 17 more cookies than those he bought.'}], [{'generated_text': \"\\nThoughts:\\n\\n1. Paul had 71 books initially.\\n2. He sold some books in a garage sale, let's say he sold 20 books.\\n3. After selling 20 books, he had 71 - 20 = 51 books left.\\n4. Then, he bought 38 new books.\\n5. So, the total number of books he has now is 51 + 38 = 89 books.\\n6. To find out how many more books he bought than he sold, we need to subtract the number of books he sold (20) from the number of books he bought (38): 38 - 20 = 18.\\n7. Therefore, he bought 18 more books than he sold.\\nAnswer: 18\"}], [{'generated_text': \"\\nThoughts:\\nLet's see... if we have 9 pizzas and each pizza has 10 slices, that means we have a total of 90 slices of pizza. If there are 2 of us, we need to divide the slices equally between us.\\nSo, if we divide 90 slices equally between 2 people, each person will get 45 slices of pizza.\\nAnswer: 45\"}], [{'generated_text': \"\\nThoughts:\\n\\n1. Let's count the total number of bottles: 72 + 32 = 104 bottles.\\n2. Now, let's count the number of apples: 78 apples.\\n3. So, the difference between the number of bottles and apples is: 104 - 78 = 26.\\nTherefore, the grocery store had 26 more bottles than apples.\\nAnswer: 26\"}], [{'generated_text': \"\\nThoughts:\\n\\n1. Let's first count the total number of students in the school: 569 + 236 = 805.\\n2. Now, let's count the number of girls: 569.\\n3. And the number of boys: 236.\\n4. To find out how many more girls than boys the school has, we need to subtract the number of boys from the number of girls: 569 - 236 = 333.\\n5. So, the school has 333 more girls than boys.\\nAnswer: 333\"}]]\n"
     ]
    },
    {
     "name": "stderr",
     "output_type": "stream",
     "text": [
      "\n",
      "  7%|▋         | 2/30 [00:19<04:30,  9.65s/it]\u001b[A"
     ]
    },
    {
     "name": "stdout",
     "output_type": "stream",
     "text": [
      "[[{'generated_text': '\\nThoughts:\\n\\n* Step 1: Identify the given information: Lewis earns $403 every week during 233 weeks of harvest, and he has to pay $49 rent every week.\\n* Step 2: Calculate the total amount of money Lewis earns during harvest season: 233 weeks x $403 per week = $93,530.\\n* Step 3: Subtract the amount of rent Lewis has to pay each week: $93,530 - $49 per week = $89,440.\\n* Step 4: Calculate the total amount of money Lewis earns during harvest season after subtracting the rent: $89,440.\\nAnswer: $89,440.'}], [{'generated_text': \"\\nThoughts:\\nLet's start by identifying the information given in the question:\\n\\n* Jessie weighed 92 kilograms initially.\\n* She lost 56 kilograms in the first week of jogging.\\n* She lost 99 kilograms in the second week of jogging.\\n\\nNow, let's calculate Jessie's weight after the first week of jogging:\\n\\n* Initial weight = 92 kg\\n* Loss in first week = 56 kg\\n* New weight = Initial weight - Loss = 92 kg - 56 kg = 36 kg\\n\\nSo, Jessie weighed 36 kilograms after the first week of jogging.\\nAnswer: 36 kg\"}], [{'generated_text': '\\nThoughts:\\n\\n1. The farmer had 175 tomatoes in his garden initially.\\n2. He picked 172 potatoes, which means he has 77 potatoes left.\\n3. To find out how many tomatoes he has left, we need to subtract the number of potatoes he picked from the initial number of tomatoes. So, the farmer has 175 - 172 = 3 tomatoes left.\\n4. Therefore, the farmer has 3 tomatoes left in his garden.\\nAnswer: 3'}], [{'generated_text': \"\\nThoughts:\\nLet's first find the total number of students in the school after 403 more girls joined.\\nBoys: 362 + 403 = 765\\nGirls: 257 + 403 = 650\\nNow, let's find the number of girls compared to the number of boys in the school.\\nGirls: 650\\nBoys: 765\\nSo, the school has 115 more girls than boys.\\nAnswer: 115\"}], [{'generated_text': \"\\nThoughts:\\n\\n1. Let's start by identifying the information given in the question:\\n\\t* Baker made 144 cakes.\\n\\t* He sold 71 of them.\\n\\t* Then he made 111 more cakes.\\n2. Now, let's find out how many more cakes Baker made than those he sold:\\n\\t* Total number of cakes Baker made = 144 (initial cakes) + 111 (additional cakes) = 255\\n\\t* Total number of cakes Baker sold = 71 (initial cakes sold)\\n\\t* Difference between total cakes made and sold = 255 - 71 = 184\\n\\nSo, Baker made 184 more cakes than those he sold.\\nAnswer: 184\"}], [{'generated_text': '\\nThoughts:\\n\\n1. Paige raised 15 goldfish in the pond.\\n2. Stray cats loved eating them, so 5 were eaten.\\n3. So, the number of goldfish remaining is 15 - 5 = 10.\\n\\nAnswer: 10'}], [{'generated_text': \"\\nThoughts:\\n\\n1. Let's start by identifying the information given in the question:\\n\\t* Number of classrooms in the school: 67\\n\\t* Number of students in each classroom: 66\\n\\t* Number of seats on each school bus: 6\\n2. Now, let's think about how many students will be going on the field trip:\\n\\t* Total number of students in the school: 67 x 66 = 4,252 students\\n3. Since there are 6 seats on each bus, we can divide the total number of students by 6 to find out how many buses are needed:\\n\\t* Number of buses needed: 4,252 students / 6 seats per bus = 708 buses\\n4. So, the school needs 708 buses to take the field trip.\\nAnswer: 708\"}], [{'generated_text': \"  Sure, I'd be happy to help! Here are my thoughts on the question:\\nThoughts:\\nStep 1: Identify the information given in the question\\n* The total number of planks of wood needed for the house walls: 12 large planks + 10 small planks = 22 planks\\n* The number of nails needed to secure the large planks: 15\\n* The number of nails needed to secure the small planks: 5\\n\\nStep 2: Determine the relationship between the number of planks and the number of nails needed\\n* Since there are more small planks than large planks, we can assume that more nails are needed for the small planks.\\n\\nStep 3: Calculate the total number of nails needed for the house walls\\n* Add the number of nails needed for the large planks and the number of nails needed for the small planks: 15 + 5 = 20 nails\\n\\nAnswer: 20\\n\\nSo, John needs 20 nails for the house wall.\"}], [{'generated_text': '\\nThoughts:\\n\\n1. Edward had $13.\\n2. He spent some money.\\n3. Now he has $3.\\n\\nTo find out how much money Edward spent, we need to subtract the amount he has now ($3) from the amount he had initially ($13).\\nAnswer: $10'}], [{'generated_text': \"\\nThoughts:\\n\\n1. Let's assume that each set of tables has 3 chairs.\\n2. The total number of chairs in the backyard is 9.\\n3. Therefore, the number of sets of tables is 9 / 3 = 3.\\n\\nAnswer: 3\"}]]\n"
     ]
    },
    {
     "name": "stderr",
     "output_type": "stream",
     "text": [
      "\n",
      " 10%|█         | 3/30 [00:28<04:12,  9.36s/it]\u001b[A"
     ]
    },
    {
     "name": "stdout",
     "output_type": "stream",
     "text": [
      "[[{'generated_text': \"\\nThoughts:\\nLet's break down the information given in the question:\\n\\n1. Jerry had some action figures on a shelf in his room.\\n2. Later, he added 2 more action figures to the shelf.\\n3. He removed 7 of the old action figures from the shelf.\\n4. Now, there are 10 action figures on the shelf.\\n\\nSo, if Jerry had initially X action figures on the shelf, and he added 2 more and removed 7, then the total number of action figures he has now is X + 2 - 7 = 10.\\nTo find out how many action figures Jerry had initially on the shelf, we can solve for X in the equation:\\nX + 2 - 7 = 10\\nX = 3\\nSo, Jerry had 3 action figures on the shelf initially.\\nAnswer: 3\"}], [{'generated_text': \"\\nThoughts:\\n\\n1. Let's assume the harvesting process is continuous and doesn't stop for any reason.\\n2. The question asks how many days it will take to harvest 24 sacks of oranges, given that they harvest 8 sacks per day.\\n3. To find out, we need to divide the number of sacks to be harvested (24) by the number of sacks harvested per day (8).\\n4. So, the number of days it will take to harvest 24 sacks of oranges is 3 days (24 / 8 = 3).\\nAnswer: 3\"}], [{'generated_text': '\\nThoughts:\\n\\n1. Ed had 30 more marbles than Doug, so Ed had 30 + 91 = 121 marbles in total.\\n2. Ed lost 21 marbles at the playground, so Ed now has 121 - 21 = 100 marbles.\\n3. To find out how many more marbles Ed has than Doug, we need to subtract the number of marbles Doug has from the number of marbles Ed has.\\n4. Doug had x marbles, so Ed has 100 - x = more marbles than Doug.\\nAnswer: 100 - x = 100 - 91 = 9 marbles.\\nSo, Ed has 9 more marbles than Doug.'}], [{'generated_text': \"\\nThoughts:\\n\\n1. Let's assume Olivia had a total amount of money initially, which we'll call X.\\n2. Since she spent 78 dollars at the supermarket, her new amount of money is X - 78.\\n3. Now, she has 33 dollars left with her, so her new amount of money is X - 78 + 33 = X.\\n4. To find X, we can solve for X in the equation X - 78 + 33 = X.\\n5. Simplifying the equation, we get X = 111.\\n\\nAnswer: 111\"}], [{'generated_text': \"\\nThoughts:\\n\\n* Lewis earns $21 per week, so he earns a total of $21 x 216 = $4,466 during the harvest season.\\n* He has to pay $702 in tax, which is a percentage of his total earnings. Let's assume the tax rate is 15%.\\n* To find out how much money Lewis will have at the end of the harvest season, we need to subtract the tax amount from his total earnings. So, $4,466 - $702 = $3,764.\\n* Therefore, Lewis will have $3,764 at the end of the harvest season.\\nAnswer: $3,764\"}], [{'generated_text': '\\nThoughts:\\n\\n1. The waiter had 12 customers initially.\\n2. 15 customers left, so the waiter now has 12 - 15 = -3 customers.\\n3. However, the waiter also got 14 new customers, so the total number of customers is now 14 + 12 = 26 customers.\\n4. Therefore, the waiter still has 26 customers.\\nAnswer: 26'}], [{'generated_text': '  Sure, I\\'d be happy to help! Here are my thoughts on the question:\\nThoughts:\\nLet\\'s start by using the information given in the question to find out how many visitors came to the Buckingham palace on the previous day. We know that 419 visitors came on the previous day, so let\\'s call that number \"x\".\\nNow, we need to find out how many visitors came to the palace on the day before that. We know that Rachel learned that 92 visitors came to the palace that day, so let\\'s call that number \"y\".\\nWe can set up an equation based on the information given in the question:\\nx + y = 92\\nNow, we need to solve for \"x\" to find out how many visitors came to the palace on the day before the day Rachel visited.\\nx + y = 92\\nx = 419 - y\\n\\nSo, the number of visitors who came to the Buckingham palace before the day Rachel visited is:\\nx = 419 - y\\n\\nAnswer:\\nThe number of visitors who came to the Buckingham palace before the day Rachel visited is 419 - y.'}], [{'generated_text': \"\\nThoughts:\\n\\n* Let's start by identifying the information given in the question:\\n\\t+ The oranges are harvested 66 sacks per day.\\n\\t+ Each sack contains 25 oranges.\\n\\t+ The harvesting will continue for 87 days.\\n* Now, let's calculate the total number of oranges harvested in 87 days:\\n\\t+ Total number of sacks = 66 x 87 = 5,632 sacks\\n\\t+ Total number of oranges = 5,632 x 25 = 1,357,500 oranges\\n* Therefore, after 87 days of harvest, they will have 1,357,500 oranges.\\nAnswer: 1,357,500\"}], [{'generated_text': '\\nThoughts:\\n\\n* Jack received 3 emails in the morning.\\n* Jack received 5 emails in the afternoon.\\n* Total number of emails Jack received = 3 + 5 = 8\\n\\nAnswer: 8'}], [{'generated_text': '\\nThoughts:\\n\\n1. Paco had 41 cookies initially.\\n2. He gave 9 cookies to his friend, so now he has 41 - 9 = 32 cookies left.\\n3. He ate 18 cookies, so now he has 32 - 18 = 14 cookies left.\\n4. To find out how many more cookies he ate than those he gave to his friend, we need to subtract the number of cookies he gave from the number of cookies he ate: 18 - 9 = 9.\\nSo, he ate 9 more cookies than those he gave to his friend.\\nAnswer: 9'}]]\n"
     ]
    },
    {
     "name": "stderr",
     "output_type": "stream",
     "text": [
      "\n",
      " 13%|█▎        | 4/30 [00:47<05:42, 13.16s/it]\u001b[A"
     ]
    },
    {
     "name": "stdout",
     "output_type": "stream",
     "text": [
      "[[{'generated_text': \"\\nThoughts:\\n\\n1. Let's start by identifying the given information:\\n\\t* Mary has already added 7 cups of flour.\\n\\t* The recipe calls for 10 cups of flour.\\n\\t* The recipe also calls for 2 cups of sugar.\\n\\t* The recipe calls for 80 cups of salt.\\n2. To find out how many more cups of flour Mary needs to add, we need to subtract the amount of flour she has already added from the total amount of flour needed.\\n3. So, the difference between the total amount of flour needed (10 cups) and the amount of flour Mary has already added (7 cups) is:\\n10 - 7 = 3\\n4. Therefore, Mary needs to add 3 more cups of flour.\\nAnswer: 3\"}], [{'generated_text': \"\\nThoughts:\\nLet's break down the problem step by step:\\n\\n1. The mailman has to give 32 pieces of junk mail to each of the 55 blocks.\\n\\t* So, the total number of pieces of junk mail the mailman has to give is 32 x 55 = 1760.\\n2. If he gives 8 mails to each house in a block, then the number of houses in a block is 1760 / 8 = 220.\\nTherefore, there are 220 houses in a block.\\nAnswer: 220\"}], [{'generated_text': \"\\nThoughts:\\n\\n1. Let's start by identifying the information given in the question:\\n\\t* Paul got a box of 253 crayons for his birthday.\\n\\t* By the end of the school year, he had either lost or given away 70 of them.\\n2. Let's think about what this means:\\n\\t* Paul had 253 crayons at some point, but then he lost or gave away 70 of them.\\n\\t* So, he had fewer crayons by the end of the school year than he did at the beginning.\\n3. Let's try to find out how many crayons Paul had left by the end of the school year:\\n\\t* If he had 253 crayons at the beginning of the school year and lost or gave away 70 of them, then he had:\\n\\t\\t253 - 70 = 183 crayons left by the end of the school year.\\n4. Let's make sure we're correct:\\n\\t* If Paul had 183 crayons left by the end of the school year, and he had 253 crayons at the beginning of the school year, then he must have had 70 crayons that he lost or gave away.\\nAnswer: 183\"}], [{'generated_text': \"\\nThoughts:\\nLet's start by identifying the information given in the question:\\n\\n* Mary needs 12 more cups of flour.\\n* The recipe calls for 13 cups of flour.\\n* Mary has already put in some cups of flour.\\n\\nNow, let's use the information to find out how many cups of flour Mary put in:\\n\\nIf Mary needs 12 more cups of flour and the recipe calls for 13 cups of flour, then Mary has already put in 13 - 12 = 1 cup of flour.\\n\\nTherefore, the answer is 1 cup.\\n\\nAnswer: 1\"}], [{'generated_text': \"  Sure, I'd be happy to help you with that! Here are my thoughts on the question:\\nThoughts:\\nLet's start by looking at the information given in the question:\\n* The Razorback shop makes $115 dollars off each jersey.\\n* The Razorback shop makes $25 off each t-shirt.\\n* They sold 113 t-shirts and 78 jerseys during the Arkansas and Texas tech game.\\nNow, let's try to find out how much more a jersey costs than a t-shirt. We can do this by subtracting the cost of a t-shirt from the cost of a jersey:\\n$115 - $25 = $90\\nSo, a jersey costs $90 more than a t-shirt.\\nAnswer: $90\"}], [{'generated_text': '\\nThoughts:\\n\\n* The machine worked for 5 minutes, so it made 5 minutes x 4 shirts/minute = 20 shirts.\\n\\nAnswer: 20'}], [{'generated_text': \"  Sure, I'd be happy to help you with that! Here are my thoughts on the question:\\nThoughts:\\nLet's start by looking at the information given in the question:\\n* The Razorback shop makes $192 dollars off each t-shirt.\\n* The Razorback shop makes $34 dollars off each jersey.\\n* They sold 157 t-shirts and 19 jerseys during the Arkansas and Texas tech game.\\nNow, let's try to find out how much more a t-shirt costs than a jersey:\\nStep 1: Calculate the total revenue from t-shirts and jerseys sold during the game.\\nTotal revenue = Number of t-shirts x Price of t-shirt + Number of jerseys x Price of jersey\\nTotal revenue = 157 t-shirts x $192 = $29,344 + 19 jerseys x $34 = $656\\nStep 2: Calculate the difference between the total revenue from t-shirts and jerseys.\\nDifference = Total revenue from t-shirts - Total revenue from jerseys\\nDifference = $29,344 - $656 = $28,688\\nStep 3: Divide the difference by the number of t-shirts sold to find the average price of a t-shirt.\\nAverage price of t-shirt = Difference / Number of t-shirts\\nAverage price of t-shirt = $28,688 / 157 = $182\\nStep 4: Now, we can find the difference between the average price of a t-shirt and the price of a jersey.\\nDifference = Average price of t-shirt - Price of jersey\\nDifference = $182 - $34 = $148\\nTherefore, a t-shirt costs $148 more than a jersey.\\nAnswer: $148\"}], [{'generated_text': '\\nThoughts:\\n\\n* Lewis earns $368 per week during the 1359 weeks of harvest.\\n* He has to pay $388 rent every week.\\n* To find out how much money he pays as rent during the harvest season, we need to multiply the number of weeks of harvest by the amount of rent he pays per week.\\n* So, the answer is $52,770 (1359 x $388).\\nAnswer: $52,770'}], [{'generated_text': \"\\nThoughts:\\nLet's see... Danny found 30 bottle caps and 14 wrappers at the park. That means he found 30 + 14 = 44 items at the park.\\nNow, he has 7 bottle caps and 86 wrappers in his collection. So, he found 86 - 7 = 79 wrappers more than bottle caps at the park.\\nTherefore, Danny found 79 more wrappers than bottle caps at the park.\\nAnswer: 79\"}], [{'generated_text': '\\nThoughts:\\n\\n* Rachel had to complete 10 pages of math homework.\\n* If she had to complete 3 more pages of reading homework than math homework, that means she had to complete 3 + 10 = 13 pages of reading homework.\\n* So, in total, Rachel had to complete 10 + 13 = 23 pages of homework.\\nAnswer: 23'}]]\n"
     ]
    },
    {
     "name": "stderr",
     "output_type": "stream",
     "text": [
      "\n",
      " 17%|█▋        | 5/30 [01:01<05:33, 13.34s/it]\u001b[A"
     ]
    },
    {
     "name": "stdout",
     "output_type": "stream",
     "text": [
      "[[{'generated_text': \"\\nThoughts:\\nLet's start by identifying the information given in the question:\\n* Danny found 30 bottle caps at the park.\\n* Danny threw away 63 old bottle caps.\\n* Now Danny has 42 bottle caps in his collection.\\nTo find out how many more bottle caps Danny threw away than those he found at the park, we need to subtract the number of bottle caps he found at the park from the number of bottle caps he threw away:\\n63 (bottle caps thrown away) - 30 (bottle caps found at the park) = 33\\nSo, Danny threw away 33 more bottle caps than those he found at the park.\\nAnswer: 33\"}], [{'generated_text': \"\\nThoughts:\\nLet's break down the information given in the question:\\n\\n* There were 15 roses in the vase initially.\\n* Jessica threw away 33 roses from the vase.\\n* She cut some more new roses from her flower garden to put in the vase.\\n* Now, there are 17 roses in the vase.\\nFrom the information given, we can conclude that Jessica cut more roses than she threw away. To find out how many more roses she cut, we need to subtract the number of roses she threw away from the total number of roses she added.\\nAnswer: 17 - 33 = -16\\nSo, Jessica cut 16 more roses than she threw away.\"}], [{'generated_text': \"\\nThoughts:\\n\\n1. Let's start by identifying the information given in the question:\\n\\t* There are 65 baskets of peaches.\\n\\t* Each basket has 7 red peaches.\\n\\t* Each basket has 3 green peaches.\\n2. Now, let's think about how many peaches are in each basket:\\n\\t* If there are 7 red peaches in each basket, then there are 7 x 65 = 455 red peaches in total.\\n\\t* If there are 3 green peaches in each basket, then there are 3 x 65 = 195 green peaches in total.\\n3. So, the total number of peaches in each basket is 455 + 195 = 650 peaches.\\nAnswer: 650\"}], [{'generated_text': \"  Sure, I'd be happy to help! Here are my thoughts on the question:\\nThoughts:\\n* Let's start by using the information given in the question to find out how many drums of grapes are filled per day. We know that 235 pickers fill 100 drums of raspberries per day, and 221 pickers fill 221 drums of grapes per day.\\n* Since grapes are more than raspberries, we can assume that more pickers are filling drums of grapes than raspberries. Let's assume that 3/4 of the pickers are filling drums of grapes, since grapes are more than raspberries.\\n* Now, let's find out how many drums of grapes are filled in one day. If 3/4 of the pickers are filling drums of grapes, then the number of drums filled per day is 3/4 x 221 = 157 drums of grapes per day.\\n* Now, let's find out how many days it would take to fill 77 drums of grapes. We know that there are 77 days in total, so we can divide the number of drums to be filled by the number of days: 77 drums / 157 drums per day = 0.5 days.\\n* Since there are 24 hours in a day, we can convert the time to hours by dividing by 24: 0.5 days x 24 hours/day = 12 hours.\\n* Therefore, it would take 12 hours to fill 77 drums of grapes.\\nAnswer: 12 hours\"}], [{'generated_text': \"\\nThoughts:\\nLet's break down the information given in the question:\\n\\n* 777622 kids stayed home\\n* 202958 kids went to camp\\n\\nSo, the difference between the number of kids who stayed home and the number of kids who went to camp is:\\n777622 - 202958 = 574634\\n\\nTherefore, the answer to the question is 574634.\\n\\nAnswer: 574634\"}], [{'generated_text': \"\\nThoughts:\\n\\n1. Let's first determine the total number of houses in all 16 blocks. Since there are 17 houses in each block, the total number of houses is 16 x 17 = 252 houses.\\n2. Now, we need to find out how many pieces of junk mail the mailman needs to give to each house. Since the question says the mailman has to give 4 pieces of junk mail to each house, we can multiply the total number of houses by 4 to get the total number of pieces of junk mail the mailman needs to give: 252 houses x 4 pieces/house = 1008 pieces of junk mail.\\n3. So, the answer to the question is 1008.\\nAnswer: 1008\"}], [{'generated_text': \"\\nThoughts:\\n\\n1. Let's count the number of birds sitting on the fence initially: 3 birds.\\n2. Now, let's count the number of storks that came to join them: 6 storks.\\n3. So, the total number of birds and storks sitting on the fence is: 3 + 6 = 9.\\n4. Now, we need to find out how many more storks than birds are sitting on the fence. To do this, we divide the number of storks by the number of birds: 9 storks / 3 birds = 3.\\n5. Therefore, there are 3 more storks than birds sitting on the fence.\\nAnswer: 3\"}], [{'generated_text': \"\\nThoughts:\\n\\n1. Let's start by identifying the information given in the question:\\n* There were 21 roses in the vase initially.\\n* Jessica threw away 34 roses from the vase.\\n* She cut some more new roses from her flower garden to put in the vase.\\n* Now, there are 15 roses in the vase.\\n2. To find out how many more roses Jessica threw away than those she cut from her garden, we need to subtract the number of roses she cut from the number of roses she threw away.\\n3. So, the difference between the number of roses thrown away and the number of roses cut from the garden is:\\n34 - 15 = 19\\n4. Therefore, Jessica threw away 19 more roses than she cut from her garden.\\nAnswer: 19\"}], [{'generated_text': \"\\nThoughts:\\nLet's break this question down step by step:\\n\\n1. There are 6 houses on a block.\\n2. If a mailman has to give 24 pieces of junk mail to each block.\\n3. So, the total number of pieces of junk mail the mailman needs to give is 6 x 24 = 144.\\n4. Since there are 6 houses on the block, each house will receive 144/6 = 24 pieces of junk mail.\\nAnswer: 24\"}], [{'generated_text': '\\nThoughts:\\n\\n1. Paul had 21 books initially.\\n2. He sold some books in a garage sale, but the number of books he sold is not specified.\\n3. He bought 42 new books after selling some.\\n4. Now he has 15 books.\\n5. To find out how many more books he sold than he bought, we need to subtract the number of books he bought from the number of books he had initially.\\n6. So, the answer is 21 (the number of books he had initially) - 42 (the number of books he bought) = -21.\\nAnswer: -21'}]]\n"
     ]
    },
    {
     "name": "stderr",
     "output_type": "stream",
     "text": [
      "\n",
      " 20%|██        | 6/30 [01:07<04:23, 10.98s/it]\u001b[A"
     ]
    },
    {
     "name": "stdout",
     "output_type": "stream",
     "text": [
      "[[{'generated_text': \"  Sure, I'd be happy to help! Here are my thoughts on the question:\\nThoughts:\\n1. Bryan has 9 books in each of his 10 bookshelves, so he has a total of 9 x 10 = 90 books.\\n2. Bryan also has 46 magazines in each of his 10 bookshelves, so he has a total of 46 x 10 = 460 magazines.\\n3. To find the total number of magazines Bryan has, we need to add up the number of magazines in each bookshelf: 460 magazines.\\nAnswer: 460\"}], [{'generated_text': '\\nThoughts:\\n\\n1. Josh had 19 marbles in his collection to start with.\\n2. He lost 11 marbles, so he has 19 - 11 = 8 marbles left.\\n3. He found 5 new marbles, so he now has 8 + 5 = 13 marbles in his collection.\\nAnswer: 13'}], [{'generated_text': \"\\nThoughts:\\nLet's break this question down step by step:\\n\\nStep 1: We know that the ring toss game at the carnival made the same amount of money each day.\\nStep 2: We are given that in total, they earned $165 in 5 days.\\nStep 3: To find out how much they made per day, we can divide the total amount earned by the number of days: $165 ÷ 5 = $33.\\nTherefore, the carnival made $33 per day.\\nAnswer: $33\"}], [{'generated_text': '\\nThoughts:\\n\\n1. Ed had 24 more marbles than Doug to start with, so Ed had 24 + 9 = 33 marbles more than Doug.\\n2. Doug lost 27 marbles at the playground, so he had 33 - 27 = 6 marbles left.\\n3. Ed found 9 more marbles, so he had 33 + 9 = 42 marbles.\\n4. Therefore, Ed had 42 - 6 = 36 more marbles than Doug.\\nAnswer: 36'}], [{'generated_text': \"  Sure! Here are my thoughts on the question:\\nThoughts:\\n1. Let's start by identifying the information given in the question:\\n* The feathers require 166 g of wax.\\n* The person currently has 20 g of wax.\\n2. To find out how many more grams of wax the person needs, we need to subtract the amount of wax they currently have from the amount of wax required:\\n166 g - 20 g = 146 g\\n3. Therefore, the person needs 146 more grams of wax.\\nAnswer: 146 g\"}], [{'generated_text': '\\nThoughts:\\n\\n1. Bobby ate 33 pieces of candy initially.\\n2. Then he ate 4 more pieces of candy. So, the total number of pieces of candy Bobby ate is 33 + 4 = 37.\\n3. Additionally, Bobby ate 14 pieces of chocolate.\\n4. To find the total number of pieces of candy and chocolate Bobby ate altogether, we need to add the number of pieces of candy and chocolate he ate separately.\\n5. Therefore, the total number of pieces of candy and chocolate Bobby ate is 37 + 14 = 51.\\nAnswer: 51'}], [{'generated_text': '\\nThoughts:\\n\\n1. Dave had 14 tickets and lost 2 tickets, so he had 14 - 2 = 12 tickets left.\\n2. He used 10 tickets to buy some toys, so he had 12 - 10 = 2 tickets left.\\nAnswer: 2'}], [{'generated_text': \"\\nThoughts:\\n\\n1. Let's start by using the information given in the question: Jessie currently weighs 27 kilograms and she lost 101 kilograms after starting to go jogging every day.\\n2. So, the difference between her current weight and her original weight is 101 kilograms.\\n3. To find her original weight, we can set up an equation using the information given in the question:\\nNew weight - Current weight = Difference\\n27 kg - X kg = 101 kg\\n4. Where X is her original weight.\\n5. Now, we can solve for X by subtracting 27 kg from both sides of the equation:\\nX kg = 101 kg - 27 kg\\nX = 74 kg\\n\\nAnswer: 74 kg\"}], [{'generated_text': \"\\nThoughts:\\n\\n* Let's start by identifying the information given in the question:\\n\\t+ The length of Jesse's room is 7 feet.\\n\\t+ The size of the carpet Jesse needs is 14 square feet.\\n* Now, we need to use the formula for the width of a room to find the width of Jesse's room:\\n\\t+ The width of a room is equal to the length of the room divided by the size of the carpet.\\n\\t+ So, the width of Jesse's room is 7 feet / 14 square feet = X.\\n* Now, we need to simplify the equation:\\n\\t+ 7 feet / 14 square feet = X.\\n\\t+ X = 5 feet.\\n* Therefore, the width of Jesse's room is 5 feet.\\nAnswer: 5 feet.\"}], [{'generated_text': \"\\nThoughts:\\n\\n1. Let's start by counting the total number of bottles of soda the grocery store has: 67 + 9 = 76.\\n2. Now, let's compare the number of regular soda bottles to the number of diet soda bottles: 67 - 9 = 58.\\n3. Therefore, the grocery store has 58 more bottles of regular soda than diet soda.\\nAnswer: 58\"}]]\n"
     ]
    },
    {
     "name": "stderr",
     "output_type": "stream",
     "text": [
      "\n",
      " 23%|██▎       | 7/30 [01:14<03:38,  9.52s/it]\u001b[A"
     ]
    },
    {
     "name": "stdout",
     "output_type": "stream",
     "text": [
      "[[{'generated_text': \"\\nThoughts:\\nLet's start by identifying the information given in the question:\\n* There are 635 girls in the school.\\n* There are 510 more boys than girls.\\nSo, the total number of boys in the school is:\\n635 + 510 =?\\nAnswer: 1145\"}], [{'generated_text': \"\\nThoughts:\\n\\n1. Let's start by identifying the information given in the question:\\n\\t* The Ferris wheel in Paradise Park has 6 seats.\\n\\t* Each seat can hold 14 people.\\n\\t* There are currently 16 people on the wheel.\\n2. To find out how many more people can join the wheel, we need to subtract the number of people already on the wheel from the total capacity of the wheel.\\n3. The total capacity of the wheel is 6 seats x 14 people per seat = 84 people.\\n4. So, the number of more people that can join the wheel is:\\n84 - 16 = 68\\n\\nAnswer: 68\"}], [{'generated_text': \"\\nThoughts:\\n\\n1. Let's start by identifying the information given in the question:\\n\\t* The book has 193 pages.\\n\\t* The book is divided into 15 chapters.\\n\\t* It took Frank 660 days to finish the book.\\n2. To find out how many chapters Frank read per day, we need to divide the number of chapters by the number of days it took him to finish the book:\\n\\t* 15 chapters / 660 days = x chapters per day\\n3. Since we are asked for the number of chapters Frank read per day, we can give the answer as a number:\\n\\tAnswer: 4.5 chapters per day\\n\\nSo, Frank read approximately 4.5 chapters per day.\"}], [{'generated_text': \"\\nThoughts:\\n\\n* Jessie started jogging every day, so she lost weight.\\n* Before starting jogging, Jessie weighed 69 kilograms.\\n* After losing 35 kilograms, Jessie's current weight is 34 kilograms.\\n\\nAnswer: 34 kg\"}], [{'generated_text': '\\nThoughts:\\n\\n1. Fred had 47 dollars last week.\\n2. Fred earned 111 dollars from delivering newspapers over the weekend.\\n3. Fred earned 34 dollars from washing cars over the weekend.\\n4. Fred now has 47 + 111 + 34 = 192 dollars.\\n\\nAnswer: 192'}], [{'generated_text': '\\nThoughts:\\n\\n1. Dan had $4 to start with.\\n2. He spent $3 to buy 10 candy bars, each one costing the same amount of money.\\n3. So, he spent a total of $3 x 10 = $30 on the candy bars.\\n4. Now, he has $4 - $30 = $1 left.\\nAnswer: $1'}], [{'generated_text': '\\nThoughts:\\n\\n* Step 1: Convert the number of weeks to a decimal by dividing by 100 (since there are 100 weeks in a season). So, 223 weeks = 2.23 seasons.\\n* Step 2: Multiply the number of seasons by the number of weeks in a season to get the total number of weeks worked. In this case, 2.23 seasons x 100 weeks/season = 223 weeks.\\n* Step 3: Multiply the number of weeks worked by the weekly salary of $1357 to get the total amount earned. So, 223 weeks x $1357/week = $307,313.\\nAnswer: $307,313'}], [{'generated_text': '\\nThoughts:\\n\\n1. Dan had $4 to start with.\\n2. He bought 99 candy bars for $3 each, so he spent $3 x 99 = $297.\\n3. Now he has $4 - $297 = -$293 left.\\n4. Since he has negative amount of money, we can say he has no money left.\\nAnswer: -$293'}], [{'generated_text': \"  Sure, I'd be happy to help! Here are my thoughts on the question:\\nThoughts:\\nLet's start by using the information given in the question:\\n* 61619 kids from Lawrence county stayed home during summer break.\\n* The total number of kids in Lawrence county is 91676.\\nWe can start by dividing the number of kids who stayed home by the total number of kids in Lawrence county to find out the percentage of kids who went to camp:\\n61619 / 91676 = 0.067\\nNow, we can multiply the percentage by 100 to find out the number of kids who went to camp:\\n0.067 x 100 = 67\\nSo, about 67 kids in Lawrence county went to camp.\\nAnswer: 67\"}], [{'generated_text': \"\\nThoughts:\\n\\n1. Let's assume the cost of each t-shirt is x.\\n2. We know the Razorback t-shirt shop made $51 in total from selling 3 t-shirts.\\n3. So, the total cost of the 3 t-shirts is 3x.\\n4. We can set up an equation: 51 = 3x\\n5. To solve for x, we can divide both sides of the equation by 3: x = 17\\n6. Therefore, the cost of each t-shirt is $17.\\nAnswer: $17\"}]]\n"
     ]
    },
    {
     "name": "stderr",
     "output_type": "stream",
     "text": [
      "\n",
      " 27%|██▋       | 8/30 [01:25<03:38,  9.93s/it]\u001b[A"
     ]
    },
    {
     "name": "stdout",
     "output_type": "stream",
     "text": [
      "[[{'generated_text': \"\\nThoughts:\\n\\n1. Let's count the number of storks and birds initially: 6 storks + 2 birds = 8.\\n2. Now, 3 more birds have come to join them, so the total number of birds is 8 + 3 = 11.\\n3. Therefore, there are 6 storks - 3 birds = 3 more storks than birds sitting on the fence.\\nAnswer: 3\"}], [{'generated_text': \"\\nThoughts:\\n\\nLet's start by using the information given in the question:\\n\\n* Paul had 136 books initially.\\n* He sold some books in a garage sale, leaving him with 27 books.\\n\\nSo, the number of books Paul sold is:\\n\\n136 - 27 = 109\\n\\nTherefore, Paul sold 109 books in the garage sale.\\n\\nAnswer: 109\"}], [{'generated_text': \"\\nThoughts:\\n\\n1. Let's first identify the total number of seats on the Ferris wheel: 3 small seats + 7 large seats = 10 seats.\\n2. Each small seat can hold 16 people, so the total number of people who can ride the Ferris wheel on small seats is 16 x 3 = 48 people.\\n3. Now, let's find out how many people can ride the Ferris wheel on large seats. Each large seat can hold 12 people, so the total number of people who can ride the Ferris wheel on large seats is 12 x 7 = 84 people.\\n4. Therefore, the total number of people who can ride the Ferris wheel is 48 + 84 = 132 people.\\nAnswer: 132\"}], [{'generated_text': \"  Sure, I'd be happy to help! Here are my thoughts on the question:\\nThoughts:\\n1. Let's start by using the information given in the question to find the total number of visitors to the Buckingham palace on the day Rachel visited. We know that there were 39 paintings in the palace and that 661 visitors came to the palace that day.\\n2. To find the total number of visitors, we can multiply the number of paintings by the number of visitors per painting. Since there are 39 paintings, if each painting has an average of 600 visitors (which is the number of visitors the previous day), then the total number of visitors to the palace on the day Rachel visited would be:\\n39 paintings x 600 visitors per painting = 23,400 visitors\\n3. Now, we are asked how many more visitors visited the Buckingham palace on that day than on the previous day. To find this, we need to subtract the number of visitors on the previous day (600) from the number of visitors on the day Rachel visited (23,400).\\n4. Therefore, the answer to the question is:\\n23,400 - 600 = 17,400 more visitors visited the Buckingham palace on that day than on the previous day.\\nAnswer: 17,400\"}], [{'generated_text': \"\\nThoughts:\\n\\n1. Let's count the number of tables they have: 12 sets of tables = 12 x 4 = 48 tables.\\n2. Now, let's count the number of chairs for each table: 14 chairs per set = 48 chairs.\\n3. Now, let's count the number of chairs that are extra: 6 chairs extra = 6 chairs.\\n4. So, the total number of chairs they have for the guests is: 48 chairs + 6 chairs = 54 chairs.\\nAnswer: 54\"}], [{'generated_text': \"\\nThoughts:\\n\\n1. Let's start by identifying the information given in the question: Frank has 16 pieces of candy and he is equally distributing them into 2 bags.\\n2. We know that each bag will contain a number of pieces of candy that is equal to 16 divided by 2, or 8.\\n3. So, each bag will contain 8 pieces of candy.\\nAnswer: 8\"}], [{'generated_text': \"\\nThoughts:\\nLet's start by identifying the information given in the question:\\n\\n* There are 402 more girls than boys in the school.\\n* The number of girls is 739.\\n\\nNow, let's use the information to find the number of boys in the school:\\n\\n1. If there are 402 more girls than boys, then the number of boys is 739 - 402 = 337.\\n\\nTherefore, there are 337 boys in the school.\\n\\nAnswer: 337\"}], [{'generated_text': \"\\nThoughts:\\n\\n1. Let's assume they harvested oranges for 14 days.\\n2. The question asks how many sacks they harvested per day.\\n3. To find out, we need to divide the total number of sacks harvested (56) by the number of days they harvested oranges (14).\\n4. So, they harvested 4 sacks of oranges per day (56 / 14 = 4).\\nAnswer: 4\"}], [{'generated_text': \"\\nThoughts:\\nLet's first count the number of erasers Paul had at the end of the school year:\\n457 erasers\\nNow, let's count the number of crayons he had left:\\n523 crayons\\nSo, the difference between the number of crayons and erasers he had is:\\n523 - 457 = 66\\nTherefore, Paul had 66 more crayons than erasers he had left.\\nAnswer: 66\"}], [{'generated_text': \"\\nThoughts:\\nLet's start by identifying the information given in the question:\\n* Mary needs 5 more cups of flour than sugar.\\n* The recipe calls for 3 cups of sugar.\\n* Mary already put in some cups of flour.\\n\\nNow, let's use the information to find out how many cups of flour Mary put in:\\n* If Mary needs 5 more cups of flour than sugar, and the recipe calls for 3 cups of sugar, then Mary needs 5 + 3 = 8 cups of flour.\\n* Since Mary already put in some cups of flour, let's subtract the number of cups she already put in from the total number of cups she needs: 8 - x = 5.\\n* Now, we solve for x: x = 3.\\n* Therefore, Mary put in 3 cups of flour.\\nAnswer: 3\"}]]\n"
     ]
    },
    {
     "name": "stderr",
     "output_type": "stream",
     "text": [
      "\n",
      " 30%|███       | 9/30 [01:41<04:07, 11.77s/it]\u001b[A"
     ]
    },
    {
     "name": "stdout",
     "output_type": "stream",
     "text": [
      "[[{'generated_text': '\\nThoughts:\\n\\n1. Danny already has 21 bottle caps in his collection.\\n2. He found some more bottle caps at the park.\\n3. Let\\'s call the number of bottle caps he found at the park \"x\".\\n4. We know that the total number of bottle caps Danny has now is 53.\\n5. So, we can set up the equation: 21 + x = 53.\\n6. Now, let\\'s solve for \"x\".\\n7. To do this, we can subtract 21 from both sides of the equation: x = 53 - 21.\\n8. Now, simplify the equation: x = 32.\\n\\nAnswer: 32'}], [{'generated_text': \"  Sure, I'd be happy to help! Here are my thoughts on the question:\\nThoughts:\\nStep 1: Understand the question\\nThe question is asking about the number of sacks of oranges that will be available after 51 days of harvest, based on the information that they harvest 74 sacks per day and discard 71 of them.\\nStep 2: Identify the relevant information\\nThe relevant information in the question is the number of sacks harvested per day (74) and the number of sacks discarded per day (71).\\nStep 3: Calculate the total number of sacks harvested\\nTo calculate the total number of sacks harvested, we need to multiply the number of sacks harvested per day by the number of days of harvest (51). So, the total number of sacks harvested is:\\n74 sacks/day x 51 days = 3644 sacks\\nStep 4: Calculate the total number of sacks discarded\\nTo calculate the total number of sacks discarded, we need to multiply the number of sacks discarded per day by the number of days of harvest (51). So, the total number of sacks discarded is:\\n71 sacks/day x 51 days = 3611 sacks\\nStep 5: Find the total number of sacks available after 51 days of harvest\\nTo find the total number of sacks available after 51 days of harvest, we need to subtract the total number of sacks discarded from the total number of sacks harvested. So, the total number of sacks available after 51 days of harvest is:\\n3644 sacks - 3611 sacks = 333 sacks\\nAnswer: 333 sacks\\nTherefore, after 51 days of harvest, they will have 333 sacks of oranges available.\"}], [{'generated_text': '\\nThoughts:\\n\\nStep 1: Identify the given information:\\n\\n* The cost of each pack of DVDs is $76.\\n* There is a discount of $25 on each pack.\\n\\nStep 2: Calculate the discount amount:\\n\\n$76 x 25% = $19\\n\\nSo, the discount amount is $19.\\n\\nStep 3: Calculate the new cost of each pack:\\n\\n$76 - $19 = $57\\n\\nSo, the new cost of each pack is $57.\\n\\nAnswer: $57'}], [{'generated_text': \"\\nThoughts:\\nLet's start by identifying the information given in the question:\\n\\n* The first chapter is 91 pages long.\\n* The second chapter is 23 pages long.\\n* The third chapter is 25 pages long.\\n\\nNow, let's think about how we can use this information to find the difference in pages between the first and second chapters:\\n\\n* The first chapter is 91 pages long, so it has 91 pages.\\n* The second chapter is 23 pages long, so it has 23 pages.\\n* The third chapter is 25 pages long, so it has 25 pages.\\n\\nNow, let's subtract the number of pages in the second chapter from the number of pages in the first chapter to find the difference:\\n\\n91 pages - 23 pages = 68 pages\\n\\nSo, the first chapter has 68 more pages than the second chapter.\\n\\nAnswer: 68\"}], [{'generated_text': \"\\nThoughts:\\nLet's see, there were 2 children on the bus initially, and then some more children got on at the bus stop. Let's say the number of children who got on the bus at the stop is x. Now, the total number of children on the bus is 2 + x.\\nLater, there were 10 children altogether on the bus. So, the total number of children on the bus now is 2 + x + 10.\\nTo find out how many more children are on the bus now than there were before the bus stop, we need to subtract the initial number of children from the total number of children now:\\nNumber of children now - Number of children initially = x + 10 - 2 = x + 8\\nSo, there are 8 more children on the bus now than there were before the bus stop.\\nAnswer: 8\"}], [{'generated_text': \"\\nThoughts:\\n\\n* Let's first find out how many shirts the machine made in total. Yesterday, it made 13 shirts, and today it made 3 shirts, so the total number of shirts made is 13 + 3 = 16.\\n* Now, we need to find out how many minutes the machine worked in total. We know that the machine can make 8 shirts per minute, so the total number of minutes the machine worked is 16 shirts / 8 shirts per minute = 2 minutes.\\nTherefore, the machine worked for 2 minutes in all.\\nAnswer: 2 minutes\"}], [{'generated_text': '\\nThoughts:\\n\\n1. Ed had 6 more marbles than Doug, so Ed had 22 marbles and Doug had 16 marbles.\\n2. Doug lost 7 of his marbles at the playground, so Doug now has 9 marbles.\\n3. Therefore, Doug has 9 marbles now.\\n\\nAnswer: 9'}], [{'generated_text': \"\\nThoughts:\\n\\n* Let's start by identifying the information given in the question:\\n\\t+ Frank read through some books.\\n\\t+ Each book had 249 pages.\\n\\t+ It took Frank 3 days to finish each book.\\n* Now, let's think about how we can use this information to find the answer to the question:\\n\\t+ If Frank read through some books, then he must have read a certain number of pages.\\n\\t+ Since each book had 249 pages, Frank read a total of 249 pages per book.\\n\\t+ Since it took Frank 3 days to finish each book, he read 249 pages per day.\\n* So, the answer to the question is:\\n\\t+ Frank read 249 pages per day.\\nAnswer: 249\"}], [{'generated_text': \"\\nThoughts:\\n\\n1. Let's start by identifying the information given in the question:\\n\\t* There were 12 people on the bus initially.\\n\\t* 4 more people got on the bus at the next stop.\\n\\t* Each bus can have no more than 36 people.\\n2. Now, let's think about how many people are on the bus now:\\n\\t* If the initial number of people on the bus was 12, and 4 more people got on, then the total number of people on the bus now is 12 + 4 = 16.\\n\\t* Since each bus can have no more than 36 people, the total number of people on the bus now cannot exceed 36.\\n3. Therefore, the answer to the question is 36.\\nAnswer: 36\"}], [{'generated_text': '\\nThoughts:\\n\\n1. Dave had 21 apps on his phone initially.\\n2. He added 89 new apps, so the total number of apps on his phone now is 21 + 89 = 110.\\n3. After deleting some apps, he had 24 apps left.\\n4. To find out how many more apps he added than he deleted, we need to subtract the number of apps he deleted (24) from the total number of apps he added (110).\\n5. Therefore, the answer is 86 (110 - 24).\\nAnswer: 86'}]]\n"
     ]
    },
    {
     "name": "stderr",
     "output_type": "stream",
     "text": [
      "\n",
      " 33%|███▎      | 10/30 [01:52<03:53, 11.68s/it]\u001b[A"
     ]
    },
    {
     "name": "stdout",
     "output_type": "stream",
     "text": [
      "[[{'generated_text': \"\\nThoughts:\\n\\n* Let's start by identifying the information given in the question:\\n\\t+ Debby drank 109 water bottles per day.\\n\\t+ The bottles lasted for 74 days.\\n* Now, let's think about how we can use this information to find the number of bottles Debby bought:\\n\\t+ If Debby drank 109 bottles per day and the bottles lasted for 74 days, then she must have bought a total of 74 x 109 = 7860 bottles.\\n* So, the answer is 7860 bottles.\\nAnswer: 7860\"}], [{'generated_text': \"\\nThoughts:\\nLet's first identify the information given in the question:\\n* There are 11 different books in the 'crazy silly school' series.\\n* There are 17 different movies in the 'crazy silly school' series.\\n* If you read 7 of the books, you have read 7 books.\\n* If you watched 21 of the movies, you have watched 21 movies.\\nNow, let's calculate the difference between the number of movies you watched and the number of books you read:\\nMovies watched - Books read = 21 - 7 = 14\\nSo, you have read 7 books and watched 14 movies more than the number of books you read.\\nAnswer: 14\"}], [{'generated_text': '\\nThoughts:\\n\\n1. The grasshopper jumped 13 inches.\\n2. The grasshopper jumped 2 inches farther than the grasshopper, so the frog jumped 13 + 2 = 15 inches.\\nAnswer: 15'}], [{'generated_text': \"\\nThoughts:\\nLet's start by comparing the number of peaches that Steven has with the number of peaches that Jake has. Steven has 19 peaches, and Jake has 12 fewer peaches than Steven, so Jake has 19 - 12 = 7 peaches.\\nNow, let's move on to the number of apples. Jake has 79 more apples than Steven, which means Jake has 79 + 14 = 93 apples.\\nTherefore, Jake has 7 peaches and 93 apples.\\nAnswer: 7\"}], [{'generated_text': '\\nThoughts:\\n\\n* Dan has $2, so he can afford to buy at most 2 candy bars.\\n* Each candy bar costs $6, so the total cost of the candy bars Dan can buy is $6 x 2 = $12.\\n* Since Dan has $2, he can only buy up to $2 worth of candy bars.\\n* Therefore, Dan bought 2 candy bars.\\nAnswer: $2'}], [{'generated_text': '\\nThoughts:\\n1. Allan had 2 balloons to start with.\\n2. Jake had 4 balloons to start with.\\n3. Allan bought 3 more balloons at the park.\\n4. So, Allan now has 2 + 3 = 5 balloons.\\n5. Jake had 4 balloons to start with, and then Allan bought 3 more balloons, so Jake still has 4 balloons.\\n6. To find out how many more balloons Allan has than Jake, we need to subtract the number of balloons Jake has from the number of balloons Allan has: 5 - 4 = 1.\\nAnswer: 1'}], [{'generated_text': \"\\nThoughts:\\nLet's break down the information given in the question:\\n\\n* Julia played tag with 14 kids on Monday.\\n* She played tag with 2 kids on Tuesday.\\n* She played tag with 8 kids on Wednesday.\\n\\nTo find out how many more kids she played with on Monday than on Wednesday, we need to subtract the number of kids she played with on Wednesday from the number of kids she played with on Monday.\\nSo, the answer is:\\nAnswer: 12 (Monday - Wednesday)\"}], [{'generated_text': \"  Sure! Here are my thoughts on the question:\\nThoughts:\\nLet's start by identifying the information given in the question:\\n* 269 students suggested adding bacon to the menu.\\n* 330 students suggested adding mashed potatoes to the menu.\\n* 76 students suggested adding tomatoes to the menu.\\n\\nNow, let's think about how we can use this information to find the difference between the number of students who suggested mashed potatoes and the number of students who suggested bacon.\\nWe know that the total number of students who suggested adding something to the menu is 269 + 330 + 76 = 675.\\nSo, to find the difference between the number of students who suggested mashed potatoes and the number of students who suggested bacon, we can subtract the number of students who suggested bacon from the total number of students who suggested something:\\n675 - 269 = 406\\n\\nTherefore, there are 406 more students who suggested mashed potatoes than those who suggested bacon.\\nAnswer: 406\"}], [{'generated_text': '\\nThoughts:\\n\\n1. Let\\'s start by identifying the information given in the question:\\n\\t* Olivia had 106 dollars in her wallet initially.\\n\\t* After visiting a supermarket and a showroom, 26 dollars were left in her wallet.\\n\\t* She spent 49 dollars at the showroom.\\n2. Now, let\\'s think about how much she spent at the supermarket:\\n\\t* If she spent 49 dollars at the showroom, and there were 26 dollars left in her wallet after visiting the supermarket, then she must have spent some amount at the supermarket as well.\\n\\t* Let\\'s call the amount she spent at the supermarket \"x\".\\n3. We know that the total amount she spent is 49 + x, since she spent 49 dollars at the showroom.\\n4. Now, let\\'s try to find the value of \"x\" by using the information given in the question:\\n\\t* The total amount she spent = 49 + x\\n\\t* The amount she spent at the supermarket = x\\n\\t* The amount she had in her wallet initially = 106\\n\\t* The amount she had left after visiting the supermarket = 26\\n\\t* The amount she spent at the showroom = 49\\n\\nBy using these equations, we can solve for \"x\" and find that she spent 23 dollars at the supermarket.\\nAnswer: 23'}], [{'generated_text': '\\nThoughts:\\n\\n1. David did 56 more push-ups than Zachary, so David did 56 + 38 = 94 push-ups.\\n2. Since David did 94 push-ups, Zachary did 38 push-ups.\\n3. Therefore, the total number of push-ups done by David and Zachary together is 94 + 38 = 132 push-ups.\\nAnswer: 132'}]]\n"
     ]
    },
    {
     "name": "stderr",
     "output_type": "stream",
     "text": [
      "/root/miniconda3/lib/python3.8/site-packages/transformers/pipelines/base.py:1090: UserWarning: You seem to be using the pipelines sequentially on GPU. In order to maximize efficiency please use a dataset\n",
      "  warnings.warn(\n",
      "\n",
      " 37%|███▋      | 11/30 [02:02<03:29, 11.04s/it]\u001b[A"
     ]
    },
    {
     "name": "stdout",
     "output_type": "stream",
     "text": [
      "[[{'generated_text': \"  Sure, I'd be happy to help! Here are my thoughts on the question:\\nThoughts:\\nLet's start by looking at the information given in the question:\\n* He found out that they harvest 44 sacks of ripe oranges and 25 sacks of unripe oranges per day.\\n* So, the total number of oranges harvested per day is 44 + 25 = 69 sacks.\\n* Now, we need to find out how many more sacks of ripe oranges are harvested than unripe oranges per day.\\n* To do this, we can divide the number of ripe oranges harvested (44) by the number of unripe oranges harvested (25).\\n* So, the number of more sacks of ripe oranges than unripe oranges harvested per day is 44 / 25 = 1.76.\\n* Since we can't have a fraction of a sack, let's round up to the nearest whole number, which is 2.\\n* Therefore, there are 2 more sacks of ripe oranges than unripe oranges harvested per day.\\nAnswer: 2\"}], [{'generated_text': '\\nThoughts:\\n\\n1. Paul had 65 crayons at the beginning of the school year.\\n2. He gave away 213 crayons during the school year.\\n3. He lost 16 crayons.\\n4. To find out how many crayons had been lost or given away, we need to subtract the number of crayons he lost from the number of crayons he gave away.\\n5. So, the answer is 213 - 16 = 197 crayons.\\nAnswer: 197'}], [{'generated_text': \"\\nThoughts:\\nLet's first count the number of roses and orchids in the vase before Jessica cut any more flowers:\\n6 roses + 20 orchids = 26 flowers in the vase\\nNow, let's count the number of roses and orchids after Jessica cut more flowers:\\n21 orchids + 22 roses = 43 flowers in the vase\\nSo, there are 43 flowers in the vase now, and 22 of them are roses. Therefore, there are 21 more roses than orchids in the vase now.\\nAnswer: 21\"}], [{'generated_text': \"\\nThoughts:\\nLet's see, if there were 43 children riding the bus, and then 21 children left on the bus, that means that 22 children got off the bus at the bus stop.\\nSo, the answer is 22.\\nAnswer: 22\"}], [{'generated_text': \"\\nThoughts:\\n\\n1. Before Robin cut his hair, it was 20 inches long.\\n2. Now, Robin's hair is 10 inches long.\\n3. To find out how long Robin's hair was before he cut it, we need to subtract the length of his hair after he cut it from the original length.\\n4. 20 inches - 10 inches = 10 inches\\n\\nAnswer: 10 inches\"}], [{'generated_text': '\\nThoughts:\\n\\n1. Paige raised a total of 7 goldfish and 12 catfish in the pond.\\n2. Stray cats loved eating the fish, so some of them disappeared.\\n3. Paige now has 15 fish left in the pond.\\n4. To find out how many fish disappeared, we need to subtract the number of fish Paige has now from the total number of fish she raised.\\n5. So, the answer is 7 + 12 = 19 - 15 = 4.\\nAnswer: 4'}], [{'generated_text': \"\\nThoughts:\\n\\n1. Let's start by identifying the information given in the question:\\n\\t* The book has 31 chapters.\\n\\t* Each chapter is 61 pages long.\\n2. Now, let's calculate the total number of pages in each chapter:\\n\\t* 61 pages per chapter x 31 chapters = 1931 pages\\n3. Now, let's add up the total number of pages in all the chapters:\\n\\t* 1931 pages + 1931 pages = 3862 pages\\n4. Therefore, the book has 3862 pages altogether.\\nAnswer: 3862 pages\"}], [{'generated_text': \"\\nThoughts:\\nLet's break down the question step by step:\\n\\nStep 1: We know that white t-shirts can be purchased in packages of 53.\\nStep 2: Mom buys 57 packages of white t-shirts.\\nStep 3: We need to find out how many white t-shirts mom will have after buying 57 packages.\\nStep 4: We know that each package contains 53 white t-shirts, so the total number of white t-shirts in 57 packages is 53 x 57 = 3091.\\nStep 5: Now, we need to add the number of white t-shirts mom bought (3091) to the number of trousers she bought (34).\\nStep 6: The total number of white t-shirts mom will have after buying 34 trousers is 3091 + 34 = 3125.\\nTherefore, the answer to the question is 3125.\\nAnswer: 3125\"}], [{'generated_text': '\\nThoughts:\\n\\n1. Mary has already added 4 cups of sugar, so she needs to add 3 more cups (7 - 4 = 3).\\n2. To find out how many cups of sugar Mary needs to add, we can divide the total amount of sugar needed (7 cups) by the amount she has already added (4 cups). This means Mary needs to add 3 more cups of sugar.\\nAnswer: 3'}], [{'generated_text': \"\\nThoughts:\\nLet's start by identifying the information given in the question:\\n\\n* There were 174 parents in the program.\\n* There were 521 pupils in the program.\\n\\nNow, let's think about how we can use this information to find the difference between the number of pupils and parents in the program:\\n\\n* If there were 174 parents, then there are 521 - 174 = 347 more pupils than parents in the program.\\n\\nSo, the answer to the question is 347.\\n\\nAnswer: 347\"}]]\n"
     ]
    },
    {
     "name": "stderr",
     "output_type": "stream",
     "text": [
      "\n",
      " 40%|████      | 12/30 [02:09<02:56,  9.82s/it]\u001b[A"
     ]
    },
    {
     "name": "stdout",
     "output_type": "stream",
     "text": [
      "[[{'generated_text': \"\\nThoughts:\\nLet's start by identifying the information given in the question:\\n* 907611 kids from Lawrence county stay home during summer break.\\n* 455682 kids go to camp.\\nWe can start by dividing the number of kids who go to camp by the number of kids who stay home:\\n455682 / 907611 = 0.05\\nSo, about 5% of the kids in Lawrence county go to camp during summer break.\\nNow, we can use the total number of kids in Lawrence county to find the number of kids who stay home:\\n907611 x 0.05 = 45380.5\\nSo, there are approximately 45380.5 kids who stay home in Lawrence county during summer break.\\nAnswer: 45380.5\"}], [{'generated_text': '\\nThoughts:\\n\\n1. Danny already had 12 bottle caps in his collection.\\n2. He found 53 more bottle caps at the park.\\n3. So, the total number of bottle caps Danny has now is 12 + 53 = 65.\\nAnswer: 65'}], [{'generated_text': '\\nThoughts:\\n\\n1. Randy has 36 blocks to build a tower.\\n2. If he had 59 blocks, he would have 23 blocks left (59 - 36 = 23).\\nAnswer: 23'}], [{'generated_text': \"\\nThoughts:\\nLet's start by identifying the information given in the question:\\n* Zachary did 59 push-ups and 44 crunches in gym class today.\\n* David did 19 more push-ups than Zachary.\\n* David did 27 less crunches than Zachary.\\nNow, let's use this information to find out how many push-ups David did:\\n1. Zachary did 59 push-ups, so David did 59 + 19 = 78 push-ups.\\nTherefore, the answer is 78.\\nAnswer: 78\"}], [{'generated_text': \"\\nThoughts:\\nLet's start by using the information given in the question: Lewis earns a total of $1216 during the harvest.\\nWe know that Lewis earns $16 each week, so we can set up an equation:\\n$1216 / $16 = X\\nWhere X is the number of weeks the harvest lasted.\\nNow, we can solve for X:\\nX = $1216 / $16\\nX = 78\\n\\nSo, the harvest lasted for 78 weeks.\\nAnswer: 78\"}], [{'generated_text': \"\\nThoughts:\\n\\n1. Let's start by identifying the information given in the question:\\n\\t* Adam can fit 11 action figures on each shelf.\\n\\t* His room has 4 shelves.\\n\\t* There are 40 cabinets in the room.\\n2. Now, let's calculate the total number of action figures that Adam's shelves can hold:\\n\\t* Number of shelves = 4\\n\\t* Number of action figures per shelf = 11\\n\\t* Total number of action figures that can fit on all 4 shelves = 4 x 11 = 44 action figures\\n3. So, the answer to the question is 44.\\nAnswer: 44\"}], [{'generated_text': \"\\nThoughts:\\nLet's break down the information given in the question:\\n\\n* 15 campers went rowing in the morning.\\n* Some more campers went rowing in the afternoon.\\n* A total of 32 campers went rowing that day.\\n\\nSo, the number of campers who went rowing in the afternoon is equal to the total number of campers who went rowing - the number of campers who went rowing in the morning.\\nAnswer: 17\"}], [{'generated_text': \"\\nThoughts:\\n\\n1. Let's start by identifying the information given in the question:\\n\\t* Brenda's mother made cookies for 5 people.\\n\\t* She prepared 22 cookies.\\n\\t* She had to throw away 17 cookies.\\n2. Now, let's think about how many cookies each person would have if they had the same number of cookies.\\n\\t* If there are 5 people and Brenda's mother prepared 22 cookies, then each person would have 22/5 = 4.4 cookies.\\n\\t* But, since she had to throw away 17 cookies, each person would actually have 4.4 - 17 = 0.6 cookies.\\n3. So, the answer to the question is 0.6 cookies per person.\\nAnswer: 0.6\"}], [{'generated_text': \"  Sure! Here are my thoughts on the question:\\nThoughts:\\n* Let's start by identifying the information given in the question:\\n\\t+ 324 students suggested specific types of food.\\n\\t+ 374 students suggested adding bacon to the menu.\\n\\t+ 128 students suggested adding tomatoes.\\n* Now, let's count the number of students who participated in suggesting new food items:\\n\\t+ 324 + 374 + 128 = 826 students participated in suggesting new food items.\\n* Therefore, the answer to the question is 826.\\nAnswer: 826\"}], [{'generated_text': \"\\nThoughts:\\n\\n1. Let's count the number of sets of tables they have: 11 sets\\n2. Each set of tables has 13 chairs, so the total number of chairs they have is 11 x 13 = 143 chairs.\\nAnswer: 143\"}]]\n"
     ]
    },
    {
     "name": "stderr",
     "output_type": "stream",
     "text": [
      "\n",
      " 43%|████▎     | 13/30 [02:14<02:24,  8.50s/it]\u001b[A"
     ]
    },
    {
     "name": "stdout",
     "output_type": "stream",
     "text": [
      "[[{'generated_text': '\\nThoughts:\\n\\n1. Jerry had 2 action figures and 10 books on the shelf initially.\\n2. Later, he added 4 more action figures to the shelf.\\n3. So, the total number of action figures on the shelf now is 2 + 4 = 6.\\n4. The total number of books on the shelf is still 10.\\n5. Therefore, the number of more books than action figures on the shelf is 10 - 6 = 4.\\nAnswer: 4'}], [{'generated_text': '  Sure! Here are my thoughts on the question:\\nThoughts:\\n1. Mary has already added 10 cups of sugar to the recipe, so she needs to add 1 cup more.\\n2. The recipe calls for 11 cups of sugar in total, so Mary needs to add 1 cup more to reach the total amount.\\n3. To find out how many cups of sugar Mary needs to add, we can subtract the amount she has already added (10 cups) from the total amount needed (11 cups). This means Mary needs to add 1 cup more of sugar.\\nAnswer: 1 cup\\n\\nSo, Mary needs to add 1 cup of sugar to the recipe to complete it.'}], [{'generated_text': '\\nThoughts:\\n\\n1. Dan had money initially.\\n2. He spent $2 on a candy bar, so he has $3 left.\\n3. Therefore, he had $3 initially.\\n\\nAnswer: $3'}], [{'generated_text': '\\nThoughts:\\n\\n1. The grasshopper jumped 35 inches.\\n2. The grasshopper jumped 4 inches farther than the frog, so the frog jumped 31 inches.\\n3. To find the total distance they jumped, we need to add the distance the grasshopper jumped to the distance the frog jumped.\\n4. So, the total distance they jumped is 35 + 31 = 66 inches.\\nAnswer: 66 inches'}], [{'generated_text': \"\\nThoughts:\\n\\n1. Adam has 9 apples.\\n2. Jackie has 10 apples.\\n3. To find out how many more apples Jackie has than Adam, we need to subtract Adam's apples from Jackie's apples.\\n4. 10 (Jackie's apples) - 9 (Adam's apples) = 1\\n5. So, Jackie has 1 more apple than Adam.\\nAnswer: 1\"}], [{'generated_text': \"\\nThoughts:\\n\\n1. Let's count the number of action figures Jerry had initially: 5.\\n2. Now, let's count the number of books Jerry added later: 9.\\n3. So, the total number of books on the shelf now is 9 + 2 = 11.\\n4. Therefore, the number of more books than action figures on Jerry's shelf is 11 - 5 = 6.\\nAnswer: 6\"}], [{'generated_text': \"\\nThoughts:\\n\\n* Let's start by identifying the information given in the question:\\n\\t+ White t-shirts can be purchased in packages of 13.\\n\\t+ Mom buys 39 white t-shirts.\\n* Now, let's think about how many packages mom will have based on the information given:\\n\\t+ If white t-shirts come in packages of 13, then mom will have 39 / 13 = 3 packages of white t-shirts.\\n* Therefore, the answer is 3 packages.\\nAnswer: 3\"}], [{'generated_text': \"\\nThoughts:\\n\\n1. Let's start by identifying the information given in the question:\\n\\t* Dave had 24 files and 13 apps on his phone initially.\\n\\t* After deleting some apps and files, he had 17 apps and 21 files left.\\n2. To find out how many files Dave deleted, we need to subtract the number of files he had after deleting from the initial number of files he had.\\n3. So, the number of files Dave deleted is:\\n21 - 24 = -3\\nAnswer: 3\"}], [{'generated_text': \"\\nThoughts:\\n\\n1. Let's start by counting the red peaches: 10 x 11 = 110 red peaches.\\n2. Now, let's count the green peaches: 18 x 11 = 208 green peaches.\\n3. So, the total number of peaches in the baskets is 110 + 208 = 318 peaches.\\nAnswer: 318\"}], [{'generated_text': '\\nThoughts:\\n\\n1. Paco had some cookies in the beginning.\\n2. He ate 19 cookies, so he had 35 cookies left.\\n3. To find out how many cookies he had in the beginning, we need to subtract the number of cookies he ate from the number of cookies he had left.\\n4. So, the number of cookies Paco had in the beginning is 35 - 19 = 16.\\nAnswer: 16'}]]\n"
     ]
    },
    {
     "name": "stderr",
     "output_type": "stream",
     "text": [
      "\n",
      " 47%|████▋     | 14/30 [02:24<02:23,  8.99s/it]\u001b[A"
     ]
    },
    {
     "name": "stdout",
     "output_type": "stream",
     "text": [
      "[[{'generated_text': \"\\nThoughts:\\n\\n1. Rebecca has a total of 11 eggs to split into groups of 2 eggs each.\\n2. To find out how many eggs Rebecca has, we need to divide the total number of eggs by the number of eggs in each group.\\n3. So, we divide 11 eggs by 2 eggs per group: 11 ÷ 2 = 5.5 groups.\\n4. Since we can't have a fraction of a group, we round up to the nearest whole number: 5.5 groups = 6 groups.\\n5. Therefore, Rebecca has 6 groups of eggs, which means she has 6 x 2 = 12 eggs in total.\\nAnswer: 12\"}], [{'generated_text': \"\\nThoughts:\\nLet's start by identifying the information given in the question:\\n\\n* Winter is almost here.\\n* Most animals are migrating to warmer countries.\\n* 27 bird families flew away for the winter from near a mountain.\\n* Initially, there were 41 bird families living near the mountain.\\n\\nNow, let's think about how we can use this information to find the answer to the question:\\n\\nIf 27 bird families migrated away for the winter, then the number of bird families left near the mountain is equal to the initial number of bird families minus the number of families that migrated away.\\nSo, the answer is:\\nAnswer: 41 - 27 = 14\\n\\nTherefore, there were 14 bird families left near the mountain after 27 families migrated away for the winter.\"}], [{'generated_text': \"\\nThoughts:\\nLet's start by using the information given in the question to set up an equation. We know that the grasshopper jumped 39 inches, and the frog jumped x inches. We also know that the mouse jumped y inches, where y is the distance the mouse jumped.\\nWe can start by using the fact that the grasshopper jumped 19 inches farther than the frog to write:\\n39 = x + 19\\nNow, we can use the fact that the mouse jumped 12 inches less than the frog to write:\\nx + 12 = y\\nNow we have two equations and two unknowns. Can you use these equations to find the value of y, which is the distance the mouse jumped?\"}], [{'generated_text': \"\\nThoughts:\\n\\n* Let's start by identifying the information given in the question:\\n\\t+ The school has 304 grades.\\n\\t+ Each grade has 75 students.\\n* Now, let's think about how many students there are in total:\\n\\t+ If there are 304 grades, and each grade has 75 students, then the total number of students is 304 x 75 = 22,550 students.\\n* So, the answer is 22,550 students.\\nAnswer: 22,550\"}], [{'generated_text': \"\\nThoughts:\\n\\n1. Let's start by counting the number of apples: 36.\\n2. Now, let's count the number of bottles: 80 (regular soda) + 54 (diet soda) = 134.\\n3. So, there are 134 bottles more than apples.\\nAnswer: 134\"}], [{'generated_text': \"\\nThoughts:\\n\\n1. Let's start by identifying the information given in the question:\\n\\t* There were 16 roses and 3 orchids in the vase initially.\\n\\t* Jessica cut some more roses and orchids from her flower garden.\\n\\t* Now, there are 7 orchids and 13 roses in the vase.\\n2. Let's find out how many orchids Jessica cut:\\n\\t* If there were 3 orchids initially, and now there are 7, then Jessica cut 4 orchids.\\n3. So, the answer to the question is 4.\\n\\nAnswer: 4\"}], [{'generated_text': \"\\nThoughts:\\n\\n* Let's start by identifying the information given in the question:\\n\\t+ Julia played tag with 12 kids on Monday.\\n\\t+ Julia played tag with 14 kids on Tuesday.\\n\\t+ Julia spent a total of 34 hours playing tag on both days.\\n* Now, let's think about how we can use this information to find the answer to the question:\\n\\t+ If Julia played with 12 kids on Monday and 14 kids on Tuesday, then the total number of kids she played with is 12 + 14 = 26 kids.\\n\\t+ Since Julia spent a total of 34 hours playing tag on both days, the average number of kids she played with per hour is 26 / 34 = 7.6 kids per hour.\\n\\t+ So, Julia played with a total of 26 kids altogether.\\nAnswer: 26\"}], [{'generated_text': \"\\nThoughts:\\n\\n1. Let's start by counting the total number of games Katie has: 62 + 80 = 142 games.\\n2. Now, let's count the total number of games her friends have: 73 + 41 = 114 games.\\n3. To find out how many old games Katie's friends have, we need to subtract the number of new games they have from the total number of games they have: 114 - 73 = 41 old games.\\n4. Therefore, Katie's friends have 41 old games.\\nAnswer: 41\"}], [{'generated_text': '\\nThoughts:\\n\\n1. Paco had 17 cookies initially.\\n2. He ate 14 cookies, so he has 17 - 14 = 3 cookies left.\\n3. He gave 13 cookies to his friend, so he has 3 - 13 = -10 cookies left (negative because he has fewer cookies now).\\n4. Therefore, Paco ate more cookies than he gave to his friend.\\nAnswer: 14 - 13 = 1'}], [{'generated_text': \"  Sure, I'd be happy to help! Here are my thoughts on the question:\\nThoughts:\\nLet's start by using the information given in the question to find out how many visitors came to the Buckingham palace on the day in question. We know that 705 visitors came on that day, and we also know that there were 191 visitors the previous day and 457 visitors the day before that.\\nSo, if we subtract the number of visitors on the previous day (191) from the number of visitors on the day in question (705), we get:\\n705 - 191 = 514\\nNow, let's find out how many more visitors came to the Buckingham palace on that day than on the previous 245 days. We know that there were 245 days between the day in question and the previous day, so if we subtract the number of visitors on the previous day (191) from the number of visitors on the day in question (514), we get:\\n514 - 191 = 323\\nTherefore, there were 323 more visitors at the Buckingham palace on the day in question than on the previous 245 days.\\nAnswer: 323\"}]]\n"
     ]
    },
    {
     "name": "stderr",
     "output_type": "stream",
     "text": [
      "\n",
      " 50%|█████     | 15/30 [02:32<02:07,  8.47s/it]\u001b[A"
     ]
    },
    {
     "name": "stdout",
     "output_type": "stream",
     "text": [
      "[[{'generated_text': \"\\nThoughts:\\nLet's see, if there were initially 11 people on the train, and 8 more people got on, then the total number of people on the train now is... hmm... 11 + 8 = 19 people are on the train now.\\nAnswer: 19\"}], [{'generated_text': \"\\nThoughts:\\n\\n1. Let's start by finding the total number of pages in the first chapter. We know that the first chapter is 66 pages long, so the total number of pages in the first chapter is 66.\\n2. Next, let's find the total number of pages in the second chapter. We know that the second chapter is 35 pages long, so the total number of pages in the second chapter is 35.\\n3. Now, let's find the total number of pages in the third chapter. We know that the third chapter is 24 pages long, so the total number of pages in the third chapter is 24.\\n4. Finally, let's add the total number of pages in each chapter to find the total number of pages in the book. So, the total number of pages in the book is 66 + 35 + 24 = 125 pages.\\nAnswer: 125\"}], [{'generated_text': \"\\nThoughts:\\n\\n1. Let's start by using the information given in the question: Chef had 2 apples left after making some pies, and initially he had 43 apples.\\n2. So, the total number of apples Chef had initially is 43 - 2 = 41 apples.\\n3. Now, we need to find out how many apples Chef used to make the pies.\\n4. Let's assume Chef used x apples to make the pies.\\n5. Since Chef had 41 apples initially, and he used x apples to make the pies, the number of apples Chef used is 41 - x.\\n6. So, the answer to the question is 41 - x.\\nAnswer: 41 - x\"}], [{'generated_text': \"\\nThoughts:\\nLet's break this question down step by step:\\n\\n1. Nell had 438 baseball cards and 18 Ace cards initially.\\n2. She gave some of her cards to Jeff, which means she now has fewer cards than she did initially.\\n3. She has 55 Ace cards and 178 baseball cards left.\\n4. To find out how many more baseball cards than Ace cards Nell has, we need to subtract the number of Ace cards from the number of baseball cards.\\n5. So, the answer is 178 - 55 = 123.\\n\\nAnswer: 123\"}], [{'generated_text': \"\\nThoughts:\\n\\n1. Let's count the number of red peaches: 5\\n2. Now, let's count the number of green peaches: 11\\n3. So, there are 11 green peaches in the basket.\\n4. To find out how many more green peaches than red peaches are in the basket, we need to subtract the number of red peaches from the number of green peaches: 11 - 5 = 6\\n5. Therefore, there are 6 more green peaches than red peaches in the basket.\\nAnswer: 6\"}], [{'generated_text': '\\nThoughts:\\n\\n* Day 1: Ryan spends 6 hours learning English.\\n* Day 2: Ryan spends 6 hours learning English + 5 hours learning Chinese = 11 hours.\\n* Total hours spent learning English in 2 days = 11 hours.\\nAnswer: 11 hours.'}], [{'generated_text': '\\nThoughts:\\n\\n1. Dave had 7 tickets to start with.\\n2. He used some tickets to buy toys.\\n3. If he still has 2 tickets left, that means he used a certain number of tickets to buy toys.\\n4. To find out how many tickets he used, we can divide the number of tickets he has left (2) by the number of tickets he had to start with (7).\\n5. So, Dave used 3 tickets to buy toys.\\nAnswer: 3'}], [{'generated_text': '\\nThoughts:\\n\\n1. Ed had 10 more marbles than Doug, so Ed had 45 - 10 = 35 marbles.\\n2. Doug lost 11 marbles at the playground, so Doug now has 35 - 11 = 24 marbles.\\n3. To find out how many more marbles Ed has than Doug, we need to subtract the number of marbles Doug has from the number of marbles Ed has: 45 - 24 = 21.\\nSo, Ed has 21 more marbles than Doug.\\nAnswer: 21'}], [{'generated_text': '\\nThoughts:\\n\\n1. The cave is 919 feet deep, so they need to travel 1307 feet to reach the end of the cave.\\n2. To find the distance, we can divide the total distance (1307 feet) by the depth of the cave (919 feet).\\n3. So, the distance to the end of the cave is 1417 feet (1307 feet / 919 feet).\\nAnswer: 1417 feet'}], [{'generated_text': '  Sure! Here are my thoughts on the question:\\nThoughts:\\n1. Nell had 246 baseball cards and 214 Ace cards to start with.\\n2. She gave some of her cards to Jeff, so now she has 404 baseball cards and 495 Ace cards left.\\n3. To find out how many more Ace cards than baseball cards Nell has, we need to subtract the number of baseball cards she has left from the number of Ace cards she has left.\\n4. So, the difference between the number of Ace cards and baseball cards is 495 - 246 = 249.\\n5. Therefore, Nell has 249 more Ace cards than baseball cards.\\nAnswer: 249'}]]\n"
     ]
    },
    {
     "name": "stderr",
     "output_type": "stream",
     "text": [
      "\n",
      " 53%|█████▎    | 16/30 [02:40<01:56,  8.35s/it]\u001b[A"
     ]
    },
    {
     "name": "stdout",
     "output_type": "stream",
     "text": [
      "[[{'generated_text': \"\\nThoughts:\\n\\n1. Let's start by identifying the information given in the question: Baker made 155 cakes and his friend bought 140 cakes from him.\\n2. We know that the total number of cakes made by Baker is 155, and his friend bought 140 of them.\\n3. To find out how many cakes Baker would still have, we need to subtract the number of cakes his friend bought from the total number of cakes made by Baker.\\n4. So, the number of cakes Baker would still have is 155 - 140 = 15.\\n5. Therefore, Baker would still have 15 cakes.\\nAnswer: 15\"}], [{'generated_text': '\\nThoughts:\\n\\n1. Bobby initially had 36 pieces of candy.\\n2. He ate 17 pieces of candy, so he has 36 - 17 = 19 pieces of candy left.\\n3. Then he ate 15 more pieces of candy, so he has 19 - 15 = 4 pieces of candy left.\\nAnswer: 4'}], [{'generated_text': \"\\nThoughts:\\nLet's start by using the information given in the question: Jake has 11 fewer peaches than Steven. This means that if Jake has x peaches, Steven has x + 11 peaches.\\nWe are also given that Jake has 17 peaches. So, if we want to find out how many peaches Steven has, we can set up the equation:\\nx + 11 = 17\\nNow, let's solve for x (the number of peaches Steven has):\\nx = 17 - 11\\nx = 6\\nSo, Steven has 6 peaches.\\nAnswer: 6\"}], [{'generated_text': \"\\nThoughts:\\n\\n1. Let's first find the area of each room. The area of a rectangular room is given by the product of its length and width. In this case, the length and width of each room are 19 feet and 18 feet, respectively. So, the area of each room is 19 x 18 = 1624 square feet.\\n2. Since Jesse has 20 rooms in all, the total area of all the rooms is 20 x 1624 = 32480 square feet.\\n3. To find out how much carpet Jesse needs to cover the floors of all the rooms, we need to divide the total area of all the rooms by the width of the carpet. Let's assume the width of the carpet is 5 feet.\\n4. So, the number of square feet of carpet needed to cover the floors of all the rooms is 32480 / 5 = 6496 square feet.\\n\\nAnswer: 6496 square feet.\"}], [{'generated_text': \"\\nThoughts:\\n\\n1. Let's start by identifying the information given in the question:\\n\\t* Katie has 63 games.\\n\\t* Katie's friends have 57 games.\\n2. To find out how many more games Katie has than her friends, we need to subtract the number of games her friends have from the number of games Katie has:\\n\\t* Katie has 63 games - her friends have 57 games = 6 more games.\\n3. So, Katie has 6 more games than her friends.\\nAnswer: 6\"}], [{'generated_text': \"\\nThoughts:\\n\\n* Let's start by identifying the information given in the question:\\n\\t+ Paige and her mom planted 45 seeds in 9 flowerbeds.\\n\\t+ They put the same number of seeds in each flowerbed.\\n* Now, let's think about how we can use this information to find the number of seeds in each flowerbed:\\n\\t+ If they put the same number of seeds in each flowerbed, then the number of seeds in each flowerbed is the same as the total number of seeds they planted divided by the number of flowerbeds.\\n\\t+ So, if they planted 45 seeds and there are 9 flowerbeds, the number of seeds in each flowerbed is 45 / 9 = 5 seeds.\\n* Therefore, Paige and her mom planted 5 seeds in each of the 9 flowerbeds.\\nAnswer: 5\"}], [{'generated_text': '\\nThoughts:\\n\\n1. Let\\'s define Dean\\'s height as \"D\" feet.\\n2. The depth of the water is 10 times Dean\\'s height, so the depth of the water is 10D feet.\\n3. Since Dean stands at 9 feet, the depth of the water is 10D - 9 feet.\\n4. To find the depth of the water in feet, we need to convert 10D from feet to feet.\\n5. 10D = 10 x 9 = 90 feet.\\n6. So, the depth of the water is 90 feet deeper than Dean\\'s height.\\nAnswer: 90 feet'}], [{'generated_text': '  Sure! Here are my thoughts on the question:\\nThoughts:\\n1. Zachary did 15 push-ups in gym class today.\\n2. David did 39 more push-ups than Zachary, so David did 15 + 39 = 54 push-ups.\\n3. John did 9 push-ups less than David, so John did 54 - 9 = 45 push-ups.\\n4. To find out how many more push-ups Zachary did than John, we need to subtract the number of push-ups John did from the number of push-ups Zachary did. So, Zachary did 15 + 39 = 54 push-ups, and John did 45 push-ups, so Zachary did 54 - 45 = 9 more push-ups than John.\\nAnswer: 9'}], [{'generated_text': \"\\nThoughts:\\n\\n1. Let's count the birds first. There are 4 birds already sitting on the fence.\\n2. Now, let's count the storks. There are 6 storks already sitting on the fence.\\n3. The question says 2 more storks came to join them, so let's add 2 to the total number of storks.\\n4. Now, we have a total of 4 birds and 8 storks (6 + 2) sitting on the fence.\\nAnswer: 8\"}], [{'generated_text': \"\\nThoughts:\\n\\n1. Let's count the number of trees Haley grew in her backyard initially: 13 trees.\\n2. After the typhoon, 6 trees died, so the number of trees that died is 6.\\n3. To find out how many more trees survived the typhoon than those that died, we need to subtract the number of trees that died from the initial number of trees grown: 13 - 6 = 7 trees survived the typhoon.\\nAnswer: 7\"}]]\n"
     ]
    },
    {
     "name": "stderr",
     "output_type": "stream",
     "text": [
      "\n",
      " 57%|█████▋    | 17/30 [02:49<01:52,  8.62s/it]\u001b[A"
     ]
    },
    {
     "name": "stdout",
     "output_type": "stream",
     "text": [
      "[[{'generated_text': \"\\nThoughts:\\nLet's start by using the information given in the question to find out how many crayons Paul had at the end of the school year. We know that he had 521 crayons initially and that he didn't lose any erasers. So, the number of crayons he had at the end of the school year is:\\n521 - 66 = 455\\nNow, we need to find out how many crayons Paul had at the beginning of the school year. We are told that he had 154 crayons left at the end of the school year, so the number of crayons he had at the beginning of the school year is:\\n455 - 154 = 301\\nNow, we can find out how many crayons Paul had given away or lost by subtracting the number of crayons he had at the end of the school year from the number of crayons he had at the beginning of the school year:\\n301 - 154 = 147\\nSo, Paul had given away or lost 147 crayons during the school year.\\nAnswer: 147\"}], [{'generated_text': \"\\nThoughts:\\nLet's start by identifying the information given in the question:\\n* The pickers fill 8 drums of grapes per day.\\n* There are 36 pickers.\\n* The total number of drums of grapes to be filled is 240.\\nNow, let's think step by step how many days it will take to fill 240 drums of grapes:\\nStep 1: Divide the total number of drums by the number of drums filled per day.\\n240 drums / 8 drums per day = 30 days\\nSo, it will take 30 days to fill 240 drums of grapes.\\nAnswer: 30 days\"}], [{'generated_text': \"\\nThoughts:\\n\\n* Adam can fit 8 action figures on each shelf, so he can fit 8 x 4 = 32 action figures on all 4 shelves.\\n* Adam can fit 10 cabinets on each shelf, so he can fit 10 x 4 = 40 cabinets on all 4 shelves.\\n* Therefore, the total number of items that Adam's shelves can hold is 32 + 40 = 72 items.\\nAnswer: 72\"}], [{'generated_text': \"\\nThoughts:\\n\\n1. Let's count the birds first. We know there were 3 birds sitting on the fence initially.\\n2. Now, 6 more storks have come to join them, so the total number of storks is 6.\\n3. Since storks are sitting on the fence along with the birds, we need to add the number of storks to the number of birds.\\n4. Therefore, the total number of birds and storks sitting on the fence is 3 + 6 = 9.\\nAnswer: 9\"}], [{'generated_text': \"  Sure, I'd be happy to help! Here are my thoughts on the question:\\nThoughts:\\nLet's start by identifying the information given in the question:\\n* 41 bird families live near the mountain.\\n* 35 bird families flew away to Asia.\\n* 62 bird families flew away to Africa.\\nNow, let's think about how we can use this information to find the difference between the number of bird families that flew away to Africa and the number that flew away to Asia.\\n* If 35 bird families flew away to Asia, that means there are 41 - 35 = 6 bird families left near the mountain.\\n* If 62 bird families flew away to Africa, that means there are 41 - 62 = -20 bird families left near the mountain (since the total number of bird families is decreasing).\\nSo, the difference between the number of bird families that flew away to Africa and the number that flew away to Asia is 20.\\nTherefore, the answer to the question is 20.\\nAnswer: 20\"}], [{'generated_text': \"\\nThoughts:\\nLet's see... if Baker sold 44 cakes and he had made 48 cakes initially, that means he has 48 - 44 = 4 cakes left.\\nSo, Baker still has 4 cakes.\\nAnswer: 4\"}], [{'generated_text': \"\\nThoughts:\\n\\n* Let's start by identifying the information given in the question:\\n\\t+ Mom buys 51 white t-shirts.\\n\\t+ White t-shirts can be purchased in packages of 3.\\n* Now, let's think about how many packages Mom will have based on the information given:\\n\\t+ If Mom buys 51 white t-shirts, and each t-shirt comes in packages of 3, then the number of packages Mom will have is 51 / 3 = 17 packages.\\n* So, the answer to the question is 17 packages.\\nAnswer: 17\"}], [{'generated_text': \"\\nThoughts:\\n\\n1. Let's start by dividing the total number of eggs (15) by the number of groups Rebecca wants to make (3). This gives us the total number of eggs each group will have: 15 / 3 = 5 eggs per group.\\n2. Now, let's see how many marbles Rebecca has (4) and how many eggs each group will have (5). This means that for every marble Rebecca has, she can make 5 eggs.\\n3. So, if Rebecca wants to split the eggs into 3 groups, she will have 4 marbles and 15 eggs, which means she can make 4 x 5 = 20 eggs in total.\\nAnswer: 20\"}], [{'generated_text': \"\\nThoughts:\\nLet's see... if Brenda's mother made 18 cookies and 9 guests didn't come, then the number of cookies each guest received is 18 / 9 = 2 cookies per guest.\\nSo, each guest had 2 cookies.\\nAnswer: 2\"}], [{'generated_text': \"\\nThoughts:\\n\\n* Let's start by identifying the information given in the question:\\n\\t+ Julia played tag with 15 kids on Monday.\\n\\t+ Julia played tag with 18 kids on Tuesday.\\n\\t+ Julia played tag with 97 kids on Wednesday.\\n* Now, let's think about how we can use this information to find the number of kids Julia played with on Monday and Tuesday:\\n\\t+ If Julia played with 15 kids on Monday and 18 kids on Tuesday, then she played with a total of 15 + 18 = 33 kids on Monday and Tuesday.\\n* Therefore, the answer to the question is 33.\\nAnswer: 33\"}]]\n"
     ]
    },
    {
     "name": "stderr",
     "output_type": "stream",
     "text": [
      "\n",
      " 60%|██████    | 18/30 [02:56<01:37,  8.16s/it]\u001b[A"
     ]
    },
    {
     "name": "stdout",
     "output_type": "stream",
     "text": [
      "[[{'generated_text': \"\\nThoughts:\\nLet's start by using the information given in the question: David did 44 push-ups in gym class today. David did 9 more push-ups than Zachary.\\nSo, Zachary did:\\n44 + 9 = 53 push-ups\\n\\nAnswer: 53\"}], [{'generated_text': '\\nThoughts:\\n\\n1. Kelly has 80 Nintendo games initially.\\n2. She found 31 more Nintendo games, so now she has 80 + 31 = 111 games.\\n3. To find out how many games Kelly needs to give away to have 6 games left, we need to subtract the number of games she has already given away (6) from the total number of games she has (111).\\n4. So, Kelly needs to give away 111 - 6 = 105 games.\\nAnswer: 105'}], [{'generated_text': \"\\nThoughts:\\n\\n1. Let's start by identifying the number of girls in the school: 315\\n2. Now, let's find the number of boys in the school: 309\\n3. Next, let's count the number of teachers in the school: 772\\n4. Now, we need to find the total number of people in the school, which is the sum of the number of girls, boys, and teachers: 315 + 309 + 772 = 1496\\n5. Therefore, there are 1496 people in that school.\\nAnswer: 1496\"}], [{'generated_text': '\\nThoughts:\\n\\n1. Dave had 18 tickets to start with.\\n2. He used 5 tickets to buy some toys, so he has 18 - 5 = 13 tickets left.\\n3. He used 11 more tickets to buy some clothes, so he has 13 - 11 = 2 tickets left.\\nAnswer: 2'}], [{'generated_text': '\\nThoughts:\\n\\n1. Dan had $4 initially.\\n2. He had $3 left after buying a candy bar.\\n3. So, the cost of the candy bar is $4 - $3 = $1.\\n\\nAnswer: $1'}], [{'generated_text': \"  Sure, I'd be happy to help! Here are my thoughts on the question:\\nThoughts:\\n1. Let's start by identifying the information given in the question:\\n* 89 bird families lived near the mountain.\\n* 60 bird families flew away for winter.\\n* We want to know how many more bird families flew away for winter than those that stayed behind.\\n2. Now, let's think about how we can use this information to find the answer. We know that the total number of bird families that lived near the mountain is 89, and 60 of them flew away for winter. This means that the number of bird families that stayed behind is 89 - 60 = 29.\\n3. So, the number of more bird families that flew away for winter than those that stayed behind is 60 - 29 = 31.\\nAnswer: 31\"}], [{'generated_text': '\\nThoughts:\\n\\n1. Baker made 110 cakes in total.\\n2. He sold 75 cakes, so he has 110 - 75 = 35 cakes left.\\n3. Then he made 76 more cakes, so he has 35 + 76 = 111 cakes.\\n4. So, baker still has 111 cakes.\\nAnswer: 111'}], [{'generated_text': \"\\nThoughts:\\nLet's see, if there were 41 children on the bus in total, and 2 more children got on the bus at the bus stop, then the number of children riding on the bus before the bus stop must be...\\n1. How many children were already on the bus when it left?\\nLet's assume the bus left with x children on it.\\n2. How many children got on the bus at the bus stop?\\n2 more children got on the bus, so the total number of children on the bus at the bus stop is x + 2.\\n3. How many children are there in total on the bus now?\\nSo, the total number of children on the bus now is x + 2 + 41 = x + 43.\\n4. Therefore, the number of children riding on the bus before the bus stop is x.\\nAnswer: x = 35.\"}], [{'generated_text': \"\\nThoughts:\\nLet's first calculate the total number of bottles Debby bought:\\n88 water bottles + 13 soda bottles = 101 bottles\\n\\nNow, let's calculate the number of days the water bottles will last:\\nDebby drank 4 water bottles per day, so the number of days the water bottles will last is:\\n101 bottles / 4 bottles per day = 25.25 days\\n\\nSo, the water bottles will last for approximately 25 days.\\nAnswer: 25 days\"}], [{'generated_text': \"\\nThoughts:\\n\\n* Let's start by identifying the information given in the question:\\n\\t+ Frank read through his favorite book.\\n\\t+ The book had 2 chapters.\\n\\t+ Each chapter had 405 pages.\\n\\t+ It took Frank 664 days to finish the book.\\n* Now, let's think about how we can use this information to find the number of chapters Frank read per day:\\n\\t+ If Frank took 664 days to finish the book, that means he read for a total of 664 days.\\n\\t+ Since there are 2 chapters in the book, Frank read for a total of 2 x 405 pages = 810 pages per chapter.\\n\\t+ Therefore, Frank read one chapter per day.\\nAnswer: 1\"}]]\n"
     ]
    },
    {
     "name": "stderr",
     "output_type": "stream",
     "text": [
      "\n",
      " 63%|██████▎   | 19/30 [03:05<01:32,  8.37s/it]\u001b[A"
     ]
    },
    {
     "name": "stdout",
     "output_type": "stream",
     "text": [
      "[[{'generated_text': \"\\nThoughts:\\nLet's start by identifying the information given in the question:\\n* David did 40 more push-ups than Zachary.\\n* David did 17 less crunches than Zachary.\\n* Zachary did 34 push-ups and 62 crunches.\\nFrom these statements, we can conclude that:\\n* David did 34 + 40 = 74 push-ups.\\n* David did 62 - 17 = 45 crunches.\\nTherefore, David did 45 crunches in gym class today.\\nAnswer: 45\"}], [{'generated_text': \"\\nThoughts:\\n\\n1. Let's start by counting the total number of eggs Rebecca has: 9 eggs.\\n2. Now, let's count the number of bananas Rebecca has: 99 bananas.\\n3. Next, let's count the number of marbles Rebecca has: 27 marbles.\\n4. Now, let's divide the total number of eggs by 3 to find out how many groups Rebecca can create: 9 eggs / 3 = 3 groups.\\n5. So, Rebecca can create 3 groups of eggs.\\nAnswer: 3\"}], [{'generated_text': \"\\nThoughts:\\n\\n* Let's assume that the number of sacks of unripe oranges remains the same throughout the 73 days of harvest.\\n* The total number of sacks of oranges harvested per day is 25 + 5 = 30 sacks.\\n* Since the oranges are harvested for 73 days, the total number of sacks of oranges harvested is 30 x 73 = 2150 sacks.\\n* Of these, 5 sacks are ripe oranges, so the total number of sacks of ripe oranges harvested is 5 / 30 = 0.17 sacks per day.\\n* To find the total number of sacks of ripe oranges after 73 days, we multiply the number of sacks per day by 73: 0.17 sacks/day x 73 = 12.11 sacks.\\n* Therefore, after 73 days of harvest, they will have 12.11 sacks of ripe oranges.\\nAnswer: 12.11\"}], [{'generated_text': \"\\nThoughts:\\n\\n1. Let's start by using the information given in the question: the cave is 762 feet deep and they are already at 659 feet.\\n2. To find out how much farther they have to go, we need to subtract the current height from the depth of the cave.\\n3. So, the answer is 762 - 659 = 103 feet.\\n\\nAnswer: 103 feet\"}], [{'generated_text': \"\\nThoughts:\\nLet's start by using the information given in the question to find out how many peaches Jill has. We know that Steven has 18 more peaches than Jill, so if Jill has 5 peaches, Steven has 5 + 18 = 23 peaches.\\nNow, we know that Jake has 6 fewer peaches than Steven. So, if Steven has 23 peaches, Jake has 23 - 6 = 17 peaches.\\nTherefore, Jake has 17 peaches.\\nAnswer: 17\"}], [{'generated_text': \"\\nThoughts:\\n\\n1. Let's start by identifying the information given in the question:\\n\\t* Baker made some cakes.\\n\\t* He sold 145 of them.\\n\\t* He still has 72 cakes left.\\n2. We know that the total number of cakes Baker made is equal to the number of cakes he still has, minus the number of cakes he sold.\\n3. So, if he still has 72 cakes, and he sold 145 cakes, then the number of cakes he made is:\\n72 - 145 = -73\\n(Note: The answer is negative because we are subtracting the number of cakes he sold from the number of cakes he still has, which results in a negative number.)\\nAnswer: -73\"}], [{'generated_text': \"\\nThoughts:\\n\\n1. Adam has 10 apples and Jackie has 2 apples, so the difference between their apple counts is 10 - 2 = 8 apples.\\n2. To find out how many more apples Adam has than Jackie, we need to subtract Jackie's apple count from Adam's apple count.\\n3. So, Adam has 8 more apples than Jackie.\\nAnswer: 8\"}], [{'generated_text': '\\nThoughts:\\n\\n1. Paul had 95 pens and 153 books initially.\\n2. After selling some books and pens in a garage sale, he had 13 books and 23 pens left.\\n3. To find out how many books Paul sold in the garage sale, we need to subtract the number of books he had left (13) from the initial number of books he had (153).\\n4. Therefore, Paul sold 140 books in the garage sale.\\nAnswer: 140'}], [{'generated_text': \"\\nThoughts:\\n\\n1. Let's start by identifying the information given in the question:\\n\\t* The industrial machine can make 3 shirts per minute.\\n\\t* The machine made 6 shirts in all.\\n2. We know that the machine made 6 shirts, so we can divide the number of shirts by the number of minutes per shirt to find out how many minutes the machine worked:\\n\\t* 6 shirts / 3 shirts per minute = 2 minutes\\n3. Therefore, the machine worked for 2 minutes.\\nAnswer: 2 minutes\"}], [{'generated_text': \"  Sure, I'd be happy to help you with that! Here are my thoughts on the question:\\nThoughts:\\nLet's start by using the information given in the question to find out how much wax the person already has. We know that he needs a total of 57 g of colors to paint the feathers, and he needs 22 g of wax more. So, the total amount of wax he needs is 57 + 22 = 79 g.\\nNow, we know that the feathers require a total of 353 g of wax. So, if the person already has 79 g of wax, that means he has 353 - 79 = 274 g of wax left to use.\\nTherefore, the answer to the question is 274 g.\\nAnswer: 274 g\"}]]\n"
     ]
    },
    {
     "name": "stderr",
     "output_type": "stream",
     "text": [
      "\n",
      " 67%|██████▋   | 20/30 [03:19<01:40, 10.01s/it]\u001b[A"
     ]
    },
    {
     "name": "stdout",
     "output_type": "stream",
     "text": [
      "[[{'generated_text': \"  Sure, I'd be happy to help! Here are my thoughts on the question:\\nThoughts:\\n1. Let's start by identifying the given information:\\n* Mary has already added 12 cups of flour.\\n* The recipe calls for 6 cups of flour.\\n* The recipe also calls for 11 cups of sugar and 9 cups of salt.\\n2. Now, let's think about how much sugar Mary needs to add:\\n* If Mary has already added 12 cups of flour, that means she has 6 cups of flour left to add (since the recipe calls for 6 cups of flour).\\n* The recipe calls for 11 cups of sugar, so Mary needs to add 5 cups of sugar (since she has 6 cups of flour left to add).\\n3. Next, let's think about how much salt Mary needs to add:\\n* The recipe calls for 9 cups of salt.\\n* Since Mary has already added 12 cups of flour, she has 3 cups of flour left to add (since the recipe calls for 6 cups of flour).\\n* Therefore, Mary needs to add 3 cups of salt (since she has 3 cups of flour left to add).\\n4. Now, let's summarize the information:\\n* Mary needs to add 5 cups of sugar and 3 cups of salt.\\n5. Finally, let's give the answer to the question:\\nAnswer: 5 + 3 = 8 cups of sugar and salt.\\nSo, Mary needs to add 8 cups of sugar and salt to the cake.\"}], [{'generated_text': \"\\nThoughts:\\n\\n1. Let's start by identifying the information given in the question:\\n\\t* Mary needs to add 9 cups of flour.\\n\\t* She has already added 2 cups of flour.\\n\\t* The recipe calls for 6 cups of sugar.\\n2. To find out how many more cups of flour Mary needs to add, we need to subtract the amount she has already added (2 cups) from the total amount needed (9 cups).\\n3. So, Mary needs to add 7 more cups of flour (9 cups - 2 cups = 7 cups).\\n4. Now, let's convert the amount of flour from cups to a number:\\n\\t* 7 cups = 7 x 8 oz = 56 oz\\n5. Finally, we can give the answer as a number:\\n\\t* Mary needs to add 56 oz of flour.\\n\\nAnswer: 56 oz\"}], [{'generated_text': '\\nThoughts:\\n\\n1. Josh had 20 marbles in his collection to start with.\\n2. He gave 2 marbles to Jack, so he has 20 - 2 = 18 marbles left.\\n3. Therefore, Josh has 18 marbles now.\\n\\nAnswer: 18'}], [{'generated_text': '\\nThoughts:\\n\\n1. Paco had 9 sweet cookies and 6 salty cookies initially.\\n2. He ate 36 sweet cookies, so he has 9 - 36 = 30 sweet cookies left.\\n3. He also ate 3 salty cookies, so he has 6 - 3 = 3 salty cookies left.\\n4. Therefore, Paco has 30 sweet cookies and 3 salty cookies left.\\nAnswer: 33'}], [{'generated_text': '\\nThoughts:\\n\\n1. Edward had $18 initially.\\n2. He spent $16, so he has $18 - $16 = $2 left.\\n\\nAnswer: $2'}], [{'generated_text': '\\nThoughts:\\n\\n1. Paco had 40 cookies to start with.\\n2. He ate 2 cookies, so he had 40 - 2 = 38 cookies left.\\n3. Then he bought 37 more cookies, so he had 38 + 37 = 75 cookies in total.\\n4. Therefore, Paco had 75 cookies left.\\nAnswer: 75'}], [{'generated_text': \"\\nThoughts:\\n\\n1. Let's start by identifying the information given in the question:\\n\\t* Lawrence county has 313473 kids.\\n\\t* During summer break, 274865 kids stay home.\\n\\t* The rest (i.e., the difference between the total number of kids and the number of kids who stay home) go to camp.\\n2. To find out how many kids go to camp, we need to subtract the number of kids who stay home from the total number of kids in Lawrence county.\\n3. So, the number of kids who go to camp is:\\n313473 - 274865 = 38808\\nAnswer: 38808\"}], [{'generated_text': '\\nThoughts:\\n\\n1. Lucy bought 10 packs of cookie.\\n2. She also bought 4 packs of cake.\\n3. To find out how many more packs of cookie she bought than cake, we need to subtract the number of packs of cake she bought from the number of packs of cookie she bought.\\n4. So, the difference between the number of packs of cookie and cake is 10 - 4 = 6.\\n5. Therefore, Lucy bought 6 more packs of cookie than cake.\\nAnswer: 6'}], [{'generated_text': \"\\nThoughts:\\nLet's start by dividing the total number of skittles and erasers by the number of groups.\\nTotal number of skittles: 4502\\nTotal number of erasers: 4276\\nNumber of groups: 154\\nNow, we can find the size of each group by dividing the total number of skittles and erasers by the number of groups.\\nSize of each group:\\nSkittles: 4502 / 154 = 29\\nErasers: 4276 / 154 = 27\\nSo, each group contains 29 skittles and 27 erasers.\"}], [{'generated_text': \"\\nThoughts:\\nLet's first calculate the total amount of money made by the ring toss game at the carnival:\\n325 + 114 = 439\\nNow, we need to find out how much money the game made per day in the remaining 57 days. To do this, we can divide the total amount of money made by the number of days left:\\n439 ÷ 57 = 7.7\\nSo, the ring toss game made approximately 7.7 dollars per day in the remaining 57 days at the carnival.\\nAnswer: 7.7\"}]]\n"
     ]
    },
    {
     "name": "stderr",
     "output_type": "stream",
     "text": [
      "\n",
      " 70%|███████   | 21/30 [03:38<01:55, 12.85s/it]\u001b[A"
     ]
    },
    {
     "name": "stdout",
     "output_type": "stream",
     "text": [
      "[[{'generated_text': \"  Sure, I'd be happy to help you with that! Here are my thoughts on the question:\\nThoughts:\\nStep 1: Identify the information given in the question:\\n* The Razorback t-shirt shop makes $87 per t-shirt sold.\\n* They sold a total of 95 t-shirts during the Arkansas game and the Texas Tech game.\\n* They sold 47 t-shirts during the Arkansas game.\\nStep 2: Determine the total amount of money made from selling t-shirts during the Arkansas game:\\n* If they sold 47 t-shirts during the Arkansas game, and each t-shirt costs $87, then the total amount of money made from selling t-shirts during the Arkansas game is:\\n$47 x $87 = $4,099\\nStep 3: Determine the amount of money made from selling t-shirts during the Texas Tech game:\\n* Since they sold a total of 95 t-shirts during both games, and they sold 47 t-shirts during the Arkansas game, then they sold 48 t-shirts during the Texas Tech game.\\n* If they sold 48 t-shirts during the Texas Tech game, and each t-shirt costs $87, then the total amount of money made from selling t-shirts during the Texas Tech game is:\\n$48 x $87 = $4,396\\nStep 4: Find the total amount of money made from selling t-shirts:\\n* To find the total amount of money made from selling t-shirts, we need to add the amount made from selling t-shirts during the Arkansas game and the amount made from selling t-shirts during the Texas Tech game:\\n$4,099 + $4,396 = $8,495\\nStep 5: Give the answer:\\n* Therefore, the Razorback t-shirt shop made $8,495 from selling t-shirts during the Arkansas game and the Texas Tech game.\\nAnswer: $8,49\"}], [{'generated_text': \"\\nThoughts:\\n\\n* Let's start by identifying the information given in the question:\\n\\t+ Mom buys 66 white t-shirts.\\n\\t+ Each package contains 3 white t-shirts.\\n* Now, let's think about how many packages Mom will have based on the information given:\\n\\t+ If Mom buys 66 white t-shirts, and each package contains 3 t-shirts, then the total number of packages will be 66 / 3 = 22 packages.\\n* So, Mom will have 22 packages.\\nAnswer: 22\"}], [{'generated_text': '\\nThoughts:\\n\\n1. Paige raised a total of 16 goldfish and 71 catfish in the pond.\\n2. Stray cats loved eating the goldfish, so some of them disappeared.\\n3. Now, Paige has only 2 goldfish left in the pond.\\n4. To find out how many goldfish disappeared, we need to subtract the number of goldfish Paige has now from the total number of goldfish she raised.\\n5. So, the number of goldfish that disappeared is 16 - 2 = 14.\\nAnswer: 14'}], [{'generated_text': \"\\nThoughts:\\nLet's see, Rachel had to complete 5 pages of math homework and 2 pages of reading homework. That means she had 5 - 2 = 3 more pages of math homework than reading homework.\\nSo, the answer is 3.\\nAnswer: 3\"}], [{'generated_text': '\\nThoughts:\\n\\n1. Carol bought 6 packs of invitations, each pack has 14 invitations, so she bought a total of 6 x 14 = 84 invitations.\\n2. She also bought 11 extra invitations, so the total number of invitations she has is 84 + 11 = 95 invitations.\\n3. Since each invitation can invite one friend, the total number of friends Carol can invite is 95 friends.\\nAnswer: 95'}], [{'generated_text': \"\\nThoughts:\\n\\n1. Let's start by counting the total number of peaches in the basket: 6 red + 90 yellow + 16 green = 112 peaches.\\n2. Now, let's find out how many red peaches are in the basket: 6 red peaches out of 112 peaches = 5.5% of the total peaches are red.\\n3. Next, let's find out how many green peaches are in the basket: 16 green peaches out of 112 peaches = 14.5% of the total peaches are green.\\n4. Therefore, there are 5.5% red peaches and 14.5% green peaches in the basket.\\nAnswer:\\n5.5% = 0.055\\n14.5% = 0.145\\nSo, there are 0.055 red peaches and 0.145 green peaches in the basket.\"}], [{'generated_text': \"\\nThoughts:\\n\\n* Let's first identify the time periods mentioned in the question: morning, afternoon, and evening.\\n* The question states that Jack received 3 emails in the morning, 4 emails in the afternoon, and 8 emails in the evening.\\n* To find out how many emails Jack received in the morning and evening, we need to add the number of emails he received in each time period.\\n* In the morning, Jack received 3 emails.\\n* In the afternoon, Jack received 4 emails.\\n* In the evening, Jack received 8 emails.\\n* Therefore, the total number of emails Jack received in the morning and evening is 3 + 4 = 7 emails.\\nAnswer: 7\"}], [{'generated_text': '\\nThoughts:\\n\\n1. Rachel has 3 apple trees.\\n2. She picked 8 apples from each of her trees.\\n3. Now the trees have a total of 9 apples still on them.\\n4. To find the initial number of apples on the trees, we need to subtract the number of apples picked from the total number of apples on the trees.\\n5. So, the initial number of apples on the trees was 3 x 3 = 9 apples.\\nAnswer: 9'}], [{'generated_text': \"\\nThoughts:\\nLet's start by identifying the information given in the question:\\n\\n* Jake has 7 fewer peaches than Steven\\n* Jake has 9 more peaches than Jill\\n* Steven has 16 peaches\\n\\nNow, let's use the information to find out how many peaches Jake has:\\n\\n* Jake has 7 fewer peaches than Steven, so Jake has 7 + 16 = 23 peaches\\n\\nTherefore, Jake has 23 peaches.\\n\\nAnswer: 23\"}], [{'generated_text': '\\nThoughts:\\n\\n1. Dave had 17 apps on his phone initially.\\n2. After adding some apps, he had 18 apps left.\\n3. To find out how many apps Dave added, we need to subtract the original number of apps (17) from the new number of apps (18).\\n4. So, Dave added 1 app.\\n\\nAnswer: 1'}]]\n"
     ]
    },
    {
     "name": "stderr",
     "output_type": "stream",
     "text": [
      "\n",
      " 73%|███████▎  | 22/30 [03:46<01:30, 11.37s/it]\u001b[A"
     ]
    },
    {
     "name": "stdout",
     "output_type": "stream",
     "text": [
      "[[{'generated_text': \"\\nThoughts:\\nLet's break down the information given in the question:\\n\\n* Jack received 4 emails in the morning.\\n* He received a total of 5 emails in the day.\\n* So, the number of emails Jack received in the afternoon is 5 - 4 = 1.\\n\\nAnswer: 1\"}], [{'generated_text': '\\nThoughts:\\n\\n* Faye has 14 rows of pencils.\\n* Each row has 11 pencils, so the total number of pencils is 14 x 11 = 154 pencils.\\n\\nAnswer: 154'}], [{'generated_text': '\\nThoughts:\\n\\n1. Paco had 36 cookies to start with.\\n2. He gave 14 cookies to his friend, so now he has 36 - 14 = 22 cookies left.\\n3. He ate 10 cookies, so now he has 22 - 10 = 12 cookies left.\\nAnswer: 12'}], [{'generated_text': \"\\nThoughts:\\n\\n1. Let's count the number of eggs Rebecca has: 12 eggs.\\n2. Now, let's count the number of marbles Rebecca has: 5 marbles.\\n3. To find out how many more eggs Rebecca has than marbles, we need to subtract the number of marbles from the number of eggs: 12 eggs - 5 marbles = 7 eggs.\\nSo, Rebecca has 7 more eggs than marbles.\\nAnswer: 7\"}], [{'generated_text': '\\nThoughts:\\n\\n1. Nell had 566 cards and gave some to Jeff.\\n2. Now, Nell has 535 cards left.\\n3. Jeff had 234 cards and received some from Nell.\\n4. So, Jeff now has (535 - 234) = 301 cards.\\n\\nAnswer: 301'}], [{'generated_text': \"\\nThoughts:\\nLet's see... Brenda's mother made 14 cookies for 2 guests. If each of them had the same number of cookies, then the number of cookies each guest had is equal to the number of cookies Brenda's mother made. So, if Brenda's mother made 14 cookies, then each guest had 14/2 = 7 cookies.\\nAnswer: 7\"}], [{'generated_text': '\\nThoughts:\\n\\n* Debby drinks 6 bottles a day, so she drinks a total of 6 x 12 = 72 bottles in a month (30 days).\\n* If she bought a total of 12 water bottles, then she has 12 - 72 = -60 bottles left.\\n* Since she has negative bottles, that means she has more bottles than she needs, so she will last longer than a month.\\n* To determine exactly how many days she will last, we need to divide the number of bottles she has by the number of bottles she drinks per day: 12 / 6 = 2 days.\\nSo, Debby will last 2 days with the 12 water bottles she bought.\\nAnswer: 2'}], [{'generated_text': \"\\nThoughts:\\n\\n1. Let's assume that each seat on the Ferris wheel can hold one person.\\n2. If there are 4 seats on the Ferris wheel and 20 people can ride it at the same time, then the number of people each seat can hold is 20/4 = 5.\\n3. So, each seat on the Ferris wheel can hold 5 people.\\nAnswer: 5\"}], [{'generated_text': '\\nThoughts:\\n\\n1. Emily has 16 beads.\\n2. Each necklace requires 8 beads.\\n3. To find out how many necklaces Emily can make, we need to divide the number of beads she has by the number of beads required for each necklace.\\n4. 16 beads / 8 beads per necklace = 2 necklaces\\nAnswer: 2'}], [{'generated_text': \"  Sure, I'd be happy to help! Here are my thoughts on the question:\\nThoughts:\\nStep 1: Let's start by identifying the information given in the question:\\n* 18 bird families live near the mountain.\\n* 38 bird families flew away to Africa.\\n* 80 bird families flew away to Asia.\\n\\nStep 2: Let's count the number of bird families that flew away to Africa and Asia:\\n* 38 bird families flew away to Africa.\\n* 80 bird families flew away to Asia.\\nStep 3: Now, let's find the total number of bird families that flew away for the winter:\\nTotal number of bird families that flew away for the winter = Number of bird families that flew away to Africa + Number of bird families that flew away to Asia\\n= 38 + 80\\n= 118\\n\\nSo, there were 118 bird families that flew away for the winter.\\nAnswer: 118\"}]]\n"
     ]
    },
    {
     "name": "stderr",
     "output_type": "stream",
     "text": [
      "\n",
      " 77%|███████▋  | 23/30 [03:53<01:11, 10.15s/it]\u001b[A"
     ]
    },
    {
     "name": "stdout",
     "output_type": "stream",
     "text": [
      "[[{'generated_text': \"\\nThoughts:\\n\\n* Let's first identify the information given in the question:\\n\\t+ Jack received 4 emails in the morning.\\n\\t+ Jack received 5 emails in the afternoon.\\n\\t+ Jack received 8 emails in the evening.\\n* Now, let's find out the total number of emails Jack received in the afternoon and evening:\\n\\t+ The afternoon refers to the time period between 12 PM and 5 PM.\\n\\t+ Jack received 5 emails in the afternoon, so the total number of emails he received in the afternoon is 5.\\n\\t+ The evening refers to the time period between 5 PM and 12 AM.\\n\\t+ Jack received 8 emails in the evening, so the total number of emails he received in the evening is 8.\\n* Therefore, the answer to the question is:\\n\\t+ Jack received 5 emails in the afternoon and 8 emails in the evening.\\nAnswer: 13\"}], [{'generated_text': '\\nThoughts:\\n\\n1. Sofia asked 310 students for their suggestions on what food to add to the menu.\\n2. 185 students suggested adding mashed potatoes.\\n3. Therefore, the number of students who suggested bacon is 185 - 185 = 0.\\n\\nAnswer: 0'}], [{'generated_text': \"\\nThoughts:\\nLet's break down the information given in the question:\\n\\n* Lawrence county has 898051 kids in total.\\n* During summer break, 629424 kids go to camp.\\n* So, the number of kids who stay home is 898051 - 629424 = 268627 kids.\\nAnswer: 268627\"}], [{'generated_text': \"\\nThoughts:\\nLet's start by comparing the number of peaches Jake has to the number of peaches Steven has. Jake has 8 fewer peaches than Steven, so Jake has 18 - 8 = 10 peaches.\\nNow, let's compare the number of apples Jake has to the number of apples Steven has. Jake has 10 more apples than Steven, so Jake has 10 + 11 = 21 apples.\\nTherefore, Steven has more peaches than apples. The difference between the number of peaches and apples is 10 - 21 = -11.\\nAnswer: 11\"}], [{'generated_text': \"  Sure, I'd be happy to help! Here are my thoughts on the question:\\nThoughts:\\n1. Let's start by identifying the information given in the question:\\n* The oranges are harvested at a rate of 16 sacks per day.\\n* Each sack contains 57 oranges.\\n* The question asks how many days it will take to harvest 80 sacks of oranges.\\n2. To find out how many days it will take to harvest 80 sacks of oranges, we need to divide the number of sacks by the number of sacks harvested per day.\\n3. So, if they harvest 16 sacks per day, it will take:\\n80 sacks / 16 sacks per day = 5 days\\n4. Therefore, it will take 5 days to harvest 80 sacks of oranges.\\nAnswer: 5\"}], [{'generated_text': \"\\nThoughts:\\nLet's first identify the information given in the question:\\n* Julia played tag with 9 kids on Monday.\\n* Julia played tag with 7 kids on Tuesday.\\n* Julia played tag with 96 kids on Wednesday.\\n\\nNow, let's compare the number of kids Julia played with on Monday and Tuesday:\\nMonday: 9 kids\\nTuesday: 7 kids\\n\\nTo find out how many more kids Julia played with on Monday than on Tuesday, we need to subtract the number of kids she played with on Tuesday from the number of kids she played with on Monday:\\n9 - 7 = 2\\n\\nSo, Julia played with 2 more kids on Monday than on Tuesday.\\nAnswer: 2\"}], [{'generated_text': '\\nThoughts:\\n\\n1. Allan brought 3 balloons.\\n2. Jake brought 5 balloons.\\n3. Total number of balloons brought by Allan and Jake = 3 + 5 = 8.\\n\\nAnswer: 8'}], [{'generated_text': \"\\nThoughts:\\n\\n* Let's start by identifying the information given in the question:\\n\\t+ The machine can make 6 shirts per minute.\\n\\t+ The machine worked for 12 minutes yesterday.\\n\\t+ The machine worked for 14 minutes today.\\n* Now, let's calculate the total number of shirts made by the machine:\\n\\t+ Yesterday, the machine worked for 12 minutes and made 6 shirts/minute, so it made 72 shirts (12 minutes x 6 shirts/minute).\\n\\t+ Today, the machine worked for 14 minutes and made 6 shirts/minute, so it made 84 shirts (14 minutes x 6 shirts/minute).\\n* Therefore, the total number of shirts made by the machine is 72 + 84 = 156 shirts.\\nAnswer: 156\"}], [{'generated_text': \"\\nThoughts:\\nLet's start by comparing the number of peaches each person has:\\n* Jake has 13 fewer peaches than Steven, so Jake has 9 peaches.\\n* Steven has 9 peaches.\\nNow, let's compare the number of apples each person has:\\n* Jake has 3 more apples than Steven, so Jake has 8 apples.\\n* Steven has 8 apples.\\nTherefore, Jake has 8 apples.\\nAnswer: 8\"}], [{'generated_text': \"\\nThoughts:\\n\\n1. Let's start by using the formula for distance traveled: distance = speed x time.\\n2. We know the current depth of the cave is 849 feet, so we can use that as our starting point.\\n3. The question asks us how much farther until they reach the end of the cave, so we need to find the total depth of the cave.\\n4. We are given that the cave is 1218 feet deep, so we can add the current depth to the total depth to find the answer.\\n5. Therefore, the answer is 1218 + 849 = 2067 feet.\\nAnswer: 2067 feet\"}]]\n"
     ]
    },
    {
     "name": "stderr",
     "output_type": "stream",
     "text": [
      "\n",
      " 80%|████████  | 24/30 [04:03<01:00, 10.14s/it]\u001b[A"
     ]
    },
    {
     "name": "stdout",
     "output_type": "stream",
     "text": [
      "[[{'generated_text': '\\nThoughts:\\n\\n1. Allan brought 5 balloons to the park.\\n2. Jake brought 6 balloons to the park.\\n3. Jake then bought 3 more balloons at the park.\\n4. So, the total number of balloons Jake brought to the park is 6 + 3 = 9 balloons.\\nAnswer: 9'}], [{'generated_text': \"  Sure, I'd be happy to help! Here are my thoughts on the question:\\nThoughts:\\n* The person needs a total of 49 g of colors to paint the feathers.\\n* The feathers require 288 g of wax to stick the feathers together.\\n* The person currently has 260 g of wax.\\n* To find out how many grams of wax the person already has, we need to subtract the amount of wax they currently have (260 g) from the total amount of wax needed (288 g).\\n* So, the person already has 28 g of wax.\\nAnswer: 28 g\"}], [{'generated_text': \"\\nThoughts:\\nLet's see, if you have 28 cookies and 86 candies in total, that means you have a total of 114 items. Since each bag has an equal number of cookies, we can divide the total number of items by the number of bags to find out how many bags of cookies you have.\\nSo, 114 items / 14 bags = 8 bags of cookies.\\nAnswer: 8\"}], [{'generated_text': \"\\nThoughts:\\nLet's break down the information given in the question:\\n\\n* Initially, 36 children were riding on the bus.\\n* 68 children got off the bus at the bus stop.\\n* Some more children got on the bus.\\n* Afterwards, there were 12 children altogether on the bus.\\n\\nTo find out how many more children got off the bus than those that got on, we need to subtract the number of children who got on from the number of children who got off:\\nNumber of children who got off - Number of children who got on = More children who got off - More children who got on\\nWe are given that 68 children got off the bus and 12 children got on the bus. So, the difference between the two numbers is:\\n68 - 12 = 56\\nTherefore, 56 more children got off the bus than those that got on.\\nAnswer: 56\"}], [{'generated_text': \"\\nThoughts:\\nLet's start by using the information given in the question: Melissa scored a total of 21 points playing some games.\\nWe know that she scored 7 points in each game, so we can write an equation:\\n21 = 7x\\n\\nWhere x is the number of games she played.\\n\\nNow, we can divide both sides of the equation by 7 to solve for x:\\n21 / 7 = x\\n\\nx = 3\\n\\nSo, Melissa played 3 games.\\n\\nAnswer: 3\"}], [{'generated_text': '\\nThoughts:\\n\\n1. The farmer had 171 tomatoes in his garden to start with.\\n2. He picked 134 tomatoes yesterday, so he has 171 - 134 = 37 tomatoes left in his garden yesterday.\\n3. Today, he picked 30 more tomatoes, so he has 37 + 30 = 67 tomatoes left in his garden after today.\\nAnswer: 67'}], [{'generated_text': '\\nThoughts:\\n\\n1. Tiffany had 3 bags of cans on Monday.\\n2. The next day, she found 7 more bags of cans.\\n3. So, the total number of bags of cans Tiffany had after finding the additional bags is 3 + 7 = 10 bags.\\n4. Additionally, the question states that Tiffany found 44 bags of bottles.\\n5. Since bottles are not the same as cans, we cannot simply add the number of bags of bottles to the number of bags of cans.\\n6. Instead, we need to convert the number of bags of bottles to a number of cans that is equivalent to the number of bags of bottles.\\n7. To do this, we can assume that each bag of bottles contains the same number of cans as a bag of bottles contains bottles.\\n8. So, if Tiffany found 44 bags of bottles, each bag contains 44 / 10 = 4.4 bags of cans.\\n9. Therefore, the total number of bags of cans that Tiffany had altogether is 10 + 4.4 = 14.4 bags.\\nAnswer: 14.4'}], [{'generated_text': \"\\nThoughts:\\n\\n1. Ed had 2 more marbles than Doug, so Ed had 2 + x marbles and Doug had x marbles.\\n2. Doug lost some of his marbles at the playground, so he now has x - y marbles.\\n3. Ed has 19 more marbles than Doug, so Ed has 2 + x marbles and Doug has x - y marbles.\\n4. We know that Ed has 19 more marbles than Doug, so Ed's total marbles are 2 + x - y, and Doug's total marbles are x - y.\\n5. We want to find out how many marbles Doug lost, so we can set up the equation:\\n2 + x - y = x - y + y (where y is the number of marbles Doug lost)\\n6. Now we can solve for y, the number of marbles Doug lost:\\n2 + x - y = x - y + y\\nx - y = 2\\ny = 2\\n\\nSo, Doug lost 2 marbles.\\n\\nAnswer:\\n2\"}], [{'generated_text': '\\nThoughts:\\n\\n* Day 1: Ryan spends 4 hours learning English and 5 hours learning Chinese, for a total of 9 hours (4 hours + 5 hours).\\n* Day 2: Ryan spends 4 hours learning English and 5 hours learning Chinese, for a total of 9 hours (9 hours + 0 hours).\\n* Day 3: Ryan spends 4 hours learning English and 5 hours learning Chinese, for a total of 9 hours (9 hours + 0 hours).\\n* Day 4: Ryan spends 4 hours learning English and 5 hours learning Chinese, for a total of 9 hours (9 hours + 0 hours).\\n* Day 5: Ryan spends 4 hours learning English and 5 hours learning Chinese, for a total of 9 hours (9 hours + 0 hours).\\n* Day 6: Ryan spends 4 hours learning English and 5 hours learning Chinese, for a total of 9 hours (9 hours + 0 hours).\\n* Day 7: Ryan spends 4 hours learning English and 5 hours learning Chinese, for a total of 9 hours (9 hours + 0 hours).\\nAnswer: 36 hours'}], [{'generated_text': \"\\nThoughts:\\nLet's start by using the information given in the question to set up an equation. Let x be the distance the mouse jumped.\\nWe know that the frog jumped 33 inches farther than the grasshopper, so the frog jumped x + 9 inches.\\nWe also know that the mouse jumped 3 inches less than the frog, so the mouse jumped x - 3 inches.\\nNow, we can use the information that the grasshopper jumped 9 inches to find the value of x.\\nSo, the equation becomes:\\nx + (x - 3) = 33 + 9\\nSimplifying the equation:\\n2x = 42\\nDividing both sides by 2:\\nx = 21\\n\\nTherefore, the mouse jumped 21 inches.\\nAnswer: 21\"}]]\n"
     ]
    },
    {
     "name": "stderr",
     "output_type": "stream",
     "text": [
      "\n",
      " 83%|████████▎ | 25/30 [04:10<00:45,  9.09s/it]\u001b[A"
     ]
    },
    {
     "name": "stdout",
     "output_type": "stream",
     "text": [
      "[[{'generated_text': \"  Sure, I'd be happy to help! Here are my thoughts on the question:\\nThoughts:\\nLet's start by using the information given in the question to find the total number of sacks of oranges harvested per day:\\n5 sacks of ripe oranges + 74 sacks of unripe oranges = 89 sacks of oranges per day\\nNow, let's find the difference between the number of sacks of unripe oranges and ripe oranges harvested per day:\\n74 sacks of unripe oranges - 5 sacks of ripe oranges = 69 sacks of unripe oranges per day\\nSo, there are 69 more sacks of unripe oranges than ripe oranges harvested per day.\\nAnswer: 69\"}], [{'generated_text': '\\nThoughts:\\n\\n1. Jerry had 8 action figures on the shelf to start with.\\n2. Later, he added 4 more action figures to the shelf, so now he has 8 + 4 = 12 action figures on the shelf.\\n3. Then, he removed 5 old action figures from the shelf, so now he has 12 - 5 = 7 action figures on the shelf.\\nAnswer: 7'}], [{'generated_text': \"\\nThoughts:\\n\\n1. Let's start by identifying the information given in the question:\\n* There are 26 children already on the bus.\\n* 38 more children got on the bus at the bus stop.\\n2. Now, let's think about how many children are on the bus now:\\n* If 38 children got on the bus, and there were already 26 children on the bus, then the total number of children on the bus now is 26 + 38 = 64 children.\\n3. So, the answer to the question is 64 children are on the bus now.\\nAnswer: 64\"}], [{'generated_text': \"\\nThoughts:\\nLet's see, if they have 9 sets of tables, that means they have 9 x 14 = 126 chairs in total.\\nSo, they have more chairs than tables. To find out how many more, we can subtract the number of tables from the number of chairs: 126 - 9 = 117.\\nTherefore, they have 117 more chairs than tables.\\nAnswer: 117\"}], [{'generated_text': \"\\nThoughts:\\nLet's start by identifying the information given in the question:\\n\\n* There are 196 groups of bananas in Philip's collection.\\n* The total number of bananas in Philip's collection is 392.\\nNow, we need to find out how big each group of bananas is. We can do this by dividing the total number of bananas by the number of groups:\\n\\nAnswer: 392 ÷ 196 = 2\\n\\nSo, each group of bananas contains 2 bananas.\"}], [{'generated_text': \"\\nThoughts:\\nLet's first identify the information given in the question:\\n* 228 students suggested adding mashed potatoes.\\n* 337 students suggested adding bacon to the menu.\\n* 23 students suggested adding tomatoes.\\n\\nNow, let's find the difference between the number of students who suggested bacon and the number of students who suggested tomatoes:\\nDifference = 337 - 23 = 314\\n\\nSo, there are 314 more students who suggested bacon than those who suggested tomatoes.\\nAnswer: 314\"}], [{'generated_text': \"\\nThoughts:\\nLet's break this question down step by step:\\n\\n1. We know there are 20 books in the 'crazy silly school' series.\\n2. We are told that we have read 5 of the books.\\n3. To find out how many books we have not read, we can subtract the number of books we have read from the total number of books in the series.\\n4. So, the number of books we have not read is 20 - 5 = 15.\\n5. Therefore, we have read 5 books and have 15 books left to read.\\nAnswer: 15\"}], [{'generated_text': \"\\nThoughts:\\nLet's first calculate the total number of bottles Debby bought:\\n200 water bottles + 256 soda bottles = 456 bottles\\nNow, let's calculate the number of days the soda bottles would last:\\nDebby drank 4 soda bottles a day, so the number of days the soda bottles would last is:\\n456 bottles / 4 bottles per day = 114 days\\nTherefore, the soda bottles would last for 114 days.\\nAnswer: 114\"}], [{'generated_text': \"\\nThoughts:\\nLet's break down the information given in the question:\\n\\n* Julia played tag with 19 kids on Monday.\\n* She played tag with 18 kids on Tuesday.\\n* She spent a total of 38 hours playing tag on both days.\\n\\nTo find out how many more kids Julia played with on Monday than on Tuesday, we need to subtract the number of kids she played with on Tuesday from the number of kids she played with on Monday.\\nSo, the answer is:\\nAnswer: 1\\n\\nExplanation: Julia played with 19 kids on Monday and 18 kids on Tuesday, so the difference between the two numbers is 1 (19 - 18 = 1). Therefore, Julia played with 1 more kid on Monday than on Tuesday.\"}], [{'generated_text': \"\\nThoughts:\\n\\n1. Let's start by using the information given in the question to find out how tall Ron is. If Ron is 15 feet tall, that means he is 15 x 3 = 45 feet tall.\\n2. Now, we know that the depth of the water is 9 times Dean's height. So, if Dean's height is x feet, the depth of the water is 9x feet.\\n3. Since Dean is 6 feet shorter than Ron, Dean's height is 45 - 6 = 39 feet.\\n4. Now, we can use the information that the depth of the water is 9 times Dean's height to find out how deep the water was. So, the depth of the water is 9 x 39 = 351 feet.\\nAnswer: 351 feet\"}]]\n"
     ]
    },
    {
     "name": "stderr",
     "output_type": "stream",
     "text": [
      "\n",
      " 87%|████████▋ | 26/30 [04:18<00:35,  8.77s/it]\u001b[A"
     ]
    },
    {
     "name": "stdout",
     "output_type": "stream",
     "text": [
      "[[{'generated_text': \"\\nThoughts:\\nLet's first identify the information given in the question:\\n\\n* There are 8 different movies in the 'crazy silly school' series.\\n* There are 21 different books in the series.\\n* If you read 7 of the books, then you have read 7/21 = 1/3 of the books.\\n* If you watched 4 of the movies, then you have watched 4/8 = 1/2 of the movies.\\nNow, we need to find out how many movies you still have to watch. To do this, we need to subtract the number of movies you have watched from the total number of movies in the series:\\nNumber of movies still to watch = Total number of movies - Number of movies watched\\n= 8 - 4\\n= 4\\n\\nSo, you still have 4 movies left to watch from the 'crazy silly school' series.\\nAnswer: 4\"}], [{'generated_text': \"\\nThoughts:\\nLet's start by using the information given in the question to find the distance jumped by the frog:\\nFrog jumped 33 inches farther than the grasshopper, so the frog jumped a total of 33 + 24 = 57 inches.\\nNow, let's find the distance jumped by the mouse:\\nMouse jumped 5 inches less than the frog, so the mouse jumped a total of 57 - 5 = 52 inches.\\nTherefore, the mouse jumped 52 inches.\\nAnswer: 52 inches\"}], [{'generated_text': \"\\nThoughts:\\n\\n1. Let's start by identifying the information given in the question:\\n\\t* Mary needs to add 12 cups of flour to the recipe.\\n\\t* She has already added 11 cups of flour.\\n\\t* The recipe calls for a total of 12 cups of flour.\\n2. To find out how many more cups of flour Mary needs to add, we can subtract the amount she has already added (11 cups) from the total amount needed (12 cups):\\n\\t* 12 cups - 11 cups = 1 cup\\n3. Therefore, Mary needs to add 1 cup of flour to the recipe.\\nAnswer: 1 cup\"}], [{'generated_text': \"\\nThoughts:\\nLet's start by identifying the information given in the question:\\n\\n* The school has 87 classrooms.\\n* There are 58 students in the school.\\n* Each classroom has the same number of students.\\n* There are 2 seats on each school bus.\\n\\nNow, let's think about how we can use this information to find the answer:\\n\\n* If there are 58 students in the school and each classroom has the same number of students, then there are 58 classrooms in total.\\n* Since there are 2 seats on each school bus, we need to divide the total number of classrooms by 2 to find out how many buses are needed.\\n* So, 58 classrooms / 2 = 29 buses are needed to take the field trip.\\n\\nAnswer: 29\"}], [{'generated_text': \"\\nThoughts:\\nLet's start by identifying the information given in the question:\\n* There are 2 baskets of peaches.\\n* Each basket has 4 red peaches.\\n* There are a total of 12 peaches in all baskets.\\n* We want to find out how many green peaches are in each basket.\\nNow, let's think about how we can use this information to solve the problem:\\n* Since there are 2 baskets, we can say that the total number of peaches in all baskets is 2 x 12 = 24 peaches.\\n* Since each basket has 4 red peaches, the total number of red peaches is 2 x 4 = 8 red peaches.\\n* So, the number of green peaches in each basket is 24 - 8 = 16 green peaches.\\nTherefore, the answer to the question is 16 green peaches in each basket.\\nAnswer: 16\"}], [{'generated_text': \"  Sure, I'd be happy to help you with this question! Here are my thoughts:\\nThoughts:\\n1. Marco and his dad together collected 22 pounds of strawberries on their trip.\\n2. On the way back, they found 30 more pounds of strawberries.\\n3. So, Marco's strawberries now weigh 36 pounds in total.\\n4. To find out how much his dad's strawberries weigh now, we need to subtract the weight of Marco's strawberries from the total weight of strawberries they found.\\n5. Therefore, his dad's strawberries now weigh 30 + 22 = 52 pounds.\\nAnswer: 52 pounds\"}], [{'generated_text': '\\nThoughts:\\n\\n1. Haley has 10 marbles in total.\\n2. She gave 5 marbles to each of the boys, so the number of boys she gave marbles to is 5.\\n3. Therefore, the answer is 5.\\n\\nAnswer: 5'}], [{'generated_text': \"\\nThoughts:\\nLet's start by identifying the information given in the question:\\n* 182 students suggested adding mashed potatoes\\n* 166 more students suggested adding bacon than those that suggested mashed potatoes\\n\\nNow, let's think about how we can use this information to find the number of students who suggested bacon:\\n* If 166 more students suggested adding bacon than those who suggested mashed potatoes, that means there are 182 + 166 = 348 students who suggested bacon.\\n\\nSo, the answer is 348.\\n\\nAnswer: 348\"}], [{'generated_text': \"\\nThoughts:\\nLet's start by identifying the information given in the question:\\n\\n* Steven has 14 peaches.\\n* Jake has 6 fewer peaches than Steven.\\n* Jake has 3 more peaches than Jill.\\n\\nNow, let's use the information to find out how many peaches Jill has:\\n\\n* Jake has 6 fewer peaches than Steven, so Jake has 14 - 6 = 8 peaches.\\n* Jake has 3 more peaches than Jill, so Jill has 8 + 3 = 11 peaches.\\n\\nTherefore, Jill has 11 peaches.\\n\\nAnswer: 11\"}], [{'generated_text': \"\\nThoughts:\\nLet's first identify the information given in the question:\\n\\n* There are 4 different books in the 'crazy silly school' series.\\n* There are 17 different movies in the 'crazy silly school' series.\\n* If you read 19 of the books, that means you have read 19/4 = 4.75 books. (Since there are 4 different books, we can round up to 5 books read)\\n* If you watched 7 of the movies, that means you have watched 7/17 = 0.41 movies. (Since there are 17 movies, we can round up to 1 movie watched)\\nNow, to find out how many more movies you still have to watch, we need to subtract the number of movies you have watched from the total number of movies:\\n17 - 1 = 16 movies left to watch.\\nSo, you still have 16 movies left to watch.\\nAnswer: 16\"}]]\n"
     ]
    },
    {
     "name": "stderr",
     "output_type": "stream",
     "text": [
      "\n",
      " 90%|█████████ | 27/30 [04:26<00:25,  8.39s/it]\u001b[A"
     ]
    },
    {
     "name": "stdout",
     "output_type": "stream",
     "text": [
      "[[{'generated_text': \"\\nThoughts:\\nLet's start by identifying the information given in the question:\\n* There are 384 oranges in Philip's collection.\\n* There are 192 bananas in Philip's collection.\\n* The bananas are organized into 345 groups.\\n* The oranges are organized into 16 groups.\\nNow, let's think about how we can use this information to find the size of each group of oranges:\\n* If there are 16 groups of oranges, and there are 384 oranges in total, then the number of oranges in each group is 384 / 16 = 24.\\nSo, each group of oranges contains 24 oranges.\\nAnswer: 24\"}], [{'generated_text': \"\\nThoughts:\\nLet's break down the problem step by step:\\n\\n1. Jerry had some action figures on a shelf in his room.\\n\\t* Let's assume he had x action figures initially on the shelf.\\n2. Later he added 7 more action figures to the shelf.\\n\\t* So, the total number of action figures on the shelf now is x + 7.\\n3. If there are a total of 10 action figures on his shelf now, then we can set up the equation:\\nx + 7 = 10\\n4. To solve for x, we can subtract 7 from both sides of the equation:\\nx = 10 - 7\\nx = 3\\n\\nSo, Jerry had 3 action figures initially on the shelf.\\n\\nAnswer: 3\"}], [{'generated_text': '\\nThoughts:\\n\\n1. The farmer had 177 tomatoes in his garden initially.\\n2. He picked 53 tomatoes, so he has 177 - 53 = 124 tomatoes left.\\n3. The farmer also had 12 potatoes in his garden initially.\\n4. Since he picked 53 tomatoes, he has 124 - 53 = 71 tomatoes left.\\n5. The farmer still has 12 potatoes in his garden.\\n\\nAnswer: 71'}], [{'generated_text': \"  Sure! Here are my thoughts on the question:\\nThoughts:\\nLet's start by identifying the information given in the question:\\n* John will use 11 nails to secure the large planks of wood for the house walls.\\n* Each plank needs 3 pieces of nails to be secured.\\n* An additional 8 nails were used.\\nNow, let's think about how we can use this information to find the answer to the question:\\n* If John uses 11 nails, and each plank needs 3 nails, then John will need 11 x 3 = 33 nails to secure all the planks.\\n* However, the question states that an additional 8 nails were used, so we need to subtract 8 from 33 to find the number of planks John needs: 33 - 8 = 25.\\nTherefore, John needs 25 planks for the house wall.\\nAnswer: 25\"}], [{'generated_text': '\\nThoughts:\\n\\n1. Josh had 22 marbles in his collection to start with.\\n2. He found 13 more marbles, so now he has 22 + 13 = 35 marbles.\\n3. He lost 5 marbles, so now he has 35 - 5 = 30 marbles.\\nAnswer: 30'}], [{'generated_text': \"\\nThoughts:\\n\\n1. Bobby had 22 pieces of candy to start with.\\n2. He ate some pieces of candy, but we don't know how many.\\n3. After he ate some candy, he had 8 pieces left.\\n4. If he ate 5 more pieces, then he ate a total of 5 + 5 = 10 pieces of candy.\\n5. So, Bobby had eaten 10 pieces of candy at the start.\\nAnswer: 10\"}], [{'generated_text': '\\nThoughts:\\n\\n1. Paco had 13 cookies initially.\\n2. He ate 2 cookies, so he has 13 - 2 = 11 cookies left.\\n3. He bought 36 more cookies.\\n4. So, the total number of cookies he has now is 11 + 36 = 47 cookies.\\n5. To find out how many more cookies he bought than those he ate, we need to subtract the number of cookies he ate from the total number of cookies he bought: 47 - 2 = 45 cookies.\\nAnswer: 45'}], [{'generated_text': \"\\nThoughts:\\nLet's see, if there were 41 children on the bus initially, and then some got off at the bus stop, then the number of children left on the bus is 18. To find out how many more children were on the bus before the bus stop than there are now, we need to subtract the number of children who got off from the initial number of children on the bus.\\nSo, the answer is:\\nAnswer: 23 (i.e., 41 - 18 = 23)\"}], [{'generated_text': '\\nThoughts:\\n\\n1. Paco had 22 sweet cookies to start with.\\n2. He ate 15 sweet cookies, so he has 22 - 15 = 7 sweet cookies left.\\nAnswer: 7'}], [{'generated_text': \"\\nThoughts:\\n\\n1. Adam has 3 more apples than Jackie, so Jackie has x apples.\\n2. Adam has 9 apples, so Adam's total is 9 + x = 12 apples.\\n3. Since Adam has 12 apples and Adam has 3 more apples than Jackie, Jackie has 12 - 3 = 9 apples.\\nAnswer: 9\"}]]\n"
     ]
    },
    {
     "name": "stderr",
     "output_type": "stream",
     "text": [
      "\n",
      " 93%|█████████▎| 28/30 [04:35<00:17,  8.57s/it]\u001b[A"
     ]
    },
    {
     "name": "stdout",
     "output_type": "stream",
     "text": [
      "[[{'generated_text': \"\\nThoughts:\\n\\n1. Let's start by identifying the information given in the question:\\n\\t* Mom buys 28 packages.\\n\\t* Each package contains 56 white t-shirts in total.\\n2. To find out how many white t-shirts each package has, we need to divide the total number of t-shirts in each package by the number of packages:\\n\\t* 56 white t-shirts / 28 packages =?\\n3. Now, let's simplify the calculation:\\n\\t* 56 / 28 = 2\\n4. So, each package has 2 white t-shirts.\\nAnswer: 2\"}], [{'generated_text': '\\nThoughts:\\n\\n1. Dan spent $ 7 on the candy bar.\\n2. Dan spent $ 6 on the chocolate.\\n3. Total amount spent = $ 7 + $ 6 = $ 13.\\n\\nAnswer: $ 13'}], [{'generated_text': '\\nThoughts:\\n\\n1. Danny had 25 bottle caps in his collection earlier.\\n2. He found 32 bottle caps at the park.\\n3. To find out how many more bottle caps he found, we need to subtract the number he already had from the number he found.\\n4. 32 - 25 = 7\\n\\nAnswer: 7'}], [{'generated_text': \"  Great! Let's work through the question step by step:\\nThoughts:\\n1. Let's assume that the number of bird families that stayed behind is x.\\n2. We know that 86 bird families flew away for the winter, so the total number of bird families in the area is x + 86.\\n3. We are also given that there were 45 bird families living near the mountain initially, so the number of bird families that flew away for the winter is 86 - 45 = 41.\\n4. Therefore, there are 41 more bird families that flew away for the winter than those that stayed behind.\\nAnswer: 41\"}], [{'generated_text': \"\\nThoughts:\\nLet's see, Faye has 30 rows of pencils and crayons. Each row has 24 pencils, so the total number of pencils is 30 x 24 = 720 pencils.\\nNow, we also know that Faye has 71 crayons. Since each row has 71 crayons, the total number of crayons is 30 x 71 = 2130 crayons.\\nSo, Faye has 720 pencils and 2130 crayons in total.\\nAnswer: 720\"}], [{'generated_text': \"\\nThoughts:\\n\\n1. Let's start by identifying the information given in the question:\\n\\t* Matthew gave equal numbers of crackers and cakes to his 28 friends.\\n\\t* Matthew had 13 crackers and 15 cakes initially.\\n2. We know that Matthew gave equal numbers of crackers and cakes to his friends, so the number of crackers and cakes each friend received is the same.\\n3. Let's call the number of crackers and cakes each friend received x.\\n4. Since Matthew had 13 crackers initially, and he gave equal numbers of crackers to his friends, the number of crackers each friend received is 13/x.\\n5. Similarly, since Matthew had 15 cakes initially, and he gave equal numbers of cakes to his friends, the number of cakes each friend received is 15/x.\\n6. Now, we can solve for x by dividing both sides of the equation by 28:\\nx = (13/x) + (15/x)\\n7. Simplifying the equation, we get:\\nx = 26\\n\\nAnswer:\\n26\"}], [{'generated_text': '\\nThoughts:\\n\\n1. Matthew has 36 crackers in total.\\n2. He gave 6 crackers to each of his friends, so he gave a total of 36 / 6 = 6 friends crackers.\\n3. Therefore, Matthew gave crackers to 6 friends.\\nAnswer: 6'}], [{'generated_text': \"\\nThoughts:\\n\\n* Let's start by identifying the information given in the question:\\n\\t+ Jessie weighed 114 kilograms initially.\\n\\t+ She lost 50 kilograms in the first week.\\n\\t+ She lost an additional 60 kilograms in the second week.\\n* Now, let's calculate the total weight Jessie lost in the first two weeks:\\n\\t+ 50 kilograms + 60 kilograms = 110 kilograms\\n* So, after the first two weeks, Jessie weighed 110 kilograms less than her initial weight of 114 kilograms.\\n* To find her current weight, we need to subtract the weight she lost from her initial weight:\\n\\t+ 114 kilograms - 110 kilograms = 4 kilograms\\n* Therefore, Jessie weighs 4 kilograms now.\\nAnswer: 4 kilograms.\"}], [{'generated_text': \"\\nThoughts:\\n\\n* Let's start by identifying the information given in the question:\\n\\t+ The machine made 9 shirts yesterday.\\n\\t+ The machine made 44 shirts today.\\n\\t+ The machine can make 3 shirts per minute.\\n* Now, let's think about how we can use this information to find the answer to the question:\\n\\t+ If the machine made 9 shirts yesterday, and it can make 3 shirts per minute, then the machine worked for:\\n\\t\\t9 shirts / 3 shirts per minute = 3 minutes yesterday\\n* So, the machine worked for 3 minutes yesterday.\\nAnswer: 3 minutes\"}], [{'generated_text': \"\\nThoughts:\\nLet's see... if there were a total of 28 slices and each pizza has 2 slices, then... hmm... we can divide 28 by 2 to find out how many pizzas we ordered!\\n28 ÷ 2 = 14\\nSo, we ordered 14 pizzas!\\nAnswer: 14\"}]]\n"
     ]
    },
    {
     "name": "stderr",
     "output_type": "stream",
     "text": [
      "\n",
      " 97%|█████████▋| 29/30 [04:42<00:08,  8.32s/it]\u001b[A"
     ]
    },
    {
     "name": "stdout",
     "output_type": "stream",
     "text": [
      "[[{'generated_text': '\\nThoughts:\\n\\n1. Dan spent $2 to buy a candy bar.\\n2. He spent $3 to buy a chocolate.\\n3. To find out how much more he spent on the chocolate than the candy bar, we need to subtract the cost of the candy bar from the cost of the chocolate.\\n4. So, the difference between the cost of the chocolate and the candy bar is $3 - $2 = $1.\\nAnswer: $1'}], [{'generated_text': \"\\nThoughts:\\n\\n1. Let's start by identifying the information given in the question:\\n\\t* Tiffany had 7 bags of cans on Monday.\\n\\t* The next day, she found 12 more bags worth of cans.\\n2. To find out how many more bags Tiffany found on the next day than she had on Monday, we need to subtract the number of bags she had on Monday from the number of bags she found on the next day:\\n\\t* 12 bags - 7 bags = 5 bags\\nSo, Tiffany found 5 more bags of cans on the next day than she had on Monday.\\nAnswer: 5\"}], [{'generated_text': \"\\nThoughts:\\nLet's start by identifying the information given in the question:\\n* There are some baskets of peaches.\\n* Each basket has 4 red peaches and 3 green peaches.\\n* In total, there are 7 peaches in all baskets.\\nNow, let's think about how we can use this information to find the number of baskets of peaches:\\n* If each basket has 4 red peaches, and there are 7 peaches in total, then there are 7 / 4 = 1.75 baskets of red peaches.\\n* If each basket has 3 green peaches, and there are 7 peaches in total, then there are 7 / 3 = 2.33 baskets of green peaches.\\nSo, there are 1.75 baskets of red peaches and 2.33 baskets of green peaches.\\nAnswer: 4.08 baskets of peaches.\"}], [{'generated_text': \"\\nThoughts:\\nLet's start by identifying the information given in the question:\\n* There are 8 different books in the 'crazy silly school' series.\\n* There are 10 different movies in the 'crazy silly school' series.\\n* If you read 19 of the books and watched 61 of the movies, then the total number of books and movies you have consumed is 19 + 61 = 80.\\nNow, let's find the difference between the number of movies and books in the series:\\nMovies: 10\\nBooks: 8\\nSo, there are 2 more movies than books in the 'crazy silly school' series.\\nAnswer: 2\"}], [{'generated_text': '\\nThoughts:\\n\\n* If each pack costs 81 dollars, then the cost of 1 pack is 81 dollars.\\n* To find the cost of 33 packs, we need to multiply 81 by 33, which gives us 2633 dollars.\\n\\nAnswer: 2633'}], [{'generated_text': \"  Sure, I'd be happy to help! Here are my thoughts on the question:\\nThoughts:\\n1. Let's start by identifying the information given in the question:\\n* 317 visitors came to the Buckingham palace on the day Rachel visited.\\n* There were 295 visitors the previous day.\\n2. To find out how many more visitors visited the Buckingham palace on that day than on the previous day, we need to subtract the number of visitors the previous day from the number of visitors on the day Rachel visited.\\n3. So, the difference between the number of visitors on the day Rachel visited and the number of visitors the previous day is:\\n317 - 295 = 22\\n4. Therefore, there were 22 more visitors at the Buckingham palace on the day Rachel visited than on the previous day.\\nAnswer: 22\"}], [{'generated_text': \"\\nThoughts:\\nLet's break down the information given in the question:\\n\\n* 819058 kids from Lawrence county go to camp during summer break.\\n* 668278 kids stay home during summer break.\\n\\nTo find out how many more kids spent their summer break at the camp compared to those who stayed home, we need to subtract the number of kids who stayed home from the number of kids who went to camp:\\n819058 - 668278 = 150820\\n\\nSo, there are 150820 more kids who spent their summer break at the camp compared to those who stayed home.\\nAnswer: 150820\"}], [{'generated_text': '\\nThoughts:\\n\\n1. David did 51 push-ups in gym class today.\\n2. David did 49 more push-ups than Zachary.\\n3. So, Zachary did 51 - 49 = 2 push-ups.\\n4. Therefore, David and Zachary together did 51 + 2 = 53 push-ups.\\n\\nAnswer: 53'}], [{'generated_text': '\\nThoughts:\\n\\n1. Allan brought 5 balloons to the park.\\n2. The total number of balloons brought by Allan and Jake is 6.\\n3. To find out how many balloons Jake brought, we need to subtract the number of balloons Allan brought from the total number of balloons brought.\\n4. 6 - 5 = 1\\nTherefore, Jake brought 1 balloon to the park.\\nAnswer: 1'}], [{'generated_text': \"\\nThoughts:\\nLet's start by identifying the information given in the question:\\n* Danny found 66 wrappers and 39 bottle caps at the park.\\n* Now he has 16 bottle caps and 68 wrappers in his collection.\\n* So, he lost 16 bottle caps and 28 wrappers (66 - 16 = 50, 39 - 28 = 11).\\n* Therefore, Danny had 50 wrappers and 11 bottle caps at first.\\nAnswer: 50\"}]]\n"
     ]
    },
    {
     "name": "stderr",
     "output_type": "stream",
     "text": [
      "\n",
      "100%|██████████| 30/30 [04:57<00:00,  9.90s/it]\u001b[A\n",
      "100%|██████████| 1/1 [04:57<00:00, 297.13s/it]"
     ]
    },
    {
     "name": "stdout",
     "output_type": "stream",
     "text": [
      "[[{'generated_text': \"\\nThoughts:\\n\\n1. Let's start by counting the number of bottles of regular soda: 22.\\n2. Now, let's count the number of bottles of diet soda: 61.\\n3. To find out how many more bottles of diet soda there are than regular soda, we can subtract the number of regular soda bottles from the number of diet soda bottles: 61 - 22 = 39.\\n4. So, the grocery store has 39 more bottles of diet soda than regular soda.\\nAnswer: 39\"}], [{'generated_text': \"\\nThoughts:\\nLet's start by identifying the information given in the question:\\n* Paul got a box of crayons for his birthday.\\n* By the end of the school year, he had either lost or given away 551 of them.\\n* He only had 177 left.\\nNow, let's think about how we can use this information to find the number of crayons Paul got for his birthday.\\n1. If Paul had 551 crayons at the end of the school year, and he gave away or lost 551, then he must have had more crayons at the beginning of the school year.\\n2. If he had more crayons at the beginning of the school year, then he must have gotten more crayons for his birthday.\\n3. So, the number of crayons Paul got for his birthday is the difference between the number of crayons he had at the beginning of the school year and the number he had at the end of the school year.\\n4. Let's calculate the number of crayons Paul got for his birthday:\\nBeginning of school year: 551 - 551 = 0\\nEnd of school year: 177 - 551 = -374\\nSo, Paul got 374 crayons for his birthday.\\nAnswer: 374\"}], [{'generated_text': \"\\nThoughts:\\n\\n1. Let's count the number of red peaches: 7 x 1 = 7\\n2. Now, let's count the number of yellow peaches: 15 x 1 = 15\\n3. Next, let's count the number of green peaches: 8 x 1 = 8\\n4. Now, we have a total of 7 + 15 + 8 = 30 peaches in the basket.\\nAnswer: 30\"}], [{'generated_text': \"\\nThoughts:\\n\\n* Let's start by identifying the information given in the question:\\n\\t+ Helen baked 31 cookies yesterday.\\n\\t+ Helen baked 270 cookies this morning.\\n\\t+ Helen baked 419 cookies the day before yesterday.\\n* Now, let's think about how much time has passed between each baking session:\\n\\t+ Yesterday = 1 day ago\\n\\t+ This morning = 1 day ago (since the baking happened before the morning)\\n\\t+ The day before yesterday = 2 days ago\\n* Based on the information given, we can create a baking sequence:\\n\\t+ Yesterday: 31 cookies\\n\\t+ The day before yesterday: 419 cookies\\n\\t+ This morning: 270 cookies\\n* Now, let's find out how many cookies Helen baked till last night:\\n\\t+ Total cookies baked = 31 + 419 + 270 = 620 cookies\\n* Therefore, the answer to the question is 620 cookies.\\nAnswer: 620\"}], [{'generated_text': \"  Sure, I'd be happy to help! Here are my thoughts on the question:\\nThoughts:\\nLet's start by identifying the information given in the question:\\n* Winter is almost here.\\n* Most animals are migrating to warmer countries.\\n* There are 3 bird families living near the mountain.\\n* 26 new bird families came to live near the mountain from the arctic.\\n* 2 bird families flew away further south for winter.\\nNow, let's think about how we can use this information to find the answer to the question:\\n* If most animals are migrating to warmer countries, that means that some of the bird families living near the mountain may also be migrating.\\n* The 26 new bird families that came to live near the mountain from the arctic are likely to be new families that are not migrating.\\n* The 2 bird families that flew away further south for winter are also likely to be migrating.\\n* So, the number of bird families left near the mountain after the migration is likely to be less than 3.\\n* Let's assume that the number of bird families left near the mountain is x.\\n* Since 2 bird families migrated further south, the total number of bird families that are not migrating is 3 - 2 = x - 2.\\n* Since 26 new bird families came to live near the mountain from the arctic, the total number of bird families living near the mountain is x + 26.\\n* Now, we need to find the value of x that satisfies the equation: x + 26 = 3.\\nSolving for x, we get:\\nx = 23\\n\\nSo, there are 23 bird families left near the mountain after the migration.\\nAnswer: 23\"}], [{'generated_text': \"\\nThoughts:\\n\\n1. Let's start by identifying the information given in the question:\\n\\t* The school has 72 classrooms.\\n\\t* There are 3 seats on each school bus.\\n\\t* There are a total of 111 students in the school.\\n2. To determine how many buses are needed, we need to divide the total number of students by the number of seats on each bus.\\n3. So, we can divide 111 students by 3 seats per bus:\\n111 ÷ 3 = 37\\n4. Therefore, the school needs 37 buses for the field trip.\\nAnswer: 37\"}], [{'generated_text': \"\\nThoughts:\\n\\n* Let's start by identifying the information given in the question:\\n\\t+ The ring toss game at the carnival made $144 per day.\\n\\t+ They were at the carnival for 22 days.\\n* Now, let's calculate the total amount of money made by the ring toss game:\\n\\t+ Total days = 22 days\\n\\t+ Total amount of money made = $144 per day x 22 days = $3,112\\n* So, the ring toss game made $3,112 during the 22 days it was at the carnival.\\nAnswer: $3,112\"}], [{'generated_text': \"\\nThoughts:\\nLet's see, Danny found 65 wrappers and 5 bottle caps at the park. That means he already had 31 bottle caps and 9 wrappers in his collection before he went to the park. So, the total number of wrappers he found at the park is 65 - 9 = 56.\\nNow, we need to find out how many more wrappers than bottle caps Danny found at the park. To do this, we can divide the number of wrappers he found by the number of bottle caps he found:\\n56 wrappers / 5 bottle caps = 11\\nSo, Danny found 11 more wrappers than bottle caps at the park.\\nAnswer: 11\"}], [{'generated_text': \"\\nThoughts:\\n\\n1. Let's count the number of pencils Faye has in total.\\n2. We know that Faye has 6 packs of pencils, and each pack has 14 pencils.\\n3. So, the total number of pencils Faye has is 6 x 14 = 84 pencils.\\nAnswer: 84\"}], [{'generated_text': '\\nThoughts:\\n\\n1. Danny had 91 bottle caps at first (25 + 66).\\n2. Danny lost 66 bottle caps at the park.\\n3. Now Danny has 25 bottle caps in his collection.\\n4. To find out how many bottle caps Danny had at first, we need to subtract the number of bottle caps he lost from the total number of bottle caps he had.\\n5. So, Danny had 91 bottle caps at first.\\nAnswer: 91'}]]\n"
     ]
    },
    {
     "name": "stderr",
     "output_type": "stream",
     "text": [
      "\n"
     ]
    }
   ],
   "source": [
    "new_responses,new_response_questions,new_response_answers,new_prompts=generate_responses(new_generator,batch_size=10)"
   ]
  },
  {
   "cell_type": "markdown",
   "id": "c3f2a8e4-515f-4d26-9d65-470081b444cd",
   "metadata": {
    "tags": []
   },
   "source": [
    "### 3.3 Process Responses for new_model"
   ]
  },
  {
   "cell_type": "code",
   "execution_count": 16,
   "id": "f663fe9e-3015-438c-94dd-b4597edfd361",
   "metadata": {
    "tags": []
   },
   "outputs": [
    {
     "name": "stdout",
     "output_type": "stream",
     "text": [
      "invalid rate: 0.006666666666666667\n"
     ]
    },
    {
     "data": {
      "text/plain": [
       "array([\"\\nThoughts:\\nLet's start by using the information given in the question to set up an equation. We know that the grasshopper jumped 39 inches, and the frog jumped x inches. We also know that the mouse jumped y inches, where y is the distance the mouse jumped.\\nWe can start by using the fact that the grasshopper jumped 19 inches farther than the frog to write:\\n39 = x + 19\\nNow, we can use the fact that the mouse jumped 12 inches less than the frog to write:\\nx + 12 = y\\nNow we have two equations and two unknowns. Can you use these equations to find the value of y, which is the distance the mouse jumped?\",\n",
       "       \"\\nThoughts:\\nLet's start by dividing the total number of skittles and erasers by the number of groups.\\nTotal number of skittles: 4502\\nTotal number of erasers: 4276\\nNumber of groups: 154\\nNow, we can find the size of each group by dividing the total number of skittles and erasers by the number of groups.\\nSize of each group:\\nSkittles: 4502 / 154 = 29\\nErasers: 4276 / 154 = 27\\nSo, each group contains 29 skittles and 27 erasers.\"],\n",
       "      dtype='<U1541')"
      ]
     },
     "execution_count": 16,
     "metadata": {},
     "output_type": "execute_result"
    }
   ],
   "source": [
    "new_extracted_responses = [_extract_answer(response) for response in new_responses]\n",
    "\n",
    "print('invalid rate:',sum(np.array(new_extracted_responses)=='[invalid]')/len(new_extracted_responses))\n",
    "np.array(new_responses)[np.array(new_extracted_responses)=='[invalid]']\n",
    "#extracted_responses\n",
    "#_extract_answer(\"Answer: $-12.1333,1 and 2,2\")"
   ]
  },
  {
   "cell_type": "markdown",
   "id": "3f912c7a-3dcc-414e-87ef-54dc38aeeaf6",
   "metadata": {},
   "source": [
    "### 3.4 Record the results for Base Model"
   ]
  },
  {
   "cell_type": "code",
   "execution_count": 17,
   "id": "3bdf0009-5d53-4b04-969c-9d82a40cc1ef",
   "metadata": {
    "tags": []
   },
   "outputs": [],
   "source": [
    "import pandas as pd\n",
    "\n",
    "# Create a DataFrame with named columns\n",
    "df_new_svamp = pd.DataFrame({'Prompt':new_prompts,'Question': new_response_questions, 'Response': new_responses,'extracted_response':new_extracted_responses, 'Answer': new_response_answers})\n",
    "\n",
    "# Write to CSV\n",
    "df_new_svamp.to_csv('test_zeroshot_new_svamp.csv', index=True)"
   ]
  },
  {
   "cell_type": "markdown",
   "id": "1e843bdd-eb2c-4701-b454-fa058dbb9dc8",
   "metadata": {
    "tags": []
   },
   "source": [
    "### 3.5 calculate metrics for base model"
   ]
  },
  {
   "cell_type": "code",
   "execution_count": 20,
   "id": "d32d3325-340e-4f4e-99c7-76e2cd0738eb",
   "metadata": {
    "tags": []
   },
   "outputs": [],
   "source": [
    "svamp_new_accuracy=accuracy(reference=new_response_answers, test=new_extracted_responses)"
   ]
  },
  {
   "cell_type": "code",
   "execution_count": 21,
   "id": "2825f7aa-f4d7-4904-bcc2-173baa86304a",
   "metadata": {
    "tags": []
   },
   "outputs": [
    {
     "data": {
      "text/plain": [
       "0.53"
      ]
     },
     "execution_count": 21,
     "metadata": {},
     "output_type": "execute_result"
    }
   ],
   "source": [
    "svamp_new_accuracy"
   ]
  },
  {
   "cell_type": "markdown",
   "id": "760b2a96-6ef5-4d86-8796-2daaa129f95a",
   "metadata": {},
   "source": [
    "# Bug fix"
   ]
  },
  {
   "cell_type": "code",
   "execution_count": 13,
   "id": "cb90b28e-ae46-4bf0-b20e-016afa24cad0",
   "metadata": {
    "tags": []
   },
   "outputs": [],
   "source": [
    "import rich\n",
    "from rich.table import Table\n",
    "rich_table = Table(*[\"prompt\"], title='1', show_lines=True)\n",
    "for ix in range(2):\n",
    "    rich_table.add_row(\"\"\"[/INST][INST]\"\"\")\n",
    "rich_table"
   ]
  },
  {
   "cell_type": "code",
   "execution_count": 44,
   "id": "fb3047b4-d2a2-437f-992e-c1143a40f910",
   "metadata": {
    "tags": []
   },
   "outputs": [],
   "source": [
    "ds_all = load_dataset(\"/root/autodl-tmp/SVAMP\", split=\"all\")"
   ]
  },
  {
   "cell_type": "code",
   "execution_count": 45,
   "id": "4aa0c14f-8bd5-4f6e-b40f-c48de47989ed",
   "metadata": {
    "tags": []
   },
   "outputs": [],
   "source": [
    "ds_train = load_dataset(\"/root/autodl-tmp/SVAMP\", split=\"train\")"
   ]
  },
  {
   "cell_type": "code",
   "execution_count": 48,
   "id": "418a8261-c6b3-4ba5-9f01-2a288a318727",
   "metadata": {
    "tags": []
   },
   "outputs": [
    {
     "data": {
      "text/plain": [
       "700"
      ]
     },
     "execution_count": 48,
     "metadata": {},
     "output_type": "execute_result"
    }
   ],
   "source": [
    "sum(np.array(ds_train['Body'])==np.array(ds_all['Body'][:700]))"
   ]
  },
  {
   "cell_type": "code",
   "execution_count": 61,
   "id": "39a9f094-f9de-4f3f-9f52-446f2e625642",
   "metadata": {
    "tags": []
   },
   "outputs": [
    {
     "data": {
      "text/plain": [
       "[145.0,\n",
       " 19.0,\n",
       " 3.0,\n",
       " 198.0,\n",
       " 63.0,\n",
       " 322.0,\n",
       " 30.0,\n",
       " 192.0,\n",
       " 26.0,\n",
       " 17.0,\n",
       " 1.0,\n",
       " 20.0,\n",
       " 4.0,\n",
       " 2.0,\n",
       " 7.0,\n",
       " 70.0,\n",
       " 345.0,\n",
       " 266.0,\n",
       " 54.0,\n",
       " 807.0,\n",
       " 3.0,\n",
       " 12.0,\n",
       " 23.0,\n",
       " 31.0,\n",
       " 1201565.0,\n",
       " 89.0,\n",
       " 574.0,\n",
       " 8.0,\n",
       " 146.0,\n",
       " 1.0,\n",
       " 14.0,\n",
       " 2.0,\n",
       " 7.0,\n",
       " 12.0,\n",
       " 21.0,\n",
       " 14.0,\n",
       " 2.0,\n",
       " 51.0,\n",
       " 2.0,\n",
       " 15.0,\n",
       " 20.0,\n",
       " 3.0,\n",
       " 7.0,\n",
       " 42.0,\n",
       " 756.0,\n",
       " 11.0,\n",
       " 5.0,\n",
       " 12.0,\n",
       " 65.0,\n",
       " 1.0,\n",
       " 111.0,\n",
       " 1.0,\n",
       " 27.0,\n",
       " 4.0,\n",
       " 17.0,\n",
       " 13.0,\n",
       " 10.0,\n",
       " 77.0,\n",
       " 1092.0,\n",
       " 5.0,\n",
       " 7.0,\n",
       " 45.0,\n",
       " 10.0,\n",
       " 52.0,\n",
       " 2.0,\n",
       " 6.0,\n",
       " 16.0,\n",
       " 469.0,\n",
       " 12518.0,\n",
       " 1.0,\n",
       " 2.0,\n",
       " 131.0,\n",
       " 92.0,\n",
       " 640.0,\n",
       " 42.0,\n",
       " 7.0,\n",
       " 25.0,\n",
       " 1.0,\n",
       " 2.0,\n",
       " 11.0,\n",
       " 15.0,\n",
       " 20.0,\n",
       " 8722.0,\n",
       " 5.0,\n",
       " 83.0,\n",
       " 29.0,\n",
       " 53.0,\n",
       " 3.0,\n",
       " 33.0,\n",
       " 1.0,\n",
       " 16.0,\n",
       " 47.0,\n",
       " 5590.0,\n",
       " 1.0,\n",
       " 1.0,\n",
       " 49.0,\n",
       " 9.0,\n",
       " 78.0,\n",
       " 34.0,\n",
       " 7.0,\n",
       " 24.0,\n",
       " 34.0,\n",
       " 10.0,\n",
       " 14.0,\n",
       " 10.0,\n",
       " 15.0,\n",
       " 621.0,\n",
       " 1.0,\n",
       " 2.0,\n",
       " 14.0,\n",
       " 8.0,\n",
       " 2.0,\n",
       " 14.0,\n",
       " 89.0,\n",
       " 20.0,\n",
       " 7.0,\n",
       " 1.0,\n",
       " 16.0,\n",
       " 21.0,\n",
       " 3.0,\n",
       " 5.0,\n",
       " 9.0,\n",
       " 76.0,\n",
       " 28.0,\n",
       " 30.0,\n",
       " 19.0,\n",
       " 2.0,\n",
       " 22.0,\n",
       " 7.0,\n",
       " 42.0,\n",
       " 14.0,\n",
       " 24.0,\n",
       " 8.0,\n",
       " 27.0,\n",
       " 31.0,\n",
       " 2.0,\n",
       " 21.0,\n",
       " 4.0,\n",
       " 80.0,\n",
       " 3.0,\n",
       " 2.0,\n",
       " 7.0,\n",
       " 1.0,\n",
       " 4.0,\n",
       " 4.0,\n",
       " 32.0,\n",
       " 60.0,\n",
       " 9.0,\n",
       " 89.0,\n",
       " 105.0,\n",
       " 17.0,\n",
       " 5.0,\n",
       " 3.0,\n",
       " 1.0,\n",
       " 26.0,\n",
       " 16.0,\n",
       " 28.0,\n",
       " 14.0,\n",
       " 4.0,\n",
       " 20.0,\n",
       " 82.0,\n",
       " 21.0,\n",
       " 53.0,\n",
       " 13.0,\n",
       " 2.0,\n",
       " 14.0,\n",
       " 4.0,\n",
       " 2.0,\n",
       " 3.0,\n",
       " 22.0,\n",
       " 276.0,\n",
       " 25.0,\n",
       " 5.0,\n",
       " 65.0,\n",
       " 14.0,\n",
       " 14.0,\n",
       " 20.0,\n",
       " 7.0,\n",
       " 2.0,\n",
       " 626.0,\n",
       " 1.0,\n",
       " 2184.0,\n",
       " 4.0,\n",
       " 5.0,\n",
       " 26.0,\n",
       " 1.0,\n",
       " 23.0,\n",
       " 11346.0,\n",
       " 9.0,\n",
       " 152.0,\n",
       " 14.0,\n",
       " 488.0,\n",
       " 13.0,\n",
       " 12.0,\n",
       " 102.0,\n",
       " 62.0,\n",
       " 3.0,\n",
       " 57.0,\n",
       " 350.0,\n",
       " 1.0,\n",
       " 39.0,\n",
       " 8.0,\n",
       " 469.0,\n",
       " 8.0,\n",
       " 6264.0,\n",
       " 72.0,\n",
       " 34.0,\n",
       " 4300.0,\n",
       " 420.0,\n",
       " 25.0,\n",
       " 3.0,\n",
       " 2.0,\n",
       " 21.0,\n",
       " 280.0,\n",
       " 2.0,\n",
       " 5.0,\n",
       " 4.0,\n",
       " 22.0,\n",
       " 5.0,\n",
       " 4.0,\n",
       " 22.0,\n",
       " 6.0,\n",
       " 137.0,\n",
       " 2.0,\n",
       " 112.0,\n",
       " 25.0,\n",
       " 238.0,\n",
       " 2.0,\n",
       " 99.0,\n",
       " 19.0,\n",
       " 46.0,\n",
       " 7.0,\n",
       " 3.0,\n",
       " 5.0,\n",
       " 13.0,\n",
       " 21.0,\n",
       " 265.0,\n",
       " 22.0,\n",
       " 27.0,\n",
       " 1414.0,\n",
       " 11.0,\n",
       " 73.0,\n",
       " 2.0,\n",
       " 11210.0,\n",
       " 2.0,\n",
       " 10.0,\n",
       " 2.0,\n",
       " 2.0,\n",
       " 186.0,\n",
       " 19.0,\n",
       " 139.0,\n",
       " 7.0,\n",
       " 3.0,\n",
       " 25.0,\n",
       " 2.0,\n",
       " 30.0,\n",
       " 26.0,\n",
       " 566.0,\n",
       " 21.0,\n",
       " 8.0,\n",
       " 59.0,\n",
       " 32.0,\n",
       " 112.0,\n",
       " 109044.0,\n",
       " 7.0,\n",
       " 25.0,\n",
       " 482.0,\n",
       " 458988.0,\n",
       " 7.0,\n",
       " 13.0,\n",
       " 48.0,\n",
       " 6.0,\n",
       " 255.0,\n",
       " 18.0,\n",
       " 69.0,\n",
       " 20.0,\n",
       " 1.0,\n",
       " 858.0,\n",
       " 745.0,\n",
       " 390.0,\n",
       " 11.0,\n",
       " 4.0,\n",
       " 3.0,\n",
       " 1.0,\n",
       " 14.0,\n",
       " 2080.0,\n",
       " 3.0,\n",
       " 10.0,\n",
       " 10.0,\n",
       " 3.0,\n",
       " 31.0,\n",
       " 229.0,\n",
       " 41.0,\n",
       " 89.0,\n",
       " 394.0,\n",
       " 14.0,\n",
       " 1.0,\n",
       " 40.0,\n",
       " 2.0,\n",
       " 168.0,\n",
       " 2.0,\n",
       " 90.0,\n",
       " 9.0,\n",
       " 5.0,\n",
       " 8.0,\n",
       " 2050.0,\n",
       " 3.0,\n",
       " 14.0,\n",
       " 8.0,\n",
       " 2.0,\n",
       " 7.0,\n",
       " 4.0,\n",
       " 3.0,\n",
       " 2.0,\n",
       " 4.0,\n",
       " 10.0,\n",
       " 4.0,\n",
       " 2436.0,\n",
       " 16.0,\n",
       " 2.0,\n",
       " 21.0,\n",
       " 94.0,\n",
       " 33.0,\n",
       " 15.0,\n",
       " 3.0,\n",
       " 9.0,\n",
       " 9.0,\n",
       " 4.0,\n",
       " 39.0,\n",
       " 13.0,\n",
       " 5.0,\n",
       " 60.0,\n",
       " 32.0,\n",
       " 10.0,\n",
       " 253.0,\n",
       " 42.0,\n",
       " 3.0,\n",
       " 600.0,\n",
       " 40.0,\n",
       " 22.0,\n",
       " 455.0,\n",
       " 13.0,\n",
       " 14.0,\n",
       " 410.0,\n",
       " 12.0,\n",
       " 186.0,\n",
       " 1848.0,\n",
       " 22.0,\n",
       " 6.0,\n",
       " 10.0,\n",
       " 353.0,\n",
       " 1.0,\n",
       " 32.0,\n",
       " 8.0,\n",
       " 997.0,\n",
       " 1.0,\n",
       " 110.0,\n",
       " 6.0,\n",
       " 24.0,\n",
       " 19.0,\n",
       " 3.0,\n",
       " 8.0,\n",
       " 15.0,\n",
       " 12.0,\n",
       " 8.0,\n",
       " 11.0,\n",
       " 3.0,\n",
       " 6.0,\n",
       " 26.0,\n",
       " 101.0,\n",
       " 37.0,\n",
       " 72.0,\n",
       " 68.0,\n",
       " 10.0,\n",
       " 2.0,\n",
       " 45.0,\n",
       " 13.0,\n",
       " 118.0,\n",
       " 1.0,\n",
       " 946.0,\n",
       " 41.0,\n",
       " 8.0,\n",
       " 104.0,\n",
       " 3.0,\n",
       " 58.0,\n",
       " 3.0,\n",
       " 6.0,\n",
       " 11.0,\n",
       " 6.0,\n",
       " 14.0,\n",
       " 41.0,\n",
       " 3.0,\n",
       " 1.0,\n",
       " 1124.0,\n",
       " 1.0,\n",
       " 52.0,\n",
       " 1.0,\n",
       " 6.0,\n",
       " 3.0,\n",
       " 1054997.0,\n",
       " 7.0,\n",
       " 17.0,\n",
       " 11.0,\n",
       " 14.0,\n",
       " 5.0,\n",
       " 37.0,\n",
       " 1.0,\n",
       " 2.0,\n",
       " 123.0,\n",
       " 3.0,\n",
       " 1.0,\n",
       " 10011.0,\n",
       " 99.0,\n",
       " 5.0,\n",
       " 71.0,\n",
       " 211.0,\n",
       " 1.0,\n",
       " 2.0,\n",
       " 67.0,\n",
       " 45.0,\n",
       " 8.0,\n",
       " 70.0,\n",
       " 22.0,\n",
       " 2.0,\n",
       " 32.0,\n",
       " 14.0,\n",
       " 17.0,\n",
       " 2.0,\n",
       " 54.0,\n",
       " 1.0,\n",
       " 12.0,\n",
       " 11.0,\n",
       " 45.0,\n",
       " 223.0,\n",
       " 41.0,\n",
       " 149.0,\n",
       " 183.0,\n",
       " 34.0,\n",
       " 13.0,\n",
       " 2.0,\n",
       " 4.0,\n",
       " 4.0,\n",
       " 16.0,\n",
       " 2.0,\n",
       " 9.0,\n",
       " 5.0,\n",
       " 1.0,\n",
       " 274.0,\n",
       " 1.0,\n",
       " 120.0,\n",
       " 43.0,\n",
       " 1.0,\n",
       " 1.0,\n",
       " 7.0,\n",
       " 20.0,\n",
       " 1.0,\n",
       " 24.0,\n",
       " 11.0,\n",
       " 12.0,\n",
       " 17.0,\n",
       " 69.0,\n",
       " 10.0,\n",
       " 67.0,\n",
       " 30.0,\n",
       " 4.0,\n",
       " 58.0,\n",
       " 2.0,\n",
       " 4.0,\n",
       " 10.0,\n",
       " 66.0,\n",
       " 127.0,\n",
       " 16.0,\n",
       " 14.0,\n",
       " 1463.0,\n",
       " 8.0,\n",
       " 574.0,\n",
       " 3.0,\n",
       " 3.0,\n",
       " 12.0,\n",
       " 4.0,\n",
       " 654.0,\n",
       " 366.0,\n",
       " 1791.0,\n",
       " 58.0,\n",
       " 32.0,\n",
       " 10.0,\n",
       " 25740.0,\n",
       " 56.0,\n",
       " 3.0,\n",
       " 93.0,\n",
       " 22.0,\n",
       " 5700.0,\n",
       " 127.0,\n",
       " 63.0,\n",
       " 13.0,\n",
       " 2.0,\n",
       " 1346.0,\n",
       " 23.0,\n",
       " 1.0,\n",
       " 35624.0,\n",
       " 41.0,\n",
       " 1.0,\n",
       " 3.0,\n",
       " 7.0,\n",
       " 18.0,\n",
       " 926.0,\n",
       " 27.0,\n",
       " 10.0,\n",
       " 5.0,\n",
       " 101.0,\n",
       " 17.0,\n",
       " 5.0,\n",
       " 47.0,\n",
       " 112.0,\n",
       " 1.0,\n",
       " 5.0,\n",
       " 60.0,\n",
       " 3.0,\n",
       " 37.0,\n",
       " 2.0,\n",
       " 1.0,\n",
       " 1.0,\n",
       " 784.0,\n",
       " 1.0,\n",
       " 2.0,\n",
       " 420.0,\n",
       " 220.0,\n",
       " 10.0,\n",
       " 29.0,\n",
       " 7.0,\n",
       " 1.0,\n",
       " 2.0,\n",
       " 190.0,\n",
       " 4.0,\n",
       " 96.0,\n",
       " 2.0,\n",
       " 6.0,\n",
       " 92.0,\n",
       " 28.0,\n",
       " 6.0,\n",
       " 18.0,\n",
       " 8142.0,\n",
       " 9.0,\n",
       " 141.0,\n",
       " 174080.0,\n",
       " 606.0,\n",
       " 949.0,\n",
       " 450.0,\n",
       " 15.0,\n",
       " 92.0,\n",
       " 70.0,\n",
       " 8.0,\n",
       " 3.0,\n",
       " 7.0,\n",
       " 27.0,\n",
       " 1.0,\n",
       " 2.0,\n",
       " 2.0,\n",
       " 32.0,\n",
       " 6.0,\n",
       " 2.0,\n",
       " 22922.0,\n",
       " 4.0,\n",
       " 90.0,\n",
       " 1012.0,\n",
       " 25.0,\n",
       " 68.0,\n",
       " 3.0,\n",
       " 5.0,\n",
       " 12.0,\n",
       " 2.0,\n",
       " 26180.0,\n",
       " 3.0,\n",
       " 242.0,\n",
       " 23.0,\n",
       " 10.0,\n",
       " 23.0,\n",
       " 180.0,\n",
       " 28462.0,\n",
       " 5.0,\n",
       " 32.0,\n",
       " 4.0,\n",
       " 2.0,\n",
       " 20.0,\n",
       " 7.0,\n",
       " 17.0,\n",
       " 42.0,\n",
       " 6.0,\n",
       " 3.0,\n",
       " 208.0,\n",
       " 10.0,\n",
       " 11.0,\n",
       " 15.0,\n",
       " 2.0,\n",
       " 20.0,\n",
       " 5.0,\n",
       " 5.0,\n",
       " 2173.0,\n",
       " 1.0,\n",
       " 26.0,\n",
       " 24.0,\n",
       " 21.0,\n",
       " 569.0,\n",
       " 16.0,\n",
       " 3.0,\n",
       " 1.0,\n",
       " 308.0,\n",
       " 210.0,\n",
       " 3.0,\n",
       " 11.0,\n",
       " 42.0,\n",
       " 7.0,\n",
       " 29.0,\n",
       " 10.0,\n",
       " 481.0,\n",
       " 9.0,\n",
       " 1.0,\n",
       " 38.0,\n",
       " 687.0,\n",
       " 10.0,\n",
       " 5.0,\n",
       " 14.0,\n",
       " 96.0,\n",
       " 4.0,\n",
       " 4.0,\n",
       " 8.0,\n",
       " 20.0,\n",
       " 3.0,\n",
       " 38.0,\n",
       " 14.0,\n",
       " 76.0,\n",
       " 2.0,\n",
       " 1541.0,\n",
       " 5.0,\n",
       " 2.0,\n",
       " 28.0,\n",
       " 14.0,\n",
       " 405.0,\n",
       " 10.0,\n",
       " 7.0,\n",
       " 10.0,\n",
       " 78.0,\n",
       " 146.0,\n",
       " 1.0,\n",
       " 43.0,\n",
       " 34.0,\n",
       " 15.0,\n",
       " 1.0,\n",
       " 1.0,\n",
       " 638.0,\n",
       " 9.0,\n",
       " 4.0,\n",
       " 6.0,\n",
       " 4.0,\n",
       " 3.0,\n",
       " 15089.0,\n",
       " 4.0,\n",
       " 17.0,\n",
       " 44.0,\n",
       " 21.0,\n",
       " 106.0,\n",
       " 2.0,\n",
       " 2.0,\n",
       " 324775.0,\n",
       " 8.0,\n",
       " 2.0,\n",
       " 1538832.0,\n",
       " 90.0,\n",
       " 5.0,\n",
       " 16.0,\n",
       " 6.0,\n",
       " 9.0,\n",
       " 6.0,\n",
       " 3.0,\n",
       " 1.0,\n",
       " 4.0,\n",
       " 8.0,\n",
       " 9.0,\n",
       " 1455.0,\n",
       " 13.0,\n",
       " 56.0,\n",
       " 1.0,\n",
       " 6.0,\n",
       " 2.0,\n",
       " 1453.0,\n",
       " 126.0,\n",
       " 62.0,\n",
       " 1542.0,\n",
       " 1862.0,\n",
       " 1081.0,\n",
       " 98.0,\n",
       " 2.0,\n",
       " 10.0,\n",
       " 5852.0,\n",
       " 10.0,\n",
       " 80.0,\n",
       " 204.0,\n",
       " 1080.0,\n",
       " 1.0,\n",
       " 21.0]"
      ]
     },
     "execution_count": 61,
     "metadata": {},
     "output_type": "execute_result"
    }
   ],
   "source": [
    "ds_train['Answer']"
   ]
  },
  {
   "cell_type": "code",
   "execution_count": 23,
   "id": "52312d10-0e92-4648-a867-73589ca180d9",
   "metadata": {
    "tags": []
   },
   "outputs": [],
   "source": [
    "import pandas"
   ]
  },
  {
   "cell_type": "code",
   "execution_count": 24,
   "id": "b833bfd4-b668-4cd1-a986-0c68e0488cb5",
   "metadata": {
    "tags": []
   },
   "outputs": [],
   "source": [
    "df1=pandas.read_csv('/root/autodl-tmp/msc_ml/llm_thought/Evaluation/test_zeroshot_base_svamp.csv')\n",
    "df2=pandas.read_csv('/root/autodl-tmp/msc_ml/llm_thought/Evaluation/test_zeroshot_new_svamp.csv')\n"
   ]
  },
  {
   "cell_type": "code",
   "execution_count": 28,
   "id": "dd33d3cc-9713-400f-8169-164f1d6269a8",
   "metadata": {
    "tags": []
   },
   "outputs": [
    {
     "data": {
      "text/plain": [
       "61"
      ]
     },
     "execution_count": 28,
     "metadata": {},
     "output_type": "execute_result"
    }
   ],
   "source": [
    "sum(df1['Response']==df2['Response'])"
   ]
  },
  {
   "cell_type": "code",
   "execution_count": 27,
   "id": "f012f549-51ff-4c97-9f52-b34815e77a35",
   "metadata": {
    "tags": []
   },
   "outputs": [
    {
     "name": "stdout",
     "output_type": "stream",
     "text": [
      "  Sure, I'd be happy to help! Here are my thoughts on the question:\n",
      "Thoughts:\n",
      "1. Let's start by identifying the given information:\n",
      "* Mary has already added 5 cups of flour.\n",
      "* The recipe calls for 6 cups of flour.\n",
      "* The recipe also calls for 8 cups of sugar.\n",
      "* The recipe calls for 7 cups of salt.\n",
      "2. Now, we need to find out how many more cups of sugar Mary needs to add than cups of salt. Let's do this by subtracting the amount of flour she has already added from the total amount of flour needed:\n",
      "6 cups of flour - 5 cups of flour = 1 cup of flour remaining\n",
      "Now, we need to find out how many cups of sugar are left to add after subtracting the amount of flour remaining from the total amount of sugar needed:\n",
      "8 cups of sugar - 1 cup of flour = 7 cups of sugar remaining\n",
      "3. Finally, we can see that Mary needs to add 7 cups of sugar more than cups of salt to complete the recipe.\n",
      "Answer: 7\n",
      "\n",
      "I hope this helps! Let me know if you have any questions.\n",
      "*********\n",
      "  Sure, I'd be happy to help! Here are my thoughts on the question:\n",
      "Thoughts:\n",
      "1. Let's start by identifying the given information:\n",
      "* Mary has already added 5 cups of flour.\n",
      "* The recipe calls for 6 cups of flour.\n",
      "* The recipe also calls for 8 cups of sugar.\n",
      "* The recipe calls for 7 cups of salt.\n",
      "2. Now, we need to find out how many more cups of sugar Mary needs to add than cups of salt. Let's do this by subtracting the amount of flour she has already added from the total amount of flour needed:\n",
      "6 cups of flour - 5 cups of flour = 1 cup of flour left to add.\n",
      "3. Since the recipe calls for 8 cups of sugar, and Mary has already added 5 cups of flour, she needs to add 3 more cups of sugar (8 - 5 = 3).\n",
      "4. Now, let's find out how many more cups of salt Mary needs to add than cups of sugar she needs to add:\n",
      "7 cups of salt - 3 cups of sugar = 4 cups of salt left to add.\n",
      "5. Therefore, Mary needs to add 4 cups of salt.\n",
      "Answer: 4 cups of salt.\n"
     ]
    }
   ],
   "source": [
    "print(df1['Response'][0])\n",
    "print(\"*********\")\n",
    "\n",
    "\n",
    "print(df2['Response'][0])"
   ]
  },
  {
   "cell_type": "code",
   "execution_count": 29,
   "id": "ef05bdb2-f0ba-44e1-85d4-cd4cdb6da039",
   "metadata": {
    "tags": []
   },
   "outputs": [
    {
     "data": {
      "text/plain": [
       "469.22"
      ]
     },
     "execution_count": 29,
     "metadata": {},
     "output_type": "execute_result"
    }
   ],
   "source": [
    "sum([len(response) for response in df1['Response']])/300"
   ]
  },
  {
   "cell_type": "code",
   "execution_count": 30,
   "id": "3af17b44-d2f3-4250-af39-591797bd17b8",
   "metadata": {
    "tags": []
   },
   "outputs": [
    {
     "data": {
      "text/plain": [
       "460.31333333333333"
      ]
     },
     "execution_count": 30,
     "metadata": {},
     "output_type": "execute_result"
    }
   ],
   "source": [
    "sum([len(response) for response in df2['Response']])/300"
   ]
  },
  {
   "cell_type": "code",
   "execution_count": null,
   "id": "110e12f3-3eb9-455f-af30-f1f5e8119847",
   "metadata": {},
   "outputs": [],
   "source": []
  }
 ],
 "metadata": {
  "kernelspec": {
   "display_name": "Python 3 (ipykernel)",
   "language": "python",
   "name": "python3"
  },
  "language_info": {
   "codemirror_mode": {
    "name": "ipython",
    "version": 3
   },
   "file_extension": ".py",
   "mimetype": "text/x-python",
   "name": "python",
   "nbconvert_exporter": "python",
   "pygments_lexer": "ipython3",
   "version": "3.8.10"
  }
 },
 "nbformat": 4,
 "nbformat_minor": 5
}
